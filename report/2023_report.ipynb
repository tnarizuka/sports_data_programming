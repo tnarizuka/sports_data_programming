{
 "cells": [
  {
   "cell_type": "code",
   "execution_count": 1,
   "metadata": {},
   "outputs": [
    {
     "data": {
      "text/plain": [
       "'%.3f'"
      ]
     },
     "execution_count": 1,
     "metadata": {},
     "output_type": "execute_result"
    }
   ],
   "source": [
    "# （必須）モジュールのインポート\n",
    "import os\n",
    "import numpy as np\n",
    "import pandas as pd\n",
    "import matplotlib.pyplot as plt\n",
    "\n",
    "# 日本語フォントの設定（Mac:'Hiragino Sans', Windows:'MS Gothic'）\n",
    "plt.rcParams['font.family'] = 'MS Gothic'\n",
    "\n",
    "# 表示設定\n",
    "np.set_printoptions(suppress=True, precision=3)\n",
    "pd.set_option('display.precision', 3)    # 小数点以下の表示桁\n",
    "pd.set_option('display.max_rows', 50)   # 表示する行数の上限\n",
    "pd.set_option('display.max_columns', 7)  # 表示する列数の上限\n",
    "%precision 3"
   ]
  },
  {
   "attachments": {},
   "cell_type": "markdown",
   "metadata": {},
   "source": [
    "# 2023年度期末レポート"
   ]
  },
  {
   "attachments": {},
   "cell_type": "markdown",
   "metadata": {},
   "source": [
    "## レポートの諸注意"
   ]
  },
  {
   "attachments": {},
   "cell_type": "markdown",
   "metadata": {},
   "source": [
    "**問題A〜Dの中から好きな問題を選んで回答せよ**\n",
    "\n",
    "- 回答方法\n",
    "  - 説明文はマークダウンセルに記述する\n",
    "  - プログラムはコードセル（複数のセルでもよい）に記述する\n",
    "- 提出方法\n",
    "  - ipynbファイルの名前を`\"学籍番号_氏名.ipynb\"`に変更する\n",
    "    - 半角英数字とすること\n",
    "    - 例：`221k00000_takuma_narizuka.ipynb`\n",
    "  - ipynbファイルをteamsに提出する\n",
    "- 提出締切\n",
    "  - 8/10（木），23:59\n",
    "- 採点方法\n",
    "  - 5回の小レポートは1回10点とする．\n",
    "  - A〜Cの小問は1問10点，D問題は最大50点とする．\n",
    "  - 期限を過ぎての提出は半分に減点する．\n",
    "- 評価基準\n",
    "  - F評価：59点以下\n",
    "  - C評価：60点〜69点\n",
    "  - B評価：70点〜79点\n",
    "  - A評価：80点〜89点\n",
    "  - S評価：90点〜"
   ]
  },
  {
   "attachments": {},
   "cell_type": "markdown",
   "metadata": {},
   "source": [
    "## A：得点データに関する問題\n",
    "\n",
    "以下のデータをダウンロードし，カレントディレクトリに保存せよ：\n",
    "- 全試合の得点データ：[game.csv](https://drive.google.com/uc?export=download&id=1gueZANYM2wOkQefKpoA_LplKkG0aXA4A)\n",
    "- チームプロフィール：[team.csv](https://drive.google.com/uc?export=download&id=1gzjVMRX3daVVFEsNlz-ipidyw-tM2zr1)"
   ]
  },
  {
   "attachments": {},
   "cell_type": "markdown",
   "metadata": {},
   "source": [
    "### A-1：リーグ成績と順位表（10点）\n",
    "\n",
    "- イングランド以外のリーグについて，リーグ成績と順位表をまとめたデータフレームを作成せよ．"
   ]
  },
  {
   "attachments": {},
   "cell_type": "markdown",
   "metadata": {},
   "source": [
    "### A-2：得点分布（10点）\n",
    "\n",
    "- 好きなリーグを選び，ホームチームとアウェイチームの合計得点のヒストグラムを作成せよ．\n",
    "- 実データから求めた平均値をパラメータとするポアソン分布をヒストグラムに重ねて描画せよ．"
   ]
  },
  {
   "attachments": {},
   "cell_type": "markdown",
   "metadata": {},
   "source": [
    "## B: イベントデータに関する問題"
   ]
  },
  {
   "cell_type": "markdown",
   "metadata": {},
   "source": [
    "イングランド以外のリーグを１つ選び，そのリーグのイベントデータを以下からダウンロードしてカレントディレクトリに保存せよ：\n",
    "\n",
    "| 内容 | ファイル |\n",
    "| ---- | ---- |\n",
    "| フランスリーグ                         | イベントログ：[event_France.csv](https://drive.google.com/uc?export=download&id=17B8fTf8E7W56USHRObhRaeYBDqatDaft) <br> イベントタグ：[event_tag_France.csv](https://drive.google.com/uc?export=download&id=17Sq34wx_Ge_9tVyJYFup1XixwneoWjaO)|\n",
    "| ドイツリーグ                          | イベントログ：[event_Germany.csv](https://drive.google.com/uc?export=download&id=17GVyiEgRFW9VZstK5LvEKLuKTuWmKe1Z) <br>イベントタグ：[event_tag_Germany.csv](https://drive.google.com/uc?export=download&id=17dGXdEp0yNH1ySRCcB9ydLxcmUAESFHy)|\n",
    "| イタリアリーグ                         | イベントログ：[event_Italy.csv](https://drive.google.com/uc?export=download&id=17C5vUbS9_zRWpgTalUNzWfP6oFXf0U3K) <br>イベントタグ：[event_tag_Italy.csv](https://drive.google.com/uc?export=download&id=17cH2MUqBDdWeBnTGK2EFYEfmB-GAxC3M)|\n",
    "| スペインリーグ                         | イベントログ：[event_Spain.csv](https://drive.google.com/uc?export=download&id=17K-vF4xBn6GtBtFap5sIf26ZZnjs20fz) <br>イベントタグ：[event_tag_Spain.csv](https://drive.google.com/uc?export=download&id=17lGhSTFByywubBTmJKoTzrmaGLOgOZ3k)|"
   ]
  },
  {
   "attachments": {},
   "cell_type": "markdown",
   "metadata": {},
   "source": [
    "### B-1：選手のランキング（10点）\n",
    "\n",
    "- イングランド以外のリーグについて，得点ランキングとアシストランキングを作成せよ．"
   ]
  },
  {
   "attachments": {},
   "cell_type": "markdown",
   "metadata": {},
   "source": [
    "### B-2：パス数行列（10点）\n",
    "\n",
    "- 選んだリーグの中で特定の試合を選び，両チームのパス数行列を作成して可視化せよ．"
   ]
  },
  {
   "attachments": {},
   "cell_type": "markdown",
   "metadata": {},
   "source": [
    "## C：トラッキングデータに関する問題\n",
    "\n",
    "以下からTromsø IL vs Strømsgodsetのトラッキングデータをダウンロードし，カレントディレクトリに保存せよ：\n",
    "\n",
    "- 前半のデータ：[2013-11-03_tromso_stromsgodset_first.csv](https://datasets.simula.no/downloads/alfheim/2013-11-03/zxy/2013-11-03_tromso_stromsgodset_first.csv)\n",
    "- 後半のデータ：[2013-11-03_tromso_stromsgodset_second.csv](https://datasets.simula.no/downloads/alfheim/2013-11-03/zxy/2013-11-03_tromso_stromsgodset_second.csv)"
   ]
  },
  {
   "attachments": {},
   "cell_type": "markdown",
   "metadata": {},
   "source": [
    "### C-1：トラッキングデータの前処理（10点）\n",
    "\n",
    "- 後半のデータの前処理を行い，`x_2nd.csv`，`y_2nd.csv`というファイル名で保存せよ．"
   ]
  },
  {
   "attachments": {},
   "cell_type": "markdown",
   "metadata": {},
   "source": [
    "### C-2：速さ分布の解析（10点）\n",
    "\n",
    "- 各選手の速さを計算し，選手ごとに速さのヒストグラムを作成せよ．<br>\n",
    "  ※ 前後半の両方のデータを用いても，前半のみ，後半のみでも良い．"
   ]
  },
  {
   "cell_type": "markdown",
   "metadata": {},
   "source": [
    "### C-3：走行距離の解析（10点）\n",
    "\n",
    "- 各選手の走行距離を計算せよ．"
   ]
  },
  {
   "attachments": {},
   "cell_type": "markdown",
   "metadata": {},
   "source": [
    "## D：発展問題（最大50点）\n",
    "\n",
    "授業内で扱ったデータまたはウェブ上で公開されているスポーツデータをpythonを用いて自由に解析し，解析結果をまとめよ．"
   ]
  }
 ],
 "metadata": {
  "kernelspec": {
   "display_name": "Python 3",
   "language": "python",
   "name": "python3"
  },
  "language_info": {
   "codemirror_mode": {
    "name": "ipython",
    "version": 3
   },
   "file_extension": ".py",
   "mimetype": "text/x-python",
   "name": "python",
   "nbconvert_exporter": "python",
   "pygments_lexer": "ipython3",
   "version": "3.9.13"
  }
 },
 "nbformat": 4,
 "nbformat_minor": 4
}
