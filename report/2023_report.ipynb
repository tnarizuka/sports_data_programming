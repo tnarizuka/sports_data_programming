{
 "cells": [
  {
   "attachments": {},
   "cell_type": "markdown",
   "metadata": {},
   "source": [
    "# 2023年度期末レポート"
   ]
  },
  {
   "attachments": {},
   "cell_type": "markdown",
   "metadata": {},
   "source": [
    "## レポートの諸注意"
   ]
  },
  {
   "attachments": {},
   "cell_type": "markdown",
   "metadata": {},
   "source": [
    "- 回答方法\n",
    "  - 説明文はマークダウンセルに記述する\n",
    "  - プログラムはコードセル（複数のセルでもよい）に記述する\n",
    "- 提出方法\n",
    "  - ipynbファイルの名前を`\"学籍番号_氏名.ipynb\"`に変更する\n",
    "    - 半角英数字とすること\n",
    "    - 例：`221k00000_takuma_narizuka.ipynb`\n",
    "  - ipynbファイルをteamsに提出する\n",
    "- 提出締切\n",
    "  - 8/10（日），23:59\n",
    "- 評価基準\n",
    "  - C評価\n",
    "    - 授業中の小レポートに正しく回答している．\n",
    "  - B評価\n",
    "    - 小レポートに加え，期末レポートのいくつかの課題に正しく回答している．\n",
    "  - A評価\n",
    "    - 小レポートに加え，期末レポートのほとんどの課題に正しく回答している．\n",
    "  - S評価\n",
    "    - 小レポートと期末レポートがほぼ完璧で，さらに独自の解析を行っている．\n",
    "  - ※ 期限を過ぎての提出は減点する．"
   ]
  },
  {
   "attachments": {},
   "cell_type": "markdown",
   "metadata": {},
   "source": [
    "## 問題：リーグ成績と順位表"
   ]
  },
  {
   "attachments": {},
   "cell_type": "markdown",
   "metadata": {},
   "source": [
    "## 問題：得点分布\n",
    "\n",
    "- 好きなリーグを選び，ホームチームとアウェイチームの合計得点のヒストグラムを作成せよ．\n",
    "- 実データから求めた平均値をパラメータとするポアソン分布をヒストグラムに重ねて描画せよ．"
   ]
  },
  {
   "attachments": {},
   "cell_type": "markdown",
   "metadata": {},
   "source": [
    "## 問題：トラッキングデータの前処理\n",
    "\n",
    "- 後半のデータの前処理を行え"
   ]
  },
  {
   "attachments": {},
   "cell_type": "markdown",
   "metadata": {},
   "source": [
    "## 問題\n",
    "\n",
    "授業内で扱ったデータまたはウェブ上で公開されているスポーツデータを自由に解析し，解析結果をまとめよ．\n",
    "\n",
    "- 必ずpythonを用いること\n",
    "- 解析内容は些細なことでも良い\n",
    "- 既に知られていることでも良い"
   ]
  }
 ],
 "metadata": {
  "kernelspec": {
   "display_name": "Python 3",
   "language": "python",
   "name": "python3"
  },
  "language_info": {
   "codemirror_mode": {
    "name": "ipython",
    "version": 3
   },
   "file_extension": ".py",
   "mimetype": "text/x-python",
   "name": "python",
   "nbconvert_exporter": "python",
   "pygments_lexer": "ipython3",
   "version": "3.8.6"
  }
 },
 "nbformat": 4,
 "nbformat_minor": 4
}
