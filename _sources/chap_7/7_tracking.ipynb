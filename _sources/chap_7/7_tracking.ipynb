{
 "cells": [
  {
   "cell_type": "code",
   "execution_count": 3,
   "metadata": {},
   "outputs": [
    {
     "data": {
      "text/plain": [
       "'%.3f'"
      ]
     },
     "execution_count": 3,
     "metadata": {},
     "output_type": "execute_result"
    }
   ],
   "source": [
    "# （必須）モジュールのインポート\n",
    "import os\n",
    "import numpy as np\n",
    "import pandas as pd\n",
    "import matplotlib as mpl\n",
    "import matplotlib.pyplot as plt\n",
    "\n",
    "# 日本語フォントの設定（Mac:'Hiragino Sans', Windows:'MS Gothic'）\n",
    "plt.rcParams['font.family'] = 'Hiragino Sans'\n",
    "\n",
    "# 表示設定\n",
    "np.set_printoptions(suppress=True, precision=3)\n",
    "pd.set_option('display.precision', 3)    # 小数点以下の表示桁\n",
    "pd.set_option('display.max_rows', 150)   # 表示する行数の上限\n",
    "pd.set_option('display.max_columns', 5)  # 表示する列数の上限\n",
    "%precision 3"
   ]
  },
  {
   "cell_type": "markdown",
   "metadata": {},
   "source": [
    "\n",
    "# トラッキングデータの解析"
   ]
  },
  {
   "cell_type": "markdown",
   "metadata": {},
   "source": [
    "## データセット"
   ]
  },
  {
   "cell_type": "markdown",
   "metadata": {},
   "source": [
    "### Pettersenデータセット"
   ]
  },
  {
   "cell_type": "markdown",
   "metadata": {},
   "source": [
    "Pettersenデータセットはサッカーのトラッキングデータをまとめたデータセットである．\n",
    "試合数は3試合と少ないが，2022年時点で一般公開されている数少ない（唯一の？）サッカートラッキングデータである．\n",
    "データセットの内容は以下の論文にまとめられている：\n",
    "\n",
    "- S. A. Pettersen, D. Johansen, H. Johansen, V. Berg-Johansen, V. R. Gaddam, A. Mortensen, R. Langseth, C. Griwodz, H. K. Stensland, and P. Halvorsen: Proceedings of the 5th ACM Multimedia Systems Conference, 2014, pp. 18–23. https://doi.org/10.1145/2557642.2563677\n",
    "- [論文PDFはこちら](https://www.researchgate.net/publication/260983291_Soccer_Video_and_Player_Position_Dataset)\n",
    "\n",
    "また，全データは以下のウェブサイトからダウンロード可能である：\n",
    "- [Alfheim - Soccer video and player position dataset](https://datasets.simula.no/alfheim/)"
   ]
  },
  {
   "cell_type": "markdown",
   "metadata": {},
   "source": [
    "### データセットの内容"
   ]
  },
  {
   "cell_type": "markdown",
   "metadata": {},
   "source": [
    "本データセットはノルウェーのAlfheimスタジアムにおいて取得されている．\n",
    "対象となる試合はAlfheimスタジアムを本拠地とするTromsø ILの3試合である．\n",
    "データセットには試合映像とセンサーによって取得された位置座標のデータ（トラッキングデータ）が含まれているが，トラッキングデータの取得対象はTromsø ILの選手のみである．\n",
    "また，選手のプライバシー保護のため，トラッキングデータから選手の個人情報は除去されている．"
   ]
  },
  {
   "cell_type": "markdown",
   "metadata": {},
   "source": [
    "| 日時 | 対戦カード | データの種類 | 備考 |\n",
    "| ---- | ---- | ---- | ---- |\n",
    "| 2013-11-03 | Tromsø IL - Strømsgodset | トラッキングデータ<br>試合映像 |  |\n",
    "| 2013-11-07 | Tromsø IL - Anzhi | トラッキングデータ<br>試合映像 |  |\n",
    "| 2013-11-28 | Tromsø IL - Tottenham Hotspurs | トラッキングデータ<br>試合映像<br>ボールの座標データ | 前半40分のみ<br>ボール座標は手作業で取得 |"
   ]
  },
  {
   "cell_type": "markdown",
   "metadata": {},
   "source": [
    "トラッキングデータには以下の2種類の形式が用意されている：\n",
    "- raw data：センサから取得した生データ\n",
    "- interpolated data：時間単位を0.05秒に統一したデータ\n",
    "\n",
    "トラッキングデータに含まれる変数は下表の通りである．\n",
    "\n",
    "| 変数 | データ型 | 内容 | 例 |\n",
    "| ---- | ---- | ---- | ---- |\n",
    "| time | string | 時刻 | 18:01:09.05 |\n",
    "| id | int | 選手の識別ID | Homeチームのみ．交代選手は新たなID． |\n",
    "| $x$ | float | $x$座標 | 26.573 m |\n",
    "| $y$ | float | $y$座標 | 29.436 m |\n",
    "| heading | float | 選手の向き（センサから取得） | $y$軸からの角度（rad） |\n",
    "| direction | float | 選手の移動方向 |  $y$軸からの角度（rad） |\n",
    "| energy | float | エネルギー消費量 | 単位は不明 |\n",
    "| speed | float | 選手の速さ | 0.968 m/s |\n",
    "| total_distance | float | 試合開始からの移動距離 | 255.584 m |"
   ]
  },
  {
   "cell_type": "markdown",
   "metadata": {},
   "source": [
    "**利用規約**\n",
    "\n",
    "- 選手個人の再識別は禁止\n",
    "- 選手・クラブのパフォーマンスプロファイルの作成は禁止\n",
    "- 非営利的な研究目的での使用に限定"
   ]
  },
  {
   "cell_type": "markdown",
   "metadata": {},
   "source": [
    "**トラッキングシステム**\n",
    "\n",
    "\n",
    "- ZXYシステム\n",
    "    - ZXY Sport Tracking system by ChyronHego (Trondheim, Norway)\n",
    "- センサーベルト\n",
    "    - 選手の胸下に装着\n",
    "    - 重さ10g\n",
    "    - 加速度センサ，ジャイロセンサ，心拍計，コンパスを搭載\n",
    "    - 心拍データはデータセットから除外\n",
    "    - レシーバーをスタジアム内に設置"
   ]
  },
  {
   "cell_type": "markdown",
   "metadata": {},
   "source": [
    "**座標系**\n",
    "\n",
    "- 原点：フィールドの左下\n",
    "- $x$軸：長軸方向（$0 \\le x \\le 105$）\n",
    "- $y$軸：短軸方向（$0 \\le x \\le 68$）\n",
    "- 単位はm"
   ]
  },
  {
   "cell_type": "markdown",
   "metadata": {},
   "source": [
    "**時間の解像度**\n",
    "- 1フレーム=0.05秒\n",
    "- フレームレートは20fps\n",
    "- ※ interporated dataを用いた場合"
   ]
  },
  {
   "cell_type": "markdown",
   "metadata": {},
   "source": [
    "## データの前処理"
   ]
  },
  {
   "cell_type": "markdown",
   "metadata": {},
   "source": [
    "ここでは，Tromsø IL vs Strømsgodsetの前半のトラッキングデータを解析対象とする．\n",
    "まずは以下からトラッキングデータのcsvファイルをダウンロードし，作業フォルダ（例えばOneDrive/sport_data/7_tracking）に移動しておく：\n",
    "- https://datasets.simula.no/downloads/alfheim/2013-11-03/zxy/2013-11-03_tromso_stromsgodset_first.csv"
   ]
  },
  {
   "cell_type": "markdown",
   "metadata": {},
   "source": [
    "### データの加工・整形"
   ]
  },
  {
   "cell_type": "markdown",
   "metadata": {},
   "source": [
    "**データの読み込み**"
   ]
  },
  {
   "cell_type": "markdown",
   "metadata": {},
   "source": [
    "ダウンロードしたcsvファイルを`df`という名前でDataFrameに読み込む．\n",
    "その際に列ラベル（`columns`）を指定しておく．"
   ]
  },
  {
   "cell_type": "code",
   "execution_count": 5,
   "metadata": {},
   "outputs": [
    {
     "data": {
      "text/html": [
       "<div>\n",
       "<style scoped>\n",
       "    .dataframe tbody tr th:only-of-type {\n",
       "        vertical-align: middle;\n",
       "    }\n",
       "\n",
       "    .dataframe tbody tr th {\n",
       "        vertical-align: top;\n",
       "    }\n",
       "\n",
       "    .dataframe thead th {\n",
       "        text-align: right;\n",
       "    }\n",
       "</style>\n",
       "<table border=\"1\" class=\"dataframe\">\n",
       "  <thead>\n",
       "    <tr style=\"text-align: right;\">\n",
       "      <th></th>\n",
       "      <th>time</th>\n",
       "      <th>id</th>\n",
       "      <th>...</th>\n",
       "      <th>speed</th>\n",
       "      <th>total_distance</th>\n",
       "    </tr>\n",
       "  </thead>\n",
       "  <tbody>\n",
       "    <tr>\n",
       "      <th>0</th>\n",
       "      <td>2013-11-03 18:01:09</td>\n",
       "      <td>2</td>\n",
       "      <td>...</td>\n",
       "      <td>0.968</td>\n",
       "      <td>255.584</td>\n",
       "    </tr>\n",
       "    <tr>\n",
       "      <th>1</th>\n",
       "      <td>2013-11-03 18:01:09</td>\n",
       "      <td>5</td>\n",
       "      <td>...</td>\n",
       "      <td>0.624</td>\n",
       "      <td>297.861</td>\n",
       "    </tr>\n",
       "  </tbody>\n",
       "</table>\n",
       "<p>2 rows × 9 columns</p>\n",
       "</div>"
      ],
      "text/plain": [
       "                  time  id  ...  speed  total_distance\n",
       "0  2013-11-03 18:01:09   2  ...  0.968         255.584\n",
       "1  2013-11-03 18:01:09   5  ...  0.624         297.861\n",
       "\n",
       "[2 rows x 9 columns]"
      ]
     },
     "execution_count": 5,
     "metadata": {},
     "output_type": "execute_result"
    }
   ],
   "source": [
    "df = pd.read_csv('./7_tracking/2013-11-03_tromso_stromsgodset_first.csv',\\\n",
    "                 header=None, encoding='utf-8',\\\n",
    "                 names=['time','id','x','y','heading','direction','energy','speed','total_distance'])\n",
    "df.head(2)"
   ]
  },
  {
   "cell_type": "markdown",
   "metadata": {},
   "source": [
    "**時刻・選手ID・位置座標の抽出**"
   ]
  },
  {
   "cell_type": "markdown",
   "metadata": {},
   "source": [
    "読み込んだデータには向き（'heading', 'direction'）や速さ（'speed'）などの列も含まれているが，以下では時刻（'time'），選手ID（'id'），位置座標（'x', 'y'）の情報だけを用いるので，これらを抽出する．"
   ]
  },
  {
   "cell_type": "code",
   "execution_count": 6,
   "metadata": {},
   "outputs": [
    {
     "data": {
      "text/html": [
       "<div>\n",
       "<style scoped>\n",
       "    .dataframe tbody tr th:only-of-type {\n",
       "        vertical-align: middle;\n",
       "    }\n",
       "\n",
       "    .dataframe tbody tr th {\n",
       "        vertical-align: top;\n",
       "    }\n",
       "\n",
       "    .dataframe thead th {\n",
       "        text-align: right;\n",
       "    }\n",
       "</style>\n",
       "<table border=\"1\" class=\"dataframe\">\n",
       "  <thead>\n",
       "    <tr style=\"text-align: right;\">\n",
       "      <th></th>\n",
       "      <th>time</th>\n",
       "      <th>id</th>\n",
       "      <th>x</th>\n",
       "      <th>y</th>\n",
       "    </tr>\n",
       "  </thead>\n",
       "  <tbody>\n",
       "    <tr>\n",
       "      <th>0</th>\n",
       "      <td>2013-11-03 18:01:09</td>\n",
       "      <td>2</td>\n",
       "      <td>26.573</td>\n",
       "      <td>29.436</td>\n",
       "    </tr>\n",
       "    <tr>\n",
       "      <th>1</th>\n",
       "      <td>2013-11-03 18:01:09</td>\n",
       "      <td>5</td>\n",
       "      <td>35.550</td>\n",
       "      <td>30.268</td>\n",
       "    </tr>\n",
       "  </tbody>\n",
       "</table>\n",
       "</div>"
      ],
      "text/plain": [
       "                  time  id       x       y\n",
       "0  2013-11-03 18:01:09   2  26.573  29.436\n",
       "1  2013-11-03 18:01:09   5  35.550  30.268"
      ]
     },
     "execution_count": 6,
     "metadata": {},
     "output_type": "execute_result"
    }
   ],
   "source": [
    "df = df[['time', 'id', 'x', 'y']]\n",
    "df.head(2)"
   ]
  },
  {
   "cell_type": "markdown",
   "metadata": {},
   "source": [
    "**DataFrameのソート**"
   ]
  },
  {
   "cell_type": "markdown",
   "metadata": {},
   "source": [
    "次に，`sort_values`メソッドを用いて，'time'列，'id'列をキーにして`df`をソートする．これにより`df`の行方向の並びが時間順となり，同一時刻の場合は選手ID順となる．"
   ]
  },
  {
   "cell_type": "code",
   "execution_count": 7,
   "metadata": {},
   "outputs": [
    {
     "data": {
      "text/html": [
       "<div>\n",
       "<style scoped>\n",
       "    .dataframe tbody tr th:only-of-type {\n",
       "        vertical-align: middle;\n",
       "    }\n",
       "\n",
       "    .dataframe tbody tr th {\n",
       "        vertical-align: top;\n",
       "    }\n",
       "\n",
       "    .dataframe thead th {\n",
       "        text-align: right;\n",
       "    }\n",
       "</style>\n",
       "<table border=\"1\" class=\"dataframe\">\n",
       "  <thead>\n",
       "    <tr style=\"text-align: right;\">\n",
       "      <th></th>\n",
       "      <th>time</th>\n",
       "      <th>id</th>\n",
       "      <th>x</th>\n",
       "      <th>y</th>\n",
       "    </tr>\n",
       "  </thead>\n",
       "  <tbody>\n",
       "    <tr>\n",
       "      <th>0</th>\n",
       "      <td>2013-11-03 18:01:09</td>\n",
       "      <td>1</td>\n",
       "      <td>53.138</td>\n",
       "      <td>44.062</td>\n",
       "    </tr>\n",
       "    <tr>\n",
       "      <th>1</th>\n",
       "      <td>2013-11-03 18:01:09</td>\n",
       "      <td>2</td>\n",
       "      <td>26.573</td>\n",
       "      <td>29.436</td>\n",
       "    </tr>\n",
       "  </tbody>\n",
       "</table>\n",
       "</div>"
      ],
      "text/plain": [
       "                  time  id       x       y\n",
       "0  2013-11-03 18:01:09   1  53.138  44.062\n",
       "1  2013-11-03 18:01:09   2  26.573  29.436"
      ]
     },
     "execution_count": 7,
     "metadata": {},
     "output_type": "execute_result"
    }
   ],
   "source": [
    "# time列, id列でソート\n",
    "df = df.sort_values(['time', 'id']).reset_index(drop=1)\n",
    "df.head(2)"
   ]
  },
  {
   "cell_type": "markdown",
   "metadata": {},
   "source": [
    "**日時の変換**"
   ]
  },
  {
   "cell_type": "markdown",
   "metadata": {},
   "source": [
    "'time'列には試合が行われた年月日および時刻が文字列として保存されている．\n",
    "このうち，前半の年月日の情報は不要なので，`str.split`メソッドを用いて年月日と時刻を切り離す．"
   ]
  },
  {
   "cell_type": "code",
   "execution_count": 8,
   "metadata": {},
   "outputs": [
    {
     "data": {
      "text/html": [
       "<div>\n",
       "<style scoped>\n",
       "    .dataframe tbody tr th:only-of-type {\n",
       "        vertical-align: middle;\n",
       "    }\n",
       "\n",
       "    .dataframe tbody tr th {\n",
       "        vertical-align: top;\n",
       "    }\n",
       "\n",
       "    .dataframe thead th {\n",
       "        text-align: right;\n",
       "    }\n",
       "</style>\n",
       "<table border=\"1\" class=\"dataframe\">\n",
       "  <thead>\n",
       "    <tr style=\"text-align: right;\">\n",
       "      <th></th>\n",
       "      <th>0</th>\n",
       "      <th>1</th>\n",
       "    </tr>\n",
       "  </thead>\n",
       "  <tbody>\n",
       "    <tr>\n",
       "      <th>0</th>\n",
       "      <td>2013-11-03</td>\n",
       "      <td>18:01:09</td>\n",
       "    </tr>\n",
       "    <tr>\n",
       "      <th>1</th>\n",
       "      <td>2013-11-03</td>\n",
       "      <td>18:01:09</td>\n",
       "    </tr>\n",
       "  </tbody>\n",
       "</table>\n",
       "</div>"
      ],
      "text/plain": [
       "            0         1\n",
       "0  2013-11-03  18:01:09\n",
       "1  2013-11-03  18:01:09"
      ]
     },
     "execution_count": 8,
     "metadata": {},
     "output_type": "execute_result"
    }
   ],
   "source": [
    "tmp = df['time'].str.split(' ', expand=True)\n",
    "tmp.head(2)"
   ]
  },
  {
   "cell_type": "markdown",
   "metadata": {},
   "source": [
    "時刻の情報は`18:01:09`という形式の文字列である．\n",
    "これを以下の手順に従い試合開始からの経過時間に変換する：\n",
    "- 時・分・秒を`str.split`メソッドによって切り離す\n",
    "- 分と秒の情報だけを取り出し，単位を秒に変換する\n",
    "- `df`の第0行からの経過時間に変換し，`df`の'time'列に追加する"
   ]
  },
  {
   "cell_type": "code",
   "execution_count": 9,
   "metadata": {},
   "outputs": [
    {
     "data": {
      "text/html": [
       "<div>\n",
       "<style scoped>\n",
       "    .dataframe tbody tr th:only-of-type {\n",
       "        vertical-align: middle;\n",
       "    }\n",
       "\n",
       "    .dataframe tbody tr th {\n",
       "        vertical-align: top;\n",
       "    }\n",
       "\n",
       "    .dataframe thead th {\n",
       "        text-align: right;\n",
       "    }\n",
       "</style>\n",
       "<table border=\"1\" class=\"dataframe\">\n",
       "  <thead>\n",
       "    <tr style=\"text-align: right;\">\n",
       "      <th></th>\n",
       "      <th>time</th>\n",
       "      <th>id</th>\n",
       "      <th>x</th>\n",
       "      <th>y</th>\n",
       "    </tr>\n",
       "  </thead>\n",
       "  <tbody>\n",
       "    <tr>\n",
       "      <th>0</th>\n",
       "      <td>0.0</td>\n",
       "      <td>1</td>\n",
       "      <td>53.138</td>\n",
       "      <td>44.062</td>\n",
       "    </tr>\n",
       "    <tr>\n",
       "      <th>1</th>\n",
       "      <td>0.0</td>\n",
       "      <td>2</td>\n",
       "      <td>26.573</td>\n",
       "      <td>29.436</td>\n",
       "    </tr>\n",
       "  </tbody>\n",
       "</table>\n",
       "</div>"
      ],
      "text/plain": [
       "   time  id       x       y\n",
       "0   0.0   1  53.138  44.062\n",
       "1   0.0   2  26.573  29.436"
      ]
     },
     "execution_count": 9,
     "metadata": {},
     "output_type": "execute_result"
    }
   ],
   "source": [
    "# 経過時間（秒）に変換\n",
    "times = tmp[1].str.split(':', expand=True).astype(float)\n",
    "sec = times[1]*60 + times[2]\n",
    "df['time'] = sec - sec.iloc[0]\n",
    "\n",
    "df.head(2)"
   ]
  },
  {
   "cell_type": "markdown",
   "metadata": {},
   "source": [
    "**選手別の座標に変換**"
   ]
  },
  {
   "cell_type": "markdown",
   "metadata": {},
   "source": [
    "各選手の$x$座標と$y$座標を格納した以下のようなDataFrame，`df_x`，`df_y`を作成する：\n",
    "\n",
    "- 行ラベル（`index`）：フレーム番号\n",
    "    - 1行=1フレーム=0.05秒\n",
    "- 列ラベル（`columns`）：選手ID\n",
    "- $(i, j)$ 成分：ある時刻における特定の選手の$x, y$座標"
   ]
  },
  {
   "cell_type": "code",
   "execution_count": 10,
   "metadata": {},
   "outputs": [],
   "source": [
    "U = df['id'].unique()  # 選手ID\n",
    "T = np.arange(0, df['time'].max()+0.05, 0.05)  # 0.05秒刻みの経過時間\n",
    "df_x = DataFrame({'t': T})  # x座標\n",
    "df_y = DataFrame({'t': T})  # y座標\n",
    "\n",
    "for u in U:\n",
    "    df_u = df.loc[df['id']==u]  # 選手uだけ抽出\n",
    "    df_u.index = (df_u['time']/0.05).round().astype(int)  # インデックスをフレーム番号に\n",
    "\n",
    "    df_x[u], df_y[u] = np.nan, np.nan\n",
    "    df_x.loc[df_u.index, u] = df_u['x']\n",
    "    df_y.loc[df_u.index, u] = df_u['y']\n",
    "\n",
    "df_x, df_y = df_x[U], df_y[U]  # 't'列を除去"
   ]
  },
  {
   "cell_type": "code",
   "execution_count": 11,
   "metadata": {},
   "outputs": [
    {
     "data": {
      "text/html": [
       "<div>\n",
       "<style scoped>\n",
       "    .dataframe tbody tr th:only-of-type {\n",
       "        vertical-align: middle;\n",
       "    }\n",
       "\n",
       "    .dataframe tbody tr th {\n",
       "        vertical-align: top;\n",
       "    }\n",
       "\n",
       "    .dataframe thead th {\n",
       "        text-align: right;\n",
       "    }\n",
       "</style>\n",
       "<table border=\"1\" class=\"dataframe\">\n",
       "  <thead>\n",
       "    <tr style=\"text-align: right;\">\n",
       "      <th></th>\n",
       "      <th>1</th>\n",
       "      <th>2</th>\n",
       "      <th>...</th>\n",
       "      <th>11</th>\n",
       "      <th>3</th>\n",
       "    </tr>\n",
       "  </thead>\n",
       "  <tbody>\n",
       "    <tr>\n",
       "      <th>0</th>\n",
       "      <td>53.138</td>\n",
       "      <td>26.573</td>\n",
       "      <td>...</td>\n",
       "      <td>NaN</td>\n",
       "      <td>NaN</td>\n",
       "    </tr>\n",
       "    <tr>\n",
       "      <th>1</th>\n",
       "      <td>53.138</td>\n",
       "      <td>26.609</td>\n",
       "      <td>...</td>\n",
       "      <td>NaN</td>\n",
       "      <td>NaN</td>\n",
       "    </tr>\n",
       "  </tbody>\n",
       "</table>\n",
       "<p>2 rows × 14 columns</p>\n",
       "</div>"
      ],
      "text/plain": [
       "       1       2   ...  11  3 \n",
       "0  53.138  26.573  ... NaN NaN\n",
       "1  53.138  26.609  ... NaN NaN\n",
       "\n",
       "[2 rows x 14 columns]"
      ]
     },
     "execution_count": 11,
     "metadata": {},
     "output_type": "execute_result"
    }
   ],
   "source": [
    "df_x.head(2)"
   ]
  },
  {
   "cell_type": "code",
   "execution_count": 12,
   "metadata": {},
   "outputs": [
    {
     "data": {
      "text/html": [
       "<div>\n",
       "<style scoped>\n",
       "    .dataframe tbody tr th:only-of-type {\n",
       "        vertical-align: middle;\n",
       "    }\n",
       "\n",
       "    .dataframe tbody tr th {\n",
       "        vertical-align: top;\n",
       "    }\n",
       "\n",
       "    .dataframe thead th {\n",
       "        text-align: right;\n",
       "    }\n",
       "</style>\n",
       "<table border=\"1\" class=\"dataframe\">\n",
       "  <thead>\n",
       "    <tr style=\"text-align: right;\">\n",
       "      <th></th>\n",
       "      <th>1</th>\n",
       "      <th>2</th>\n",
       "      <th>...</th>\n",
       "      <th>11</th>\n",
       "      <th>3</th>\n",
       "    </tr>\n",
       "  </thead>\n",
       "  <tbody>\n",
       "    <tr>\n",
       "      <th>0</th>\n",
       "      <td>44.062</td>\n",
       "      <td>29.436</td>\n",
       "      <td>...</td>\n",
       "      <td>NaN</td>\n",
       "      <td>NaN</td>\n",
       "    </tr>\n",
       "    <tr>\n",
       "      <th>1</th>\n",
       "      <td>44.062</td>\n",
       "      <td>29.467</td>\n",
       "      <td>...</td>\n",
       "      <td>NaN</td>\n",
       "      <td>NaN</td>\n",
       "    </tr>\n",
       "  </tbody>\n",
       "</table>\n",
       "<p>2 rows × 14 columns</p>\n",
       "</div>"
      ],
      "text/plain": [
       "       1       2   ...  11  3 \n",
       "0  44.062  29.436  ... NaN NaN\n",
       "1  44.062  29.467  ... NaN NaN\n",
       "\n",
       "[2 rows x 14 columns]"
      ]
     },
     "execution_count": 12,
     "metadata": {},
     "output_type": "execute_result"
    }
   ],
   "source": [
    "df_y.head(2)"
   ]
  },
  {
   "cell_type": "markdown",
   "metadata": {},
   "source": [
    "### 不要な選手の除去"
   ]
  },
  {
   "cell_type": "markdown",
   "metadata": {},
   "source": [
    "`df_x`，`df_y`には以下の選手の座標が含まれている："
   ]
  },
  {
   "cell_type": "code",
   "execution_count": 13,
   "metadata": {},
   "outputs": [
    {
     "data": {
      "text/plain": [
       "Index([1, 2, 5, 7, 8, 9, 10, 12, 13, 14, 15, 6, 11, 3], dtype='object')"
      ]
     },
     "execution_count": 13,
     "metadata": {},
     "output_type": "execute_result"
    }
   ],
   "source": [
    "df_x.columns"
   ]
  },
  {
   "cell_type": "markdown",
   "metadata": {},
   "source": [
    "この中には，実際に試合に出場した選手の他に審判などの位置座標も含まれている．\n",
    "まずはこれら不要なデータを特定するため，選手IDごとに位置座標を全てプロットする．"
   ]
  },
  {
   "cell_type": "code",
   "execution_count": 14,
   "metadata": {},
   "outputs": [
    {
     "data": {
      "image/png": "[encoded data removed]",
      "text/plain": [
       "<Figure size 200x200 with 1 Axes>"
      ]
     },
     "metadata": {},
     "output_type": "display_data"
    }
   ],
   "source": [
    "u = 6\n",
    "fig, ax = plt.subplots(figsize=(2, 2))\n",
    "ax.plot(df_x[u], df_y[u], '.', ms=0.1)\n",
    "ax.set_xlim(0, 120); ax.set_ylim(0, 80)\n",
    "ax.set_aspect('equal')"
   ]
  },
  {
   "cell_type": "markdown",
   "metadata": {},
   "source": [
    "位置座標をプロットした結果を踏まえると，以下の10人が試合に出場した選手と考えられる：\n",
    "```\n",
    "1, 2, 5, 7, 8, 9, 10, 13, 14, 15\n",
    "```\n",
    "`df_x`，`df_y`からこれらの選手のデータだけ抽出する．"
   ]
  },
  {
   "cell_type": "code",
   "execution_count": 15,
   "metadata": {},
   "outputs": [],
   "source": [
    "df_x2 = df_x[[1, 2, 5, 7, 8, 9, 10, 13, 14, 15]]\n",
    "df_y2 = df_y[[1, 2, 5, 7, 8, 9, 10, 13, 14, 15]]"
   ]
  },
  {
   "cell_type": "code",
   "execution_count": 16,
   "metadata": {},
   "outputs": [
    {
     "data": {
      "text/html": [
       "<div>\n",
       "<style scoped>\n",
       "    .dataframe tbody tr th:only-of-type {\n",
       "        vertical-align: middle;\n",
       "    }\n",
       "\n",
       "    .dataframe tbody tr th {\n",
       "        vertical-align: top;\n",
       "    }\n",
       "\n",
       "    .dataframe thead th {\n",
       "        text-align: right;\n",
       "    }\n",
       "</style>\n",
       "<table border=\"1\" class=\"dataframe\">\n",
       "  <thead>\n",
       "    <tr style=\"text-align: right;\">\n",
       "      <th></th>\n",
       "      <th>1</th>\n",
       "      <th>2</th>\n",
       "      <th>...</th>\n",
       "      <th>14</th>\n",
       "      <th>15</th>\n",
       "    </tr>\n",
       "  </thead>\n",
       "  <tbody>\n",
       "    <tr>\n",
       "      <th>0</th>\n",
       "      <td>53.138</td>\n",
       "      <td>26.573</td>\n",
       "      <td>...</td>\n",
       "      <td>28.530</td>\n",
       "      <td>50.084</td>\n",
       "    </tr>\n",
       "    <tr>\n",
       "      <th>1</th>\n",
       "      <td>53.138</td>\n",
       "      <td>26.609</td>\n",
       "      <td>...</td>\n",
       "      <td>28.528</td>\n",
       "      <td>50.105</td>\n",
       "    </tr>\n",
       "  </tbody>\n",
       "</table>\n",
       "<p>2 rows × 10 columns</p>\n",
       "</div>"
      ],
      "text/plain": [
       "       1       2   ...      14      15\n",
       "0  53.138  26.573  ...  28.530  50.084\n",
       "1  53.138  26.609  ...  28.528  50.105\n",
       "\n",
       "[2 rows x 10 columns]"
      ]
     },
     "execution_count": 16,
     "metadata": {},
     "output_type": "execute_result"
    }
   ],
   "source": [
    "df_x2.head(2)"
   ]
  },
  {
   "cell_type": "code",
   "execution_count": 17,
   "metadata": {},
   "outputs": [
    {
     "data": {
      "text/html": [
       "<div>\n",
       "<style scoped>\n",
       "    .dataframe tbody tr th:only-of-type {\n",
       "        vertical-align: middle;\n",
       "    }\n",
       "\n",
       "    .dataframe tbody tr th {\n",
       "        vertical-align: top;\n",
       "    }\n",
       "\n",
       "    .dataframe thead th {\n",
       "        text-align: right;\n",
       "    }\n",
       "</style>\n",
       "<table border=\"1\" class=\"dataframe\">\n",
       "  <thead>\n",
       "    <tr style=\"text-align: right;\">\n",
       "      <th></th>\n",
       "      <th>1</th>\n",
       "      <th>2</th>\n",
       "      <th>...</th>\n",
       "      <th>14</th>\n",
       "      <th>15</th>\n",
       "    </tr>\n",
       "  </thead>\n",
       "  <tbody>\n",
       "    <tr>\n",
       "      <th>0</th>\n",
       "      <td>44.062</td>\n",
       "      <td>29.436</td>\n",
       "      <td>...</td>\n",
       "      <td>17.597</td>\n",
       "      <td>25.779</td>\n",
       "    </tr>\n",
       "    <tr>\n",
       "      <th>1</th>\n",
       "      <td>44.062</td>\n",
       "      <td>29.467</td>\n",
       "      <td>...</td>\n",
       "      <td>17.561</td>\n",
       "      <td>25.722</td>\n",
       "    </tr>\n",
       "  </tbody>\n",
       "</table>\n",
       "<p>2 rows × 10 columns</p>\n",
       "</div>"
      ],
      "text/plain": [
       "       1       2   ...      14      15\n",
       "0  44.062  29.436  ...  17.597  25.779\n",
       "1  44.062  29.467  ...  17.561  25.722\n",
       "\n",
       "[2 rows x 10 columns]"
      ]
     },
     "execution_count": 17,
     "metadata": {},
     "output_type": "execute_result"
    }
   ],
   "source": [
    "df_y2.head(2)"
   ]
  },
  {
   "cell_type": "markdown",
   "metadata": {},
   "source": [
    "### データの保存"
   ]
  },
  {
   "cell_type": "code",
   "execution_count": 18,
   "metadata": {},
   "outputs": [],
   "source": [
    "df_x2.to_csv('./7_tracking/x_1st.csv', header=True, index=True, encoding='utf-8')\n",
    "df_y2.to_csv('./7_tracking/y_1st.csv', header=True, index=True, encoding='utf-8')"
   ]
  },
  {
   "cell_type": "markdown",
   "metadata": {},
   "source": [
    "### 発展問題\n",
    "\n",
    "- トラッキングデータの前処理を行う関数を作成せよ\n",
    "- この関数を用いて後半のデータや他の試合のデータの前処理を行え"
   ]
  },
  {
   "cell_type": "markdown",
   "metadata": {},
   "source": [
    "## トラッキングデータ解析の基本"
   ]
  },
  {
   "cell_type": "markdown",
   "metadata": {},
   "source": [
    "### データの読み込み"
   ]
  },
  {
   "cell_type": "markdown",
   "metadata": {},
   "source": [
    "改めて，作成したデータを`X`，`Y`というDataFrameに読み込む．"
   ]
  },
  {
   "cell_type": "code",
   "execution_count": 19,
   "metadata": {},
   "outputs": [],
   "source": [
    "X = pd.read_csv('./7_tracking/x_1st.csv', encoding='utf-8', index_col=0)\n",
    "Y = pd.read_csv('./7_tracking/y_1st.csv', encoding='utf-8', index_col=0)"
   ]
  },
  {
   "cell_type": "markdown",
   "metadata": {},
   "source": [
    "### データの扱い方"
   ]
  },
  {
   "cell_type": "markdown",
   "metadata": {},
   "source": [
    "**データの構造**"
   ]
  },
  {
   "cell_type": "markdown",
   "metadata": {},
   "source": [
    "DataFrame`X`，`Y`は以下のような構造になっている：\n",
    "- 行ラベル（`index`）：フレーム番号\n",
    "    - 1行=1フレーム=0.05秒\n",
    "- 列ラベル（`columns`）：選手ID\n",
    "- $(i, j)$ 成分：ある時刻における特定の選手の$x, y$座標"
   ]
  },
  {
   "cell_type": "code",
   "execution_count": 20,
   "metadata": {},
   "outputs": [
    {
     "data": {
      "text/html": [
       "<div>\n",
       "<style scoped>\n",
       "    .dataframe tbody tr th:only-of-type {\n",
       "        vertical-align: middle;\n",
       "    }\n",
       "\n",
       "    .dataframe tbody tr th {\n",
       "        vertical-align: top;\n",
       "    }\n",
       "\n",
       "    .dataframe thead th {\n",
       "        text-align: right;\n",
       "    }\n",
       "</style>\n",
       "<table border=\"1\" class=\"dataframe\">\n",
       "  <thead>\n",
       "    <tr style=\"text-align: right;\">\n",
       "      <th></th>\n",
       "      <th>1</th>\n",
       "      <th>2</th>\n",
       "      <th>...</th>\n",
       "      <th>14</th>\n",
       "      <th>15</th>\n",
       "    </tr>\n",
       "  </thead>\n",
       "  <tbody>\n",
       "    <tr>\n",
       "      <th>0</th>\n",
       "      <td>53.138</td>\n",
       "      <td>26.573</td>\n",
       "      <td>...</td>\n",
       "      <td>28.530</td>\n",
       "      <td>50.084</td>\n",
       "    </tr>\n",
       "    <tr>\n",
       "      <th>1</th>\n",
       "      <td>53.138</td>\n",
       "      <td>26.609</td>\n",
       "      <td>...</td>\n",
       "      <td>28.528</td>\n",
       "      <td>50.105</td>\n",
       "    </tr>\n",
       "  </tbody>\n",
       "</table>\n",
       "<p>2 rows × 10 columns</p>\n",
       "</div>"
      ],
      "text/plain": [
       "        1       2  ...      14      15\n",
       "0  53.138  26.573  ...  28.530  50.084\n",
       "1  53.138  26.609  ...  28.528  50.105\n",
       "\n",
       "[2 rows x 10 columns]"
      ]
     },
     "execution_count": 20,
     "metadata": {},
     "output_type": "execute_result"
    }
   ],
   "source": [
    "X.head(2)"
   ]
  },
  {
   "cell_type": "markdown",
   "metadata": {},
   "source": [
    "**特定の時間帯の抽出**"
   ]
  },
  {
   "cell_type": "markdown",
   "metadata": {},
   "source": [
    "`X`，`Y`の行ラベル（`index`）はフレーム番号に等しい．\n",
    "1フレーム=0.05秒なので，試合開始 $t$ 秒後の座標は$20\\times t$ 行目を参照すれば良い．\n",
    "よって，`X`，`Y`から`loc`属性を用いて条件付き抽出すれば，特定の時刻のデータだけ抜き出せる．\n",
    "例えば，10秒〜20秒の時間帯だけ抽出するには，行ラベル（`index`）が200から400までの行を条件付き抽出すればよい．"
   ]
  },
  {
   "cell_type": "code",
   "execution_count": 21,
   "metadata": {},
   "outputs": [
    {
     "data": {
      "text/html": [
       "<div>\n",
       "<style scoped>\n",
       "    .dataframe tbody tr th:only-of-type {\n",
       "        vertical-align: middle;\n",
       "    }\n",
       "\n",
       "    .dataframe tbody tr th {\n",
       "        vertical-align: top;\n",
       "    }\n",
       "\n",
       "    .dataframe thead th {\n",
       "        text-align: right;\n",
       "    }\n",
       "</style>\n",
       "<table border=\"1\" class=\"dataframe\">\n",
       "  <thead>\n",
       "    <tr style=\"text-align: right;\">\n",
       "      <th></th>\n",
       "      <th>1</th>\n",
       "      <th>2</th>\n",
       "      <th>...</th>\n",
       "      <th>14</th>\n",
       "      <th>15</th>\n",
       "    </tr>\n",
       "  </thead>\n",
       "  <tbody>\n",
       "    <tr>\n",
       "      <th>200</th>\n",
       "      <td>54.117</td>\n",
       "      <td>24.796</td>\n",
       "      <td>...</td>\n",
       "      <td>27.968</td>\n",
       "      <td>53.166</td>\n",
       "    </tr>\n",
       "    <tr>\n",
       "      <th>201</th>\n",
       "      <td>54.274</td>\n",
       "      <td>24.816</td>\n",
       "      <td>...</td>\n",
       "      <td>27.968</td>\n",
       "      <td>53.314</td>\n",
       "    </tr>\n",
       "    <tr>\n",
       "      <th>202</th>\n",
       "      <td>54.434</td>\n",
       "      <td>24.837</td>\n",
       "      <td>...</td>\n",
       "      <td>27.942</td>\n",
       "      <td>53.467</td>\n",
       "    </tr>\n",
       "    <tr>\n",
       "      <th>203</th>\n",
       "      <td>54.598</td>\n",
       "      <td>24.858</td>\n",
       "      <td>...</td>\n",
       "      <td>27.790</td>\n",
       "      <td>53.626</td>\n",
       "    </tr>\n",
       "    <tr>\n",
       "      <th>204</th>\n",
       "      <td>54.765</td>\n",
       "      <td>24.879</td>\n",
       "      <td>...</td>\n",
       "      <td>27.794</td>\n",
       "      <td>53.791</td>\n",
       "    </tr>\n",
       "    <tr>\n",
       "      <th>...</th>\n",
       "      <td>...</td>\n",
       "      <td>...</td>\n",
       "      <td>...</td>\n",
       "      <td>...</td>\n",
       "      <td>...</td>\n",
       "    </tr>\n",
       "    <tr>\n",
       "      <th>396</th>\n",
       "      <td>52.730</td>\n",
       "      <td>13.496</td>\n",
       "      <td>...</td>\n",
       "      <td>22.357</td>\n",
       "      <td>55.207</td>\n",
       "    </tr>\n",
       "    <tr>\n",
       "      <th>397</th>\n",
       "      <td>52.852</td>\n",
       "      <td>13.704</td>\n",
       "      <td>...</td>\n",
       "      <td>22.507</td>\n",
       "      <td>55.274</td>\n",
       "    </tr>\n",
       "    <tr>\n",
       "      <th>398</th>\n",
       "      <td>52.978</td>\n",
       "      <td>13.916</td>\n",
       "      <td>...</td>\n",
       "      <td>22.656</td>\n",
       "      <td>55.339</td>\n",
       "    </tr>\n",
       "    <tr>\n",
       "      <th>399</th>\n",
       "      <td>53.105</td>\n",
       "      <td>14.133</td>\n",
       "      <td>...</td>\n",
       "      <td>22.804</td>\n",
       "      <td>55.402</td>\n",
       "    </tr>\n",
       "    <tr>\n",
       "      <th>400</th>\n",
       "      <td>53.236</td>\n",
       "      <td>14.355</td>\n",
       "      <td>...</td>\n",
       "      <td>22.952</td>\n",
       "      <td>55.463</td>\n",
       "    </tr>\n",
       "  </tbody>\n",
       "</table>\n",
       "<p>201 rows × 10 columns</p>\n",
       "</div>"
      ],
      "text/plain": [
       "          1       2  ...      14      15\n",
       "200  54.117  24.796  ...  27.968  53.166\n",
       "201  54.274  24.816  ...  27.968  53.314\n",
       "202  54.434  24.837  ...  27.942  53.467\n",
       "203  54.598  24.858  ...  27.790  53.626\n",
       "204  54.765  24.879  ...  27.794  53.791\n",
       "..      ...     ...  ...     ...     ...\n",
       "396  52.730  13.496  ...  22.357  55.207\n",
       "397  52.852  13.704  ...  22.507  55.274\n",
       "398  52.978  13.916  ...  22.656  55.339\n",
       "399  53.105  14.133  ...  22.804  55.402\n",
       "400  53.236  14.355  ...  22.952  55.463\n",
       "\n",
       "[201 rows x 10 columns]"
      ]
     },
     "execution_count": 21,
     "metadata": {},
     "output_type": "execute_result"
    }
   ],
   "source": [
    "X.loc[200:400]"
   ]
  },
  {
   "cell_type": "markdown",
   "metadata": {},
   "source": [
    "フレーム番号を秒単位に直すのが面倒な場合は，以下のように`index`を秒単位に変換した`T`というSeriesを作っておき，これを用いて条件付き抽出すればよい．"
   ]
  },
  {
   "cell_type": "code",
   "execution_count": 22,
   "metadata": {},
   "outputs": [
    {
     "data": {
      "text/html": [
       "<div>\n",
       "<style scoped>\n",
       "    .dataframe tbody tr th:only-of-type {\n",
       "        vertical-align: middle;\n",
       "    }\n",
       "\n",
       "    .dataframe tbody tr th {\n",
       "        vertical-align: top;\n",
       "    }\n",
       "\n",
       "    .dataframe thead th {\n",
       "        text-align: right;\n",
       "    }\n",
       "</style>\n",
       "<table border=\"1\" class=\"dataframe\">\n",
       "  <thead>\n",
       "    <tr style=\"text-align: right;\">\n",
       "      <th></th>\n",
       "      <th>1</th>\n",
       "      <th>2</th>\n",
       "      <th>...</th>\n",
       "      <th>14</th>\n",
       "      <th>15</th>\n",
       "    </tr>\n",
       "  </thead>\n",
       "  <tbody>\n",
       "    <tr>\n",
       "      <th>200</th>\n",
       "      <td>54.117</td>\n",
       "      <td>24.796</td>\n",
       "      <td>...</td>\n",
       "      <td>27.968</td>\n",
       "      <td>53.166</td>\n",
       "    </tr>\n",
       "    <tr>\n",
       "      <th>201</th>\n",
       "      <td>54.274</td>\n",
       "      <td>24.816</td>\n",
       "      <td>...</td>\n",
       "      <td>27.968</td>\n",
       "      <td>53.314</td>\n",
       "    </tr>\n",
       "    <tr>\n",
       "      <th>202</th>\n",
       "      <td>54.434</td>\n",
       "      <td>24.837</td>\n",
       "      <td>...</td>\n",
       "      <td>27.942</td>\n",
       "      <td>53.467</td>\n",
       "    </tr>\n",
       "    <tr>\n",
       "      <th>203</th>\n",
       "      <td>54.598</td>\n",
       "      <td>24.858</td>\n",
       "      <td>...</td>\n",
       "      <td>27.790</td>\n",
       "      <td>53.626</td>\n",
       "    </tr>\n",
       "    <tr>\n",
       "      <th>204</th>\n",
       "      <td>54.765</td>\n",
       "      <td>24.879</td>\n",
       "      <td>...</td>\n",
       "      <td>27.794</td>\n",
       "      <td>53.791</td>\n",
       "    </tr>\n",
       "    <tr>\n",
       "      <th>...</th>\n",
       "      <td>...</td>\n",
       "      <td>...</td>\n",
       "      <td>...</td>\n",
       "      <td>...</td>\n",
       "      <td>...</td>\n",
       "    </tr>\n",
       "    <tr>\n",
       "      <th>396</th>\n",
       "      <td>52.730</td>\n",
       "      <td>13.496</td>\n",
       "      <td>...</td>\n",
       "      <td>22.357</td>\n",
       "      <td>55.207</td>\n",
       "    </tr>\n",
       "    <tr>\n",
       "      <th>397</th>\n",
       "      <td>52.852</td>\n",
       "      <td>13.704</td>\n",
       "      <td>...</td>\n",
       "      <td>22.507</td>\n",
       "      <td>55.274</td>\n",
       "    </tr>\n",
       "    <tr>\n",
       "      <th>398</th>\n",
       "      <td>52.978</td>\n",
       "      <td>13.916</td>\n",
       "      <td>...</td>\n",
       "      <td>22.656</td>\n",
       "      <td>55.339</td>\n",
       "    </tr>\n",
       "    <tr>\n",
       "      <th>399</th>\n",
       "      <td>53.105</td>\n",
       "      <td>14.133</td>\n",
       "      <td>...</td>\n",
       "      <td>22.804</td>\n",
       "      <td>55.402</td>\n",
       "    </tr>\n",
       "    <tr>\n",
       "      <th>400</th>\n",
       "      <td>53.236</td>\n",
       "      <td>14.355</td>\n",
       "      <td>...</td>\n",
       "      <td>22.952</td>\n",
       "      <td>55.463</td>\n",
       "    </tr>\n",
       "  </tbody>\n",
       "</table>\n",
       "<p>201 rows × 10 columns</p>\n",
       "</div>"
      ],
      "text/plain": [
       "          1       2  ...      14      15\n",
       "200  54.117  24.796  ...  27.968  53.166\n",
       "201  54.274  24.816  ...  27.968  53.314\n",
       "202  54.434  24.837  ...  27.942  53.467\n",
       "203  54.598  24.858  ...  27.790  53.626\n",
       "204  54.765  24.879  ...  27.794  53.791\n",
       "..      ...     ...  ...     ...     ...\n",
       "396  52.730  13.496  ...  22.357  55.207\n",
       "397  52.852  13.704  ...  22.507  55.274\n",
       "398  52.978  13.916  ...  22.656  55.339\n",
       "399  53.105  14.133  ...  22.804  55.402\n",
       "400  53.236  14.355  ...  22.952  55.463\n",
       "\n",
       "[201 rows x 10 columns]"
      ]
     },
     "execution_count": 22,
     "metadata": {},
     "output_type": "execute_result"
    }
   ],
   "source": [
    "T = X.index * 0.05\n",
    "X.loc[(T >= 10) & (T <= 20)]"
   ]
  },
  {
   "cell_type": "markdown",
   "metadata": {},
   "source": [
    "**スナップショットの描画**"
   ]
  },
  {
   "cell_type": "markdown",
   "metadata": {},
   "source": [
    "以上を踏まえて，試合中の特定の時刻のスナップショットを描いてみよう．"
   ]
  },
  {
   "cell_type": "code",
   "execution_count": 23,
   "metadata": {},
   "outputs": [
    {
     "data": {
      "image/png": "[encoded data removed]",
      "text/plain": [
       "<Figure size 350x300 with 1 Axes>"
      ]
     },
     "metadata": {},
     "output_type": "display_data"
    }
   ],
   "source": [
    "fig, ax = plt.subplots()\n",
    "\n",
    "# フレーム番号\n",
    "i=2000\n",
    "\n",
    "# 位置の描画\n",
    "x, y = X.loc[i], Y.loc[i]\n",
    "ax.plot(x, y, 'ro', ms=5, mfc='None')\n",
    "\n",
    "# 時刻の表示\n",
    "t = i*0.05\n",
    "m, s = np.floor(t/60.).astype(int), np.floor(t % 60).astype(int)\n",
    "ss = (\"%.2f\" % (t % 60 - s)).replace('.', '')[1:].zfill(2)\n",
    "ax.set_title('$t$=%s分%s秒%s' % (m, s, ss), fontsize=10)\n",
    "\n",
    "ax.set_xlim(0, 105); ax.set_ylim(0, 68)\n",
    "ax.set_xticks([0, 105])\n",
    "ax.set_yticks([0, 68])\n",
    "ax.set_aspect('equal')"
   ]
  },
  {
   "cell_type": "markdown",
   "metadata": {},
   "source": [
    "### 重心と標準偏差の計算"
   ]
  },
  {
   "cell_type": "markdown",
   "metadata": {},
   "source": [
    "集団の動きを解析する際に，チーム全体のおおまかな位置と広がりを把握することは非常に重要である．\n",
    "これらの量の定義の仕方は色々と考えられるが，以下では重心と慣性半径を計算する．"
   ]
  },
  {
   "cell_type": "markdown",
   "metadata": {},
   "source": [
    "**チームの重心**"
   ]
  },
  {
   "cell_type": "markdown",
   "metadata": {},
   "source": [
    "チームの重心は，メンバー全員の平均位置を表す量で，以下のように定義される：\n",
    "\n",
    "$$\n",
    "X_{c}(i) = \\frac{1}{N} \\sum_{u=1}^{N} X_{u}(i), \\\\[10pt]\n",
    "Y_{c}(i) = \\frac{1}{N} \\sum_{u=1}^{N} Y_{u}(i), \\\\[10pt]\n",
    "$$\n",
    "\n",
    "ここで，$X_{u}(i),\\ Y_{u}(i)$は第$i$フレームの選手$u$の$x,\\ y$座標である．\n",
    "これは，全選手の$x,\\ y$座標の平均値を求めれば良いので，以下のように計算できる："
   ]
  },
  {
   "cell_type": "code",
   "execution_count": 24,
   "metadata": {},
   "outputs": [],
   "source": [
    "Xc = X.mean(axis=1)\n",
    "Yc = Y.mean(axis=1)"
   ]
  },
  {
   "cell_type": "markdown",
   "metadata": {},
   "source": [
    "**チームの慣性半径**"
   ]
  },
  {
   "cell_type": "markdown",
   "metadata": {},
   "source": [
    "次に，チームの広がりを表す量として，慣性半径を導入する．\n",
    "これは，重心から各選手までの距離の標準偏差として以下のように定義される：\n",
    "\n",
    "$$\n",
    "    R(i) = \\sqrt{ \\frac{1}{N} \\sum_{u=1}^{N} [(X_{u}(i) - X_{c}(i))^{2} + (Y_{u}(i) - Y_{c}(i))^{2}] }\n",
    "$$"
   ]
  },
  {
   "cell_type": "code",
   "execution_count": 25,
   "metadata": {},
   "outputs": [],
   "source": [
    "R = np.sqrt(X.var(ddof=0, axis=1) + Y.var(ddof=0, axis=1))"
   ]
  },
  {
   "cell_type": "markdown",
   "metadata": {},
   "source": [
    "**重心と慣性半径の描画**"
   ]
  },
  {
   "cell_type": "code",
   "execution_count": 26,
   "metadata": {},
   "outputs": [
    {
     "data": {
      "image/png": "[encoded data removed]",
      "text/plain": [
       "<Figure size 400x400 with 1 Axes>"
      ]
     },
     "metadata": {},
     "output_type": "display_data"
    }
   ],
   "source": [
    "fig, ax = plt.subplots(figsize=(4, 4))\n",
    "\n",
    "# フレーム番号\n",
    "i=3000\n",
    "\n",
    "# 位置の描画\n",
    "x, y = X.loc[i], Y.loc[i]\n",
    "ax.plot(x, y, 'ro', ms=5, mfc='None')\n",
    "\n",
    "# 重心と標準偏差の描画\n",
    "xc, yc = Xc.loc[i], Yc.loc[i]\n",
    "r = R.loc[i]\n",
    "ax.plot(xc, yc, 'kx')\n",
    "theta = np.linspace(0, 2*np.pi)\n",
    "ax.plot(xc + r*np.cos(theta), yc + r*np.sin(theta), 'r--')\n",
    "\n",
    "# 時刻の表示\n",
    "t = i*0.05\n",
    "m, s = np.floor(t/60.).astype(int), np.floor(t % 60).astype(int)\n",
    "ss = (\"%.2f\" % (t % 60 - s)).replace('.', '')[1:].zfill(2)\n",
    "ax.set_title('$t$=%s分%s秒%s' % (m, s, ss), fontsize=10)\n",
    "\n",
    "ax.set_xlim(0, 105); ax.set_ylim(0, 68)\n",
    "ax.set_xticks([0, 105])\n",
    "ax.set_yticks([0, 68])\n",
    "ax.set_aspect('equal')"
   ]
  },
  {
   "cell_type": "markdown",
   "metadata": {},
   "source": [
    "### 速度と秩序変数の計算"
   ]
  },
  {
   "cell_type": "markdown",
   "metadata": {},
   "source": [
    "**速度**"
   ]
  },
  {
   "cell_type": "markdown",
   "metadata": {},
   "source": [
    "次に，位置座標から速度を求めてみよう．\n",
    "速度の$x,\\ y$成分を$V_{x},\\ V_{y}$とすると，これらは以下のように表される：\n",
    "\n",
    "$$\n",
    "V_{x}(i) = \\frac{X(i+n) - X(i)}{0.05n},\\\\[10pt]\n",
    "V_{y}(i) = \\frac{Y(i+n) - Y(i)}{0.05n}\n",
    "$$\n",
    "\n",
    "ここで，$X(i),\\ Y(i)$は第$i$フレームの$x, y$座標を表し，$n$はフレームの増分である．\n",
    "また，座標の差分を$0.05$で割ることで単位を[m/frame]から[m/s]に変換している．\n",
    "以下では，$n=20$として，20フレーム（=1秒間）の平均速度を求める．\n",
    "実装には`diff`メソッドを用いて`n`フレーム前との差分を計算すれば良い．"
   ]
  },
  {
   "cell_type": "code",
   "execution_count": 27,
   "metadata": {},
   "outputs": [],
   "source": [
    "n = 20\n",
    "Vx, Vy = X.diff(n)/(0.05*n), Y.diff(n)/(0.05*n)  # nフレーム（0.05n秒）前との差を取る"
   ]
  },
  {
   "cell_type": "code",
   "execution_count": 28,
   "metadata": {},
   "outputs": [
    {
     "data": {
      "text/html": [
       "<div>\n",
       "<style scoped>\n",
       "    .dataframe tbody tr th:only-of-type {\n",
       "        vertical-align: middle;\n",
       "    }\n",
       "\n",
       "    .dataframe tbody tr th {\n",
       "        vertical-align: top;\n",
       "    }\n",
       "\n",
       "    .dataframe thead th {\n",
       "        text-align: right;\n",
       "    }\n",
       "</style>\n",
       "<table border=\"1\" class=\"dataframe\">\n",
       "  <thead>\n",
       "    <tr style=\"text-align: right;\">\n",
       "      <th></th>\n",
       "      <th>1</th>\n",
       "      <th>2</th>\n",
       "      <th>...</th>\n",
       "      <th>14</th>\n",
       "      <th>15</th>\n",
       "    </tr>\n",
       "  </thead>\n",
       "  <tbody>\n",
       "    <tr>\n",
       "      <th>56659</th>\n",
       "      <td>NaN</td>\n",
       "      <td>-0.494</td>\n",
       "      <td>...</td>\n",
       "      <td>0.252</td>\n",
       "      <td>0.206</td>\n",
       "    </tr>\n",
       "    <tr>\n",
       "      <th>56660</th>\n",
       "      <td>NaN</td>\n",
       "      <td>-0.496</td>\n",
       "      <td>...</td>\n",
       "      <td>0.244</td>\n",
       "      <td>0.179</td>\n",
       "    </tr>\n",
       "  </tbody>\n",
       "</table>\n",
       "<p>2 rows × 10 columns</p>\n",
       "</div>"
      ],
      "text/plain": [
       "        1      2  ...     14     15\n",
       "56659 NaN -0.494  ...  0.252  0.206\n",
       "56660 NaN -0.496  ...  0.244  0.179\n",
       "\n",
       "[2 rows x 10 columns]"
      ]
     },
     "execution_count": 28,
     "metadata": {},
     "output_type": "execute_result"
    }
   ],
   "source": [
    "Vx.tail(2)"
   ]
  },
  {
   "cell_type": "markdown",
   "metadata": {},
   "source": [
    "**秩序変数**"
   ]
  },
  {
   "cell_type": "markdown",
   "metadata": {},
   "source": [
    "やや高度ではあるが，以下で定義される**秩序変数**（Order Parameter）という量を計算してみよう：\n",
    "\n",
    "$$\n",
    "\\phi(i) = \\left| \\frac{1}{N} \\sum_{u=1}^{N} \\frac{\\vec{v}_{u}(i)}{|\\vec{v}_{u}(i)|} \\right|\n",
    "$$"
   ]
  },
  {
   "cell_type": "markdown",
   "metadata": {},
   "source": [
    "秩序変数は，集団の向きの揃い具合を表す量で，統計物理学の分野でよく用いられる．\n",
    "その定義域は$0\\le\\phi(t)\\le 1$であり，0に近いほど集団の移動方向がバラバラ，1に近いほど揃っていることを意味する．\n",
    "定義より，秩序変数は速度ベクトルから以下のように計算することができる．"
   ]
  },
  {
   "cell_type": "code",
   "execution_count": 29,
   "metadata": {},
   "outputs": [],
   "source": [
    "V = np.sqrt(Vx**2 + Vy**2)\n",
    "OP = np.sqrt(np.sum(Vx/V, axis=1)**2 + np.sum(Vy/V, axis=1)**2) / 10"
   ]
  },
  {
   "cell_type": "markdown",
   "metadata": {},
   "source": [
    "**速度ベクトルと秩序変数の描画**"
   ]
  },
  {
   "cell_type": "markdown",
   "metadata": {},
   "source": [
    "速度と秩序変数が計算できたので，これらを描画してみよう．\n",
    "速度ベクトルの描画には，matplotlibの`quiver`関数を用いて選手の位置を始点とする矢印を描けば良い．\n",
    "また，秩序変数は時刻の横に文字列として出力する．\n",
    "フレーム番号を変えると，矢印の向きの揃い具合と連動して秩序変数の値が変化することが分かる．"
   ]
  },
  {
   "cell_type": "code",
   "execution_count": 30,
   "metadata": {},
   "outputs": [
    {
     "data": {
      "image/png": "[encoded data removed]",
      "text/plain": [
       "<Figure size 400x400 with 1 Axes>"
      ]
     },
     "metadata": {},
     "output_type": "display_data"
    }
   ],
   "source": [
    "fig, ax = plt.subplots(figsize=(4,4))\n",
    "\n",
    "# フレーム番号\n",
    "i=2000\n",
    "\n",
    "# 位置の描画\n",
    "x, y = X.loc[i], Y.loc[i]\n",
    "ax.plot(x, y, 'ro', ms=5, mfc='None')\n",
    "\n",
    "# 速度ベクトルの描画\n",
    "vx, vy = Vx.loc[i], Vy.loc[i]\n",
    "ax.quiver(x, y, vx, vy, color='r', angles='uv', units='xy', scale=0.7, width=0.5)\n",
    "\n",
    "# 時刻と秩序変数の表示\n",
    "op = np.round(OP.loc[i], 2)\n",
    "t = i*0.05\n",
    "m, s = np.floor(t/60.).astype(int), np.floor(t % 60).astype(int)\n",
    "ss = (\"%.2f\" % (t % 60 - s)).replace('.', '')[1:].zfill(2)\n",
    "ax.set_title('$t$=%s分%s秒%s   $\\phi=$%s' % (m, s, ss, op), fontsize=10)\n",
    "\n",
    "ax.set_xlim(0, 105); ax.set_ylim(0, 68)\n",
    "ax.set_xticks([0, 105])\n",
    "ax.set_yticks([0, 68])\n",
    "ax.set_aspect('equal')"
   ]
  },
  {
   "cell_type": "markdown",
   "metadata": {},
   "source": [
    "### 発展問題"
   ]
  },
  {
   "cell_type": "markdown",
   "metadata": {},
   "source": [
    "- 各選手の走行距離を計算せよ\n",
    "- 速度から速さ（速度の大きさ）を求め，選手ごとに速さのヒストグラムを求めよ．\n",
    "- 加速度を計算せよ．"
   ]
  },
  {
   "cell_type": "markdown",
   "metadata": {},
   "source": [
    "## 支配領域"
   ]
  },
  {
   "cell_type": "markdown",
   "metadata": {},
   "source": [
    "### ボロノイ領域"
   ]
  },
  {
   "cell_type": "markdown",
   "metadata": {},
   "source": [
    "2次元平面上に$N$個の個体（**母点**と呼ぶ）が配置されているとき，平面上の各点を「どの母点から最も近いか」という基準で分割する．\n",
    "このとき，母点$p$から最も近い領域のことを母点$p$の**ボロノイ領域**と呼ぶ．\n",
    "通常，近さの基準はユークリッド距離によって定める．\n",
    "下図は，５つの母点に対するボロノイ領域の例である．\n",
    "この中で，青色で示した領域は母点$p_{4}$から最も近い領域，すなわち母点$p_{4}$のボロノイ領域である．\n",
    "また，黒丸（●）は各母点のボロノイ領域の交点，点線は境界線を表し，それぞれ**ボロノイ点**，**ボロノイ線**と呼ばれる．\n",
    "\n",
    "チームスポーツにおいては母点を選手に対応させたボロノイ領域が用いられ，各選手の支配領域と解釈される．\n",
    "このとき，ボロノイ線は２人の選手からの距離が等しく，ボロノイ点は２人以上の選手からの距離が等しい場所を表す．\n",
    "よって，守備側チームのボロノイ線とボロノイ点は，攻撃側チームから見ると守備の穴になりやすい場所である．\n",
    "\n",
    "なお，最近では，「選手$p$から最も近い領域」を「選手$p$から最も速く到達できる領域」に拡張した**優勢領域**が盛んに研究されている．\n",
    "優勢領域を求めるには，各選手から平面上の全ての位置までの到達時間を計算する必要がある．\n",
    "この計算に用いられるモデルは**運動モデル**と呼ばれ，運動方程式や機械学習に基づく様々なモデルが提案されている．"
   ]
  },
  {
   "cell_type": "markdown",
   "metadata": {},
   "source": [
    "```{figure} ../figure/voronoi.png\n",
    "---\n",
    "height: 250px\n",
    "name: fig:voronoi\n",
    "---\n",
    "ボロノイ図の例\n",
    "```"
   ]
  },
  {
   "cell_type": "markdown",
   "metadata": {},
   "source": [
    "### ボロノイ領域の計算と描画"
   ]
  },
  {
   "cell_type": "markdown",
   "metadata": {},
   "source": [
    "Pythonには科学技術計算のためのライブラリであるSciPyが用意されており，Anacondaをインストールすれば標準で使うことができる．\n",
    "ボロノイ領域の計算には，scipy.spatialモジュールに含まれる`Voronoi`クラスおよび`voronoi_plot_2d`関数を用いる．\n",
    "まずはこれらを以下のようにインポートする．"
   ]
  },
  {
   "cell_type": "code",
   "execution_count": 31,
   "metadata": {},
   "outputs": [],
   "source": [
    "from scipy.spatial import Voronoi, voronoi_plot_2d"
   ]
  },
  {
   "cell_type": "markdown",
   "metadata": {},
   "source": [
    "ボロノイ領域の計算と描画の手順は以下の通りである：\n",
    "1. ボロノイ領域を計算したい母点の座標を取得する\n",
    "2. `Voronoi`クラスを用いてオブジェクト（インスタンス）を生成する\n",
    "    ```python\n",
    "    vor = Voronoi(xy)\n",
    "    ```\n",
    "3. `voronoi_plot_2d`関数を用いてボロノイ領域を描画する\n",
    "4. 生成したオブジェクト`vor`の属性やメソッドを用いてボロノイ領域の情報を取得する"
   ]
  },
  {
   "cell_type": "markdown",
   "metadata": {},
   "source": [
    "**母点の生成**"
   ]
  },
  {
   "cell_type": "markdown",
   "metadata": {},
   "source": [
    "母点の座標はNumPy配列の形で第0列に$x$座標，第1列に$y$座標となるように用意する．\n",
    "以下ではランダムに5つの母点を生成し`xy`という変数に読み込む．"
   ]
  },
  {
   "cell_type": "code",
   "execution_count": 32,
   "metadata": {},
   "outputs": [
    {
     "data": {
      "text/plain": [
       "array([[0.918, 0.073],\n",
       "       [0.486, 0.938],\n",
       "       [0.342, 0.763],\n",
       "       [0.239, 0.354],\n",
       "       [0.11 , 0.191]])"
      ]
     },
     "execution_count": 32,
     "metadata": {},
     "output_type": "execute_result"
    }
   ],
   "source": [
    "xy = np.random.rand(5, 2)\n",
    "xy"
   ]
  },
  {
   "cell_type": "markdown",
   "metadata": {},
   "source": [
    "**`Voronoi`クラスによるオブジェクトの生成**"
   ]
  },
  {
   "cell_type": "markdown",
   "metadata": {},
   "source": [
    "生成した母点の座標`xy`をscipy.spatialからインポートした`Voronoi`クラスに読み込んで`vor`オブジェクトを生成する．"
   ]
  },
  {
   "cell_type": "code",
   "execution_count": 33,
   "metadata": {},
   "outputs": [],
   "source": [
    "# ボロノイ分割の計算（オブジェクトの生成）\n",
    "vor = Voronoi(xy)"
   ]
  },
  {
   "cell_type": "markdown",
   "metadata": {},
   "source": [
    "**ボロノイ領域の描画**"
   ]
  },
  {
   "cell_type": "markdown",
   "metadata": {},
   "source": [
    "ボロノイ領域の描画には`voronoi_plot_2d`関数を用いる．\n",
    "引数には生成した`vor`オブジェクトを渡す．"
   ]
  },
  {
   "cell_type": "code",
   "execution_count": 34,
   "metadata": {},
   "outputs": [
    {
     "data": {
      "image/png": "[encoded data removed]",
      "text/plain": [
       "<Figure size 350x300 with 1 Axes>"
      ]
     },
     "metadata": {},
     "output_type": "display_data"
    }
   ],
   "source": [
    "fig = voronoi_plot_2d(vor)"
   ]
  },
  {
   "cell_type": "markdown",
   "metadata": {},
   "source": [
    "**ボロノイ領域の情報の取得**"
   ]
  },
  {
   "cell_type": "markdown",
   "metadata": {},
   "source": [
    "生成した`vor`オブジェクトの属性を用いることで，ボロノイ領域の様々な情報を取得できる．"
   ]
  },
  {
   "cell_type": "code",
   "execution_count": 35,
   "metadata": {},
   "outputs": [
    {
     "data": {
      "text/plain": [
       "array([[0.918, 0.073],\n",
       "       [0.486, 0.938],\n",
       "       [0.342, 0.763],\n",
       "       [0.239, 0.354],\n",
       "       [0.11 , 0.191]])"
      ]
     },
     "execution_count": 35,
     "metadata": {},
     "output_type": "execute_result"
    }
   ],
   "source": [
    "# 母点の座標\n",
    "vor.points"
   ]
  },
  {
   "cell_type": "code",
   "execution_count": 36,
   "metadata": {},
   "outputs": [
    {
     "data": {
      "text/plain": [
       "array([[ 0.498,  0.018],\n",
       "       [ 0.783,  0.546],\n",
       "       [ 0.681,  0.461],\n",
       "       [-0.41 ,  0.734]])"
      ]
     },
     "execution_count": 36,
     "metadata": {},
     "output_type": "execute_result"
    }
   ],
   "source": [
    "# ボロノイ点の座標\n",
    "vor.vertices"
   ]
  },
  {
   "cell_type": "markdown",
   "metadata": {},
   "source": [
    "ボロノイ線の情報は`vor.ridge_vertices`により，両端にあるボロノイ点の番号として取得できる．\n",
    "この番号は，`vor.vertices`のインデックスに対応しており，ボロノイ点が無限遠の場合は-1となる．"
   ]
  },
  {
   "cell_type": "code",
   "execution_count": 37,
   "metadata": {},
   "outputs": [
    {
     "data": {
      "text/plain": [
       "[[-1, 1], [1, 2], [2, 3], [-1, 3], [-1, 1], [-1, 0], [0, 2], [0, 3]]"
      ]
     },
     "execution_count": 37,
     "metadata": {},
     "output_type": "execute_result"
    }
   ],
   "source": [
    "# ボロノイ線リスト（vor.verticesのインデックスで表現）\n",
    "# -1は無限に伸びるボロノイ線のを表す\n",
    "vor.ridge_vertices"
   ]
  },
  {
   "cell_type": "markdown",
   "metadata": {},
   "source": [
    "この例の場合，１つ目のボロノイ線は[-1, 0]なので，0番目のボロノイ点が無限遠まで延びることが分かる．\n",
    "以下のように無限遠点を除くボロノイ線を取得しておくと便利である．"
   ]
  },
  {
   "cell_type": "code",
   "execution_count": 38,
   "metadata": {},
   "outputs": [
    {
     "data": {
      "text/plain": [
       "array([[[-0.41 ,  0.734],\n",
       "        [ 0.783,  0.546]],\n",
       "\n",
       "       [[ 0.783,  0.546],\n",
       "        [ 0.681,  0.461]],\n",
       "\n",
       "       [[ 0.681,  0.461],\n",
       "        [-0.41 ,  0.734]],\n",
       "\n",
       "       [[-0.41 ,  0.734],\n",
       "        [-0.41 ,  0.734]],\n",
       "\n",
       "       [[-0.41 ,  0.734],\n",
       "        [ 0.783,  0.546]],\n",
       "\n",
       "       [[-0.41 ,  0.734],\n",
       "        [ 0.498,  0.018]],\n",
       "\n",
       "       [[ 0.498,  0.018],\n",
       "        [ 0.681,  0.461]],\n",
       "\n",
       "       [[ 0.498,  0.018],\n",
       "        [-0.41 ,  0.734]]])"
      ]
     },
     "execution_count": 38,
     "metadata": {},
     "output_type": "execute_result"
    }
   ],
   "source": [
    "# ボロノイ線の両端にあるボロノイ点の座標\n",
    "ind_rv = np.array(vor.ridge_vertices)\n",
    "ind_rv[~np.any(ind_rv == -1, axis=1)]\n",
    "vor.vertices[ind_rv]"
   ]
  },
  {
   "cell_type": "markdown",
   "metadata": {},
   "source": [
    "ボロノイ線と同様にして，`vor.regions`を用いると，各母点のボロノイ領域を構成するボロノイ点のリストを取得することができる："
   ]
  },
  {
   "cell_type": "code",
   "execution_count": 39,
   "metadata": {},
   "outputs": [
    {
     "data": {
      "text/plain": [
       "[[-1, 1, 2, 3], [-1, 1], [2, 0, -1, 1], [3, 0, 2], [-1, 0, 3], []]"
      ]
     },
     "execution_count": 39,
     "metadata": {},
     "output_type": "execute_result"
    }
   ],
   "source": [
    "# 各ボロノイ領域を構成するボロノイ点のインデックス\n",
    "vor.regions"
   ]
  },
  {
   "cell_type": "markdown",
   "metadata": {},
   "source": [
    "### トラッキングデータへの応用"
   ]
  },
  {
   "cell_type": "markdown",
   "metadata": {},
   "source": [
    "サッカーのトラッキングデータからボロノイ領域を描画するには，特定のフレームにおける選手の座標を取得し，それを母点として`Voronoi`クラスのオブジェクトを生成すれば良い．\n",
    "ただし，ボロノイ領域の描画に`voronoi_plot_2d`をそのまま用いると，無限に延びるボロノイ線が途中で切れてしまうという問題が発生する．\n",
    "そこで，ここでは`voronoi_plot_2d`のソースコード（https://github.com/scipy/scipy/blob/v1.8.1/scipy/spatial/_plotutils.py#L151-L265 )を参考に，独自の描画関数`my_voronoi_plot_2d`を以下のように作成する．"
   ]
  },
  {
   "cell_type": "code",
   "execution_count": 40,
   "metadata": {},
   "outputs": [],
   "source": [
    "def my_voronoi_plot_2d(vor, fig, ax):\n",
    "\n",
    "    # ボロノイ点の描画\n",
    "    ax.plot(vor.vertices[:, 0], vor.vertices[:, 1], '.')\n",
    "\n",
    "    # ボロノイ線の描画\n",
    "    center = vor.points.mean(axis=0)  # 母点の重心\n",
    "    for pointidx, simplex in zip(vor.ridge_points, vor.ridge_vertices):\n",
    "        simplex = np.asarray(simplex)\n",
    "\n",
    "        # 有限なボロノイ線\n",
    "        if np.all(simplex >= 0): # 両端のボロノイ点が共に有限\n",
    "            ax.plot(vor.vertices[simplex, 0], vor.vertices[simplex, 1], 'k--')\n",
    "\n",
    "        # 無限に延びるボロノイ線\n",
    "        else: # 両端のボロノイ点のどちらかが無限\n",
    "\n",
    "            # 有限なボロノイ点\n",
    "            i = simplex[simplex >= 0][0]\n",
    "\n",
    "            # ボロノイ線の両脇にある母点を結んだベクトル（ドロネー線）\n",
    "            t = vor.points[pointidx[1]] - vor.points[pointidx[0]]\n",
    "            t = t / np.linalg.norm(t)\n",
    "\n",
    "            # t（ドロネー線）に直行するベクトル\n",
    "            n = np.array([-t[1], t[0]])\n",
    "\n",
    "            # tの中点\n",
    "            midpoint = vor.points[pointidx].mean(axis=0)\n",
    "\n",
    "            # 無限遠方のボロノイ点\n",
    "            pm = np.sign(np.dot(midpoint - center, n)) # 符号\n",
    "            far_point = vor.vertices[i] + 1000 * pm * n  # 無限遠点の座標\n",
    "\n",
    "            ax.plot([vor.vertices[i,0], far_point[0]], [vor.vertices[i,1], far_point[1]], 'k--')"
   ]
  },
  {
   "cell_type": "markdown",
   "metadata": {},
   "source": [
    "`my_voronoi_plot_2d`関数は，`vor`オブジェクトとmatplotlibの`fig, ax`オブジェクトを読み込み，ボロノイ点とボロノイ線を描画する．\n",
    "ただし，母点の座標はmatplotlibで描画する必要がある．\n",
    "以下は，トラッキングデータから第$i$フレームの座標を取得し，ボロノイ領域を描画する例である．"
   ]
  },
  {
   "cell_type": "code",
   "execution_count": 41,
   "metadata": {},
   "outputs": [
    {
     "data": {
      "image/png": "[encoded data removed]",
      "text/plain": [
       "<Figure size 350x300 with 1 Axes>"
      ]
     },
     "metadata": {},
     "output_type": "display_data"
    }
   ],
   "source": [
    "# トラッキングデータの読み込み\n",
    "X = pd.read_csv('./7_tracking/x_1st.csv', encoding='utf-8', index_col=0)\n",
    "Y = pd.read_csv('./7_tracking/y_1st.csv', encoding='utf-8', index_col=0)\n",
    "\n",
    "# 第iフレームの座標取得\n",
    "i=5000\n",
    "x, y = X.loc[i], Y.loc[i]\n",
    "xy = np.vstack([x, y]).T\n",
    "\n",
    "# ボロノイ領域の計算（オブジェクトの生成）\n",
    "vor = Voronoi(xy)\n",
    "\n",
    "# ボロノイ領域の描画\n",
    "fig, ax = plt.subplots(figsize=(3.5, 3))\n",
    "my_voronoi_plot_2d(vor, fig, ax)\n",
    "\n",
    "# 母点の描画\n",
    "ax.plot(vor.points[:, 0], vor.points[:, 1], 'ko', mfc='None')\n",
    "\n",
    "ax.set_xlim(0, 105); ax.set_ylim(0, 68)\n",
    "ax.set_xticks([0, 105])\n",
    "ax.set_yticks([0, 68])\n",
    "ax.set_aspect('equal')"
   ]
  },
  {
   "cell_type": "markdown",
   "metadata": {},
   "source": [
    "## フォーメーション"
   ]
  },
  {
   "cell_type": "markdown",
   "metadata": {},
   "source": [
    "サッカーにおいてフォーメーションが重要な概念であることは言うまでもない．\n",
    "しかし，「フォーメーションとは何か？」と問われると，明確に答えることは意外と難しい．\n",
    "おおよそ，「チーム内の選手の決まった配置」とか「選手同士の相対的位置関係のパターン」というのがフォーメーションに対する漠然としたイメージだろう．\n",
    "\n",
    "では，こうしたフォーメーションを定量化・可視化するにはどうすればよいだろうか？\n",
    "実は，これには次の２つの方法がある：\n",
    "1. ある時間幅における選手の平均的な位置から割り出す\n",
    "    - 3-4-3, 4-4-2などの数字の組を用いる\n",
    "2. 特定の時刻における選手の隣接関係から定める\n",
    "    - ドロネーネットワークを用いる\n",
    "    \n",
    "以下では，トラッキングデータを用いて，それぞれの方法を簡単に解説する．"
   ]
  },
  {
   "cell_type": "markdown",
   "metadata": {},
   "source": [
    "### 平均フォーメーション"
   ]
  },
  {
   "cell_type": "markdown",
   "metadata": {},
   "source": [
    "**絶対座標系**"
   ]
  },
  {
   "cell_type": "markdown",
   "metadata": {},
   "source": [
    "まずは何も考えずに試合前半の全選手の位置をフィールド上に色分けしてプロットしてみよう．\n",
    "この場合，座標原点がフィールドの左下に常に固定されているので，**絶対座標系**と呼ばれる．"
   ]
  },
  {
   "cell_type": "code",
   "execution_count": 42,
   "metadata": {},
   "outputs": [
    {
     "data": {
      "image/png": "[encoded data removed]",
      "text/plain": [
       "<Figure size 350x300 with 1 Axes>"
      ]
     },
     "metadata": {},
     "output_type": "display_data"
    }
   ],
   "source": [
    "fig, ax = plt.subplots(figsize=(3.5, 3))\n",
    "\n",
    "for u in X.columns:\n",
    "    ax.plot(X[u], Y[u], '.', ms=0.05)\n",
    "    \n",
    "ax.set_xlim(0, 105); ax.set_ylim(0, 68)\n",
    "ax.set_xticks([0, 105])\n",
    "ax.set_yticks([0, 68])\n",
    "ax.set_aspect('equal')"
   ]
  },
  {
   "cell_type": "markdown",
   "metadata": {},
   "source": [
    "プロットの結果を見て明らかなように，各選手はフィールド上を縦横無尽に動き周っていることがわかる．\n",
    "ポジションごとにおおよそ右サイドや中盤などの区分けはできるかもしれないが，この結果からチームのフォーメーションを推定することはできない．"
   ]
  },
  {
   "cell_type": "markdown",
   "metadata": {},
   "source": [
    "**重心座標系**"
   ]
  },
  {
   "cell_type": "markdown",
   "metadata": {},
   "source": [
    "次に，絶対座標系でのプロットは止めて，チームの重心を原点とする座標系に変換してみよう．\n",
    "これを**重心座標系**と呼ぶ．\n",
    "各選手の座標を重心座標系に変換するには，以下のように各時刻において選手の座標から重心の座標を引き算すればよい．"
   ]
  },
  {
   "cell_type": "code",
   "execution_count": 43,
   "metadata": {},
   "outputs": [],
   "source": [
    "Xc = X.sub(X.mean(axis=1), axis=0)\n",
    "Yc = Y.sub(Y.mean(axis=1), axis=0)"
   ]
  },
  {
   "cell_type": "markdown",
   "metadata": {},
   "source": [
    "以下の２つのグラフは，いずれも重心座標系において全選手の位置を色分けしてプロットした結果である．\n",
    "１つ目は選手ごとに各時刻の位置をマーカーでプロットしており，2つ目は選手ごとに平均位置と標準偏差（慣性半径）をプロットしている．"
   ]
  },
  {
   "cell_type": "code",
   "execution_count": 44,
   "metadata": {},
   "outputs": [
    {
     "data": {
      "text/plain": [
       "Text(0, 0.5, '$Y$')"
      ]
     },
     "execution_count": 44,
     "metadata": {},
     "output_type": "execute_result"
    },
    {
     "data": {
      "image/png": "[encoded data removed]",
      "text/plain": [
       "<Figure size 400x400 with 1 Axes>"
      ]
     },
     "metadata": {},
     "output_type": "display_data"
    }
   ],
   "source": [
    "fig, ax = plt.subplots(figsize=(4, 4))\n",
    "\n",
    "for u in X.columns:\n",
    "    ax.plot(Xc[u], Yc[u], '.', ms=0.01)\n",
    "    \n",
    "ax.set_xlim(-30, 30); ax.set_ylim(-30, 30)\n",
    "ax.set_aspect('equal')\n",
    "ax.set_xlabel('$X$'); ax.set_ylabel('$Y$')"
   ]
  },
  {
   "cell_type": "code",
   "execution_count": 45,
   "metadata": {},
   "outputs": [
    {
     "data": {
      "text/plain": [
       "Text(0, 0.5, '$Y$')"
      ]
     },
     "execution_count": 45,
     "metadata": {},
     "output_type": "execute_result"
    },
    {
     "data": {
      "image/png": "[encoded data removed]",
      "text/plain": [
       "<Figure size 400x400 with 1 Axes>"
      ]
     },
     "metadata": {},
     "output_type": "display_data"
    }
   ],
   "source": [
    "fig, ax = plt.subplots(figsize=(4, 4))\n",
    "\n",
    "cmap = plt.get_cmap(\"tab10\") # カラーマップ\n",
    "for i, u in enumerate(X.columns):\n",
    "    # 平均位置\n",
    "    ax.plot(Xc[u].mean(), Yc[u].mean(), 'x', ms=5, color=cmap(i))\n",
    "    \n",
    "    # 標準偏差（慣性半径）\n",
    "    r = np.sqrt(Xc[u].var() + Yc[u].var())\n",
    "    theta=np.linspace(0, 2*np.pi)\n",
    "    ax.plot(Xc[u].mean()+r*np.cos(theta), Yc[u].mean()+r*np.sin(theta), '-', color=cmap(i))\n",
    "    \n",
    "ax.set_xlim(-30, 30); ax.set_ylim(-30, 30)\n",
    "ax.set_aspect('equal')\n",
    "ax.set_xlabel('$X$'); ax.set_ylabel('$Y$')"
   ]
  },
  {
   "cell_type": "markdown",
   "metadata": {},
   "source": [
    "今度は選手ごとにだいたい決まった定位置（☓）を持ち，そこから標準偏差くらいの広がり（◯）を持って移動している様子が見て取れる．\n",
    "特に，守備側から４人，４人，２人という並びになっており，おおよそ4-4-2というフォーメーションが見事に可視化されている．"
   ]
  },
  {
   "cell_type": "markdown",
   "metadata": {},
   "source": [
    "### ドロネーネットワーク"
   ]
  },
  {
   "cell_type": "markdown",
   "metadata": {},
   "source": [
    "以上は，ある程度幅のある時間帯から選手の平均位置を求めてフォーメーションを可視化する手法であった．\n",
    "では，特定の時刻においてフォーメーションを定量化・可視化するにはどうすればよいだろうか？\n",
    "各時刻において4-4-2や3-4-3などの数字の組を割り当てるのも一つの方法かもしれないが，実はもっと便利な方法がある．\n",
    "それが以下に説明するドロネーネットワークである．"
   ]
  },
  {
   "cell_type": "markdown",
   "metadata": {},
   "source": [
    "個体$p_{i}$と$p_{j}$のボロノイ領域が隣接しているときにこれらの個体同士を線で結ぶと，下のような図が作成できる．\n",
    "これを**ドロネー図**あるいは**ドロネーネットワーク**と呼ぶ．\n",
    "下図を見て分かるように，ドロネーネットワークは各母点を頂点とする三角形に分割できるので，**ドロネー三角形分割**と呼ぶこともある．\n",
    "ドロネーネットワークは線が張られた個体間に1，その他に0を割り当てた隣接行列によって定量化される．"
   ]
  },
  {
   "cell_type": "markdown",
   "metadata": {},
   "source": [
    "ドロネーネットワークは平面において隣接関係を定義する方法として知られている．\n",
    "そこで，チームスポーツにおけるフォーメーションを「選手同士の隣接関係」と捉えると，ドロネーネットワークによってフォーメーションを定量化することができる．\n",
    "これにより，フォーメーションの可視化や時間変化の解析など様々な応用が期待される．"
   ]
  },
  {
   "cell_type": "markdown",
   "metadata": {},
   "source": [
    "```{figure} ../figure/delaunay.png\n",
    "---\n",
    "height: 250px\n",
    "name: fig:delaunay\n",
    "---\n",
    "ドロネーネットワークの例\n",
    "```"
   ]
  },
  {
   "cell_type": "markdown",
   "metadata": {},
   "source": [
    "### ドロネーネットワークの計算と描画"
   ]
  },
  {
   "cell_type": "markdown",
   "metadata": {},
   "source": [
    "scipy.spatialにはドロネーネットワークを計算・描画するための`Delaunay`クラスと`delaunay_plot_2d`が用意されている．\n",
    "まずはこれらを以下のようにインポートする．"
   ]
  },
  {
   "cell_type": "code",
   "execution_count": 46,
   "metadata": {},
   "outputs": [],
   "source": [
    "from scipy.spatial import Delaunay, delaunay_plot_2d"
   ]
  },
  {
   "cell_type": "markdown",
   "metadata": {},
   "source": [
    "ドロネーネットワークの計算と描画の手順はボロノイ領域と同様である：\n",
    "1. ドロネーネットワークを計算したい母点の座標を取得する\n",
    "2. `Delaunay`クラスを用いてオブジェクトを生成する\n",
    "    ```python\n",
    "    dt = Delaunay(xy)\n",
    "    ```\n",
    "3. `delaunay_plot_2d`関数を用いてドロネーネットワークを描画する\n",
    "4. 生成したオブジェクト`dt`の様々な属性やメソッドを用いてドロネーネットワーク領域の情報を取得する"
   ]
  },
  {
   "cell_type": "markdown",
   "metadata": {},
   "source": [
    "**母点の生成**"
   ]
  },
  {
   "cell_type": "markdown",
   "metadata": {},
   "source": [
    "母点の座標はNumPy配列の形で第0列に$x$座標，第1列に$y$座標となるように格納する．\n",
    "以下ではランダムに10個の母点を生成し`xy`という変数に読み込んでいる．"
   ]
  },
  {
   "cell_type": "code",
   "execution_count": 47,
   "metadata": {},
   "outputs": [],
   "source": [
    "# 母点の生成: [[x1, y1], [x2, y2], ... ,[xn, yn]]\n",
    "N = 5\n",
    "xy = np.random.rand(N, 2) "
   ]
  },
  {
   "cell_type": "markdown",
   "metadata": {},
   "source": [
    "**`Delaunay`クラスによるオブジェクトの生成**"
   ]
  },
  {
   "cell_type": "markdown",
   "metadata": {},
   "source": [
    "生成した母点の座標`xy`をscipy.spatialからインポートした`Delaunay`クラスに読み込んで`dt`オブジェクトを生成する．"
   ]
  },
  {
   "cell_type": "code",
   "execution_count": 48,
   "metadata": {},
   "outputs": [],
   "source": [
    "# ドロネー分割の計算\n",
    "dt = Delaunay(xy)"
   ]
  },
  {
   "cell_type": "markdown",
   "metadata": {},
   "source": [
    "**ドロネーネットワークの描画**"
   ]
  },
  {
   "cell_type": "markdown",
   "metadata": {},
   "source": [
    "scipyにはドロネーネットワークを描画する`delaunay_plot_2d`関数が用意されており，ソースコード（https://github.com/scipy/scipy/blob/v1.8.1/scipy/spatial/_plotutils.py#L36-L89 ）にアクセスできる．\n",
    "ここでは，ボロノイ領域と同様に，このソースコードを少し改変した`my_delaunay_plot_2d`関数を以下のように作成し使用する．"
   ]
  },
  {
   "cell_type": "code",
   "execution_count": 49,
   "metadata": {},
   "outputs": [],
   "source": [
    "def my_delaunay_plot_2d(dt, fig, ax):\n",
    "    x, y = dt.points.T\n",
    "    ax.triplot(x, y, dt.simplices.copy(), color='b', linestyle='-')"
   ]
  },
  {
   "cell_type": "code",
   "execution_count": 50,
   "metadata": {},
   "outputs": [
    {
     "data": {
      "text/plain": [
       "[<matplotlib.lines.Line2D at 0x1cac55d00>]"
      ]
     },
     "execution_count": 50,
     "metadata": {},
     "output_type": "execute_result"
    },
    {
     "data": {
      "image/png": "[encoded data removed]",
      "text/plain": [
       "<Figure size 300x300 with 1 Axes>"
      ]
     },
     "metadata": {},
     "output_type": "display_data"
    }
   ],
   "source": [
    "# プロット\n",
    "fig, ax = plt.subplots(figsize=(3, 3))\n",
    "my_delaunay_plot_2d(dt, fig, ax)\n",
    "ax.plot(xy[:, 0], xy[:, 1], 'k^', mfc='None', ms=7)"
   ]
  },
  {
   "cell_type": "markdown",
   "metadata": {},
   "source": [
    "**ドロネーネットワークの情報の取得**"
   ]
  },
  {
   "cell_type": "code",
   "execution_count": 51,
   "metadata": {},
   "outputs": [
    {
     "data": {
      "text/plain": [
       "array([[0.355, 0.889],\n",
       "       [0.609, 0.826],\n",
       "       [0.616, 0.569],\n",
       "       [0.443, 0.731],\n",
       "       [0.237, 0.879]])"
      ]
     },
     "execution_count": 51,
     "metadata": {},
     "output_type": "execute_result"
    }
   ],
   "source": [
    "# 母点の座標の取得\n",
    "dt.points"
   ]
  },
  {
   "cell_type": "code",
   "execution_count": 52,
   "metadata": {},
   "outputs": [
    {
     "data": {
      "text/plain": [
       "array([[0.616, 0.569],\n",
       "       [0.443, 0.731],\n",
       "       [0.237, 0.879]])"
      ]
     },
     "execution_count": 52,
     "metadata": {},
     "output_type": "execute_result"
    }
   ],
   "source": [
    "# 各三角形を構成する母点のインデックス\n",
    "ind_spx = dt.simplices \n",
    "\n",
    "# 0番目の三角形を構成する3つの母点の座標\n",
    "xy[ind_spx[0]]"
   ]
  },
  {
   "cell_type": "code",
   "execution_count": 53,
   "metadata": {},
   "outputs": [
    {
     "data": {
      "text/plain": [
       "array([[0., 1., 0., 1., 1.],\n",
       "       [1., 0., 1., 1., 0.],\n",
       "       [0., 1., 0., 1., 1.],\n",
       "       [1., 1., 1., 0., 1.],\n",
       "       [1., 0., 1., 1., 0.]])"
      ]
     },
     "execution_count": 53,
     "metadata": {},
     "output_type": "execute_result"
    }
   ],
   "source": [
    "# 隣接行列の作成\n",
    "A = np.zeros([N, N])\n",
    "indices, indptr = dt.vertex_neighbor_vertices\n",
    "for k in range(N):\n",
    "    nbr = indptr[indices[k]:indices[k+1]] # k番目の母点の隣接点\n",
    "    A[k][nbr] = 1\n",
    "A"
   ]
  },
  {
   "cell_type": "markdown",
   "metadata": {},
   "source": [
    "### トラッキングデータへの応用"
   ]
  },
  {
   "cell_type": "markdown",
   "metadata": {},
   "source": [
    "サッカーのトラッキングデータからドロネーネットワークを描画するには，特定のフレームにおける選手の座標を取得し，それを母点として`Delaunay`クラスのオブジェクトを生成すれば良い．"
   ]
  },
  {
   "cell_type": "code",
   "execution_count": 54,
   "metadata": {},
   "outputs": [],
   "source": [
    "X = pd.read_csv('./7_tracking/x_1st.csv', encoding='utf-8', index_col=0)\n",
    "Y = pd.read_csv('./7_tracking/y_1st.csv', encoding='utf-8', index_col=0)\n",
    "\n",
    "# 第iフレームの座標取得\n",
    "i=2000\n",
    "x, y = X.loc[i], Y.loc[i]\n",
    "xy = np.vstack([x, y]).T\n",
    "\n",
    "# ドロネーネットワークの計算\n",
    "dt = Delaunay(xy)\n",
    "\n",
    "# ボロノイ領域の計算\n",
    "vor = Voronoi(xy)"
   ]
  },
  {
   "cell_type": "markdown",
   "metadata": {},
   "source": [
    "以下はドロネーネットワークとボロノイ領域を同時に描画する例である．"
   ]
  },
  {
   "cell_type": "code",
   "execution_count": 55,
   "metadata": {},
   "outputs": [
    {
     "data": {
      "image/png": "[encoded data removed]",
      "text/plain": [
       "<Figure size 400x400 with 1 Axes>"
      ]
     },
     "metadata": {},
     "output_type": "display_data"
    }
   ],
   "source": [
    "fig, ax = plt.subplots(figsize=(4, 4))\n",
    "\n",
    "# 母点\n",
    "ax.plot(vor.points[:, 0], vor.points[:, 1], 'k>', mfc='None', ms=7)\n",
    "\n",
    "# ボロノイ領域\n",
    "my_voronoi_plot_2d(vor, fig, ax)\n",
    "\n",
    "# ドロネーネットワーク\n",
    "my_delaunay_plot_2d(dt, fig, ax)\n",
    "\n",
    "ax.set_xlim(0, 105); ax.set_ylim(0, 68)\n",
    "ax.set_aspect('equal')"
   ]
  },
  {
   "cell_type": "markdown",
   "metadata": {},
   "source": [
    "## アニメーション"
   ]
  },
  {
   "cell_type": "markdown",
   "metadata": {},
   "source": [
    "最後にトラッキングデータの解析の仕上げとして，アニメーションの作成方法を紹介する．\n",
    "アニメーションはMatplotlibの`FuncAnimation`を用いると簡単に実装できる．\n",
    "まずは`FuncAnimation`を以下のようにインポートしておく："
   ]
  },
  {
   "cell_type": "code",
   "execution_count": 56,
   "metadata": {},
   "outputs": [],
   "source": [
    "from matplotlib.animation import FuncAnimation"
   ]
  },
  {
   "cell_type": "markdown",
   "metadata": {},
   "source": [
    "アニメーションの表示には少々注意が必要である．\n",
    "これまで，MatplotlibによるグラフはJupyter Lab内に表示することができた．\n",
    "これは，デフォルトの設定としてグラフの出力先がJupyter Lab内となっていたからであり，明示的に設定するには以下のコマンドを実行する："
   ]
  },
  {
   "cell_type": "code",
   "execution_count": 57,
   "metadata": {},
   "outputs": [],
   "source": [
    "%matplotlib inline"
   ]
  },
  {
   "cell_type": "markdown",
   "metadata": {},
   "source": [
    "一方，アニメーションを表示するには上の設定を以下のように変更する必要がある："
   ]
  },
  {
   "cell_type": "code",
   "execution_count": 58,
   "metadata": {},
   "outputs": [],
   "source": [
    "%matplotlib tk"
   ]
  },
  {
   "cell_type": "markdown",
   "metadata": {},
   "source": [
    "この設定に変更しておくと，MatplotlibのグラフはJupyter Lab内ではなく別ウインドウとして表示されるはずである．\n",
    "この辺りの詳細については「5. Matplotlibの基礎」の「5.6.1. 描画結果の出力先」にまとめてある．"
   ]
  },
  {
   "cell_type": "markdown",
   "metadata": {},
   "source": [
    "### 位置"
   ]
  },
  {
   "cell_type": "code",
   "execution_count": 59,
   "metadata": {},
   "outputs": [],
   "source": [
    "X = pd.read_csv('./7_tracking/x_1st.csv', encoding='utf-8', index_col=0)\n",
    "Y = pd.read_csv('./7_tracking/y_1st.csv', encoding='utf-8', index_col=0)"
   ]
  },
  {
   "cell_type": "code",
   "execution_count": 60,
   "metadata": {},
   "outputs": [],
   "source": [
    "# 描画関数\n",
    "def update(i):\n",
    "    #　位置座標の更新\n",
    "    x, y = X.loc[int(i)], Y.loc[int(i)]\n",
    "    pt.set_data(x, y)\n",
    "\n",
    "    return [pt]\n",
    "\n",
    "# グラフの設定\n",
    "fig, ax = plt.subplots(figsize=(5, 5))\n",
    "pt, = ax.plot([], [], 'bo', ms=5, mfc='None')\n",
    "\n",
    "ax.set_xlim(0, 105); ax.set_ylim(0, 68)\n",
    "ax.set_xticks([0, 105]); ax.set_yticks([0, 68])\n",
    "ax.set_aspect('equal')\n",
    "\n",
    "# 実行\n",
    "anim = FuncAnimation(fig, update, blit=True, interval=10)"
   ]
  },
  {
   "cell_type": "markdown",
   "metadata": {},
   "source": [
    "### 位置とテキスト"
   ]
  },
  {
   "cell_type": "code",
   "execution_count": 61,
   "metadata": {},
   "outputs": [
    {
     "name": "stderr",
     "output_type": "stream",
     "text": [
      "/Users/narizuka/.pyenv/versions/miniforge3-4.10.3-10/envs/myenv/lib/python3.9/site-packages/matplotlib/animation.py:887: UserWarning: Animation was deleted without rendering anything. This is most likely not intended. To prevent deletion, assign the Animation to a variable, e.g. `anim`, that exists until you have outputted the Animation using `plt.show()` or `anim.save()`.\n",
      "  warnings.warn(\n"
     ]
    }
   ],
   "source": [
    "# 描画関数\n",
    "def update(i):\n",
    "    #　位置座標の更新\n",
    "    x, y = X.loc[int(i)], Y.loc[int(i)]\n",
    "    pt.set_data(x, y)\n",
    "    \n",
    "    t = i*0.05\n",
    "    m, s = np.floor(t/60.).astype(int), np.floor(t % 60).astype(int)\n",
    "    ss = (\"%.2f\" % (t % 60 - s)).replace('.', '')[1:].zfill(2)\n",
    "    title.set_text('$t$=%s分%s秒%s' % (m, s, ss))\n",
    "\n",
    "    return list(np.hstack([pt, title]))\n",
    "\n",
    "# グラフの設定\n",
    "fig, ax = plt.subplots(figsize=(5, 5))\n",
    "pt, = ax.plot([], [], 'bo', ms=5, mfc='None')\n",
    "title = ax.text(80, 63, '', fontsize=10)\n",
    "\n",
    "ax.set_xlim(0, 105); ax.set_ylim(0, 68)\n",
    "ax.set_xticks([0, 105]); ax.set_yticks([0, 68])\n",
    "ax.set_aspect('equal')\n",
    "\n",
    "# 実行\n",
    "anim = FuncAnimation(fig, update, blit=True, interval=10)"
   ]
  },
  {
   "cell_type": "markdown",
   "metadata": {},
   "source": [
    "### 位置・速度ベクトル・テキスト"
   ]
  },
  {
   "cell_type": "code",
   "execution_count": 62,
   "metadata": {},
   "outputs": [],
   "source": [
    "# 速度ベクトルと秩序変数の計算\n",
    "Vx, Vy = X.diff(20), Y.diff(20)\n",
    "V = np.sqrt(Vx**2 + Vy**2)\n",
    "OP = np.sqrt(np.sum(Vx/V, axis=1)**2 + np.sum(Vy/V, axis=1)**2) / 10"
   ]
  },
  {
   "cell_type": "code",
   "execution_count": 63,
   "metadata": {},
   "outputs": [
    {
     "name": "stderr",
     "output_type": "stream",
     "text": [
      "invalid command name \"7694689024_on_timer\"\n",
      "    while executing\n",
      "\"7694689024_on_timer\"\n",
      "    (\"after\" script)\n",
      "invalid command name \"7693281152_on_timer\"\n",
      "    while executing\n",
      "\"7693281152_on_timer\"\n",
      "    (\"after\" script)\n"
     ]
    }
   ],
   "source": [
    "# 描画関数\n",
    "def update(i):\n",
    "    # 位置の更新\n",
    "    x, y = X.loc[int(i)], Y.loc[int(i)]\n",
    "    pt.set_data(x, y)\n",
    "    \n",
    "    # 速度ベクトルの更新\n",
    "    vx, vy = Vx.loc[int(i)], Vy.loc[int(i)]\n",
    "    aw.set_offsets(np.c_[x, y])\n",
    "    aw.set_UVC(vx, vy)\n",
    "    \n",
    "    # テキスト\n",
    "    t = i*0.05\n",
    "    m, s = np.floor(t/60.).astype(int), np.floor(t % 60).astype(int)\n",
    "    ss = (\"%.2f\" % (t % 60 - s)).replace('.', '')[1:].zfill(2)\n",
    "    op = np.round(OP.loc[i], 2)\n",
    "    text.set_text('$t$=%s分%s秒%s   $\\phi=$%s' % (m, s, ss, op))\n",
    "\n",
    "    return list(np.hstack([pt, aw, text]))\n",
    "\n",
    "# グラフの設定\n",
    "fig, ax = plt.subplots(figsize=(5, 5))\n",
    "pt, = ax.plot([], [], 'bo', ms=5, mfc='None')\n",
    "aw = ax.quiver(np.zeros(10), np.zeros(10), np.zeros(10), np.zeros(10),\\\n",
    "               color='b', angles='uv', units='xy', scale=0.7, width=0.5)\n",
    "text = ax.text(65, 63, '', fontsize=10)\n",
    "\n",
    "ax.set_xlim(0, 105); ax.set_ylim(0, 68)\n",
    "ax.set_xticks([0, 105]); ax.set_yticks([0, 68])\n",
    "ax.set_aspect('equal')\n",
    "\n",
    "# 実行\n",
    "anim = FuncAnimation(fig, update, blit=True, interval=20)"
   ]
  },
  {
   "cell_type": "markdown",
   "metadata": {},
   "source": [
    "### 発展問題\n",
    "\n",
    "- チームの重心と慣性半径を描画するアニメーションを作成せよ\n",
    "- チームの重心を原点とする座標系（重心座標系）でアニメーションを作成せよ"
   ]
  }
 ],
 "metadata": {
  "kernelspec": {
   "display_name": "Python 3.9.13 ('myenv')",
   "language": "python",
   "name": "python3"
  },
  "language_info": {
   "codemirror_mode": {
    "name": "ipython",
    "version": 3
   },
   "file_extension": ".py",
   "mimetype": "text/x-python",
   "name": "python",
   "nbconvert_exporter": "python",
   "pygments_lexer": "ipython3",
   "version": "3.9.13"
  },
  "toc-autonumbering": true,
  "vscode": {
   "interpreter": {
    "hash": "911fd4aa1eca4252368dc27db61226a38a6cfe922f9bbc90c7d50e9c97ede316"
   }
  }
 },
 "nbformat": 4,
 "nbformat_minor": 4
}
