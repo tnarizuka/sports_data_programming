{
 "cells": [
  {
   "cell_type": "code",
   "execution_count": 4,
   "metadata": {},
   "outputs": [],
   "source": [
    "# （必須）モジュールのインポート\n",
    "import os\n",
    "import numpy as np\n",
    "import pandas as pd\n",
    "import matplotlib as mpl\n",
    "import matplotlib.pyplot as plt\n",
    "\n",
    "# 日本語フォントの設定（Mac:'Hiragino Sans', Windows:'MS Gothic'）\n",
    "plt.rcParams['font.family'] = 'MS Gothic'"
   ]
  },
  {
   "cell_type": "markdown",
   "metadata": {},
   "source": [
    "# プログラミング環境の構築"
   ]
  },
  {
   "cell_type": "markdown",
   "metadata": {},
   "source": [
    "## Anacondaのインストール\n",
    "\n",
    "- Anacondaのアンインストール（環境再構築の場合）\n",
    "  - コントロールパネル > プログラムのアンインストール\n",
    "  - Anacondaを選択してアンインストール\n",
    "  - PC再起動\n",
    "- インストーラのダウンロード\n",
    "  - [Anaconda Distribution](https://www.anaconda.com/download) にアクセス\n",
    "  - メールアドレスを入力して，届いたメールのURLを開く\n",
    "  - Anacondaをダウンロード\n",
    "- Cドライブ直下（ユーザフォルダと同じ階層）に`anaconda3`というフォルダを作っておく\n",
    "- Anacondaのインストール\n",
    "  - Select Installation TypeでJust Meを選ぶ\n",
    "  - Choose Install LocationでCドライブ直下に作ったanaconda3フォルダを選ぶ\n",
    "    - anacondaのインストール先のパスに日本語が含まれるとうまくいかないため\n",
    "  - Advanced Installation Optionsで以下の2つに必ずチェックを入れる\n",
    "    - Add Anaconda3 to my PATH environment variable\n",
    "    - Register Anaconda3 as my default Python 3.9\n",
    "- Anaconda Navigatorを起動して，インストールが成功しているか確認する（適宜アップデートする）"
   ]
  },
  {
   "cell_type": "markdown",
   "metadata": {},
   "source": [
    "## 作業フォルダの作成"
   ]
  },
  {
   "attachments": {},
   "cell_type": "markdown",
   "metadata": {},
   "source": [
    "データ分析では，様々なファイルを扱わなければならない．\n",
    "例えば，本講義では，Pythonのソースコード（`.py`），Jupyter NoteBook（`.ipynb`），データ（`.csv`），図（`.pdf`や`.png`）などのファイルを扱うことになる．\n",
    "これらのファイルが自分のPC内のどこに保存されているかを把握しておかないと，ファイルを探すだけで時間を取られてしまう．\n",
    "データ分析を始める際にまず行うべきことは，PC内のフォルダやファイルを整理することである．"
   ]
  },
  {
   "attachments": {},
   "cell_type": "markdown",
   "metadata": {},
   "source": [
    "まず本講義専用の作業フォルダを作成する．\n",
    "フォルダ名は自分で分かれば何でも良いが，なるべく半角英数字とし，スペースは絶対に入れないこと．\n",
    "作業フォルダの作成場所はできればクラウドストレージのフォルダ（OneDriveやGoogle Drive）の中に作ることを推奨する（こうすれば，自動的にクラウド上にバックアップされる）．\n",
    "\n",
    "ここでは，`ローカルディスク（C:）>ユーザー>ユーザー名>OneDrive`の中に`sport_data`という作業フォルダを作ったとする：\n",
    "```\n",
    "[OneDrive]\n",
    "    - [デスクトップ]\n",
    "    - [ドキュメント]\n",
    "    ...\n",
    "    - [sport_data]\n",
    "\n",
    "```"
   ]
  },
  {
   "attachments": {},
   "cell_type": "markdown",
   "metadata": {},
   "source": [
    "本講義で扱うファイルは全てこの`sport_data`の中に保存する．\n",
    "`sport_data`フォルダの中身は次のように章ごとのサブフォルダやレポート用のフォルダに分けておくと良い：\n",
    "```\n",
    "[sport_data]\n",
    "    - [1_introduction]\n",
    "    - [2_environment]\n",
    "        - 2_environment.ipynb\n",
    "    - [3_numpy]\n",
    "    - [4_pandas]\n",
    "    - [5_matplotlib]\n",
    "    - [6_event]\n",
    "    - [7_tracking]\n",
    "    - [report]\n",
    "    - [others]\n",
    "```"
   ]
  },
  {
   "attachments": {},
   "cell_type": "markdown",
   "metadata": {},
   "source": [
    "## Jupyter Lab\n",
    "\n",
    "本講義ノートは`.ipynb`ファイル形式でダウンロードしてJupyter上で実行可能である．\n",
    "Jupyterの環境構築の方法はいくつかあるので自分の好きな方法を選んで良いが，Anacondaをインストールすると，自動的にJupyter NotebookとJupyter Labが使えるようになる．\n",
    "\n",
    "**Jupyter Labの起動**\n",
    "\n",
    "- Anaconda Navigatorを起動\n",
    "    - ［スタートメニュー］→［すべてのアプリ］→ [Anaconda3(64-bit)] →［Anaconda Navigator］\n",
    "- ［Jupyter Lab］をLaunch\n",
    "\n",
    "**ノートブック（.ipynbファイル）の起動**\n",
    "\n",
    "- `.ipynb`ファイルをダウンロードし，作業フォルダに保存する．\n",
    "    - 講義ノート上部のアイコンから`.ipynb`をクリック\n",
    "    - 自動保存された場合は`ダウンロード`フォルダ内に保存される\n",
    "- Jupyter Labを起動し，左上のフォルダアイコンをクリックする．\n",
    "- .ipynbファイルを保存した作業フォルダに移動し，`.ipynb`ファイルをダブルクリックする．"
   ]
  },
  {
   "cell_type": "markdown",
   "metadata": {},
   "source": [
    "## Maplotlibの日本語対応\n",
    "\n",
    "Matplotlibはグラフ作成のためのライブラリである（詳しくは基礎編で解説する）．\n",
    "Matplotlibは標準で日本語が出力されないので，ここでは日本語対応する方法を2つ紹介する．"
   ]
  },
  {
   "cell_type": "markdown",
   "metadata": {},
   "source": [
    "**方法1：`rcParams`に使用するフォント名を指定する**\n",
    "\n",
    "以下のように，`matplotlib.pyplot`をインポートしておき，`plt.rcParams['font.family']`に日本語フォントを指定する．\n",
    "使用可能なフォントは環境によって異なるが，Windowsの場合は`'MS Gothic'`，`'Meiryo'`などを指定する．\n",
    "Macの場合は`'Hiragino Sans'`を指定する．"
   ]
  },
  {
   "cell_type": "code",
   "execution_count": 2,
   "metadata": {},
   "outputs": [],
   "source": [
    "import matplotlib.pyplot as plt\n",
    "plt.rcParams['font.family'] = 'MS Gothic'"
   ]
  },
  {
   "cell_type": "markdown",
   "metadata": {},
   "source": [
    "**方法2： japanize_matplotlib を利用する（詳しくは[こちら](https://pypi.org/project/japanize-matplotlib/)）**\n",
    "\n",
    "※ 2024年9月現在，Python 3.12以上ではjapanize_matplotlibが使えない．対処法は[ここ](https://qiita.com/take_me/items/7d1a8823b99951210efa)を参照．\n",
    "\n",
    "japanize_matplotlibは一度インストールすれば，あとは他のモジュールと同じように`import japanize_matplotlib`とするだけで日本語が使用可能になる．\n",
    "ただし，使用可能なフォントはIPAexゴシックだけなので，フォントにこだわりたい場合は方法１をおすすめする．\n",
    "\n",
    "- Anaconda Promptを起動\n",
    "- 以下のコマンドを実行してjapanize_matplotlibをインストールする\n",
    "    ```zsh\n",
    "    pip install japanize-matplotlib\n",
    "    ```\n",
    "- Jupyter Labを再起動して，以下のコードを実行する\n",
    "    ```python\n",
    "    import japanize_matplotlib\n",
    "    ```\n",
    "- 日本語が使用可能になる"
   ]
  },
  {
   "attachments": {},
   "cell_type": "markdown",
   "metadata": {},
   "source": [
    "## パス（Path）について\n",
    "\n",
    "### パスとは何か？\n",
    "Pythonプログラムの実行，ファイルの読み込み，加工したデータの保存などを行うには，ファイルやフォルダの場所（PC内のアドレス）を指定する必要がある．\n",
    "このアドレスを指定する文字列のことをパス（Path）と呼ぶ．\n",
    "Windowsの場合，パスはフォルダの階層構造を区切り文字`¥`（またはバックスラッシュ`\\`）によって区切った形式で以下のように表される：\n",
    "\n",
    "```\n",
    "C:¥Users¥narizuka\n",
    "```"
   ]
  },
  {
   "attachments": {},
   "cell_type": "markdown",
   "metadata": {},
   "source": [
    "フォルダの階層の区切りは`¥`（またはバックスラッシュ`\\\\`）によって表されており，`¥`の隣にはフォルダの名前が記載されている．\n",
    "上の例は，Cドライブ（`C:`）の中にある`Users`フォルダの中の`narizuka`フォルダのパスを表す．"
   ]
  },
  {
   "attachments": {},
   "cell_type": "markdown",
   "metadata": {},
   "source": [
    "### 絶対パスと相対パス\n",
    "パスには絶対パスと相対パスの2種類が存在する．\n",
    "パスを使用する場面の具体例として，matplotlibで描画した図を指定したフォルダ内に保存する場合を考える．\n",
    "まず，以下のプログラムを実行する．"
   ]
  },
  {
   "cell_type": "code",
   "execution_count": null,
   "metadata": {},
   "outputs": [],
   "source": [
    "fig, ax = plt.subplots(figsize=(3.5, 3))\n",
    "x = np.arange(-np.pi, np.pi, 0.01)\n",
    "ax.plot(x, np.sin(x))\n",
    "ax.set_xlabel('X軸'); ax.set_ylabel('Y軸')"
   ]
  },
  {
   "attachments": {},
   "cell_type": "markdown",
   "metadata": {},
   "source": [
    "実行がうまくいけば，サイン関数が出力されるはずである．\n",
    "\n",
    "次に，出力された図を自分のPCの任意のフォルダに保存する．\n",
    "このためには，`fig.savefig(path)`のように保存先のパスを指定すれば良い．\n",
    "このとき，パスの指定方法には以下の２つの方法が存在する．"
   ]
  },
  {
   "attachments": {},
   "cell_type": "markdown",
   "metadata": {},
   "source": [
    "#### 1. 絶対パスによる指定"
   ]
  },
  {
   "cell_type": "code",
   "execution_count": null,
   "metadata": {},
   "outputs": [],
   "source": [
    "# 自分の作業フォルダの絶対パスをコピーして貼り付ける\n",
    "fig.savefig(r\"C:\\Users\\narizuka\\OneDrive\\sport_data\\2_environment\\graph.pdf\", bbox_inches=\"tight\")"
   ]
  },
  {
   "attachments": {},
   "cell_type": "markdown",
   "metadata": {},
   "source": [
    "この方法では，PC内で最も上の階層であるCドライブから始まるパスを指定しており，これを**絶対パス**と呼ぶ．\n",
    "Windowsで絶対パスを取得するには，パスをコピーしたいファイルやフォルダを右クリックし，「パスのコピー」を選択すれば良い．\n",
    "絶対パスを使っておけばエラーは出にくいが，PCの奥深くにあるフォルダだとパスが長くなるという問題がある．\n",
    "\n",
    "なお，Windows環境においてパスをコピーして貼り付けると区切り文字がバックスラッシュ`\\`または`¥`になるはずである．\n",
    "ところが，pythonではバックスラッシュ`\\`と文字を組み合わせたエスケープシーケンスいう特別な文字列が存在し，例えば，`\\n`は改行文字，`\\t`はTAB文字を意味する．\n",
    "これにより，上の例の中にある`\\t`の部分はパスの区切りではなくエスケープシーケンスとして認識され，エラーが出ることがある．\n",
    "以上のような問題は，パスの先頭に`r`を付けることで解決できる．\n",
    "これは，raw文字列と呼ばれ，\"\"の中に指定した文字列をそのままの形で認識させることができる．"
   ]
  },
  {
   "attachments": {},
   "cell_type": "markdown",
   "metadata": {},
   "source": [
    "#### 2. 相対パスによる指定"
   ]
  },
  {
   "cell_type": "code",
   "execution_count": null,
   "metadata": {},
   "outputs": [],
   "source": [
    "# 相対パスを指定する（バックスラッシュを区切り文字にすれば先頭のrは必要ない）\n",
    "fig.savefig(\"./graph2.pdf\", bbox_inches=\"tight\")"
   ]
  },
  {
   "cell_type": "markdown",
   "metadata": {},
   "source": [
    "2つ目の方法では，パスが`'.'`から始まっているが，`'.'`は現在の居場所（**カレントディレクトリ**と呼ぶ）のパスを意味する．\n",
    "デフォルトではカレントディレクトリは`.ipynb`ファイルが保存されているフォルダとなる．\n",
    "このように，カレントディレクトリのパス`'.'`から始まるパスを**相対パス**と呼ぶ．\n",
    "\n",
    "なお，カレントディレクトリは以下のコマンドにより任意のフォルダに変更することができる．\n",
    "\n",
    "```python\n",
    "import os\n",
    "os.chdir(path)\n",
    "```\n",
    "\n",
    "相対パスを用いると，パスが短くなるので便利であるが，カレントディレクトリがどこなのかを認識しておく必要がある．"
   ]
  }
 ],
 "metadata": {
  "kernelspec": {
   "display_name": "Python 3.9.13 ('myenv')",
   "language": "python",
   "name": "python3"
  },
  "language_info": {
   "codemirror_mode": {
    "name": "ipython",
    "version": 3
   },
   "file_extension": ".py",
   "mimetype": "text/x-python",
   "name": "python",
   "nbconvert_exporter": "python",
   "pygments_lexer": "ipython3",
   "version": "3.12.5"
  },
  "toc-autonumbering": true,
  "toc-showcode": false,
  "toc-showmarkdowntxt": false,
  "toc-showtags": false,
  "vscode": {
   "interpreter": {
    "hash": "911fd4aa1eca4252368dc27db61226a38a6cfe922f9bbc90c7d50e9c97ede316"
   }
  }
 },
 "nbformat": 4,
 "nbformat_minor": 4
}
