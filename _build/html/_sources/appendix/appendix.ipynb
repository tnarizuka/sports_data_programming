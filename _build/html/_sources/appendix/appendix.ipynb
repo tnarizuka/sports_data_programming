{
 "cells": [
  {
   "attachments": {},
   "cell_type": "markdown",
   "metadata": {},
   "source": [
    "# 付録"
   ]
  },
  {
   "cell_type": "markdown",
   "metadata": {},
   "source": [
    "## Maplotlibの日本語対応\n",
    "\n",
    "Matplotlibはグラフ作成のためのライブラリである（詳しくは基礎編で解説する）．\n",
    "Matplotlibは標準で日本語に対応していないので，ここでは日本語対応する方法を2つ紹介する．"
   ]
  },
  {
   "cell_type": "markdown",
   "metadata": {},
   "source": [
    "**方法1：`rcParams`に使用するフォント名を指定する**\n",
    "\n",
    "以下のように，`matplotlib.pyplot`をインポートしておき，`plt.rcParams['font.family']`に日本語フォントを指定する．\n",
    "使用可能なフォントは環境によって異なるが，Windowsの場合は`'MS Gothic'`，`'Meiryo'`などを指定する．\n",
    "Macの場合は`'Hiragino Sans'`を指定する．"
   ]
  },
  {
   "cell_type": "code",
   "execution_count": null,
   "metadata": {},
   "outputs": [],
   "source": [
    "# 日本語フォントの設定（Mac:'Hiragino Sans', Windows:'MS Gothic'）\n",
    "plt.rcParams['font.family'] = 'Hiragino Sans'"
   ]
  },
  {
   "cell_type": "markdown",
   "metadata": {},
   "source": [
    "**方法2： japanize_matplotlib を利用する（詳しくは[こちら](https://pypi.org/project/japanize-matplotlib/)）**\n",
    "\n",
    "japanize_matplotlibはPythonのモジュールなので，最初にインストールしておけば，あとは他のモジュールと同じように`import japanize_matplotlib`とするだけで日本語が使用可能になる．\n",
    "ただし，使用可能なフォントはIPAexゴシックだけなので，フォントにこだわりたい場合は方法１をおすすめする．\n",
    "\n",
    "<!-- **japanize_matplotlibのインストール（詳しくは[こちら](https://pypi.org/project/japanize-matplotlib/)）** -->\n",
    "\n",
    "- ターミナルを開いて以下のコマンドを実行し，AnacondaのインストールされているフォルダのPathを取得する\n",
    "    ```\n",
    "    conda info -e\n",
    "    ```\n",
    "- `*`の右に表示された文字列（フォルダのパス）をコピーして以下を実行\n",
    "  ```zsh\n",
    "  activate \"フォルダのパス\"\n",
    "  ```\n",
    "- 以下のコマンドを実行してインストールする\n",
    "    ```zsh\n",
    "    pip install japanize-matplotlib\n",
    "    ```"
   ]
  },
  {
   "attachments": {},
   "cell_type": "markdown",
   "metadata": {},
   "source": [
    "## JupyterとPythonスクリプトの使い分け\n",
    "\n",
    " Jupyterは短いコードを逐次実行しながら結果を確認するのには適しているが，コードが長くなると分かりにくくなる．そこで，コードが長くなってきたら関数やクラスに適宜まとめてスクリプト（`.py`ファイル）に保存すると良い．保存したスクリプトはNumPyやPandasと同じようにimportできるので，Jupyter上ではimportしたスクリプト内の関数を実行するだけにすると結果が整理しやすい．その際，以下に説明する自作モジュールの自動リロードの設定をしておくと便利である．\n",
    " \n",
    "※ ローカル環境で`.py`ファイルを編集するにはエディタを使用する．Windowsに標準搭載されているメモ帳を使うのが最も手軽だが，非常に使いづらいので推奨しない．まずは自分の好みに合うエディタを探すことを推奨する．よく使われるエディタは以下の通り：\n",
    "- Visual Studio Code\n",
    "- Atom\n",
    "- Sublime Text"
   ]
  },
  {
   "attachments": {},
   "cell_type": "markdown",
   "metadata": {},
   "source": [
    "## 便利な機能\n",
    "\n",
    "### Jupyterのconfigファイル\n",
    "- ターミナルで以下を実行する\n",
    "    - `jupyter notebook --generate-config`\n",
    "    - \"C:\\Users\\username\\\\.jupyter\"の中に\"jupyter_notebook_config.py\"というファイルができる．\n",
    "- \"jupyter_notebook_config.py\"を開いて以下を追加\n",
    "    - `c=get_config()`\n",
    "    - `c.NotebookApp.notebook_dir=\"起動ディレクトリのパス\"`\n",
    "- これにより，Jupyter Labを起動したときに指定したフォルダが開かれる"
   ]
  },
  {
   "attachments": {},
   "cell_type": "markdown",
   "metadata": {},
   "source": [
    "### Ipythonのプロファイル\n",
    "\n",
    "Ipythonプロファイルを作成すると，jupyterの起動時に自動実行したいコマンドを設定できる．\n",
    "\n",
    "- ターミナルで以下を実行する\n",
    "    - `ipython profile create profile_name`\n",
    "    - \"C:\\Users\\username\\.ipython\\prifile_name\"に\"startup\"フォルダが作成される．\n",
    "- startupフォルダの中に\"00.ipy\"というファイル（スタートアップスクリプト）を作り，自動実行したいコマンドを記述する．\n",
    "- 例えば，以下はよく使うので自動importしておくと良い\n",
    "\n",
    "    ```python\n",
    "    import os\n",
    "    import sys\n",
    "    import matplotlib.pyplot as plt\n",
    "    import numpy as np\n",
    "    import pandas as pd\n",
    "    ```\n",
    "- 自作のモジュール（例えば`my_module.py`）をimportして使う場合，`my_module.py`を一度jupyterでimportした後に，ローカルで`my_module.py`を変更することがよくある．このとき，ローカルで行った変更内容はjupyter側には自動で反映されない．そこで，スタートアップスクリプトに以下を加えておくと自作モジュールの変更が自動で反映される．\n",
    "  \n",
    "    ```\n",
    "    %load_ext autoreload\n",
    "    %autoreload 2\n",
    "    %matplotlib inline\n",
    "    ```"
   ]
  },
  {
   "cell_type": "markdown",
   "metadata": {},
   "source": [
    "例として，[sport_data]フォルダの中に[module]フォルダを作り，以下のプログラムを`my_module.py`として保存する．\n",
    "\n",
    "```python\n",
    "def my_func():\n",
    "    for i in range(5):\n",
    "        print(\"test%s\" % i)\n",
    "\n",
    "if __name__ == '__main__':\n",
    "    my_func()\n",
    "```\n",
    "つまり，このPythonスクリプトのパスは\"C:\\Users\\username\\OneDrive\\sport_data\\module\\my_module.py\"となる．"
   ]
  },
  {
   "cell_type": "markdown",
   "metadata": {},
   "source": [
    "これを単にPythonスクリプトとして実行すると，`if __name__ == '__main__':`以下のコマンドが実行される："
   ]
  },
  {
   "cell_type": "markdown",
   "metadata": {},
   "source": [
    "```python\n",
    "%run \"./module/my_module.py\"\n",
    "```"
   ]
  },
  {
   "cell_type": "markdown",
   "metadata": {},
   "source": [
    "一方，これをモジュールとしてインポートするには以下のようにする："
   ]
  },
  {
   "cell_type": "markdown",
   "metadata": {},
   "source": [
    "```python\n",
    "import module.my_module as mm\n",
    "```"
   ]
  },
  {
   "cell_type": "markdown",
   "metadata": {},
   "source": [
    "この状態で`my_module`内の関数`my_func()`を以下のように`mm.my_func()`として実行できる："
   ]
  },
  {
   "cell_type": "markdown",
   "metadata": {},
   "source": [
    "```python\n",
    "mm.my_func()\n",
    "```"
   ]
  },
  {
   "cell_type": "markdown",
   "metadata": {},
   "source": [
    "スタートアップスクリプト内にautoreloadの設定を書いている場合は，ローカルで`my_module.py`を書き換えたら即座に変更内容が反映されるはずである．"
   ]
  },
  {
   "cell_type": "markdown",
   "metadata": {},
   "source": [
    "```python\n",
    "mm.my_func()\n",
    "```"
   ]
  },
  {
   "attachments": {},
   "cell_type": "markdown",
   "metadata": {},
   "source": [
    "## Google Colab\n",
    "\n",
    "Google Colab（正式名称はGoogle Colaboratoty）はgoogleが提供するPython実行環境であり，Jupyter Notebookがベースになっている．\n",
    "実際，Google Colabで作成したノートブックは\".ipynb形式\"で保存されるので，相互互換性がある．\n",
    "Google Colabの特徴は以下の通りである：\n",
    "\n",
    "- ブラウザ上で動作する\n",
    "- 基本操作はJupyter Notebookと似ている（細かい操作方法は異なる）\n",
    "- 作成したノートブックはGoogle Drive上に保存される\n",
    "    - Google Driveが必要（なのでGoogle アカウントも必要）\n",
    "- pythonの環境構築が不要（新たにモジュールをインストールすることも可能）\n",
    "- 無料でGPUを使用可能\n",
    "\n",
    "特に，Jupyter Notebookの場合は自分のPC上にpython環境を構築する必要があるが，Google Colabはその必要がない点がメリットである．\n",
    "また，GPUが無料で使用可能なので，重い計算を行う際にも重宝する．\n",
    "本講義では，基本的にJupyter Labを用いるが，Google Colabを用いても問題ない．"
   ]
  },
  {
   "cell_type": "markdown",
   "metadata": {},
   "source": [
    "### Google colabでjupyter notebookを開く\n",
    "\n",
    "- Google Driveを開いて作業フォルダに移動\n",
    "- 既存の`.ipynbファイル`を選択するとGoogle Colabが開く\n",
    "- 新規作成作成の場合は以下\n",
    "    - ［右クリック］→［その他］→［Google Colaboratory］"
   ]
  },
  {
   "cell_type": "markdown",
   "metadata": {},
   "source": [
    "### 必要なモジュールをimportする\n",
    "\n",
    "- google colabにインストールされていないモジュール（japanize_matplotlibなど）\n",
    "\n",
    "    ```python\n",
    "    !pip install japanize-matplotlib\n",
    "    import japanize_matplotlib\n",
    "    ```\n",
    "- 既にインストールされているモジュール\n",
    "\n",
    "    ```python\n",
    "    import numpy as np\n",
    "    ```"
   ]
  },
  {
   "cell_type": "markdown",
   "metadata": {},
   "source": [
    "### Google Driveをマウントする\n",
    "\n",
    "Google Driveに保存した自作モジュールやファイルにアクセスしたい場合はGoogle Driveをマウントする必要がある．\n",
    "\n",
    "- 以下を実行する\n",
    "  \n",
    "    ```python\n",
    "    from google.colab import drive\n",
    "    drive.mount('/content/drive')\n",
    "    ```\n",
    "- 「このノートブックにGoogleドライブのファイルへのアクセスを許可しますか？」と聞かれるので「Google ドライブに接続」を選択\n",
    "- 自分のGoogleアカウントを選択し，「許可」を選択"
   ]
  },
  {
   "cell_type": "markdown",
   "metadata": {},
   "source": [
    "### （任意）自作モジュールをimportする\n",
    "\n",
    "```python\n",
    "import sys\n",
    "sys.path.append('/content/drive/My Drive/***')\n",
    "\n",
    "import ***.xxx\n",
    "```\n",
    "※ なお，自作モジュールの変更を反映したい場合は［ランタイムを出荷時設定にリセット］し，再度マウントする"
   ]
  },
  {
   "cell_type": "markdown",
   "metadata": {},
   "source": [
    "### （任意）matplotlibのスタイルファイルを読み込む\n",
    "\n",
    "```python\n",
    "import matplotlib.pyplot as plt\n",
    "plt.style.use('/content/drive/My Drive/***/matplotlibrc')\n",
    "```"
   ]
  }
 ],
 "metadata": {
  "kernelspec": {
   "display_name": "Python 3.9.13 ('myenv')",
   "language": "python",
   "name": "python3"
  },
  "language_info": {
   "codemirror_mode": {
    "name": "ipython",
    "version": 3
   },
   "file_extension": ".py",
   "mimetype": "text/x-python",
   "name": "python",
   "nbconvert_exporter": "python",
   "pygments_lexer": "ipython3",
   "version": "3.9.13"
  },
  "toc-autonumbering": true,
  "toc-showcode": false,
  "toc-showmarkdowntxt": false,
  "toc-showtags": false,
  "vscode": {
   "interpreter": {
    "hash": "911fd4aa1eca4252368dc27db61226a38a6cfe922f9bbc90c7d50e9c97ede316"
   }
  }
 },
 "nbformat": 4,
 "nbformat_minor": 4
}
