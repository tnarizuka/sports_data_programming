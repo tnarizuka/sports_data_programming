{
 "cells": [
  {
   "cell_type": "markdown",
   "metadata": {},
   "source": [
    "# レポートの諸注意"
   ]
  },
  {
   "cell_type": "markdown",
   "metadata": {},
   "source": [
    "**回答方法**\n",
    "\n",
    "- プログラムはコードセル（複数のセルでもよい）に記述する\n",
    "- 問題の回答および説明はマークダウンセルに記述する"
   ]
  },
  {
   "cell_type": "markdown",
   "metadata": {},
   "source": [
    "**提出方法**\n",
    "\n",
    "1. このipynbファイルをhtml形式でエクスポートする\n",
    "    - File -> Export Notebook As -> HTMLをクリック\n",
    "    - 自分の分かりやすいフォルダに保存する\n",
    "2. htmlファイルをポータルのオンライン授業から提出する\n",
    "    - ポータルサイトのオンライン授業からレポート提出場所を開く\n",
    "    - 1.で保存したhtmlファイルをアップロードする<br>\n",
    "    ※ ファイル名は「学籍番号_氏名.html」とすること"
   ]
  },
  {
   "cell_type": "markdown",
   "metadata": {},
   "source": [
    "**提出締切**\n",
    "\n",
    "- 7/31（日），23:59"
   ]
  },
  {
   "cell_type": "markdown",
   "metadata": {},
   "source": [
    "**評価基準**\n",
    "\n",
    "- F評価\n",
    "    - レポートに著しい不備がある／未提出\n",
    "- C評価\n",
    "    - レポートを期限内に提出し，基礎知識に関する問題がほとんどできている\n",
    "- B評価\n",
    "    - 上に加え，NumPy，Pandas，Matplotlibに関する問題の一部ができている\n",
    "- A評価\n",
    "    - 上に加え，NumPy，Pandas，Matplotlibに関する問題がほとんどできている\n",
    "- S評価\n",
    "    - 上に加え，実践編に関する課題に答えている\n",
    "    - 来年度成塚のゼミを志望する場合はここまでできることが望ましい"
   ]
  },
  {
   "cell_type": "markdown",
   "metadata": {},
   "source": [
    "## 基礎知識に関する問題"
   ]
  },
  {
   "cell_type": "markdown",
   "metadata": {},
   "source": [
    "- 新しいマークダウンセルを下に追加し，セル内に好きな文章を記述せよ．\n",
    "    - これは解答例です．"
   ]
  },
  {
   "cell_type": "markdown",
   "metadata": {},
   "source": [
    "- 絶対パスと相対パスについて自分の言葉で説明せよ\n",
    "    - 次の講義資料を参照：**2.4.4  絶対パスと相対パス**"
   ]
  },
  {
   "cell_type": "markdown",
   "metadata": {},
   "source": [
    "- Windowsにおいて，コピーしたパスをそのまま貼り付けて使用すると，python側でエラーが出る．この原因と回避する方法を自分の言葉で説明せよ\n",
    "    - 次の講義資料を参照：**2.4.3  WindowsのPythonでパスを指定する際の注意**"
   ]
  },
  {
   "cell_type": "markdown",
   "metadata": {},
   "source": [
    "- スポーツデータ分析において，Pythonを用いるメリットを自分の言葉で説明せよ\n",
    "    - 次の講義資料を参照：**1.1.4  Pythonを用いる理由**<br>\n",
    "    - ※ ここに書かれているのはあくまでも一例"
   ]
  },
  {
   "cell_type": "markdown",
   "metadata": {},
   "source": [
    "- スポーツデータ分析において，NumPy，Pandas，Matplotlibを用いるメリットを自分の言葉で説明せよ\n",
    "    - 次の講義資料を参照：**3.1  Numpyとは？**，**4.1.2  PandasとNumPyの違い**<br>\n",
    "    - Matplotlibについては，NumPyやPandasとの連携がしやすい，対話的に実行できる，色やレイアウトを細かく調整できる，など（あくまでも一例）．"
   ]
  },
  {
   "cell_type": "markdown",
   "metadata": {},
   "source": [
    "- NumPyとPandasの違いを自分の言葉で説明せよ\n",
    "    - 次の講義資料を参照：**4.1.2  PandasとNumPyの違い**"
   ]
  },
  {
   "cell_type": "markdown",
   "metadata": {},
   "source": [
    "- モジュールをインポートする意味を自分の言葉で説明せよ\n",
    "    - [公式ドキュメント](https://docs.python.org/ja/3/reference/import.html)などを参照"
   ]
  },
  {
   "cell_type": "markdown",
   "metadata": {},
   "source": [
    "- `os`モジュールをインポートせよ"
   ]
  },
  {
   "cell_type": "code",
   "execution_count": 1,
   "metadata": {},
   "outputs": [],
   "source": [
    "import os"
   ]
  },
  {
   "cell_type": "markdown",
   "metadata": {},
   "source": [
    "- `os.chdir`を用いてカレントディレクトリを適当な作業フォルダに変更せよ"
   ]
  },
  {
   "cell_type": "code",
   "execution_count": 2,
   "metadata": {},
   "outputs": [],
   "source": [
    "os.chdir('/Users/narizuka/work/document/講義/立正/スポーツデータ分析のためのプログラミング/sport_data')"
   ]
  },
  {
   "cell_type": "markdown",
   "metadata": {},
   "source": [
    "- NumPyを`np`，Pandasを`pd`という名前でインポートせよ"
   ]
  },
  {
   "cell_type": "code",
   "execution_count": 3,
   "metadata": {},
   "outputs": [],
   "source": [
    "import numpy as np\n",
    "import pandas as pd"
   ]
  },
  {
   "cell_type": "markdown",
   "metadata": {},
   "source": [
    "- matplotlib.pyplotを`plt`という名前でインポートせよ"
   ]
  },
  {
   "cell_type": "code",
   "execution_count": 4,
   "metadata": {},
   "outputs": [],
   "source": [
    "import matplotlib.pyplot as plt"
   ]
  },
  {
   "cell_type": "markdown",
   "metadata": {},
   "source": [
    "- レポートを**期限内に指定された方法で**提出せよ\n",
    "    - 『※ ファイル名は「学籍番号_氏名.html」とすること』を守ること\n",
    "    - ファイルの拡張子を手動で変更するのはNG\n",
    "    - 自分のPCで開けないファイルは他の人も開けないので，提出前に確認すること"
   ]
  },
  {
   "cell_type": "markdown",
   "metadata": {},
   "source": [
    "## NumPyに関する問題"
   ]
  },
  {
   "cell_type": "markdown",
   "metadata": {},
   "source": [
    "**問題A**\n",
    "\n",
    "以下のように，母平均5，母標準偏差0.5の正規分布に従うデータから100個を抽出した．"
   ]
  },
  {
   "cell_type": "code",
   "execution_count": 6,
   "metadata": {},
   "outputs": [
    {
     "data": {
      "text/plain": [
       "array([4.84057325, 4.19850972, 4.23239106, 4.71479955, 4.89163585,\n",
       "       5.12743715, 4.92527503, 6.00539129, 4.95160792, 5.21110083,\n",
       "       4.88726922, 4.68102845, 4.99185685, 5.52210839, 4.45755984,\n",
       "       3.89703759, 4.5243905 , 5.41648659, 4.49989592, 5.17173137,\n",
       "       5.77301513, 5.34504047, 3.97707332, 5.16723341, 4.67927066,\n",
       "       4.88875163, 4.3848128 , 5.10292412, 5.4106857 , 4.75310981,\n",
       "       4.29560324, 4.39183809, 5.86714953, 4.89660507, 4.63340571,\n",
       "       5.38708145, 4.61131189, 4.79268246, 4.4271794 , 5.16252025,\n",
       "       5.00029714, 5.70929402, 4.92558719, 4.69686504, 4.40709941,\n",
       "       5.22775211, 4.58117753, 4.92651928, 4.65882514, 5.74383482,\n",
       "       4.45264472, 4.17264656, 4.98807898, 4.81813125, 4.75852844,\n",
       "       5.36978853, 5.30562592, 5.24590114, 5.89646193, 4.65813143,\n",
       "       5.52705652, 4.69221878, 5.21872127, 3.5953027 , 4.67321994,\n",
       "       5.26389329, 5.46636086, 4.94430432, 4.43964135, 5.49556808,\n",
       "       5.81539818, 4.049955  , 5.03115795, 5.23999877, 5.1898046 ,\n",
       "       4.24387751, 5.14450994, 5.04776224, 4.85358943, 5.4282912 ,\n",
       "       5.46673651, 4.78947748, 5.79521476, 4.46809972, 6.05244222,\n",
       "       4.45475285, 5.74226071, 4.4553855 , 5.30221602, 5.47090936,\n",
       "       4.68992847, 5.40743263, 4.54997998, 4.75979531, 5.11512886,\n",
       "       5.09761752, 5.2679194 , 5.34214967, 6.41063966, 5.45825179])"
      ]
     },
     "execution_count": 6,
     "metadata": {},
     "output_type": "execute_result"
    }
   ],
   "source": [
    "np.random.seed(seed=33)\n",
    "x = np.random.normal(5, 0.5, 100)\n",
    "x"
   ]
  },
  {
   "cell_type": "markdown",
   "metadata": {},
   "source": [
    "このデータに対し，`np.mean`関数と`np.std`関数を用いて標本平均と標本標準偏差を求めると以下のようになった．"
   ]
  },
  {
   "cell_type": "code",
   "execution_count": 7,
   "metadata": {},
   "outputs": [
    {
     "data": {
      "text/plain": [
       "4.980955414556336"
      ]
     },
     "execution_count": 7,
     "metadata": {},
     "output_type": "execute_result"
    }
   ],
   "source": [
    "np.mean(x)"
   ]
  },
  {
   "cell_type": "code",
   "execution_count": 8,
   "metadata": {},
   "outputs": [
    {
     "data": {
      "text/plain": [
       "0.5156253322316987"
      ]
     },
     "execution_count": 8,
     "metadata": {},
     "output_type": "execute_result"
    }
   ],
   "source": [
    "np.std(x)"
   ]
  },
  {
   "cell_type": "markdown",
   "metadata": {},
   "source": [
    "- `np.mean`関数と`np.average`関数を使わずに`x`の標本平均を求め，上の結果と一致することを確かめよ（NumPyの他の関数は用いても良い）．\n",
    "ただし，データ$x = (x_{1}, x_{2}, \\ldots, x_{n})$に対して，標本平均$\\bar{x}$は以下で定義される：\n",
    "\\begin{align}\n",
    "    \\bar{x} &= \\frac{1}{n} \\sum_{i=1}^{n} x_{i} = \\frac{x_{1}+x_{2}+\\cdots+x_{n}}{n}\n",
    "\\end{align}"
   ]
  },
  {
   "cell_type": "code",
   "execution_count": 10,
   "metadata": {},
   "outputs": [
    {
     "data": {
      "text/plain": [
       "4.980955414556336"
      ]
     },
     "execution_count": 10,
     "metadata": {},
     "output_type": "execute_result"
    }
   ],
   "source": [
    "np.sum(x)/x.size"
   ]
  },
  {
   "cell_type": "markdown",
   "metadata": {},
   "source": [
    "- `np.std`関数と`np.var`関数を使わずに`x`の標本標準偏差を求め，上の結果と一致することを確かめよ（NumPyの他の関数は用いても良い）．\n",
    "ただし，データ$x = (x_{1}, x_{2}, \\ldots, x_{n})$に対して，標本標準偏差$\\bar{\\sigma}$は以下で定義される：\n",
    "\n",
    "$$\n",
    "    \\bar{\\sigma} \n",
    "    = \\sqrt{\\frac{1}{n} \\sum_{i=1}^{n} (x_{i} - \\bar{x})^2}\n",
    "    = \\sqrt{ \\frac{(x_{1}-\\bar{x})^2+(x_{2}-\\bar{x})^2+\\cdots+(x_{n}-\\bar{x})^2}{n} }\n",
    "$$"
   ]
  },
  {
   "cell_type": "code",
   "execution_count": 11,
   "metadata": {},
   "outputs": [
    {
     "data": {
      "text/plain": [
       "0.5156253322316987"
      ]
     },
     "execution_count": 11,
     "metadata": {},
     "output_type": "execute_result"
    }
   ],
   "source": [
    "np.sqrt(np.sum((x-np.mean(x))**2)/x.size)"
   ]
  },
  {
   "cell_type": "markdown",
   "metadata": {},
   "source": [
    "**問題B**"
   ]
  },
  {
   "cell_type": "markdown",
   "metadata": {},
   "source": [
    "次のcsvファイルをダウンロードせよ：[player_England.csv](https://drive.google.com/uc?export=download&id=1C1jhTLnDg7ES3QClTf6LL34f8vXq-JgQ) <br>\n",
    "このファイルには，2017年度にイングランド・プレミアリーグに所属していた選手の選手ID，身長，体重のデータが保存されている．\n",
    "ただし，身長の単位はcm，体重の単位はkgである．\n",
    "\n",
    "※ 本データはPappalardoデータセットを加工したものである（詳細は[イベントデータの解析](https://rtwqzpj5uefb1pvzmprbnq-on.drv.tw/document/講義/立正/スポーツデータ分析のためのプログラミング/6_event.html)）．"
   ]
  },
  {
   "cell_type": "markdown",
   "metadata": {},
   "source": [
    "- 以下を適当に修正し，ダウンロードしたファイルをNumPy配列`D`に読み込め："
   ]
  },
  {
   "cell_type": "code",
   "execution_count": 13,
   "metadata": {},
   "outputs": [
    {
     "data": {
      "text/plain": [
       "array([[  3319,    180,     76],\n",
       "       [    -1,   1000,   1000],\n",
       "       [  3560,    179,     72],\n",
       "       ...,\n",
       "       [357712,    183,     92],\n",
       "       [386197,    175,     71],\n",
       "       [412919,    190,     76]])"
      ]
     },
     "execution_count": 13,
     "metadata": {},
     "output_type": "execute_result"
    }
   ],
   "source": [
    "# csvファイルのパスを指定する\n",
    "D = np.loadtxt('./report/player_England.csv', delimiter=',', dtype='int')\n",
    "D"
   ]
  },
  {
   "cell_type": "markdown",
   "metadata": {},
   "source": [
    "配列`D`は第0列に選手ID，第1列に身長，第2列に体重が格納されている．\n",
    "例えば，`D`の第0行目を見ると，選手IDが3319で身長180cm，体重76kgであることが分かる．\n",
    "このデータに対し，以下の問いに答えよ．"
   ]
  },
  {
   "cell_type": "markdown",
   "metadata": {},
   "source": [
    "- 選手IDが-1となっている要素はダミーデータである．`D`からダミーデータを削除し，改めて配列`D`とせよ．"
   ]
  },
  {
   "cell_type": "code",
   "execution_count": 17,
   "metadata": {},
   "outputs": [],
   "source": [
    "D = D[D[:, 0]!=-1]"
   ]
  },
  {
   "cell_type": "markdown",
   "metadata": {},
   "source": [
    "- データに含まれる選手数を調べよ．"
   ]
  },
  {
   "cell_type": "code",
   "execution_count": 32,
   "metadata": {},
   "outputs": [
    {
     "data": {
      "text/plain": [
       "441"
      ]
     },
     "execution_count": 32,
     "metadata": {},
     "output_type": "execute_result"
    }
   ],
   "source": [
    "len(D)"
   ]
  },
  {
   "cell_type": "markdown",
   "metadata": {},
   "source": [
    "- 選手IDが703の選手の身長と体重を調べよ．<br>\n",
    "※ この選手は吉田麻也選手である．2017年時点の体重と現在の体重を比較してみよ．"
   ]
  },
  {
   "cell_type": "code",
   "execution_count": 22,
   "metadata": {},
   "outputs": [
    {
     "data": {
      "text/plain": [
       "array([[703, 189,  78]])"
      ]
     },
     "execution_count": 22,
     "metadata": {},
     "output_type": "execute_result"
    }
   ],
   "source": [
    "D[D[:, 0]==703]"
   ]
  },
  {
   "cell_type": "markdown",
   "metadata": {},
   "source": [
    "- 配列Dから選手ID，身長，体重のデータを抽出し，それぞれI, H, Wという配列に格納せよ．"
   ]
  },
  {
   "cell_type": "code",
   "execution_count": 23,
   "metadata": {},
   "outputs": [],
   "source": [
    "I = D[:, 0]\n",
    "H = D[:, 1]\n",
    "W = D[:, 2]"
   ]
  },
  {
   "cell_type": "markdown",
   "metadata": {},
   "source": [
    "- 以下の方法により，身長の最小値，最大値を求めよ\n",
    "    - `H`を昇順（小→大）に並び替え，先頭と末尾の要素を抽出する\n",
    "    - `np.min`，`np.max`関数を用いる"
   ]
  },
  {
   "cell_type": "code",
   "execution_count": 25,
   "metadata": {},
   "outputs": [
    {
     "data": {
      "text/plain": [
       "(163, 201)"
      ]
     },
     "execution_count": 25,
     "metadata": {},
     "output_type": "execute_result"
    }
   ],
   "source": [
    "# Hを昇順に並び替えて先頭と末尾の要素を抽出\n",
    "np.sort(H)[0], np.sort(H)[-1]"
   ]
  },
  {
   "cell_type": "code",
   "execution_count": 26,
   "metadata": {},
   "outputs": [
    {
     "data": {
      "text/plain": [
       "(163, 201)"
      ]
     },
     "execution_count": 26,
     "metadata": {},
     "output_type": "execute_result"
    }
   ],
   "source": [
    "# np.min, np.maxを用いる\n",
    "np.min(H), np.max(H)"
   ]
  },
  {
   "cell_type": "markdown",
   "metadata": {},
   "source": [
    "- 肥満度を表す指標としてBMIが知られている．BMIは身長と体重を用いて以下で定義される：\n",
    "$$\n",
    "    \\mathrm{BMI} = \\frac{体重 [kg]}{(身長 [m])^2}\n",
    "$$\n",
    "    - 身長の単位をcmからmに変換し，`H2`に格納せよ．\n",
    "    - 配列`W`と`H2`からBMIを求め，`BMI`という配列に格納せよ．\n",
    "    - BMIが18.5未満の選手が１人いる．この選手のIDを調べよ．<br>\n",
    "    ※ この選手はRekeem Jordan Harper選手である．<br>\n",
    "    ※ 日本肥満学会の基準では，BMIが18.5未満の場合を痩せ型と定義している．"
   ]
  },
  {
   "cell_type": "code",
   "execution_count": 27,
   "metadata": {},
   "outputs": [],
   "source": [
    "# Hの単位をcm -> m\n",
    "H2 = H/100"
   ]
  },
  {
   "cell_type": "code",
   "execution_count": 33,
   "metadata": {},
   "outputs": [],
   "source": [
    "# BMIを求める\n",
    "BMI = W/(H2**2)"
   ]
  },
  {
   "cell_type": "code",
   "execution_count": 34,
   "metadata": {},
   "outputs": [
    {
     "data": {
      "text/plain": [
       "array([[447254,    188,     64]])"
      ]
     },
     "execution_count": 34,
     "metadata": {},
     "output_type": "execute_result"
    }
   ],
   "source": [
    "# BMIが18.5未満を抽出\n",
    "D[BMI < 18.5]"
   ]
  },
  {
   "cell_type": "markdown",
   "metadata": {},
   "source": [
    "## Pandasに関する問題"
   ]
  },
  {
   "cell_type": "markdown",
   "metadata": {},
   "source": [
    "次のcsvファイルをダウンロードせよ：[player_all.csv](https://drive.google.com/uc?export=download&id=1E3ahjvdekZzCu63k1oECs_GOJTS294BP) <br>\n",
    "このファイルには，2017年度にヨーロッパリーグ（イングランド，フランス，ドイツ，イタリア，スペイン）に所属していた選手のデータが保存されている．<br>\n",
    "※ 本データはPappalardoデータセットを加工したものである（詳細は[イベントデータの解析](https://rtwqzpj5uefb1pvzmprbnq-on.drv.tw/document/講義/立正/スポーツデータ分析のためのプログラミング/6_event.html)）．"
   ]
  },
  {
   "cell_type": "markdown",
   "metadata": {},
   "source": [
    "- 以下を適当に修正し，`player_all.csv`ファイルを`df`に読み込め"
   ]
  },
  {
   "cell_type": "code",
   "execution_count": 35,
   "metadata": {},
   "outputs": [
    {
     "data": {
      "text/html": [
       "<div>\n",
       "<style scoped>\n",
       "    .dataframe tbody tr th:only-of-type {\n",
       "        vertical-align: middle;\n",
       "    }\n",
       "\n",
       "    .dataframe tbody tr th {\n",
       "        vertical-align: top;\n",
       "    }\n",
       "\n",
       "    .dataframe thead th {\n",
       "        text-align: right;\n",
       "    }\n",
       "</style>\n",
       "<table border=\"1\" class=\"dataframe\">\n",
       "  <thead>\n",
       "    <tr style=\"text-align: right;\">\n",
       "      <th></th>\n",
       "      <th>name</th>\n",
       "      <th>team_id</th>\n",
       "      <th>role</th>\n",
       "      <th>height</th>\n",
       "      <th>weight</th>\n",
       "      <th>foot</th>\n",
       "      <th>nationality</th>\n",
       "      <th>birth_area</th>\n",
       "      <th>birthday</th>\n",
       "      <th>league</th>\n",
       "    </tr>\n",
       "    <tr>\n",
       "      <th>player_id</th>\n",
       "      <th></th>\n",
       "      <th></th>\n",
       "      <th></th>\n",
       "      <th></th>\n",
       "      <th></th>\n",
       "      <th></th>\n",
       "      <th></th>\n",
       "      <th></th>\n",
       "      <th></th>\n",
       "      <th></th>\n",
       "    </tr>\n",
       "  </thead>\n",
       "  <tbody>\n",
       "    <tr>\n",
       "      <th>3319</th>\n",
       "      <td>M_Özil</td>\n",
       "      <td>1609</td>\n",
       "      <td>MD</td>\n",
       "      <td>180.0</td>\n",
       "      <td>76.0</td>\n",
       "      <td>left</td>\n",
       "      <td>Germany</td>\n",
       "      <td>Germany</td>\n",
       "      <td>1988/10/15</td>\n",
       "      <td>England</td>\n",
       "    </tr>\n",
       "    <tr>\n",
       "      <th>3560</th>\n",
       "      <td>Nach_Monreal</td>\n",
       "      <td>1609</td>\n",
       "      <td>DF</td>\n",
       "      <td>179.0</td>\n",
       "      <td>72.0</td>\n",
       "      <td>left</td>\n",
       "      <td>Spain</td>\n",
       "      <td>Spain</td>\n",
       "      <td>1986/02/26</td>\n",
       "      <td>England</td>\n",
       "    </tr>\n",
       "    <tr>\n",
       "      <th>7855</th>\n",
       "      <td>L_Koscielny</td>\n",
       "      <td>1609</td>\n",
       "      <td>DF</td>\n",
       "      <td>186.0</td>\n",
       "      <td>75.0</td>\n",
       "      <td>right</td>\n",
       "      <td>Poland</td>\n",
       "      <td>France</td>\n",
       "      <td>1985/09/10</td>\n",
       "      <td>England</td>\n",
       "    </tr>\n",
       "    <tr>\n",
       "      <th>7870</th>\n",
       "      <td>A_Ramsey</td>\n",
       "      <td>1609</td>\n",
       "      <td>MD</td>\n",
       "      <td>183.0</td>\n",
       "      <td>76.0</td>\n",
       "      <td>right</td>\n",
       "      <td>Wales</td>\n",
       "      <td>Wales</td>\n",
       "      <td>1990/12/26</td>\n",
       "      <td>England</td>\n",
       "    </tr>\n",
       "    <tr>\n",
       "      <th>7882</th>\n",
       "      <td>P_Čech</td>\n",
       "      <td>1609</td>\n",
       "      <td>GK</td>\n",
       "      <td>196.0</td>\n",
       "      <td>90.0</td>\n",
       "      <td>left</td>\n",
       "      <td>Czec_Republic</td>\n",
       "      <td>Czec_Republic</td>\n",
       "      <td>1982/05/20</td>\n",
       "      <td>England</td>\n",
       "    </tr>\n",
       "    <tr>\n",
       "      <th>...</th>\n",
       "      <td>...</td>\n",
       "      <td>...</td>\n",
       "      <td>...</td>\n",
       "      <td>...</td>\n",
       "      <td>...</td>\n",
       "      <td>...</td>\n",
       "      <td>...</td>\n",
       "      <td>...</td>\n",
       "      <td>...</td>\n",
       "      <td>...</td>\n",
       "    </tr>\n",
       "    <tr>\n",
       "      <th>266885</th>\n",
       "      <td>M_Olunga</td>\n",
       "      <td>756</td>\n",
       "      <td>FW</td>\n",
       "      <td>188.0</td>\n",
       "      <td>80.0</td>\n",
       "      <td>left</td>\n",
       "      <td>Kenya</td>\n",
       "      <td>Kenya</td>\n",
       "      <td>1994/03/26</td>\n",
       "      <td>Spain</td>\n",
       "    </tr>\n",
       "    <tr>\n",
       "      <th>282448</th>\n",
       "      <td>Alei_García</td>\n",
       "      <td>756</td>\n",
       "      <td>MD</td>\n",
       "      <td>173.0</td>\n",
       "      <td>74.0</td>\n",
       "      <td>right</td>\n",
       "      <td>Spain</td>\n",
       "      <td>Spain</td>\n",
       "      <td>1997/06/28</td>\n",
       "      <td>Spain</td>\n",
       "    </tr>\n",
       "    <tr>\n",
       "      <th>366374</th>\n",
       "      <td>K_Soni</td>\n",
       "      <td>756</td>\n",
       "      <td>MD</td>\n",
       "      <td>182.0</td>\n",
       "      <td>77.0</td>\n",
       "      <td>left</td>\n",
       "      <td>Cameroon</td>\n",
       "      <td>Cameroon</td>\n",
       "      <td>1998/04/17</td>\n",
       "      <td>Spain</td>\n",
       "    </tr>\n",
       "    <tr>\n",
       "      <th>443324</th>\n",
       "      <td>Dougla_Luiz</td>\n",
       "      <td>756</td>\n",
       "      <td>MD</td>\n",
       "      <td>178.0</td>\n",
       "      <td>65.0</td>\n",
       "      <td>right</td>\n",
       "      <td>Brazil</td>\n",
       "      <td>Brazil</td>\n",
       "      <td>1998/05/09</td>\n",
       "      <td>Spain</td>\n",
       "    </tr>\n",
       "    <tr>\n",
       "      <th>508686</th>\n",
       "      <td>M_Lizak</td>\n",
       "      <td>756</td>\n",
       "      <td>GK</td>\n",
       "      <td>192.0</td>\n",
       "      <td>78.0</td>\n",
       "      <td>NaN</td>\n",
       "      <td>Poland</td>\n",
       "      <td>Poland</td>\n",
       "      <td>1996/07/15</td>\n",
       "      <td>Spain</td>\n",
       "    </tr>\n",
       "  </tbody>\n",
       "</table>\n",
       "<p>2439 rows × 10 columns</p>\n",
       "</div>"
      ],
      "text/plain": [
       "                   name  team_id role  height  weight   foot    nationality  \\\n",
       "player_id                                                                     \n",
       "3319             M_Özil     1609   MD   180.0    76.0   left        Germany   \n",
       "3560       Nach_Monreal     1609   DF   179.0    72.0   left          Spain   \n",
       "7855        L_Koscielny     1609   DF   186.0    75.0  right         Poland   \n",
       "7870           A_Ramsey     1609   MD   183.0    76.0  right          Wales   \n",
       "7882             P_Čech     1609   GK   196.0    90.0   left  Czec_Republic   \n",
       "...                 ...      ...  ...     ...     ...    ...            ...   \n",
       "266885         M_Olunga      756   FW   188.0    80.0   left          Kenya   \n",
       "282448      Alei_García      756   MD   173.0    74.0  right          Spain   \n",
       "366374           K_Soni      756   MD   182.0    77.0   left       Cameroon   \n",
       "443324      Dougla_Luiz      756   MD   178.0    65.0  right         Brazil   \n",
       "508686          M_Lizak      756   GK   192.0    78.0    NaN         Poland   \n",
       "\n",
       "              birth_area    birthday   league  \n",
       "player_id                                      \n",
       "3319             Germany  1988/10/15  England  \n",
       "3560               Spain  1986/02/26  England  \n",
       "7855              France  1985/09/10  England  \n",
       "7870               Wales  1990/12/26  England  \n",
       "7882       Czec_Republic  1982/05/20  England  \n",
       "...                  ...         ...      ...  \n",
       "266885             Kenya  1994/03/26    Spain  \n",
       "282448             Spain  1997/06/28    Spain  \n",
       "366374          Cameroon  1998/04/17    Spain  \n",
       "443324            Brazil  1998/05/09    Spain  \n",
       "508686            Poland  1996/07/15    Spain  \n",
       "\n",
       "[2439 rows x 10 columns]"
      ]
     },
     "execution_count": 35,
     "metadata": {},
     "output_type": "execute_result"
    }
   ],
   "source": [
    "df = pd.read_csv('./report/player_all.csv', header=0, index_col='player_id', na_values=0)\n",
    "df"
   ]
  },
  {
   "cell_type": "markdown",
   "metadata": {},
   "source": [
    "- `df`の先頭から2行を表示せよ"
   ]
  },
  {
   "cell_type": "code",
   "execution_count": 36,
   "metadata": {},
   "outputs": [
    {
     "data": {
      "text/html": [
       "<div>\n",
       "<style scoped>\n",
       "    .dataframe tbody tr th:only-of-type {\n",
       "        vertical-align: middle;\n",
       "    }\n",
       "\n",
       "    .dataframe tbody tr th {\n",
       "        vertical-align: top;\n",
       "    }\n",
       "\n",
       "    .dataframe thead th {\n",
       "        text-align: right;\n",
       "    }\n",
       "</style>\n",
       "<table border=\"1\" class=\"dataframe\">\n",
       "  <thead>\n",
       "    <tr style=\"text-align: right;\">\n",
       "      <th></th>\n",
       "      <th>name</th>\n",
       "      <th>team_id</th>\n",
       "      <th>role</th>\n",
       "      <th>height</th>\n",
       "      <th>weight</th>\n",
       "      <th>foot</th>\n",
       "      <th>nationality</th>\n",
       "      <th>birth_area</th>\n",
       "      <th>birthday</th>\n",
       "      <th>league</th>\n",
       "    </tr>\n",
       "    <tr>\n",
       "      <th>player_id</th>\n",
       "      <th></th>\n",
       "      <th></th>\n",
       "      <th></th>\n",
       "      <th></th>\n",
       "      <th></th>\n",
       "      <th></th>\n",
       "      <th></th>\n",
       "      <th></th>\n",
       "      <th></th>\n",
       "      <th></th>\n",
       "    </tr>\n",
       "  </thead>\n",
       "  <tbody>\n",
       "    <tr>\n",
       "      <th>3319</th>\n",
       "      <td>M_Özil</td>\n",
       "      <td>1609</td>\n",
       "      <td>MD</td>\n",
       "      <td>180.0</td>\n",
       "      <td>76.0</td>\n",
       "      <td>left</td>\n",
       "      <td>Germany</td>\n",
       "      <td>Germany</td>\n",
       "      <td>1988/10/15</td>\n",
       "      <td>England</td>\n",
       "    </tr>\n",
       "    <tr>\n",
       "      <th>3560</th>\n",
       "      <td>Nach_Monreal</td>\n",
       "      <td>1609</td>\n",
       "      <td>DF</td>\n",
       "      <td>179.0</td>\n",
       "      <td>72.0</td>\n",
       "      <td>left</td>\n",
       "      <td>Spain</td>\n",
       "      <td>Spain</td>\n",
       "      <td>1986/02/26</td>\n",
       "      <td>England</td>\n",
       "    </tr>\n",
       "  </tbody>\n",
       "</table>\n",
       "</div>"
      ],
      "text/plain": [
       "                   name  team_id role  height  weight  foot nationality  \\\n",
       "player_id                                                                 \n",
       "3319             M_Özil     1609   MD   180.0    76.0  left     Germany   \n",
       "3560       Nach_Monreal     1609   DF   179.0    72.0  left       Spain   \n",
       "\n",
       "          birth_area    birthday   league  \n",
       "player_id                                  \n",
       "3319         Germany  1988/10/15  England  \n",
       "3560           Spain  1986/02/26  England  "
      ]
     },
     "execution_count": 36,
     "metadata": {},
     "output_type": "execute_result"
    }
   ],
   "source": [
    "df.head(2)"
   ]
  },
  {
   "cell_type": "markdown",
   "metadata": {},
   "source": [
    "- 肥満度を表す指標としてBMIが知られている．BMIは身長と体重を用いて以下で定義される：\n",
    "$$\n",
    "    \\mathrm{BMI} = \\frac{体重 [kg]}{(身長 [m])^2}\n",
    "$$\n",
    "    - 身長（`height`）の単位をcmからmに変換せよ．\n",
    "    - 身長（`height`）と体重（`weight`）からBMIを求め，`BMI`列を作成せよ．\n",
    "    - BMIが18.5未満の選手を抽出せよ．<br>\n",
    "    ※ この選手はRekeem Jordan Harper選手である．<br>\n",
    "    ※ 日本肥満学会の基準では，BMIが18.5未満の場合を痩せ型と定義している．"
   ]
  },
  {
   "cell_type": "code",
   "execution_count": 38,
   "metadata": {},
   "outputs": [
    {
     "data": {
      "text/plain": [
       "player_id\n",
       "3319      1.80\n",
       "3560      1.79\n",
       "7855      1.86\n",
       "7870      1.83\n",
       "7882      1.96\n",
       "          ... \n",
       "266885    1.88\n",
       "282448    1.73\n",
       "366374    1.82\n",
       "443324    1.78\n",
       "508686    1.92\n",
       "Name: height, Length: 2439, dtype: float64"
      ]
     },
     "execution_count": 38,
     "metadata": {},
     "output_type": "execute_result"
    }
   ],
   "source": [
    "# 'height'の単位をcm->m\n",
    "df['height']/100"
   ]
  },
  {
   "cell_type": "code",
   "execution_count": 39,
   "metadata": {},
   "outputs": [],
   "source": [
    "# BMIを求めて'BMI'列を作成\n",
    "df['BMI'] = df['weight']/(df['height']/100)**2"
   ]
  },
  {
   "cell_type": "code",
   "execution_count": 41,
   "metadata": {},
   "outputs": [
    {
     "data": {
      "text/html": [
       "<div>\n",
       "<style scoped>\n",
       "    .dataframe tbody tr th:only-of-type {\n",
       "        vertical-align: middle;\n",
       "    }\n",
       "\n",
       "    .dataframe tbody tr th {\n",
       "        vertical-align: top;\n",
       "    }\n",
       "\n",
       "    .dataframe thead th {\n",
       "        text-align: right;\n",
       "    }\n",
       "</style>\n",
       "<table border=\"1\" class=\"dataframe\">\n",
       "  <thead>\n",
       "    <tr style=\"text-align: right;\">\n",
       "      <th></th>\n",
       "      <th>name</th>\n",
       "      <th>team_id</th>\n",
       "      <th>role</th>\n",
       "      <th>height</th>\n",
       "      <th>weight</th>\n",
       "      <th>foot</th>\n",
       "      <th>nationality</th>\n",
       "      <th>birth_area</th>\n",
       "      <th>birthday</th>\n",
       "      <th>league</th>\n",
       "      <th>BMI</th>\n",
       "    </tr>\n",
       "    <tr>\n",
       "      <th>player_id</th>\n",
       "      <th></th>\n",
       "      <th></th>\n",
       "      <th></th>\n",
       "      <th></th>\n",
       "      <th></th>\n",
       "      <th></th>\n",
       "      <th></th>\n",
       "      <th></th>\n",
       "      <th></th>\n",
       "      <th></th>\n",
       "      <th></th>\n",
       "    </tr>\n",
       "  </thead>\n",
       "  <tbody>\n",
       "    <tr>\n",
       "      <th>447254</th>\n",
       "      <td>R_Harper</td>\n",
       "      <td>1627</td>\n",
       "      <td>MD</td>\n",
       "      <td>188.0</td>\n",
       "      <td>64.0</td>\n",
       "      <td>right</td>\n",
       "      <td>England</td>\n",
       "      <td>England</td>\n",
       "      <td>2000/03/08</td>\n",
       "      <td>England</td>\n",
       "      <td>18.107741</td>\n",
       "    </tr>\n",
       "  </tbody>\n",
       "</table>\n",
       "</div>"
      ],
      "text/plain": [
       "               name  team_id role  height  weight   foot nationality  \\\n",
       "player_id                                                              \n",
       "447254     R_Harper     1627   MD   188.0    64.0  right     England   \n",
       "\n",
       "          birth_area    birthday   league        BMI  \n",
       "player_id                                             \n",
       "447254       England  2000/03/08  England  18.107741  "
      ]
     },
     "execution_count": 41,
     "metadata": {},
     "output_type": "execute_result"
    }
   ],
   "source": [
    "# BMIが18.5未満の選手を抽出\n",
    "df.loc[df['BMI'] < 18.5]"
   ]
  },
  {
   "cell_type": "markdown",
   "metadata": {},
   "source": [
    " - ポジション（`role`）ごとに，身長，体重，BMIの平均値を計算せよ．<br>"
   ]
  },
  {
   "cell_type": "code",
   "execution_count": 42,
   "metadata": {},
   "outputs": [
    {
     "data": {
      "text/plain": [
       "array(['MD', 'DF', 'GK', 'FW'], dtype=object)"
      ]
     },
     "execution_count": 42,
     "metadata": {},
     "output_type": "execute_result"
    }
   ],
   "source": [
    "df['role'].unique()"
   ]
  },
  {
   "cell_type": "code",
   "execution_count": 45,
   "metadata": {},
   "outputs": [
    {
     "data": {
      "text/plain": [
       "height    183.554612\n",
       "weight     77.388078\n",
       "BMI        22.951412\n",
       "dtype: float64"
      ]
     },
     "execution_count": 45,
     "metadata": {},
     "output_type": "execute_result"
    }
   ],
   "source": [
    "# ディフェンダー（'DF'）\n",
    "df.loc[df['role']=='DF', ['height', 'weight', 'BMI']].mean()"
   ]
  },
  {
   "cell_type": "code",
   "execution_count": 46,
   "metadata": {},
   "outputs": [
    {
     "data": {
      "text/plain": [
       "height    179.708038\n",
       "weight     73.494675\n",
       "BMI        22.744956\n",
       "dtype: float64"
      ]
     },
     "execution_count": 46,
     "metadata": {},
     "output_type": "execute_result"
    }
   ],
   "source": [
    "# ミッドフィルダー（'MF'）\n",
    "df.loc[df['role']=='MD', ['height', 'weight', 'BMI']].mean()"
   ]
  },
  {
   "cell_type": "code",
   "execution_count": 47,
   "metadata": {},
   "outputs": [
    {
     "data": {
      "text/plain": [
       "height    181.384929\n",
       "weight     75.699387\n",
       "BMI        22.983658\n",
       "dtype: float64"
      ]
     },
     "execution_count": 47,
     "metadata": {},
     "output_type": "execute_result"
    }
   ],
   "source": [
    "# フォワード（'FW'）\n",
    "df.loc[df['role']=='FW', ['height', 'weight', 'BMI']].mean()"
   ]
  },
  {
   "cell_type": "code",
   "execution_count": 48,
   "metadata": {},
   "outputs": [
    {
     "data": {
      "text/plain": [
       "height    189.635338\n",
       "weight     83.441509\n",
       "BMI        23.194241\n",
       "dtype: float64"
      ]
     },
     "execution_count": 48,
     "metadata": {},
     "output_type": "execute_result"
    }
   ],
   "source": [
    "# キーパー（'GK'）\n",
    "df.loc[df['role']=='GK', ['height', 'weight', 'BMI']].mean()"
   ]
  },
  {
   "cell_type": "markdown",
   "metadata": {},
   "source": [
    "※ groupbyを用いると１行で書ける"
   ]
  },
  {
   "cell_type": "code",
   "execution_count": 98,
   "metadata": {},
   "outputs": [
    {
     "data": {
      "text/html": [
       "<div>\n",
       "<style scoped>\n",
       "    .dataframe tbody tr th:only-of-type {\n",
       "        vertical-align: middle;\n",
       "    }\n",
       "\n",
       "    .dataframe tbody tr th {\n",
       "        vertical-align: top;\n",
       "    }\n",
       "\n",
       "    .dataframe thead th {\n",
       "        text-align: right;\n",
       "    }\n",
       "</style>\n",
       "<table border=\"1\" class=\"dataframe\">\n",
       "  <thead>\n",
       "    <tr style=\"text-align: right;\">\n",
       "      <th></th>\n",
       "      <th>team_id</th>\n",
       "      <th>height</th>\n",
       "      <th>weight</th>\n",
       "      <th>BMI</th>\n",
       "    </tr>\n",
       "    <tr>\n",
       "      <th>role</th>\n",
       "      <th></th>\n",
       "      <th></th>\n",
       "      <th></th>\n",
       "      <th></th>\n",
       "    </tr>\n",
       "  </thead>\n",
       "  <tbody>\n",
       "    <tr>\n",
       "      <th>DF</th>\n",
       "      <td>2540.050602</td>\n",
       "      <td>183.554612</td>\n",
       "      <td>77.388078</td>\n",
       "      <td>22.951412</td>\n",
       "    </tr>\n",
       "    <tr>\n",
       "      <th>FW</th>\n",
       "      <td>2664.815416</td>\n",
       "      <td>181.384929</td>\n",
       "      <td>75.699387</td>\n",
       "      <td>22.983658</td>\n",
       "    </tr>\n",
       "    <tr>\n",
       "      <th>GK</th>\n",
       "      <td>2689.432331</td>\n",
       "      <td>189.635338</td>\n",
       "      <td>83.441509</td>\n",
       "      <td>23.194241</td>\n",
       "    </tr>\n",
       "    <tr>\n",
       "      <th>MD</th>\n",
       "      <td>2584.602353</td>\n",
       "      <td>179.708038</td>\n",
       "      <td>73.494675</td>\n",
       "      <td>22.744956</td>\n",
       "    </tr>\n",
       "  </tbody>\n",
       "</table>\n",
       "</div>"
      ],
      "text/plain": [
       "          team_id      height     weight        BMI\n",
       "role                                               \n",
       "DF    2540.050602  183.554612  77.388078  22.951412\n",
       "FW    2664.815416  181.384929  75.699387  22.983658\n",
       "GK    2689.432331  189.635338  83.441509  23.194241\n",
       "MD    2584.602353  179.708038  73.494675  22.744956"
      ]
     },
     "execution_count": 98,
     "metadata": {},
     "output_type": "execute_result"
    }
   ],
   "source": [
    "df.groupby('role').mean()"
   ]
  },
  {
   "cell_type": "markdown",
   "metadata": {},
   "source": [
    "## Matplotlibに関する問題"
   ]
  },
  {
   "cell_type": "markdown",
   "metadata": {},
   "source": [
    "4.で用いた[player_all.csv](https://drive.google.com/uc?export=download&id=1E3ahjvdekZzCu63k1oECs_GOJTS294BP)について，次の問いに答えよ．"
   ]
  },
  {
   "cell_type": "markdown",
   "metadata": {},
   "source": [
    "**問題A：体重の箱ひげ図**\n",
    "- `England`リーグに所属する選手の体重のデータから欠損値を除外したデータは以下で取得できる．\n",
    "    ```python\n",
    "    data1 = df.loc[df['league']=='England', 'weight'].dropna()\n",
    "    ```\n",
    "- 全てのリーグに対して同様のデータを求め，以下のようなリストを作成せよ\n",
    "    ```python\n",
    "    D = [data1, data2, ...]\n",
    "    ```"
   ]
  },
  {
   "cell_type": "markdown",
   "metadata": {},
   "source": [
    "方法１"
   ]
  },
  {
   "cell_type": "code",
   "execution_count": 65,
   "metadata": {},
   "outputs": [],
   "source": [
    "data1 = df.loc[df['league']=='England', 'weight'].dropna()\n",
    "data2 = df.loc[df['league']=='France', 'weight'].dropna()\n",
    "data3 = df.loc[df['league']=='Germany', 'weight'].dropna()\n",
    "data4 = df.loc[df['league']=='Italy', 'weight'].dropna()\n",
    "data5 = df.loc[df['league']=='Spain', 'weight'].dropna()\n",
    "D = [data1, data2, data3, data3, data4, data5]"
   ]
  },
  {
   "cell_type": "markdown",
   "metadata": {},
   "source": [
    "方法２（for文）"
   ]
  },
  {
   "cell_type": "code",
   "execution_count": 77,
   "metadata": {},
   "outputs": [],
   "source": [
    "D = []\n",
    "for l in df['league'].unique():\n",
    "    D.append(df.loc[df['league']==l, 'weight'].dropna())"
   ]
  },
  {
   "cell_type": "markdown",
   "metadata": {},
   "source": [
    "方法３（リスト内包表記）"
   ]
  },
  {
   "cell_type": "code",
   "execution_count": 79,
   "metadata": {},
   "outputs": [],
   "source": [
    "D = [df.loc[df['league']==l, 'weight'].dropna() for l in df['league'].unique()]"
   ]
  },
  {
   "cell_type": "markdown",
   "metadata": {},
   "source": [
    "- リスト`D`を用いて，体重の箱ひげ図をリーグ別に作成せよ．また，グラフを分かりやすく装飾せよ．"
   ]
  },
  {
   "cell_type": "markdown",
   "metadata": {},
   "source": [
    "※ 講義資料のコードをほぼそのまま利用できます"
   ]
  },
  {
   "cell_type": "code",
   "execution_count": 97,
   "metadata": {},
   "outputs": [
    {
     "data": {
      "text/plain": [
       "Text(0, 0.5, '体重 [kg]')"
      ]
     },
     "execution_count": 97,
     "metadata": {},
     "output_type": "execute_result"
    },
    {
     "data": {
      "image/png": "[encoded data removed]",
      "text/plain": [
       "<Figure size 500x300 with 1 Axes>"
      ]
     },
     "metadata": {
      "filenames": {
       "image/png": "/Users/narizuka/work/document/lecture/rissho/sport_programming/_build/jupyter_execute/notebook/2022_report_answer_81_1.png"
      }
     },
     "output_type": "display_data"
    }
   ],
   "source": [
    "# 箱ひげ図のプロット\n",
    "fig, ax = plt.subplots(figsize=(5, 3))\n",
    "ret = ax.boxplot(D, whis=1.5, widths=0.5, vert=1)\n",
    "\n",
    "# 横軸の目盛りラベル\n",
    "ax.set_xticklabels(df['league'].unique())\n",
    "\n",
    "# 軸のラベル\n",
    "ax.set_xlabel('リーグ', fontsize=12)\n",
    "ax.set_ylabel('体重 [kg]', fontsize=12)"
   ]
  },
  {
   "cell_type": "markdown",
   "metadata": {},
   "source": [
    "**問題B：身長のヒストグラム**\n",
    "- `England`リーグに所属する選手の身長のヒストグラムを以下の条件で作成せよ：\n",
    "    - 横軸のラベル：`height [cm]`\n",
    "    - 縦軸のラベル：`Frequency`\n",
    "    - 階級の数：10\n",
    "    - その他の装飾は自由"
   ]
  },
  {
   "cell_type": "markdown",
   "metadata": {},
   "source": [
    "※ 講義資料のコードをほぼそのまま利用できます"
   ]
  },
  {
   "cell_type": "code",
   "execution_count": 99,
   "metadata": {},
   "outputs": [
    {
     "data": {
      "text/plain": [
       "(150.0, 210.0)"
      ]
     },
     "execution_count": 99,
     "metadata": {},
     "output_type": "execute_result"
    },
    {
     "data": {
      "image/png": "[encoded data removed]",
      "text/plain": [
       "<Figure size 400x300 with 1 Axes>"
      ]
     },
     "metadata": {
      "filenames": {
       "image/png": "/Users/narizuka/work/document/lecture/rissho/sport_programming/_build/jupyter_execute/notebook/2022_report_answer_84_1.png"
      }
     },
     "output_type": "display_data"
    }
   ],
   "source": [
    "H_e = df.loc[df['league']=='England', 'height'].dropna()\n",
    "\n",
    "fig, ax = plt.subplots(figsize=(4, 3))\n",
    "ret = ax.hist(H_e, \n",
    "              bins=10,\n",
    "              histtype='bar',  # ヒストグラムのスタイルを棒グラフに\n",
    "              color='c',       # バーの色をシアンに\n",
    "              edgecolor='k',   # バーの枠線の色を黒に\n",
    "              linewidth=0.5,     # バーの枠線の太さを1に\n",
    "              linestyle='--',  # 枠線を点線に\n",
    "              )\n",
    "\n",
    "# 軸のラベル\n",
    "ax.set_xlabel('height [cm]', fontsize=12)\n",
    "ax.set_ylabel('Frequency', fontsize=12)\n",
    "ax.set_xlim(150, 210)"
   ]
  },
  {
   "cell_type": "markdown",
   "metadata": {},
   "source": [
    "## 実践編に関する課題"
   ]
  },
  {
   "cell_type": "markdown",
   "metadata": {},
   "source": [
    "授業内で扱ったデータをPythonを用いて自由に解析し，解析結果をまとめよ．\n",
    "- 解析内容は些細なことでも良い\n",
    "- 既に知られていることでも良い"
   ]
  }
 ],
 "metadata": {
  "kernelspec": {
   "display_name": "Python 3",
   "language": "python",
   "name": "python3"
  },
  "language_info": {
   "codemirror_mode": {
    "name": "ipython",
    "version": 3
   },
   "file_extension": ".py",
   "mimetype": "text/x-python",
   "name": "python",
   "nbconvert_exporter": "python",
   "pygments_lexer": "ipython3",
   "version": "3.8.6"
  }
 },
 "nbformat": 4,
 "nbformat_minor": 4
}