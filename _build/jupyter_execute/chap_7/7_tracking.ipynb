{
 "cells": [
  {
   "cell_type": "code",
   "execution_count": 4,
   "metadata": {},
   "outputs": [
    {
     "data": {
      "text/plain": [
       "'%.3f'"
      ]
     },
     "execution_count": 4,
     "metadata": {},
     "output_type": "execute_result"
    }
   ],
   "source": [
    "# （必須）モジュールのインポート\n",
    "import os\n",
    "import numpy as np\n",
    "import pandas as pd\n",
    "import matplotlib.pyplot as plt\n",
    "\n",
    "# 表示設定\n",
    "np.set_printoptions(suppress=True, precision=3)\n",
    "pd.set_option('display.precision', 3)    # 小数点以下の表示桁\n",
    "pd.set_option('display.max_rows', 50)   # 表示する行数の上限\n",
    "pd.set_option('display.max_columns', 15)  # 表示する列数の上限\n",
    "%precision 3"
   ]
  },
  {
   "attachments": {},
   "cell_type": "markdown",
   "metadata": {},
   "source": [
    "\n",
    "# トラッキングデータの解析"
   ]
  },
  {
   "attachments": {},
   "cell_type": "markdown",
   "metadata": {},
   "source": [
    "## トラッキングデータ"
   ]
  },
  {
   "attachments": {},
   "cell_type": "markdown",
   "metadata": {},
   "source": [
    "### Pettersenデータセット\n",
    "\n",
    "Pettersenデータセットはサッカーのトラッキングデータをまとめたデータセットである．\n",
    "試合数は3試合と少ないが，2024年時点で一般公開されている数少ないサッカートラッキングデータである．"
   ]
  },
  {
   "attachments": {},
   "cell_type": "markdown",
   "metadata": {},
   "source": [
    "### データセットの内容"
   ]
  },
  {
   "attachments": {},
   "cell_type": "markdown",
   "metadata": {},
   "source": [
    "本データセットに含まれるトラッキングデータはノルウェーのAlfheimスタジアムにおいて取得されている．\n",
    "対象となる試合はAlfheimスタジアムを本拠地とするTromsø ILの3試合である．\n",
    "データセットには試合映像とGPSデバイスによって取得された位置座標のデータ（トラッキングデータ）が含まれている．\n",
    "ただし，トラッキングデータの取得対象はTromsø ILの選手のみである．\n",
    "また，選手のプライバシー保護のため，トラッキングデータから選手の個人情報は除去されている．\n",
    "\n",
    "トラッキングデータの位置座標は以下のような座標系において，1秒間に20フレーム（20fps）の解像度で取得されている．\n",
    "\n",
    "- 原点：フィールドの左下\n",
    "- $x$軸：長軸方向（$0 \\le x \\le 105$）\n",
    "- $y$軸：短軸方向（$0 \\le x \\le 68$）\n",
    "- 単位はm"
   ]
  },
  {
   "attachments": {},
   "cell_type": "markdown",
   "metadata": {},
   "source": [
    "## データの前処理"
   ]
  },
  {
   "attachments": {},
   "cell_type": "markdown",
   "metadata": {},
   "source": [
    "ここでは，Tromsø IL vs Strømsgodsetのトラッキングデータを解析対象とする．\n",
    "まずはトラッキングデータのcsvファイルを以下からダウンロードし，カレントディレクトリに移動しておく：\n",
    "\n",
    "- 前半のデータ：[2013-11-03_tromso_stromsgodset_first.csv](https://datasets.simula.no/downloads/alfheim/2013-11-03/zxy/2013-11-03_tromso_stromsgodset_first.csv)\n",
    "- 後半のデータ：[2013-11-03_tromso_stromsgodset_second.csv](https://datasets.simula.no/downloads/alfheim/2013-11-03/zxy/2013-11-03_tromso_stromsgodset_second.csv)\n",
    "\n",
    "なお，以下では前半の解析例だけを示す．"
   ]
  },
  {
   "attachments": {},
   "cell_type": "markdown",
   "metadata": {},
   "source": [
    "### データの加工・整形"
   ]
  },
  {
   "attachments": {},
   "cell_type": "markdown",
   "metadata": {},
   "source": [
    "**データの読み込み**"
   ]
  },
  {
   "attachments": {},
   "cell_type": "markdown",
   "metadata": {},
   "source": [
    "ダウンロードしたcsvファイルを`df`という名前でDataFrameに読み込む．\n",
    "その際に列ラベル（`columns`）を指定しておく．"
   ]
  },
  {
   "cell_type": "code",
   "execution_count": 2,
   "metadata": {
    "tags": [
     "scroll-output"
    ]
   },
   "outputs": [
    {
     "data": {
      "text/html": [
       "<div>\n",
       "<style scoped>\n",
       "    .dataframe tbody tr th:only-of-type {\n",
       "        vertical-align: middle;\n",
       "    }\n",
       "\n",
       "    .dataframe tbody tr th {\n",
       "        vertical-align: top;\n",
       "    }\n",
       "\n",
       "    .dataframe thead th {\n",
       "        text-align: right;\n",
       "    }\n",
       "</style>\n",
       "<table border=\"1\" class=\"dataframe\">\n",
       "  <thead>\n",
       "    <tr style=\"text-align: right;\">\n",
       "      <th></th>\n",
       "      <th>time</th>\n",
       "      <th>id</th>\n",
       "      <th>x</th>\n",
       "      <th>y</th>\n",
       "      <th>heading</th>\n",
       "      <th>direction</th>\n",
       "      <th>energy</th>\n",
       "      <th>speed</th>\n",
       "      <th>total_distance</th>\n",
       "    </tr>\n",
       "  </thead>\n",
       "  <tbody>\n",
       "    <tr>\n",
       "      <th>0</th>\n",
       "      <td>2013-11-03 18:01:09</td>\n",
       "      <td>2</td>\n",
       "      <td>26.573</td>\n",
       "      <td>29.436</td>\n",
       "      <td>0.800</td>\n",
       "      <td>0.824</td>\n",
       "      <td>150.662</td>\n",
       "      <td>0.968</td>\n",
       "      <td>255.584</td>\n",
       "    </tr>\n",
       "    <tr>\n",
       "      <th>1</th>\n",
       "      <td>2013-11-03 18:01:09</td>\n",
       "      <td>5</td>\n",
       "      <td>35.550</td>\n",
       "      <td>30.268</td>\n",
       "      <td>1.158</td>\n",
       "      <td>-0.175</td>\n",
       "      <td>364.309</td>\n",
       "      <td>0.624</td>\n",
       "      <td>297.861</td>\n",
       "    </tr>\n",
       "  </tbody>\n",
       "</table>\n",
       "</div>"
      ],
      "text/plain": [
       "                  time  id       x       y  heading  direction   energy  \\\n",
       "0  2013-11-03 18:01:09   2  26.573  29.436    0.800      0.824  150.662   \n",
       "1  2013-11-03 18:01:09   5  35.550  30.268    1.158     -0.175  364.309   \n",
       "\n",
       "   speed  total_distance  \n",
       "0  0.968         255.584  \n",
       "1  0.624         297.861  "
      ]
     },
     "execution_count": 2,
     "metadata": {},
     "output_type": "execute_result"
    }
   ],
   "source": [
    "df = pd.read_csv('./2013-11-03_tromso_stromsgodset_first.csv',\\\n",
    "                 header=None, encoding='utf-8',\\\n",
    "                 names=['time','id','x','y','heading','direction','energy','speed','total_distance'])\n",
    "df.head(2)"
   ]
  },
  {
   "attachments": {},
   "cell_type": "markdown",
   "metadata": {},
   "source": [
    "**時刻・選手ID・位置座標の抽出**"
   ]
  },
  {
   "attachments": {},
   "cell_type": "markdown",
   "metadata": {},
   "source": [
    "読み込んだデータには向き（'heading', 'direction'）や速さ（'speed'）などの列も含まれているが，以下では時刻（'time'），選手ID（'id'），位置座標（'x', 'y'）の情報だけを用いるので，これらを抽出する．"
   ]
  },
  {
   "cell_type": "code",
   "execution_count": 3,
   "metadata": {
    "tags": [
     "scroll-output"
    ]
   },
   "outputs": [
    {
     "data": {
      "text/html": [
       "<div>\n",
       "<style scoped>\n",
       "    .dataframe tbody tr th:only-of-type {\n",
       "        vertical-align: middle;\n",
       "    }\n",
       "\n",
       "    .dataframe tbody tr th {\n",
       "        vertical-align: top;\n",
       "    }\n",
       "\n",
       "    .dataframe thead th {\n",
       "        text-align: right;\n",
       "    }\n",
       "</style>\n",
       "<table border=\"1\" class=\"dataframe\">\n",
       "  <thead>\n",
       "    <tr style=\"text-align: right;\">\n",
       "      <th></th>\n",
       "      <th>time</th>\n",
       "      <th>id</th>\n",
       "      <th>x</th>\n",
       "      <th>y</th>\n",
       "    </tr>\n",
       "  </thead>\n",
       "  <tbody>\n",
       "    <tr>\n",
       "      <th>0</th>\n",
       "      <td>2013-11-03 18:01:09</td>\n",
       "      <td>2</td>\n",
       "      <td>26.573</td>\n",
       "      <td>29.436</td>\n",
       "    </tr>\n",
       "    <tr>\n",
       "      <th>1</th>\n",
       "      <td>2013-11-03 18:01:09</td>\n",
       "      <td>5</td>\n",
       "      <td>35.550</td>\n",
       "      <td>30.268</td>\n",
       "    </tr>\n",
       "  </tbody>\n",
       "</table>\n",
       "</div>"
      ],
      "text/plain": [
       "                  time  id       x       y\n",
       "0  2013-11-03 18:01:09   2  26.573  29.436\n",
       "1  2013-11-03 18:01:09   5  35.550  30.268"
      ]
     },
     "execution_count": 3,
     "metadata": {},
     "output_type": "execute_result"
    }
   ],
   "source": [
    "df = df[['time', 'id', 'x', 'y']]\n",
    "df.head(2)"
   ]
  },
  {
   "attachments": {},
   "cell_type": "markdown",
   "metadata": {},
   "source": [
    "**DataFrameの並び替え**"
   ]
  },
  {
   "attachments": {},
   "cell_type": "markdown",
   "metadata": {},
   "source": [
    "次に，`sort_values`メソッドを用いて，'time'列，'id'列をキーにして`df`をソートする．これにより`df`の行方向の並びが時間順となり，同一時刻の場合は選手ID順となる．"
   ]
  },
  {
   "cell_type": "code",
   "execution_count": 4,
   "metadata": {},
   "outputs": [
    {
     "data": {
      "text/html": [
       "<div>\n",
       "<style scoped>\n",
       "    .dataframe tbody tr th:only-of-type {\n",
       "        vertical-align: middle;\n",
       "    }\n",
       "\n",
       "    .dataframe tbody tr th {\n",
       "        vertical-align: top;\n",
       "    }\n",
       "\n",
       "    .dataframe thead th {\n",
       "        text-align: right;\n",
       "    }\n",
       "</style>\n",
       "<table border=\"1\" class=\"dataframe\">\n",
       "  <thead>\n",
       "    <tr style=\"text-align: right;\">\n",
       "      <th></th>\n",
       "      <th>time</th>\n",
       "      <th>id</th>\n",
       "      <th>x</th>\n",
       "      <th>y</th>\n",
       "    </tr>\n",
       "  </thead>\n",
       "  <tbody>\n",
       "    <tr>\n",
       "      <th>0</th>\n",
       "      <td>2013-11-03 18:01:09</td>\n",
       "      <td>1</td>\n",
       "      <td>53.138</td>\n",
       "      <td>44.062</td>\n",
       "    </tr>\n",
       "    <tr>\n",
       "      <th>1</th>\n",
       "      <td>2013-11-03 18:01:09</td>\n",
       "      <td>2</td>\n",
       "      <td>26.573</td>\n",
       "      <td>29.436</td>\n",
       "    </tr>\n",
       "  </tbody>\n",
       "</table>\n",
       "</div>"
      ],
      "text/plain": [
       "                  time  id       x       y\n",
       "0  2013-11-03 18:01:09   1  53.138  44.062\n",
       "1  2013-11-03 18:01:09   2  26.573  29.436"
      ]
     },
     "execution_count": 4,
     "metadata": {},
     "output_type": "execute_result"
    }
   ],
   "source": [
    "# time列, id列でソート\n",
    "df = df.sort_values(['time', 'id']).reset_index(drop=1)\n",
    "df.head(2)"
   ]
  },
  {
   "attachments": {},
   "cell_type": "markdown",
   "metadata": {},
   "source": [
    "**日時の変換**"
   ]
  },
  {
   "attachments": {},
   "cell_type": "markdown",
   "metadata": {},
   "source": [
    "'time'列には試合が行われた年月日および時刻が文字列として保存されている．\n",
    "このうち，前半の年月日の情報は不要なので，`str.split`メソッドを用いて年月日と時刻を切り離す．"
   ]
  },
  {
   "cell_type": "code",
   "execution_count": 5,
   "metadata": {},
   "outputs": [
    {
     "data": {
      "text/html": [
       "<div>\n",
       "<style scoped>\n",
       "    .dataframe tbody tr th:only-of-type {\n",
       "        vertical-align: middle;\n",
       "    }\n",
       "\n",
       "    .dataframe tbody tr th {\n",
       "        vertical-align: top;\n",
       "    }\n",
       "\n",
       "    .dataframe thead th {\n",
       "        text-align: right;\n",
       "    }\n",
       "</style>\n",
       "<table border=\"1\" class=\"dataframe\">\n",
       "  <thead>\n",
       "    <tr style=\"text-align: right;\">\n",
       "      <th></th>\n",
       "      <th>0</th>\n",
       "      <th>1</th>\n",
       "    </tr>\n",
       "  </thead>\n",
       "  <tbody>\n",
       "    <tr>\n",
       "      <th>0</th>\n",
       "      <td>2013-11-03</td>\n",
       "      <td>18:01:09</td>\n",
       "    </tr>\n",
       "    <tr>\n",
       "      <th>1</th>\n",
       "      <td>2013-11-03</td>\n",
       "      <td>18:01:09</td>\n",
       "    </tr>\n",
       "  </tbody>\n",
       "</table>\n",
       "</div>"
      ],
      "text/plain": [
       "            0         1\n",
       "0  2013-11-03  18:01:09\n",
       "1  2013-11-03  18:01:09"
      ]
     },
     "execution_count": 5,
     "metadata": {},
     "output_type": "execute_result"
    }
   ],
   "source": [
    "temp = df['time'].str.split(' ', expand=True)\n",
    "temp.head(2)"
   ]
  },
  {
   "attachments": {},
   "cell_type": "markdown",
   "metadata": {},
   "source": [
    "時刻の情報は`18:01:09`という形式の文字列である．\n",
    "これを以下の手順に従い試合開始からの経過時間に変換する：\n",
    "- 時・分・秒を`str.split`メソッドによって切り離す\n",
    "- 分と秒の情報だけを取り出し，単位を秒に変換する\n",
    "- `df`の第0行からの経過時間に変換し，`df`の'time'列に追加する"
   ]
  },
  {
   "cell_type": "code",
   "execution_count": 6,
   "metadata": {},
   "outputs": [
    {
     "data": {
      "text/html": [
       "<div>\n",
       "<style scoped>\n",
       "    .dataframe tbody tr th:only-of-type {\n",
       "        vertical-align: middle;\n",
       "    }\n",
       "\n",
       "    .dataframe tbody tr th {\n",
       "        vertical-align: top;\n",
       "    }\n",
       "\n",
       "    .dataframe thead th {\n",
       "        text-align: right;\n",
       "    }\n",
       "</style>\n",
       "<table border=\"1\" class=\"dataframe\">\n",
       "  <thead>\n",
       "    <tr style=\"text-align: right;\">\n",
       "      <th></th>\n",
       "      <th>time</th>\n",
       "      <th>id</th>\n",
       "      <th>x</th>\n",
       "      <th>y</th>\n",
       "    </tr>\n",
       "  </thead>\n",
       "  <tbody>\n",
       "    <tr>\n",
       "      <th>0</th>\n",
       "      <td>0.0</td>\n",
       "      <td>1</td>\n",
       "      <td>53.138</td>\n",
       "      <td>44.062</td>\n",
       "    </tr>\n",
       "    <tr>\n",
       "      <th>1</th>\n",
       "      <td>0.0</td>\n",
       "      <td>2</td>\n",
       "      <td>26.573</td>\n",
       "      <td>29.436</td>\n",
       "    </tr>\n",
       "  </tbody>\n",
       "</table>\n",
       "</div>"
      ],
      "text/plain": [
       "   time  id       x       y\n",
       "0   0.0   1  53.138  44.062\n",
       "1   0.0   2  26.573  29.436"
      ]
     },
     "execution_count": 6,
     "metadata": {},
     "output_type": "execute_result"
    }
   ],
   "source": [
    "# 経過時間（秒）に変換\n",
    "times = temp[1].str.split(':', expand=True).astype(float)\n",
    "sec = times[1]*60 + times[2]\n",
    "df['time'] = sec - sec.iloc[0]\n",
    "\n",
    "df.head(2)"
   ]
  },
  {
   "attachments": {},
   "cell_type": "markdown",
   "metadata": {},
   "source": [
    "**選手別の座標に変換**"
   ]
  },
  {
   "attachments": {},
   "cell_type": "markdown",
   "metadata": {},
   "source": [
    "各選手の $x$ 座標と $y$ 座標を格納した以下のようなデータフレーム（`df_x`，`df_y`）を作成する：\n",
    "\n",
    "- 行ラベル（`index`）：フレーム番号\n",
    "    - 1行=1フレーム=0.05秒\n",
    "- 列ラベル（`columns`）：選手ID\n",
    "- $(i, j)$ 成分：ある時刻における特定の選手の $x, y$ 座標"
   ]
  },
  {
   "cell_type": "code",
   "execution_count": 7,
   "metadata": {},
   "outputs": [],
   "source": [
    "U = df['id'].unique()  # 選手ID\n",
    "T = np.arange(0, df['time'].max()+0.05, 0.05)  # 0.05秒刻みの経過時間\n",
    "df_x = pd.DataFrame({'t': T})  # x座標\n",
    "df_y = pd.DataFrame({'t': T})  # y座標\n",
    "\n",
    "for u in U:\n",
    "    df_u = df.loc[df['id']==u]  # 選手uだけ抽出\n",
    "    df_u.index = (df_u['time']/0.05).round().astype(int)  # インデックスをフレーム番号に\n",
    "\n",
    "    df_x[u], df_y[u] = np.nan, np.nan\n",
    "    df_x.loc[df_u.index, u] = df_u['x']\n",
    "    df_y.loc[df_u.index, u] = df_u['y']\n",
    "\n",
    "df_x, df_y = df_x[U], df_y[U]  # 't'列を除去"
   ]
  },
  {
   "cell_type": "code",
   "execution_count": 8,
   "metadata": {
    "tags": [
     "scroll-output"
    ]
   },
   "outputs": [
    {
     "data": {
      "text/html": [
       "<div>\n",
       "<style scoped>\n",
       "    .dataframe tbody tr th:only-of-type {\n",
       "        vertical-align: middle;\n",
       "    }\n",
       "\n",
       "    .dataframe tbody tr th {\n",
       "        vertical-align: top;\n",
       "    }\n",
       "\n",
       "    .dataframe thead th {\n",
       "        text-align: right;\n",
       "    }\n",
       "</style>\n",
       "<table border=\"1\" class=\"dataframe\">\n",
       "  <thead>\n",
       "    <tr style=\"text-align: right;\">\n",
       "      <th></th>\n",
       "      <th>1</th>\n",
       "      <th>2</th>\n",
       "      <th>5</th>\n",
       "      <th>7</th>\n",
       "      <th>8</th>\n",
       "      <th>9</th>\n",
       "      <th>10</th>\n",
       "      <th>12</th>\n",
       "      <th>13</th>\n",
       "      <th>14</th>\n",
       "      <th>15</th>\n",
       "      <th>6</th>\n",
       "      <th>11</th>\n",
       "      <th>3</th>\n",
       "    </tr>\n",
       "  </thead>\n",
       "  <tbody>\n",
       "    <tr>\n",
       "      <th>0</th>\n",
       "      <td>53.138</td>\n",
       "      <td>26.573</td>\n",
       "      <td>35.550</td>\n",
       "      <td>41.586</td>\n",
       "      <td>28.507</td>\n",
       "      <td>32.254</td>\n",
       "      <td>45.247</td>\n",
       "      <td>74.59</td>\n",
       "      <td>21.029</td>\n",
       "      <td>28.530</td>\n",
       "      <td>50.084</td>\n",
       "      <td>NaN</td>\n",
       "      <td>NaN</td>\n",
       "      <td>NaN</td>\n",
       "    </tr>\n",
       "    <tr>\n",
       "      <th>1</th>\n",
       "      <td>53.138</td>\n",
       "      <td>26.609</td>\n",
       "      <td>35.545</td>\n",
       "      <td>41.572</td>\n",
       "      <td>28.537</td>\n",
       "      <td>32.254</td>\n",
       "      <td>45.247</td>\n",
       "      <td>74.59</td>\n",
       "      <td>21.070</td>\n",
       "      <td>28.528</td>\n",
       "      <td>50.105</td>\n",
       "      <td>NaN</td>\n",
       "      <td>NaN</td>\n",
       "      <td>NaN</td>\n",
       "    </tr>\n",
       "    <tr>\n",
       "      <th>2</th>\n",
       "      <td>53.138</td>\n",
       "      <td>26.645</td>\n",
       "      <td>35.539</td>\n",
       "      <td>41.557</td>\n",
       "      <td>28.568</td>\n",
       "      <td>32.254</td>\n",
       "      <td>45.247</td>\n",
       "      <td>74.59</td>\n",
       "      <td>21.114</td>\n",
       "      <td>28.525</td>\n",
       "      <td>50.134</td>\n",
       "      <td>NaN</td>\n",
       "      <td>NaN</td>\n",
       "      <td>NaN</td>\n",
       "    </tr>\n",
       "    <tr>\n",
       "      <th>3</th>\n",
       "      <td>53.138</td>\n",
       "      <td>26.682</td>\n",
       "      <td>35.534</td>\n",
       "      <td>41.543</td>\n",
       "      <td>28.596</td>\n",
       "      <td>32.254</td>\n",
       "      <td>45.247</td>\n",
       "      <td>74.59</td>\n",
       "      <td>21.161</td>\n",
       "      <td>28.521</td>\n",
       "      <td>50.169</td>\n",
       "      <td>NaN</td>\n",
       "      <td>NaN</td>\n",
       "      <td>NaN</td>\n",
       "    </tr>\n",
       "    <tr>\n",
       "      <th>4</th>\n",
       "      <td>53.138</td>\n",
       "      <td>26.719</td>\n",
       "      <td>35.528</td>\n",
       "      <td>41.529</td>\n",
       "      <td>28.624</td>\n",
       "      <td>32.254</td>\n",
       "      <td>45.247</td>\n",
       "      <td>74.59</td>\n",
       "      <td>21.209</td>\n",
       "      <td>28.516</td>\n",
       "      <td>50.210</td>\n",
       "      <td>NaN</td>\n",
       "      <td>NaN</td>\n",
       "      <td>NaN</td>\n",
       "    </tr>\n",
       "  </tbody>\n",
       "</table>\n",
       "</div>"
      ],
      "text/plain": [
       "        1       2       5       7       8       9      10     12      13  \\\n",
       "0  53.138  26.573  35.550  41.586  28.507  32.254  45.247  74.59  21.029   \n",
       "1  53.138  26.609  35.545  41.572  28.537  32.254  45.247  74.59  21.070   \n",
       "2  53.138  26.645  35.539  41.557  28.568  32.254  45.247  74.59  21.114   \n",
       "3  53.138  26.682  35.534  41.543  28.596  32.254  45.247  74.59  21.161   \n",
       "4  53.138  26.719  35.528  41.529  28.624  32.254  45.247  74.59  21.209   \n",
       "\n",
       "       14      15   6  11   3  \n",
       "0  28.530  50.084 NaN NaN NaN  \n",
       "1  28.528  50.105 NaN NaN NaN  \n",
       "2  28.525  50.134 NaN NaN NaN  \n",
       "3  28.521  50.169 NaN NaN NaN  \n",
       "4  28.516  50.210 NaN NaN NaN  "
      ]
     },
     "execution_count": 8,
     "metadata": {},
     "output_type": "execute_result"
    }
   ],
   "source": [
    "df_x.head()"
   ]
  },
  {
   "cell_type": "code",
   "execution_count": 9,
   "metadata": {
    "tags": [
     "scroll-output"
    ]
   },
   "outputs": [
    {
     "data": {
      "text/html": [
       "<div>\n",
       "<style scoped>\n",
       "    .dataframe tbody tr th:only-of-type {\n",
       "        vertical-align: middle;\n",
       "    }\n",
       "\n",
       "    .dataframe tbody tr th {\n",
       "        vertical-align: top;\n",
       "    }\n",
       "\n",
       "    .dataframe thead th {\n",
       "        text-align: right;\n",
       "    }\n",
       "</style>\n",
       "<table border=\"1\" class=\"dataframe\">\n",
       "  <thead>\n",
       "    <tr style=\"text-align: right;\">\n",
       "      <th></th>\n",
       "      <th>1</th>\n",
       "      <th>2</th>\n",
       "      <th>5</th>\n",
       "      <th>7</th>\n",
       "      <th>8</th>\n",
       "      <th>9</th>\n",
       "      <th>10</th>\n",
       "      <th>12</th>\n",
       "      <th>13</th>\n",
       "      <th>14</th>\n",
       "      <th>15</th>\n",
       "      <th>6</th>\n",
       "      <th>11</th>\n",
       "      <th>3</th>\n",
       "    </tr>\n",
       "  </thead>\n",
       "  <tbody>\n",
       "    <tr>\n",
       "      <th>0</th>\n",
       "      <td>44.062</td>\n",
       "      <td>29.436</td>\n",
       "      <td>30.268</td>\n",
       "      <td>38.675</td>\n",
       "      <td>39.612</td>\n",
       "      <td>12.724</td>\n",
       "      <td>14.462</td>\n",
       "      <td>71.048</td>\n",
       "      <td>17.624</td>\n",
       "      <td>17.597</td>\n",
       "      <td>25.779</td>\n",
       "      <td>NaN</td>\n",
       "      <td>NaN</td>\n",
       "      <td>NaN</td>\n",
       "    </tr>\n",
       "    <tr>\n",
       "      <th>1</th>\n",
       "      <td>44.062</td>\n",
       "      <td>29.467</td>\n",
       "      <td>30.299</td>\n",
       "      <td>38.663</td>\n",
       "      <td>39.568</td>\n",
       "      <td>12.724</td>\n",
       "      <td>14.462</td>\n",
       "      <td>71.048</td>\n",
       "      <td>17.623</td>\n",
       "      <td>17.561</td>\n",
       "      <td>25.722</td>\n",
       "      <td>NaN</td>\n",
       "      <td>NaN</td>\n",
       "      <td>NaN</td>\n",
       "    </tr>\n",
       "    <tr>\n",
       "      <th>2</th>\n",
       "      <td>44.062</td>\n",
       "      <td>29.495</td>\n",
       "      <td>30.331</td>\n",
       "      <td>38.651</td>\n",
       "      <td>39.525</td>\n",
       "      <td>12.724</td>\n",
       "      <td>14.462</td>\n",
       "      <td>71.048</td>\n",
       "      <td>17.616</td>\n",
       "      <td>17.532</td>\n",
       "      <td>25.665</td>\n",
       "      <td>NaN</td>\n",
       "      <td>NaN</td>\n",
       "      <td>NaN</td>\n",
       "    </tr>\n",
       "    <tr>\n",
       "      <th>3</th>\n",
       "      <td>44.062</td>\n",
       "      <td>29.520</td>\n",
       "      <td>30.364</td>\n",
       "      <td>38.640</td>\n",
       "      <td>39.486</td>\n",
       "      <td>12.724</td>\n",
       "      <td>14.462</td>\n",
       "      <td>71.048</td>\n",
       "      <td>17.603</td>\n",
       "      <td>17.510</td>\n",
       "      <td>25.607</td>\n",
       "      <td>NaN</td>\n",
       "      <td>NaN</td>\n",
       "      <td>NaN</td>\n",
       "    </tr>\n",
       "    <tr>\n",
       "      <th>4</th>\n",
       "      <td>44.062</td>\n",
       "      <td>29.541</td>\n",
       "      <td>30.397</td>\n",
       "      <td>38.629</td>\n",
       "      <td>39.449</td>\n",
       "      <td>12.724</td>\n",
       "      <td>14.462</td>\n",
       "      <td>71.048</td>\n",
       "      <td>17.584</td>\n",
       "      <td>17.495</td>\n",
       "      <td>25.549</td>\n",
       "      <td>NaN</td>\n",
       "      <td>NaN</td>\n",
       "      <td>NaN</td>\n",
       "    </tr>\n",
       "  </tbody>\n",
       "</table>\n",
       "</div>"
      ],
      "text/plain": [
       "        1       2       5       7       8       9      10      12      13  \\\n",
       "0  44.062  29.436  30.268  38.675  39.612  12.724  14.462  71.048  17.624   \n",
       "1  44.062  29.467  30.299  38.663  39.568  12.724  14.462  71.048  17.623   \n",
       "2  44.062  29.495  30.331  38.651  39.525  12.724  14.462  71.048  17.616   \n",
       "3  44.062  29.520  30.364  38.640  39.486  12.724  14.462  71.048  17.603   \n",
       "4  44.062  29.541  30.397  38.629  39.449  12.724  14.462  71.048  17.584   \n",
       "\n",
       "       14      15   6  11   3  \n",
       "0  17.597  25.779 NaN NaN NaN  \n",
       "1  17.561  25.722 NaN NaN NaN  \n",
       "2  17.532  25.665 NaN NaN NaN  \n",
       "3  17.510  25.607 NaN NaN NaN  \n",
       "4  17.495  25.549 NaN NaN NaN  "
      ]
     },
     "execution_count": 9,
     "metadata": {},
     "output_type": "execute_result"
    }
   ],
   "source": [
    "df_y.head()"
   ]
  },
  {
   "attachments": {},
   "cell_type": "markdown",
   "metadata": {},
   "source": [
    "### 不要な選手の除去"
   ]
  },
  {
   "attachments": {},
   "cell_type": "markdown",
   "metadata": {},
   "source": [
    "`df_x`，`df_y`には以下の選手の座標が含まれている："
   ]
  },
  {
   "cell_type": "code",
   "execution_count": 10,
   "metadata": {},
   "outputs": [
    {
     "data": {
      "text/plain": [
       "Index([1, 2, 5, 7, 8, 9, 10, 12, 13, 14, 15, 6, 11, 3], dtype='object')"
      ]
     },
     "execution_count": 10,
     "metadata": {},
     "output_type": "execute_result"
    }
   ],
   "source": [
    "df_x.columns"
   ]
  },
  {
   "attachments": {},
   "cell_type": "markdown",
   "metadata": {},
   "source": [
    "この中には，実際に試合に出場した選手の他に審判などの位置座標も含まれている．\n",
    "これら不要なデータを特定するため，選手IDごとに位置座標をプロットしてみる．"
   ]
  },
  {
   "cell_type": "code",
   "execution_count": 11,
   "metadata": {},
   "outputs": [
    {
     "data": {
      "image/png": "[encoded data removed]",
      "text/plain": [
       "<Figure size 200x200 with 1 Axes>"
      ]
     },
     "metadata": {
      "filenames": {
       "image/png": "/Users/narizuka/work/document/lecture/rissho/sport_programming/book/_build/jupyter_execute/chap_7/7_tracking_32_0.png"
      }
     },
     "output_type": "display_data"
    }
   ],
   "source": [
    "u = 6\n",
    "fig, ax = plt.subplots(figsize=(2, 2))\n",
    "ax.plot(df_x[u], df_y[u], '.', ms=0.1)\n",
    "ax.set_xlim(0, 120); ax.set_ylim(0, 80)\n",
    "ax.set_aspect('equal')"
   ]
  },
  {
   "attachments": {},
   "cell_type": "markdown",
   "metadata": {},
   "source": [
    "位置座標をプロットした結果を踏まえると，以下の10人が試合に出場した選手と考えられる：\n",
    "```\n",
    "1, 2, 5, 7, 8, 9, 10, 13, 14, 15\n",
    "```\n",
    "`df_x`，`df_y`からこれらの選手のデータだけ抽出する．"
   ]
  },
  {
   "cell_type": "code",
   "execution_count": 12,
   "metadata": {},
   "outputs": [],
   "source": [
    "df_x2 = df_x[[1, 2, 5, 7, 8, 9, 10, 13, 14, 15]]\n",
    "df_y2 = df_y[[1, 2, 5, 7, 8, 9, 10, 13, 14, 15]]"
   ]
  },
  {
   "cell_type": "code",
   "execution_count": 13,
   "metadata": {
    "tags": [
     "scroll-output"
    ]
   },
   "outputs": [
    {
     "data": {
      "text/html": [
       "<div>\n",
       "<style scoped>\n",
       "    .dataframe tbody tr th:only-of-type {\n",
       "        vertical-align: middle;\n",
       "    }\n",
       "\n",
       "    .dataframe tbody tr th {\n",
       "        vertical-align: top;\n",
       "    }\n",
       "\n",
       "    .dataframe thead th {\n",
       "        text-align: right;\n",
       "    }\n",
       "</style>\n",
       "<table border=\"1\" class=\"dataframe\">\n",
       "  <thead>\n",
       "    <tr style=\"text-align: right;\">\n",
       "      <th></th>\n",
       "      <th>1</th>\n",
       "      <th>2</th>\n",
       "      <th>5</th>\n",
       "      <th>7</th>\n",
       "      <th>8</th>\n",
       "      <th>9</th>\n",
       "      <th>10</th>\n",
       "      <th>13</th>\n",
       "      <th>14</th>\n",
       "      <th>15</th>\n",
       "    </tr>\n",
       "  </thead>\n",
       "  <tbody>\n",
       "    <tr>\n",
       "      <th>0</th>\n",
       "      <td>53.138</td>\n",
       "      <td>26.573</td>\n",
       "      <td>35.550</td>\n",
       "      <td>41.586</td>\n",
       "      <td>28.507</td>\n",
       "      <td>32.254</td>\n",
       "      <td>45.247</td>\n",
       "      <td>21.029</td>\n",
       "      <td>28.530</td>\n",
       "      <td>50.084</td>\n",
       "    </tr>\n",
       "    <tr>\n",
       "      <th>1</th>\n",
       "      <td>53.138</td>\n",
       "      <td>26.609</td>\n",
       "      <td>35.545</td>\n",
       "      <td>41.572</td>\n",
       "      <td>28.537</td>\n",
       "      <td>32.254</td>\n",
       "      <td>45.247</td>\n",
       "      <td>21.070</td>\n",
       "      <td>28.528</td>\n",
       "      <td>50.105</td>\n",
       "    </tr>\n",
       "  </tbody>\n",
       "</table>\n",
       "</div>"
      ],
      "text/plain": [
       "        1       2       5       7       8       9      10      13      14  \\\n",
       "0  53.138  26.573  35.550  41.586  28.507  32.254  45.247  21.029  28.530   \n",
       "1  53.138  26.609  35.545  41.572  28.537  32.254  45.247  21.070  28.528   \n",
       "\n",
       "       15  \n",
       "0  50.084  \n",
       "1  50.105  "
      ]
     },
     "execution_count": 13,
     "metadata": {},
     "output_type": "execute_result"
    }
   ],
   "source": [
    "df_x2.head(2)"
   ]
  },
  {
   "cell_type": "code",
   "execution_count": 14,
   "metadata": {
    "tags": [
     "scroll-output"
    ]
   },
   "outputs": [
    {
     "data": {
      "text/html": [
       "<div>\n",
       "<style scoped>\n",
       "    .dataframe tbody tr th:only-of-type {\n",
       "        vertical-align: middle;\n",
       "    }\n",
       "\n",
       "    .dataframe tbody tr th {\n",
       "        vertical-align: top;\n",
       "    }\n",
       "\n",
       "    .dataframe thead th {\n",
       "        text-align: right;\n",
       "    }\n",
       "</style>\n",
       "<table border=\"1\" class=\"dataframe\">\n",
       "  <thead>\n",
       "    <tr style=\"text-align: right;\">\n",
       "      <th></th>\n",
       "      <th>1</th>\n",
       "      <th>2</th>\n",
       "      <th>5</th>\n",
       "      <th>7</th>\n",
       "      <th>8</th>\n",
       "      <th>9</th>\n",
       "      <th>10</th>\n",
       "      <th>13</th>\n",
       "      <th>14</th>\n",
       "      <th>15</th>\n",
       "    </tr>\n",
       "  </thead>\n",
       "  <tbody>\n",
       "    <tr>\n",
       "      <th>0</th>\n",
       "      <td>44.062</td>\n",
       "      <td>29.436</td>\n",
       "      <td>30.268</td>\n",
       "      <td>38.675</td>\n",
       "      <td>39.612</td>\n",
       "      <td>12.724</td>\n",
       "      <td>14.462</td>\n",
       "      <td>17.624</td>\n",
       "      <td>17.597</td>\n",
       "      <td>25.779</td>\n",
       "    </tr>\n",
       "    <tr>\n",
       "      <th>1</th>\n",
       "      <td>44.062</td>\n",
       "      <td>29.467</td>\n",
       "      <td>30.299</td>\n",
       "      <td>38.663</td>\n",
       "      <td>39.568</td>\n",
       "      <td>12.724</td>\n",
       "      <td>14.462</td>\n",
       "      <td>17.623</td>\n",
       "      <td>17.561</td>\n",
       "      <td>25.722</td>\n",
       "    </tr>\n",
       "  </tbody>\n",
       "</table>\n",
       "</div>"
      ],
      "text/plain": [
       "        1       2       5       7       8       9      10      13      14  \\\n",
       "0  44.062  29.436  30.268  38.675  39.612  12.724  14.462  17.624  17.597   \n",
       "1  44.062  29.467  30.299  38.663  39.568  12.724  14.462  17.623  17.561   \n",
       "\n",
       "       15  \n",
       "0  25.779  \n",
       "1  25.722  "
      ]
     },
     "execution_count": 14,
     "metadata": {},
     "output_type": "execute_result"
    }
   ],
   "source": [
    "df_y2.head(2)"
   ]
  },
  {
   "attachments": {},
   "cell_type": "markdown",
   "metadata": {},
   "source": [
    "### データの保存"
   ]
  },
  {
   "cell_type": "code",
   "execution_count": 15,
   "metadata": {},
   "outputs": [],
   "source": [
    "df_x2.to_csv('./x_1st.csv', header=True, index=True, encoding='utf-8')\n",
    "df_y2.to_csv('./y_1st.csv', header=True, index=True, encoding='utf-8')"
   ]
  },
  {
   "attachments": {},
   "cell_type": "markdown",
   "metadata": {},
   "source": [
    "### 発展問題\n",
    "\n",
    "- トラッキングデータの前処理を行う関数を作成せよ\n",
    "- この関数を用いて後半のデータや他の試合のデータの前処理を行え"
   ]
  },
  {
   "attachments": {},
   "cell_type": "markdown",
   "metadata": {},
   "source": [
    "## トラッキングデータ解析の基本"
   ]
  },
  {
   "attachments": {},
   "cell_type": "markdown",
   "metadata": {},
   "source": [
    "### データの読み込み"
   ]
  },
  {
   "attachments": {},
   "cell_type": "markdown",
   "metadata": {},
   "source": [
    "改めて，作成したデータを`X`，`Y`というDataFrameに読み込む．"
   ]
  },
  {
   "cell_type": "code",
   "execution_count": 19,
   "metadata": {},
   "outputs": [],
   "source": [
    "X = pd.read_csv('./x_1st.csv', encoding='utf-8', index_col=0)\n",
    "Y = pd.read_csv('./y_1st.csv', encoding='utf-8', index_col=0)"
   ]
  },
  {
   "attachments": {},
   "cell_type": "markdown",
   "metadata": {},
   "source": [
    "### データの扱い方"
   ]
  },
  {
   "attachments": {},
   "cell_type": "markdown",
   "metadata": {},
   "source": [
    "**データの構造**"
   ]
  },
  {
   "attachments": {},
   "cell_type": "markdown",
   "metadata": {},
   "source": [
    "データフレーム`X`，`Y`は以下のような構造になっている：\n",
    "- 行ラベル（`index`）：フレーム番号\n",
    "    - 1行=1フレーム=0.05秒\n",
    "- 列ラベル（`columns`）：選手ID\n",
    "- $(i, j)$ 成分：ある時刻における特定の選手の$x, y$座標"
   ]
  },
  {
   "cell_type": "code",
   "execution_count": 17,
   "metadata": {
    "tags": [
     "scroll-output"
    ]
   },
   "outputs": [
    {
     "data": {
      "text/html": [
       "<div>\n",
       "<style scoped>\n",
       "    .dataframe tbody tr th:only-of-type {\n",
       "        vertical-align: middle;\n",
       "    }\n",
       "\n",
       "    .dataframe tbody tr th {\n",
       "        vertical-align: top;\n",
       "    }\n",
       "\n",
       "    .dataframe thead th {\n",
       "        text-align: right;\n",
       "    }\n",
       "</style>\n",
       "<table border=\"1\" class=\"dataframe\">\n",
       "  <thead>\n",
       "    <tr style=\"text-align: right;\">\n",
       "      <th></th>\n",
       "      <th>1</th>\n",
       "      <th>2</th>\n",
       "      <th>5</th>\n",
       "      <th>7</th>\n",
       "      <th>8</th>\n",
       "      <th>9</th>\n",
       "      <th>10</th>\n",
       "      <th>13</th>\n",
       "      <th>14</th>\n",
       "      <th>15</th>\n",
       "    </tr>\n",
       "  </thead>\n",
       "  <tbody>\n",
       "    <tr>\n",
       "      <th>0</th>\n",
       "      <td>53.138</td>\n",
       "      <td>26.573</td>\n",
       "      <td>35.550</td>\n",
       "      <td>41.586</td>\n",
       "      <td>28.507</td>\n",
       "      <td>32.254</td>\n",
       "      <td>45.247</td>\n",
       "      <td>21.029</td>\n",
       "      <td>28.530</td>\n",
       "      <td>50.084</td>\n",
       "    </tr>\n",
       "    <tr>\n",
       "      <th>1</th>\n",
       "      <td>53.138</td>\n",
       "      <td>26.609</td>\n",
       "      <td>35.545</td>\n",
       "      <td>41.572</td>\n",
       "      <td>28.537</td>\n",
       "      <td>32.254</td>\n",
       "      <td>45.247</td>\n",
       "      <td>21.070</td>\n",
       "      <td>28.528</td>\n",
       "      <td>50.105</td>\n",
       "    </tr>\n",
       "  </tbody>\n",
       "</table>\n",
       "</div>"
      ],
      "text/plain": [
       "        1       2       5       7       8       9      10      13      14  \\\n",
       "0  53.138  26.573  35.550  41.586  28.507  32.254  45.247  21.029  28.530   \n",
       "1  53.138  26.609  35.545  41.572  28.537  32.254  45.247  21.070  28.528   \n",
       "\n",
       "       15  \n",
       "0  50.084  \n",
       "1  50.105  "
      ]
     },
     "execution_count": 17,
     "metadata": {},
     "output_type": "execute_result"
    }
   ],
   "source": [
    "X.head(2)"
   ]
  },
  {
   "cell_type": "code",
   "execution_count": 20,
   "metadata": {
    "tags": [
     "scroll-output"
    ]
   },
   "outputs": [
    {
     "data": {
      "text/html": [
       "<div>\n",
       "<style scoped>\n",
       "    .dataframe tbody tr th:only-of-type {\n",
       "        vertical-align: middle;\n",
       "    }\n",
       "\n",
       "    .dataframe tbody tr th {\n",
       "        vertical-align: top;\n",
       "    }\n",
       "\n",
       "    .dataframe thead th {\n",
       "        text-align: right;\n",
       "    }\n",
       "</style>\n",
       "<table border=\"1\" class=\"dataframe\">\n",
       "  <thead>\n",
       "    <tr style=\"text-align: right;\">\n",
       "      <th></th>\n",
       "      <th>1</th>\n",
       "      <th>2</th>\n",
       "      <th>5</th>\n",
       "      <th>7</th>\n",
       "      <th>8</th>\n",
       "      <th>9</th>\n",
       "      <th>10</th>\n",
       "      <th>13</th>\n",
       "      <th>14</th>\n",
       "      <th>15</th>\n",
       "    </tr>\n",
       "  </thead>\n",
       "  <tbody>\n",
       "    <tr>\n",
       "      <th>0</th>\n",
       "      <td>44.062</td>\n",
       "      <td>29.436</td>\n",
       "      <td>30.268</td>\n",
       "      <td>38.675</td>\n",
       "      <td>39.612</td>\n",
       "      <td>12.724</td>\n",
       "      <td>14.462</td>\n",
       "      <td>17.624</td>\n",
       "      <td>17.597</td>\n",
       "      <td>25.779</td>\n",
       "    </tr>\n",
       "    <tr>\n",
       "      <th>1</th>\n",
       "      <td>44.062</td>\n",
       "      <td>29.467</td>\n",
       "      <td>30.299</td>\n",
       "      <td>38.663</td>\n",
       "      <td>39.568</td>\n",
       "      <td>12.724</td>\n",
       "      <td>14.462</td>\n",
       "      <td>17.623</td>\n",
       "      <td>17.561</td>\n",
       "      <td>25.722</td>\n",
       "    </tr>\n",
       "  </tbody>\n",
       "</table>\n",
       "</div>"
      ],
      "text/plain": [
       "        1       2       5       7       8       9      10      13      14  \\\n",
       "0  44.062  29.436  30.268  38.675  39.612  12.724  14.462  17.624  17.597   \n",
       "1  44.062  29.467  30.299  38.663  39.568  12.724  14.462  17.623  17.561   \n",
       "\n",
       "       15  \n",
       "0  25.779  \n",
       "1  25.722  "
      ]
     },
     "execution_count": 20,
     "metadata": {},
     "output_type": "execute_result"
    }
   ],
   "source": [
    "Y.head(2)"
   ]
  },
  {
   "attachments": {},
   "cell_type": "markdown",
   "metadata": {},
   "source": [
    "**特定の時間帯の抽出**"
   ]
  },
  {
   "attachments": {},
   "cell_type": "markdown",
   "metadata": {},
   "source": [
    "`X`，`Y`の行ラベル（`index`）はフレーム番号に等しい．\n",
    "1フレーム=0.05秒なので，試合開始 $t$ 秒後の座標は$20\\times t$ 行目を参照すれば良い．\n",
    "よって，`X`，`Y`から`loc`属性を用いて条件付き抽出すれば，特定の時刻のデータだけ抜き出せる．\n",
    "例えば，10秒〜20秒の時間帯だけ抽出するには，行ラベル（`index`）が200から400までの行を条件付き抽出すればよい．"
   ]
  },
  {
   "cell_type": "code",
   "execution_count": 21,
   "metadata": {
    "tags": [
     "scroll-output"
    ]
   },
   "outputs": [
    {
     "data": {
      "text/html": [
       "<div>\n",
       "<style scoped>\n",
       "    .dataframe tbody tr th:only-of-type {\n",
       "        vertical-align: middle;\n",
       "    }\n",
       "\n",
       "    .dataframe tbody tr th {\n",
       "        vertical-align: top;\n",
       "    }\n",
       "\n",
       "    .dataframe thead th {\n",
       "        text-align: right;\n",
       "    }\n",
       "</style>\n",
       "<table border=\"1\" class=\"dataframe\">\n",
       "  <thead>\n",
       "    <tr style=\"text-align: right;\">\n",
       "      <th></th>\n",
       "      <th>1</th>\n",
       "      <th>2</th>\n",
       "      <th>5</th>\n",
       "      <th>7</th>\n",
       "      <th>8</th>\n",
       "      <th>9</th>\n",
       "      <th>10</th>\n",
       "      <th>13</th>\n",
       "      <th>14</th>\n",
       "      <th>15</th>\n",
       "    </tr>\n",
       "  </thead>\n",
       "  <tbody>\n",
       "    <tr>\n",
       "      <th>200</th>\n",
       "      <td>54.117</td>\n",
       "      <td>24.796</td>\n",
       "      <td>37.753</td>\n",
       "      <td>41.883</td>\n",
       "      <td>27.185</td>\n",
       "      <td>32.940</td>\n",
       "      <td>43.509</td>\n",
       "      <td>21.114</td>\n",
       "      <td>27.968</td>\n",
       "      <td>53.166</td>\n",
       "    </tr>\n",
       "    <tr>\n",
       "      <th>201</th>\n",
       "      <td>54.274</td>\n",
       "      <td>24.816</td>\n",
       "      <td>37.778</td>\n",
       "      <td>41.877</td>\n",
       "      <td>27.184</td>\n",
       "      <td>32.941</td>\n",
       "      <td>43.544</td>\n",
       "      <td>21.073</td>\n",
       "      <td>27.968</td>\n",
       "      <td>53.314</td>\n",
       "    </tr>\n",
       "    <tr>\n",
       "      <th>202</th>\n",
       "      <td>54.434</td>\n",
       "      <td>24.837</td>\n",
       "      <td>37.806</td>\n",
       "      <td>41.872</td>\n",
       "      <td>27.185</td>\n",
       "      <td>32.942</td>\n",
       "      <td>43.581</td>\n",
       "      <td>21.042</td>\n",
       "      <td>27.942</td>\n",
       "      <td>53.467</td>\n",
       "    </tr>\n",
       "    <tr>\n",
       "      <th>203</th>\n",
       "      <td>54.598</td>\n",
       "      <td>24.858</td>\n",
       "      <td>37.835</td>\n",
       "      <td>NaN</td>\n",
       "      <td>27.187</td>\n",
       "      <td>32.942</td>\n",
       "      <td>43.621</td>\n",
       "      <td>21.021</td>\n",
       "      <td>27.790</td>\n",
       "      <td>53.626</td>\n",
       "    </tr>\n",
       "    <tr>\n",
       "      <th>204</th>\n",
       "      <td>54.765</td>\n",
       "      <td>24.879</td>\n",
       "      <td>37.866</td>\n",
       "      <td>41.866</td>\n",
       "      <td>27.190</td>\n",
       "      <td>32.941</td>\n",
       "      <td>43.661</td>\n",
       "      <td>21.009</td>\n",
       "      <td>27.794</td>\n",
       "      <td>53.791</td>\n",
       "    </tr>\n",
       "    <tr>\n",
       "      <th>...</th>\n",
       "      <td>...</td>\n",
       "      <td>...</td>\n",
       "      <td>...</td>\n",
       "      <td>...</td>\n",
       "      <td>...</td>\n",
       "      <td>...</td>\n",
       "      <td>...</td>\n",
       "      <td>...</td>\n",
       "      <td>...</td>\n",
       "      <td>...</td>\n",
       "    </tr>\n",
       "    <tr>\n",
       "      <th>396</th>\n",
       "      <td>52.730</td>\n",
       "      <td>13.496</td>\n",
       "      <td>27.312</td>\n",
       "      <td>26.922</td>\n",
       "      <td>12.059</td>\n",
       "      <td>19.891</td>\n",
       "      <td>33.062</td>\n",
       "      <td>14.049</td>\n",
       "      <td>22.357</td>\n",
       "      <td>55.207</td>\n",
       "    </tr>\n",
       "    <tr>\n",
       "      <th>397</th>\n",
       "      <td>52.852</td>\n",
       "      <td>13.704</td>\n",
       "      <td>27.404</td>\n",
       "      <td>27.127</td>\n",
       "      <td>12.069</td>\n",
       "      <td>20.135</td>\n",
       "      <td>33.228</td>\n",
       "      <td>14.204</td>\n",
       "      <td>22.507</td>\n",
       "      <td>55.274</td>\n",
       "    </tr>\n",
       "    <tr>\n",
       "      <th>398</th>\n",
       "      <td>52.978</td>\n",
       "      <td>13.916</td>\n",
       "      <td>27.493</td>\n",
       "      <td>27.336</td>\n",
       "      <td>12.084</td>\n",
       "      <td>20.381</td>\n",
       "      <td>33.396</td>\n",
       "      <td>14.359</td>\n",
       "      <td>22.656</td>\n",
       "      <td>55.339</td>\n",
       "    </tr>\n",
       "    <tr>\n",
       "      <th>399</th>\n",
       "      <td>53.105</td>\n",
       "      <td>14.133</td>\n",
       "      <td>27.580</td>\n",
       "      <td>27.549</td>\n",
       "      <td>12.103</td>\n",
       "      <td>20.629</td>\n",
       "      <td>33.565</td>\n",
       "      <td>14.513</td>\n",
       "      <td>22.804</td>\n",
       "      <td>55.402</td>\n",
       "    </tr>\n",
       "    <tr>\n",
       "      <th>400</th>\n",
       "      <td>53.236</td>\n",
       "      <td>14.355</td>\n",
       "      <td>27.666</td>\n",
       "      <td>NaN</td>\n",
       "      <td>12.127</td>\n",
       "      <td>20.877</td>\n",
       "      <td>33.736</td>\n",
       "      <td>14.666</td>\n",
       "      <td>22.952</td>\n",
       "      <td>55.463</td>\n",
       "    </tr>\n",
       "  </tbody>\n",
       "</table>\n",
       "<p>201 rows × 10 columns</p>\n",
       "</div>"
      ],
      "text/plain": [
       "          1       2       5       7       8       9      10      13      14  \\\n",
       "200  54.117  24.796  37.753  41.883  27.185  32.940  43.509  21.114  27.968   \n",
       "201  54.274  24.816  37.778  41.877  27.184  32.941  43.544  21.073  27.968   \n",
       "202  54.434  24.837  37.806  41.872  27.185  32.942  43.581  21.042  27.942   \n",
       "203  54.598  24.858  37.835     NaN  27.187  32.942  43.621  21.021  27.790   \n",
       "204  54.765  24.879  37.866  41.866  27.190  32.941  43.661  21.009  27.794   \n",
       "..      ...     ...     ...     ...     ...     ...     ...     ...     ...   \n",
       "396  52.730  13.496  27.312  26.922  12.059  19.891  33.062  14.049  22.357   \n",
       "397  52.852  13.704  27.404  27.127  12.069  20.135  33.228  14.204  22.507   \n",
       "398  52.978  13.916  27.493  27.336  12.084  20.381  33.396  14.359  22.656   \n",
       "399  53.105  14.133  27.580  27.549  12.103  20.629  33.565  14.513  22.804   \n",
       "400  53.236  14.355  27.666     NaN  12.127  20.877  33.736  14.666  22.952   \n",
       "\n",
       "         15  \n",
       "200  53.166  \n",
       "201  53.314  \n",
       "202  53.467  \n",
       "203  53.626  \n",
       "204  53.791  \n",
       "..      ...  \n",
       "396  55.207  \n",
       "397  55.274  \n",
       "398  55.339  \n",
       "399  55.402  \n",
       "400  55.463  \n",
       "\n",
       "[201 rows x 10 columns]"
      ]
     },
     "execution_count": 21,
     "metadata": {},
     "output_type": "execute_result"
    }
   ],
   "source": [
    "X.loc[200:400]"
   ]
  },
  {
   "attachments": {},
   "cell_type": "markdown",
   "metadata": {},
   "source": [
    "フレーム番号を秒単位に直すのが面倒な場合は，以下のように`index`を秒単位に変換した`T`というSeriesを作っておき，これを用いて条件付き抽出すればよい．"
   ]
  },
  {
   "cell_type": "code",
   "execution_count": 22,
   "metadata": {
    "tags": [
     "scroll-output"
    ]
   },
   "outputs": [
    {
     "data": {
      "text/html": [
       "<div>\n",
       "<style scoped>\n",
       "    .dataframe tbody tr th:only-of-type {\n",
       "        vertical-align: middle;\n",
       "    }\n",
       "\n",
       "    .dataframe tbody tr th {\n",
       "        vertical-align: top;\n",
       "    }\n",
       "\n",
       "    .dataframe thead th {\n",
       "        text-align: right;\n",
       "    }\n",
       "</style>\n",
       "<table border=\"1\" class=\"dataframe\">\n",
       "  <thead>\n",
       "    <tr style=\"text-align: right;\">\n",
       "      <th></th>\n",
       "      <th>1</th>\n",
       "      <th>2</th>\n",
       "      <th>5</th>\n",
       "      <th>7</th>\n",
       "      <th>8</th>\n",
       "      <th>9</th>\n",
       "      <th>10</th>\n",
       "      <th>13</th>\n",
       "      <th>14</th>\n",
       "      <th>15</th>\n",
       "    </tr>\n",
       "  </thead>\n",
       "  <tbody>\n",
       "    <tr>\n",
       "      <th>200</th>\n",
       "      <td>54.117</td>\n",
       "      <td>24.796</td>\n",
       "      <td>37.753</td>\n",
       "      <td>41.883</td>\n",
       "      <td>27.185</td>\n",
       "      <td>32.940</td>\n",
       "      <td>43.509</td>\n",
       "      <td>21.114</td>\n",
       "      <td>27.968</td>\n",
       "      <td>53.166</td>\n",
       "    </tr>\n",
       "    <tr>\n",
       "      <th>201</th>\n",
       "      <td>54.274</td>\n",
       "      <td>24.816</td>\n",
       "      <td>37.778</td>\n",
       "      <td>41.877</td>\n",
       "      <td>27.184</td>\n",
       "      <td>32.941</td>\n",
       "      <td>43.544</td>\n",
       "      <td>21.073</td>\n",
       "      <td>27.968</td>\n",
       "      <td>53.314</td>\n",
       "    </tr>\n",
       "    <tr>\n",
       "      <th>202</th>\n",
       "      <td>54.434</td>\n",
       "      <td>24.837</td>\n",
       "      <td>37.806</td>\n",
       "      <td>41.872</td>\n",
       "      <td>27.185</td>\n",
       "      <td>32.942</td>\n",
       "      <td>43.581</td>\n",
       "      <td>21.042</td>\n",
       "      <td>27.942</td>\n",
       "      <td>53.467</td>\n",
       "    </tr>\n",
       "    <tr>\n",
       "      <th>203</th>\n",
       "      <td>54.598</td>\n",
       "      <td>24.858</td>\n",
       "      <td>37.835</td>\n",
       "      <td>NaN</td>\n",
       "      <td>27.187</td>\n",
       "      <td>32.942</td>\n",
       "      <td>43.621</td>\n",
       "      <td>21.021</td>\n",
       "      <td>27.790</td>\n",
       "      <td>53.626</td>\n",
       "    </tr>\n",
       "    <tr>\n",
       "      <th>204</th>\n",
       "      <td>54.765</td>\n",
       "      <td>24.879</td>\n",
       "      <td>37.866</td>\n",
       "      <td>41.866</td>\n",
       "      <td>27.190</td>\n",
       "      <td>32.941</td>\n",
       "      <td>43.661</td>\n",
       "      <td>21.009</td>\n",
       "      <td>27.794</td>\n",
       "      <td>53.791</td>\n",
       "    </tr>\n",
       "    <tr>\n",
       "      <th>...</th>\n",
       "      <td>...</td>\n",
       "      <td>...</td>\n",
       "      <td>...</td>\n",
       "      <td>...</td>\n",
       "      <td>...</td>\n",
       "      <td>...</td>\n",
       "      <td>...</td>\n",
       "      <td>...</td>\n",
       "      <td>...</td>\n",
       "      <td>...</td>\n",
       "    </tr>\n",
       "    <tr>\n",
       "      <th>396</th>\n",
       "      <td>52.730</td>\n",
       "      <td>13.496</td>\n",
       "      <td>27.312</td>\n",
       "      <td>26.922</td>\n",
       "      <td>12.059</td>\n",
       "      <td>19.891</td>\n",
       "      <td>33.062</td>\n",
       "      <td>14.049</td>\n",
       "      <td>22.357</td>\n",
       "      <td>55.207</td>\n",
       "    </tr>\n",
       "    <tr>\n",
       "      <th>397</th>\n",
       "      <td>52.852</td>\n",
       "      <td>13.704</td>\n",
       "      <td>27.404</td>\n",
       "      <td>27.127</td>\n",
       "      <td>12.069</td>\n",
       "      <td>20.135</td>\n",
       "      <td>33.228</td>\n",
       "      <td>14.204</td>\n",
       "      <td>22.507</td>\n",
       "      <td>55.274</td>\n",
       "    </tr>\n",
       "    <tr>\n",
       "      <th>398</th>\n",
       "      <td>52.978</td>\n",
       "      <td>13.916</td>\n",
       "      <td>27.493</td>\n",
       "      <td>27.336</td>\n",
       "      <td>12.084</td>\n",
       "      <td>20.381</td>\n",
       "      <td>33.396</td>\n",
       "      <td>14.359</td>\n",
       "      <td>22.656</td>\n",
       "      <td>55.339</td>\n",
       "    </tr>\n",
       "    <tr>\n",
       "      <th>399</th>\n",
       "      <td>53.105</td>\n",
       "      <td>14.133</td>\n",
       "      <td>27.580</td>\n",
       "      <td>27.549</td>\n",
       "      <td>12.103</td>\n",
       "      <td>20.629</td>\n",
       "      <td>33.565</td>\n",
       "      <td>14.513</td>\n",
       "      <td>22.804</td>\n",
       "      <td>55.402</td>\n",
       "    </tr>\n",
       "    <tr>\n",
       "      <th>400</th>\n",
       "      <td>53.236</td>\n",
       "      <td>14.355</td>\n",
       "      <td>27.666</td>\n",
       "      <td>NaN</td>\n",
       "      <td>12.127</td>\n",
       "      <td>20.877</td>\n",
       "      <td>33.736</td>\n",
       "      <td>14.666</td>\n",
       "      <td>22.952</td>\n",
       "      <td>55.463</td>\n",
       "    </tr>\n",
       "  </tbody>\n",
       "</table>\n",
       "<p>201 rows × 10 columns</p>\n",
       "</div>"
      ],
      "text/plain": [
       "          1       2       5       7       8       9      10      13      14  \\\n",
       "200  54.117  24.796  37.753  41.883  27.185  32.940  43.509  21.114  27.968   \n",
       "201  54.274  24.816  37.778  41.877  27.184  32.941  43.544  21.073  27.968   \n",
       "202  54.434  24.837  37.806  41.872  27.185  32.942  43.581  21.042  27.942   \n",
       "203  54.598  24.858  37.835     NaN  27.187  32.942  43.621  21.021  27.790   \n",
       "204  54.765  24.879  37.866  41.866  27.190  32.941  43.661  21.009  27.794   \n",
       "..      ...     ...     ...     ...     ...     ...     ...     ...     ...   \n",
       "396  52.730  13.496  27.312  26.922  12.059  19.891  33.062  14.049  22.357   \n",
       "397  52.852  13.704  27.404  27.127  12.069  20.135  33.228  14.204  22.507   \n",
       "398  52.978  13.916  27.493  27.336  12.084  20.381  33.396  14.359  22.656   \n",
       "399  53.105  14.133  27.580  27.549  12.103  20.629  33.565  14.513  22.804   \n",
       "400  53.236  14.355  27.666     NaN  12.127  20.877  33.736  14.666  22.952   \n",
       "\n",
       "         15  \n",
       "200  53.166  \n",
       "201  53.314  \n",
       "202  53.467  \n",
       "203  53.626  \n",
       "204  53.791  \n",
       "..      ...  \n",
       "396  55.207  \n",
       "397  55.274  \n",
       "398  55.339  \n",
       "399  55.402  \n",
       "400  55.463  \n",
       "\n",
       "[201 rows x 10 columns]"
      ]
     },
     "execution_count": 22,
     "metadata": {},
     "output_type": "execute_result"
    }
   ],
   "source": [
    "T = X.index * 0.05\n",
    "X.loc[(T >= 10) & (T <= 20)]"
   ]
  },
  {
   "attachments": {},
   "cell_type": "markdown",
   "metadata": {},
   "source": [
    "**スナップショットの描画**"
   ]
  },
  {
   "attachments": {},
   "cell_type": "markdown",
   "metadata": {},
   "source": [
    "以上を踏まえて，試合中の特定の時刻のスナップショットを描いてみよう．"
   ]
  },
  {
   "cell_type": "code",
   "execution_count": 24,
   "metadata": {},
   "outputs": [
    {
     "data": {
      "image/png": "[encoded data removed]",
      "text/plain": [
       "<Figure size 350x300 with 1 Axes>"
      ]
     },
     "metadata": {
      "filenames": {
       "image/png": "/Users/narizuka/work/document/lecture/rissho/sport_programming/book/_build/jupyter_execute/chap_7/7_tracking_56_0.png"
      }
     },
     "output_type": "display_data"
    }
   ],
   "source": [
    "fig, ax = plt.subplots()\n",
    "\n",
    "# フレーム番号\n",
    "i=2000\n",
    "\n",
    "# 位置の描画\n",
    "x, y = X.loc[i], Y.loc[i]\n",
    "ax.plot(x, y, 'ro', ms=5, mfc='None')\n",
    "\n",
    "# 時刻の表示\n",
    "t = i*0.05\n",
    "m, s = np.floor(t/60.).astype(int), np.floor(t % 60).astype(int)\n",
    "ss = (\"%.2f\" % (t % 60 - s)).replace('.', '')[1:].zfill(2)\n",
    "ax.set_title('$t$=%s\\'%s\\\"%s' % (m, s, ss), fontsize=10)\n",
    "\n",
    "ax.set_xlim(0, 105); ax.set_ylim(0, 68)\n",
    "ax.set_xticks([0, 105])\n",
    "ax.set_yticks([0, 68])\n",
    "ax.set_aspect('equal')"
   ]
  },
  {
   "attachments": {},
   "cell_type": "markdown",
   "metadata": {},
   "source": [
    "### 重心と標準偏差の計算"
   ]
  },
  {
   "attachments": {},
   "cell_type": "markdown",
   "metadata": {},
   "source": [
    "集団の動きを解析する際に，チーム全体のおおまかな位置と広がりを把握することは非常に重要である．\n",
    "これらの量の定義の仕方は色々と考えられるが，以下では重心と慣性半径を計算する．"
   ]
  },
  {
   "attachments": {},
   "cell_type": "markdown",
   "metadata": {},
   "source": [
    "**チームの重心**"
   ]
  },
  {
   "attachments": {},
   "cell_type": "markdown",
   "metadata": {},
   "source": [
    "チームの重心は，メンバー全員の平均位置を表す量で，以下のように定義される：\n",
    "\n",
    "$$\n",
    "X_{c}(i) = \\frac{1}{N} \\sum_{u=1}^{N} X_{u}(i), \\\\[10pt]\n",
    "Y_{c}(i) = \\frac{1}{N} \\sum_{u=1}^{N} Y_{u}(i), \\\\[10pt]\n",
    "$$\n",
    "\n",
    "ここで，$X_{u}(i),\\ Y_{u}(i)$は第$i$フレームの選手$u$の$x,\\ y$座標である．\n",
    "これは，全選手の$x,\\ y$座標の平均値を求めれば良いので，以下のように計算できる："
   ]
  },
  {
   "cell_type": "code",
   "execution_count": 25,
   "metadata": {},
   "outputs": [
    {
     "data": {
      "text/plain": [
       "0    36.250\n",
       "1    36.260\n",
       "2    36.272\n",
       "3    36.285\n",
       "4    36.297\n",
       "dtype: float64"
      ]
     },
     "execution_count": 25,
     "metadata": {},
     "output_type": "execute_result"
    }
   ],
   "source": [
    "Xc = X.mean(axis=1)\n",
    "Yc = Y.mean(axis=1)\n",
    "Xc.head()"
   ]
  },
  {
   "attachments": {},
   "cell_type": "markdown",
   "metadata": {},
   "source": [
    "**チームの広がり**"
   ]
  },
  {
   "attachments": {},
   "cell_type": "markdown",
   "metadata": {},
   "source": [
    "次に，チームの重心からの広がりを表す量を導入する．\n",
    "定義は色々と考えられるが，ここでは以下の量を用いる．\n",
    "\n",
    "$$\n",
    "    R(i) = \\sqrt{ \\frac{1}{N} \\sum_{u=1}^{N} [(X_{u}(i) - X_{c}(i))^{2} + (Y_{u}(i) - Y_{c}(i))^{2}] }\n",
    "$$\n",
    "\n",
    "これは，$ x $ 方向の分散と $ y $ 方向の分散の和の平方根である．"
   ]
  },
  {
   "cell_type": "code",
   "execution_count": 26,
   "metadata": {},
   "outputs": [
    {
     "data": {
      "text/plain": [
       "0    14.796\n",
       "1    14.789\n",
       "2    14.782\n",
       "3    14.776\n",
       "4    14.771\n",
       "dtype: float64"
      ]
     },
     "execution_count": 26,
     "metadata": {},
     "output_type": "execute_result"
    }
   ],
   "source": [
    "R = np.sqrt(X.var(ddof=0, axis=1) + Y.var(ddof=0, axis=1))\n",
    "R.head()"
   ]
  },
  {
   "attachments": {},
   "cell_type": "markdown",
   "metadata": {},
   "source": [
    "**重心と慣性半径の描画**"
   ]
  },
  {
   "cell_type": "code",
   "execution_count": 28,
   "metadata": {},
   "outputs": [
    {
     "data": {
      "image/png": "[encoded data removed]",
      "text/plain": [
       "<Figure size 400x400 with 1 Axes>"
      ]
     },
     "metadata": {
      "filenames": {
       "image/png": "/Users/narizuka/work/document/lecture/rissho/sport_programming/book/_build/jupyter_execute/chap_7/7_tracking_66_0.png"
      }
     },
     "output_type": "display_data"
    }
   ],
   "source": [
    "fig, ax = plt.subplots(figsize=(4, 4))\n",
    "\n",
    "# フレーム番号\n",
    "i=3000\n",
    "\n",
    "# 位置の描画\n",
    "x, y = X.loc[i], Y.loc[i]\n",
    "ax.plot(x, y, 'ro', ms=5, mfc='None')\n",
    "\n",
    "# 重心と標準偏差の描画\n",
    "xc, yc = Xc.loc[i], Yc.loc[i]\n",
    "r = R.loc[i]\n",
    "ax.plot(xc, yc, 'kx')\n",
    "theta = np.linspace(0, 2*np.pi)\n",
    "ax.plot(xc + r*np.cos(theta), yc + r*np.sin(theta), 'r--')\n",
    "\n",
    "# 時刻の表示\n",
    "t = i*0.05\n",
    "m, s = np.floor(t/60.).astype(int), np.floor(t % 60).astype(int)\n",
    "ss = (\"%.2f\" % (t % 60 - s)).replace('.', '')[1:].zfill(2)\n",
    "ax.set_title('$t$=%s\\'%s\\\"%s' % (m, s, ss), fontsize=10)\n",
    "\n",
    "ax.set_xlim(0, 105); ax.set_ylim(0, 68)\n",
    "ax.set_xticks([0, 105])\n",
    "ax.set_yticks([0, 68])\n",
    "ax.set_aspect('equal')"
   ]
  },
  {
   "attachments": {},
   "cell_type": "markdown",
   "metadata": {},
   "source": [
    "### 速度の計算"
   ]
  },
  {
   "attachments": {},
   "cell_type": "markdown",
   "metadata": {},
   "source": [
    "次に，位置座標から速度を求めてみよう．\n",
    "フレーム $ i $ における速度の $ x, y $ 成分を $ V_{x}(i),\\ V_{y}(i) $ とすると，これらは以下のように計算される：\n",
    "\n",
    "$$\n",
    "    V_{x}(i) = \\frac{X(i) - X(i-n)}{0.05n},\\\\[10pt]\n",
    "    V_{y}(i) = \\frac{Y(i) - Y(i-n)}{0.05n}\n",
    "$$\n",
    "\n",
    "ここで，$ X(i),\\ Y(i) $ は 第 $i$ フレームの $x, y$ 座標を表し，$n$ はフレームの増分である．\n",
    "また，1フレームが0.05秒なので， $ 0.05n $ は $ n $ フレームの経過時間である．\n",
    "これより， $ V_{x}(i),\\ V_{y}(i) $ の単位は m/s となる．\n",
    "\n",
    "以下では，$ n=20 $とし，20フレーム（=1秒間）の平均速度と求める．\n",
    "実装には`diff`メソッドを用いて`n`フレーム前との差分を計算すれば良い．"
   ]
  },
  {
   "cell_type": "code",
   "execution_count": 29,
   "metadata": {},
   "outputs": [],
   "source": [
    "n = 20\n",
    "Vx, Vy = X.diff(n)/(0.05*n), Y.diff(n)/(0.05*n)  # nフレーム（0.05n秒）前との差を取る"
   ]
  },
  {
   "cell_type": "code",
   "execution_count": 30,
   "metadata": {
    "tags": [
     "scroll-output"
    ]
   },
   "outputs": [
    {
     "data": {
      "text/html": [
       "<div>\n",
       "<style scoped>\n",
       "    .dataframe tbody tr th:only-of-type {\n",
       "        vertical-align: middle;\n",
       "    }\n",
       "\n",
       "    .dataframe tbody tr th {\n",
       "        vertical-align: top;\n",
       "    }\n",
       "\n",
       "    .dataframe thead th {\n",
       "        text-align: right;\n",
       "    }\n",
       "</style>\n",
       "<table border=\"1\" class=\"dataframe\">\n",
       "  <thead>\n",
       "    <tr style=\"text-align: right;\">\n",
       "      <th></th>\n",
       "      <th>1</th>\n",
       "      <th>2</th>\n",
       "      <th>5</th>\n",
       "      <th>7</th>\n",
       "      <th>8</th>\n",
       "      <th>9</th>\n",
       "      <th>10</th>\n",
       "      <th>13</th>\n",
       "      <th>14</th>\n",
       "      <th>15</th>\n",
       "    </tr>\n",
       "  </thead>\n",
       "  <tbody>\n",
       "    <tr>\n",
       "      <th>56656</th>\n",
       "      <td>NaN</td>\n",
       "      <td>-0.370</td>\n",
       "      <td>0.564</td>\n",
       "      <td>0.531</td>\n",
       "      <td>1.639</td>\n",
       "      <td>-1.013</td>\n",
       "      <td>-0.978</td>\n",
       "      <td>0.130</td>\n",
       "      <td>0.270</td>\n",
       "      <td>0.263</td>\n",
       "    </tr>\n",
       "    <tr>\n",
       "      <th>56657</th>\n",
       "      <td>NaN</td>\n",
       "      <td>-0.431</td>\n",
       "      <td>0.571</td>\n",
       "      <td>0.529</td>\n",
       "      <td>1.623</td>\n",
       "      <td>-0.973</td>\n",
       "      <td>-0.900</td>\n",
       "      <td>0.174</td>\n",
       "      <td>0.265</td>\n",
       "      <td>0.248</td>\n",
       "    </tr>\n",
       "    <tr>\n",
       "      <th>56658</th>\n",
       "      <td>NaN</td>\n",
       "      <td>-0.472</td>\n",
       "      <td>0.572</td>\n",
       "      <td>0.524</td>\n",
       "      <td>1.597</td>\n",
       "      <td>-0.929</td>\n",
       "      <td>-0.817</td>\n",
       "      <td>0.222</td>\n",
       "      <td>0.259</td>\n",
       "      <td>0.229</td>\n",
       "    </tr>\n",
       "    <tr>\n",
       "      <th>56659</th>\n",
       "      <td>NaN</td>\n",
       "      <td>-0.494</td>\n",
       "      <td>0.566</td>\n",
       "      <td>0.517</td>\n",
       "      <td>1.564</td>\n",
       "      <td>-0.881</td>\n",
       "      <td>-0.731</td>\n",
       "      <td>0.273</td>\n",
       "      <td>0.252</td>\n",
       "      <td>0.206</td>\n",
       "    </tr>\n",
       "    <tr>\n",
       "      <th>56660</th>\n",
       "      <td>NaN</td>\n",
       "      <td>-0.496</td>\n",
       "      <td>0.555</td>\n",
       "      <td>0.509</td>\n",
       "      <td>1.523</td>\n",
       "      <td>-0.831</td>\n",
       "      <td>-0.643</td>\n",
       "      <td>0.326</td>\n",
       "      <td>0.244</td>\n",
       "      <td>0.179</td>\n",
       "    </tr>\n",
       "  </tbody>\n",
       "</table>\n",
       "</div>"
      ],
      "text/plain": [
       "        1      2      5      7      8      9     10     13     14     15\n",
       "56656 NaN -0.370  0.564  0.531  1.639 -1.013 -0.978  0.130  0.270  0.263\n",
       "56657 NaN -0.431  0.571  0.529  1.623 -0.973 -0.900  0.174  0.265  0.248\n",
       "56658 NaN -0.472  0.572  0.524  1.597 -0.929 -0.817  0.222  0.259  0.229\n",
       "56659 NaN -0.494  0.566  0.517  1.564 -0.881 -0.731  0.273  0.252  0.206\n",
       "56660 NaN -0.496  0.555  0.509  1.523 -0.831 -0.643  0.326  0.244  0.179"
      ]
     },
     "execution_count": 30,
     "metadata": {},
     "output_type": "execute_result"
    }
   ],
   "source": [
    "Vx.tail()"
   ]
  },
  {
   "cell_type": "markdown",
   "metadata": {},
   "source": [
    "**秩序変数**"
   ]
  },
  {
   "cell_type": "markdown",
   "metadata": {},
   "source": [
    "やや高度ではあるが，以下で定義される秩序変数（Order Parameter）という量を計算してみよう：\n",
    "\n",
    "$$\n",
    "\\phi(i) = \\left| \\frac{1}{N} \\sum_{u=1}^{N} \\frac{\\vec{v}_{u}(i)}{|\\vec{v}_{u}(i)|} \\right|\n",
    "$$"
   ]
  },
  {
   "cell_type": "markdown",
   "metadata": {},
   "source": [
    "秩序変数は，集団の向きの揃い具合を表す量で，統計物理学の分野でよく用いられる．\n",
    "その定義域は$0\\le\\phi(t)\\le 1$であり，0に近いほど集団の移動方向がバラバラ，1に近いほど揃っていることを意味する．\n",
    "定義より，秩序変数は速度ベクトルから以下のように計算することができる．"
   ]
  },
  {
   "cell_type": "code",
   "execution_count": 42,
   "metadata": {},
   "outputs": [],
   "source": [
    "V = np.sqrt(Vx**2 + Vy**2)\n",
    "OP = np.sqrt(np.sum(Vx/V, axis=1)**2 + np.sum(Vy/V, axis=1)**2) / 10"
   ]
  },
  {
   "cell_type": "code",
   "execution_count": 45,
   "metadata": {},
   "outputs": [
    {
     "data": {
      "text/plain": [
       "0.942"
      ]
     },
     "execution_count": 45,
     "metadata": {},
     "output_type": "execute_result"
    }
   ],
   "source": [
    "OP.iloc[2500]"
   ]
  },
  {
   "attachments": {},
   "cell_type": "markdown",
   "metadata": {},
   "source": [
    "**速度ベクトルの描画**"
   ]
  },
  {
   "attachments": {},
   "cell_type": "markdown",
   "metadata": {},
   "source": [
    "速度が計算できたので，これらを描画してみよう．\n",
    "速度ベクトルの描画には，matplotlibの`quiver`関数を用いて選手の位置を始点とする矢印を描けば良い．\n",
    "また，秩序変数は時刻の横に文字列として出力する．\n",
    "フレーム番号を変えると，矢印の向きの揃い具合と連動して秩序変数の値が変化することが分かる．"
   ]
  },
  {
   "cell_type": "code",
   "execution_count": 44,
   "metadata": {},
   "outputs": [
    {
     "data": {
      "image/png": "[encoded data removed]",
      "text/plain": [
       "<Figure size 400x400 with 1 Axes>"
      ]
     },
     "metadata": {
      "filenames": {
       "image/png": "/Users/narizuka/work/document/lecture/rissho/sport_programming/book/_build/jupyter_execute/chap_7/7_tracking_78_0.png"
      }
     },
     "output_type": "display_data"
    }
   ],
   "source": [
    "fig, ax = plt.subplots(figsize=(4,4))\n",
    "\n",
    "# フレーム番号\n",
    "i=2500\n",
    "\n",
    "# 位置の描画\n",
    "x, y = X.loc[i], Y.loc[i]\n",
    "ax.plot(x, y, 'ro', ms=5, mfc='None')\n",
    "\n",
    "# 速度ベクトルの描画\n",
    "vx, vy = Vx.loc[i], Vy.loc[i]\n",
    "ax.quiver(x, y, vx, vy, color='r', angles='uv', units='xy', scale=0.7, width=0.5)\n",
    "\n",
    "# 時刻と秩序変数の表示\n",
    "op = np.round(OP.loc[i], 2)\n",
    "t = i*0.05\n",
    "m, s = np.floor(t/60.).astype(int), np.floor(t % 60).astype(int)\n",
    "ss = (\"%.2f\" % (t % 60 - s)).replace('.', '')[1:].zfill(2)\n",
    "ax.set_title('$t$=%s\\'%s\\\"%s   $\\phi=$%s' % (m, s, ss, op), fontsize=10)\n",
    "\n",
    "ax.set_xlim(0, 105); ax.set_ylim(0, 68)\n",
    "ax.set_xticks([0, 105])\n",
    "ax.set_yticks([0, 68])\n",
    "ax.set_aspect('equal')"
   ]
  },
  {
   "attachments": {},
   "cell_type": "markdown",
   "metadata": {},
   "source": [
    "### 発展問題"
   ]
  },
  {
   "attachments": {},
   "cell_type": "markdown",
   "metadata": {},
   "source": [
    "- 重心の $ x $ 座標と標準偏差の関係を可視化し，結果を考察せよ．\n",
    "- 速度から速さ（速度の大きさ）を求め，選手ごとに速さのヒストグラムを求めよ．\n",
    "- 加速度を計算せよ\n",
    "  - ヒント：速度の変化率が加速度である．\n",
    "- 各選手の走行距離を計算せよ\n",
    "  - ヒント：細かい時間間隔での移動距離を全て足し合わせれば良い．\n",
    "- 各選手のスプリント回数を計算せよ\n",
    "  - ヒント：Jリーグでは，時速25km以上で1秒以上走った回数をスプリント回数と定義している．"
   ]
  },
  {
   "attachments": {},
   "cell_type": "markdown",
   "metadata": {},
   "source": [
    "### フォーメーション"
   ]
  },
  {
   "attachments": {},
   "cell_type": "markdown",
   "metadata": {},
   "source": [
    "サッカーにおいてフォーメーションが重要な概念であることは言うまでもない．\n",
    "しかし，「フォーメーションとは何か？」と問われると，明確に答えることは意外と難しい．\n",
    "おおよそ，「チーム内の選手の決まった配置」とか「選手同士の相対的位置関係のパターン」というのがフォーメーションに対する漠然としたイメージだろう．\n",
    "\n",
    "では，こうしたフォーメーションを定量化・可視化するにはどうすればよいだろうか？\n",
    "実は，これには次の２つの方法がある：\n",
    "1. ある時間幅における選手の平均的な位置から割り出す\n",
    "    - 3-4-3, 4-4-2などの数字の組を用いる\n",
    "2. 特定の時刻における選手の隣接関係から定める\n",
    "    - ドロネーネットワークを用いる\n",
    "    \n",
    "以下では，トラッキングデータを用いて，1の方法を簡単に解説する．\n",
    "2については付録を参照してほしい．"
   ]
  },
  {
   "attachments": {},
   "cell_type": "markdown",
   "metadata": {},
   "source": [
    "**絶対座標系**"
   ]
  },
  {
   "attachments": {},
   "cell_type": "markdown",
   "metadata": {},
   "source": [
    "まずは何も考えずに試合前半の全選手の位置をフィールド上に色分けしてプロットしてみよう．\n",
    "この場合，座標原点がフィールドの左下に常に固定されているので，**絶対座標系**と呼ばれる．"
   ]
  },
  {
   "cell_type": "code",
   "execution_count": 27,
   "metadata": {},
   "outputs": [
    {
     "data": {
      "image/png": "[encoded data removed]",
      "text/plain": [
       "<Figure size 350x300 with 1 Axes>"
      ]
     },
     "metadata": {
      "filenames": {
       "image/png": "/Users/narizuka/work/document/lecture/rissho/sport_programming/book/_build/jupyter_execute/chap_7/7_tracking_85_0.png"
      }
     },
     "output_type": "display_data"
    }
   ],
   "source": [
    "fig, ax = plt.subplots(figsize=(3.5, 3))\n",
    "\n",
    "for u in X.columns:\n",
    "    ax.plot(X[u], Y[u], '.', ms=0.05)\n",
    "    \n",
    "ax.set_xlim(0, 105); ax.set_ylim(0, 68)\n",
    "ax.set_xticks([0, 105])\n",
    "ax.set_yticks([0, 68])\n",
    "ax.set_aspect('equal')"
   ]
  },
  {
   "attachments": {},
   "cell_type": "markdown",
   "metadata": {},
   "source": [
    "プロットの結果を見て明らかなように，各選手はフィールド上を縦横無尽に動き周っていることがわかる．\n",
    "ポジションごとにおおよそ右サイドや中盤などの区分けはできるかもしれないが，この結果からチームのフォーメーションを推定することはできない．"
   ]
  },
  {
   "attachments": {},
   "cell_type": "markdown",
   "metadata": {},
   "source": [
    "**重心座標系**"
   ]
  },
  {
   "attachments": {},
   "cell_type": "markdown",
   "metadata": {},
   "source": [
    "次に，絶対座標系でのプロットは止めて，チームの重心を原点とする座標系に変換してみよう．\n",
    "これを**重心座標系**と呼ぶ．\n",
    "各選手の座標を重心座標系に変換するには，以下のように各時刻において選手の座標から重心の座標を引き算すればよい．"
   ]
  },
  {
   "cell_type": "code",
   "execution_count": 28,
   "metadata": {},
   "outputs": [],
   "source": [
    "Xc = X.sub(X.mean(axis=1), axis=0)\n",
    "Yc = Y.sub(Y.mean(axis=1), axis=0)"
   ]
  },
  {
   "attachments": {},
   "cell_type": "markdown",
   "metadata": {},
   "source": [
    "以下の２つのグラフは，いずれも重心座標系において全選手の位置を色分けしてプロットした結果である．\n",
    "１つ目は選手ごとに各時刻の位置をマーカーでプロットしており，2つ目は選手ごとに平均位置と標準偏差（慣性半径）をプロットしている．"
   ]
  },
  {
   "cell_type": "code",
   "execution_count": 29,
   "metadata": {},
   "outputs": [
    {
     "data": {
      "text/plain": [
       "Text(0, 0.5, '$Y$')"
      ]
     },
     "execution_count": 29,
     "metadata": {},
     "output_type": "execute_result"
    },
    {
     "data": {
      "image/png": "[encoded data removed]",
      "text/plain": [
       "<Figure size 400x400 with 1 Axes>"
      ]
     },
     "metadata": {
      "filenames": {
       "image/png": "/Users/narizuka/work/document/lecture/rissho/sport_programming/book/_build/jupyter_execute/chap_7/7_tracking_91_1.png"
      }
     },
     "output_type": "display_data"
    }
   ],
   "source": [
    "fig, ax = plt.subplots(figsize=(4, 4))\n",
    "\n",
    "for u in X.columns:\n",
    "    ax.plot(Xc[u], Yc[u], '.', ms=0.01)\n",
    "    \n",
    "ax.set_xlim(-30, 30); ax.set_ylim(-30, 30)\n",
    "ax.set_aspect('equal')\n",
    "ax.set_xlabel('$X$'); ax.set_ylabel('$Y$')"
   ]
  },
  {
   "cell_type": "code",
   "execution_count": 30,
   "metadata": {},
   "outputs": [
    {
     "data": {
      "text/plain": [
       "Text(0, 0.5, '$Y$')"
      ]
     },
     "execution_count": 30,
     "metadata": {},
     "output_type": "execute_result"
    },
    {
     "data": {
      "image/png": "[encoded data removed]",
      "text/plain": [
       "<Figure size 400x400 with 1 Axes>"
      ]
     },
     "metadata": {
      "filenames": {
       "image/png": "/Users/narizuka/work/document/lecture/rissho/sport_programming/book/_build/jupyter_execute/chap_7/7_tracking_92_1.png"
      }
     },
     "output_type": "display_data"
    }
   ],
   "source": [
    "fig, ax = plt.subplots(figsize=(4, 4))\n",
    "\n",
    "cmap = plt.get_cmap(\"tab10\") # カラーマップ\n",
    "for i, u in enumerate(X.columns):\n",
    "    # 平均位置\n",
    "    ax.plot(Xc[u].mean(), Yc[u].mean(), 'x', ms=5, color=cmap(i))\n",
    "    \n",
    "    # 標準偏差（慣性半径）\n",
    "    r = np.sqrt(Xc[u].var() + Yc[u].var())\n",
    "    theta=np.linspace(0, 2*np.pi)\n",
    "    ax.plot(Xc[u].mean()+r*np.cos(theta), Yc[u].mean()+r*np.sin(theta), '-', color=cmap(i))\n",
    "    \n",
    "ax.set_xlim(-30, 30); ax.set_ylim(-30, 30)\n",
    "ax.set_aspect('equal')\n",
    "ax.set_xlabel('$X$'); ax.set_ylabel('$Y$')"
   ]
  },
  {
   "attachments": {},
   "cell_type": "markdown",
   "metadata": {},
   "source": [
    "今度は選手ごとにだいたい決まった定位置（☓）を持ち，そこから標準偏差くらいの広がり（◯）を持って移動している様子が見て取れる．\n",
    "特に，守備側から４人，４人，２人という並びになっており，おおよそ4-4-2というフォーメーションが見事に可視化されている．"
   ]
  },
  {
   "attachments": {},
   "cell_type": "markdown",
   "metadata": {},
   "source": [
    "## アニメーション"
   ]
  },
  {
   "attachments": {},
   "cell_type": "markdown",
   "metadata": {},
   "source": [
    "最後にトラッキングデータの解析の仕上げとして，アニメーションの作成方法を紹介する．\n",
    "アニメーションはMatplotlibの`FuncAnimation`を用いると簡単に実装できる．\n",
    "まずは`FuncAnimation`を以下のようにインポートしておく："
   ]
  },
  {
   "cell_type": "code",
   "execution_count": 1,
   "metadata": {},
   "outputs": [],
   "source": [
    "from matplotlib.animation import FuncAnimation"
   ]
  },
  {
   "attachments": {},
   "cell_type": "markdown",
   "metadata": {},
   "source": [
    "アニメーションの表示には少々注意が必要である．\n",
    "これまで，MatplotlibによるグラフはJupyter Lab内に表示することができた．\n",
    "これは，デフォルトの設定としてグラフの出力先がJupyter Lab内となっていたからであり，明示的に設定するには以下のコマンドを実行する："
   ]
  },
  {
   "cell_type": "code",
   "execution_count": 32,
   "metadata": {},
   "outputs": [],
   "source": [
    "%matplotlib inline"
   ]
  },
  {
   "attachments": {},
   "cell_type": "markdown",
   "metadata": {},
   "source": [
    "一方，アニメーションを表示するには上の設定を以下のように変更する必要がある："
   ]
  },
  {
   "cell_type": "code",
   "execution_count": null,
   "metadata": {},
   "outputs": [],
   "source": [
    "%matplotlib tk"
   ]
  },
  {
   "attachments": {},
   "cell_type": "markdown",
   "metadata": {},
   "source": [
    "この設定に変更しておくと，MatplotlibのグラフはJupyter Lab内ではなく別ウインドウとして表示されるはずである．\n",
    "この辺りの詳細については「5. Matplotlibの基礎」の「5.6.1. 描画結果の出力先」にまとめてある．"
   ]
  },
  {
   "attachments": {},
   "cell_type": "markdown",
   "metadata": {},
   "source": [
    "### 位置"
   ]
  },
  {
   "cell_type": "code",
   "execution_count": 5,
   "metadata": {},
   "outputs": [],
   "source": [
    "X = pd.read_csv('./x_1st.csv', encoding='utf-8', index_col=0)\n",
    "Y = pd.read_csv('./y_1st.csv', encoding='utf-8', index_col=0)"
   ]
  },
  {
   "cell_type": "code",
   "execution_count": 12,
   "metadata": {},
   "outputs": [
    {
     "name": "stderr",
     "output_type": "stream",
     "text": [
      "/var/folders/15/9xbz42sj4_ncrjjdpr251pr00000gn/T/ipykernel_15747/4000753284.py:18: UserWarning: frames=None which we can infer the length of, did not pass an explicit *save_count* and passed cache_frame_data=True.  To avoid a possibly unbounded cache, frame data caching has been disabled. To suppress this warning either pass `cache_frame_data=False` or `save_count=MAX_FRAMES`.\n",
      "  anim = FuncAnimation(fig, update, blit=True, interval=10)\n"
     ]
    }
   ],
   "source": [
    "# 描画関数\n",
    "def update(i):\n",
    "    #　位置座標の更新\n",
    "    x, y = X.loc[int(i)], Y.loc[int(i)]\n",
    "    pt.set_data(x, y)\n",
    "\n",
    "    return [pt]\n",
    "\n",
    "# グラフの設定\n",
    "fig, ax = plt.subplots(figsize=(5, 5))\n",
    "pt, = ax.plot([], [], 'bo', ms=5, mfc='None')\n",
    "\n",
    "ax.set_xlim(0, 105); ax.set_ylim(0, 68)\n",
    "ax.set_xticks([0, 105]); ax.set_yticks([0, 68])\n",
    "ax.set_aspect('equal')\n",
    "\n",
    "# 実行\n",
    "anim = FuncAnimation(fig, update, blit=True, interval=10)"
   ]
  },
  {
   "attachments": {},
   "cell_type": "markdown",
   "metadata": {},
   "source": [
    "### 位置とテキスト"
   ]
  },
  {
   "cell_type": "code",
   "execution_count": 11,
   "metadata": {},
   "outputs": [
    {
     "name": "stderr",
     "output_type": "stream",
     "text": [
      "/var/folders/15/9xbz42sj4_ncrjjdpr251pr00000gn/T/ipykernel_15747/1276168880.py:24: UserWarning: frames=None which we can infer the length of, did not pass an explicit *save_count* and passed cache_frame_data=True.  To avoid a possibly unbounded cache, frame data caching has been disabled. To suppress this warning either pass `cache_frame_data=False` or `save_count=MAX_FRAMES`.\n",
      "  anim = FuncAnimation(fig, update, blit=True, interval=10)\n"
     ]
    },
    {
     "name": "stderr",
     "output_type": "stream",
     "text": [
      "invalid command name \"13150634688_on_timer\"\n",
      "    while executing\n",
      "\"13150634688_on_timer\"\n",
      "    (\"after\" script)\n"
     ]
    }
   ],
   "source": [
    "# 描画関数\n",
    "def update(i):\n",
    "    #　位置座標の更新\n",
    "    x, y = X.loc[int(i)], Y.loc[int(i)]\n",
    "    pt.set_data(x, y)\n",
    "    \n",
    "    t = i*0.05\n",
    "    m, s = np.floor(t/60.).astype(int), np.floor(t % 60).astype(int)\n",
    "    ss = (\"%.2f\" % (t % 60 - s)).replace('.', '')[1:].zfill(2)\n",
    "    title.set_text('$t$=%s\\'%s\\\"%s' % (m, s, ss))\n",
    "\n",
    "    return list(np.hstack([pt, title]))\n",
    "\n",
    "# グラフの設定\n",
    "fig, ax = plt.subplots(figsize=(5, 5))\n",
    "pt, = ax.plot([], [], 'bo', ms=5, mfc='None')\n",
    "title = ax.text(80, 63, '', fontsize=10)\n",
    "\n",
    "ax.set_xlim(0, 105); ax.set_ylim(0, 68)\n",
    "ax.set_xticks([0, 105]); ax.set_yticks([0, 68])\n",
    "ax.set_aspect('equal')\n",
    "\n",
    "# 実行\n",
    "anim = FuncAnimation(fig, update, blit=True, interval=10)"
   ]
  },
  {
   "attachments": {},
   "cell_type": "markdown",
   "metadata": {},
   "source": [
    "### 位置・速度ベクトル・テキスト"
   ]
  },
  {
   "cell_type": "code",
   "execution_count": 8,
   "metadata": {},
   "outputs": [],
   "source": [
    "# 速度ベクトルと秩序変数の計算\n",
    "Vx, Vy = X.diff(20), Y.diff(20)\n",
    "V = np.sqrt(Vx**2 + Vy**2)"
   ]
  },
  {
   "cell_type": "code",
   "execution_count": 10,
   "metadata": {},
   "outputs": [
    {
     "name": "stderr",
     "output_type": "stream",
     "text": [
      "/var/folders/15/9xbz42sj4_ncrjjdpr251pr00000gn/T/ipykernel_15747/3801862582.py:32: UserWarning: frames=None which we can infer the length of, did not pass an explicit *save_count* and passed cache_frame_data=True.  To avoid a possibly unbounded cache, frame data caching has been disabled. To suppress this warning either pass `cache_frame_data=False` or `save_count=MAX_FRAMES`.\n",
      "  anim = FuncAnimation(fig, update, blit=True, interval=20)\n"
     ]
    },
    {
     "name": "stderr",
     "output_type": "stream",
     "text": [
      "invalid command name \"13289213120_on_timer\"\n",
      "    while executing\n",
      "\"13289213120_on_timer\"\n",
      "    (\"after\" script)\n"
     ]
    }
   ],
   "source": [
    "# 描画関数\n",
    "def update(i):\n",
    "    # 位置の更新\n",
    "    x, y = X.loc[int(i)], Y.loc[int(i)]\n",
    "    pt.set_data(x, y)\n",
    "    \n",
    "    # 速度ベクトルの更新\n",
    "    vx, vy = Vx.loc[int(i)], Vy.loc[int(i)]\n",
    "    aw.set_offsets(np.c_[x, y])\n",
    "    aw.set_UVC(vx, vy)\n",
    "    \n",
    "    # テキスト\n",
    "    t = i*0.05\n",
    "    m, s = np.floor(t/60.).astype(int), np.floor(t % 60).astype(int)\n",
    "    ss = (\"%.2f\" % (t % 60 - s)).replace('.', '')[1:].zfill(2)\n",
    "    text.set_text('$t$=%s\\'%s\\\"%s' % (m, s, ss))\n",
    "\n",
    "    return list(np.hstack([pt, aw, text]))\n",
    "\n",
    "# グラフの設定\n",
    "fig, ax = plt.subplots(figsize=(5, 5))\n",
    "pt, = ax.plot([], [], 'bo', ms=5, mfc='None')\n",
    "aw = ax.quiver(np.zeros(10), np.zeros(10), np.zeros(10), np.zeros(10),\\\n",
    "               color='b', angles='uv', units='xy', scale=0.7, width=0.5)\n",
    "text = ax.text(65, 63, '', fontsize=10)\n",
    "\n",
    "ax.set_xlim(0, 105); ax.set_ylim(0, 68)\n",
    "ax.set_xticks([0, 105]); ax.set_yticks([0, 68])\n",
    "ax.set_aspect('equal')\n",
    "\n",
    "# 実行\n",
    "anim = FuncAnimation(fig, update, blit=True, interval=20)"
   ]
  }
 ],
 "metadata": {
  "kernelspec": {
   "display_name": "Python 3.9.13 ('myenv')",
   "language": "python",
   "name": "python3"
  },
  "language_info": {
   "codemirror_mode": {
    "name": "ipython",
    "version": 3
   },
   "file_extension": ".py",
   "mimetype": "text/x-python",
   "name": "python",
   "nbconvert_exporter": "python",
   "pygments_lexer": "ipython3",
   "version": "3.9.18"
  },
  "toc-autonumbering": true,
  "vscode": {
   "interpreter": {
    "hash": "911fd4aa1eca4252368dc27db61226a38a6cfe922f9bbc90c7d50e9c97ede316"
   }
  }
 },
 "nbformat": 4,
 "nbformat_minor": 4
}