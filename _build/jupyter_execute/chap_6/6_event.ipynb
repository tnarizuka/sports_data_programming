{
 "cells": [
  {
   "cell_type": "code",
   "execution_count": 1,
   "metadata": {},
   "outputs": [
    {
     "data": {
      "text/plain": [
       "'%.3f'"
      ]
     },
     "execution_count": 1,
     "metadata": {},
     "output_type": "execute_result"
    }
   ],
   "source": [
    "# （必須）モジュールのインポート\n",
    "import os\n",
    "import numpy as np\n",
    "import pandas as pd\n",
    "import matplotlib as mpl\n",
    "import matplotlib.pyplot as plt\n",
    "\n",
    "# 日本語フォントの設定（Mac:'Hiragino Sans', Windows:'MS Gothic'）\n",
    "plt.rcParams['font.family'] = 'Hiragino Sans'\n",
    "\n",
    "# 表示設定\n",
    "np.set_printoptions(suppress=True, precision=3)\n",
    "pd.set_option('display.precision', 3)    # 小数点以下の表示桁\n",
    "pd.set_option('display.max_rows', 50)   # 表示する行数の上限\n",
    "pd.set_option('display.max_columns', 7)  # 表示する列数の上限\n",
    "%precision 3"
   ]
  },
  {
   "attachments": {},
   "cell_type": "markdown",
   "metadata": {},
   "source": [
    "# イベントデータの解析"
   ]
  },
  {
   "attachments": {},
   "cell_type": "markdown",
   "metadata": {},
   "source": [
    "## イベントデータ\n",
    "\n",
    "### Pappalardoデータセット\n",
    "\n",
    "Pappalardoデータセットはサッカーのイベントデータをまとめた大規模データセットであり，[CC BY 4.0ライセンス](https://creativecommons.org/licenses/by/4.0/deed.ja)の下で提供されている．\n",
    "元のデータはWyscout社によって収集されたもので，それをL. Pappalardoらが編集し2019年に公開された．\n",
    "2023年時点で一般公開されているサッカーのイベントデータセットの中では最大級である．\n",
    "データセットの詳細については以下の付録を参照のこと：{ref}`pappalardo`"
   ]
  },
  {
   "attachments": {},
   "cell_type": "markdown",
   "metadata": {},
   "source": [
    "### 本講義で用いる加工済みデータ\n",
    "\n",
    "Pappalardoデータセットはjson形式で提供されており，このままではデータ分析がしづらい．\n",
    "そこで，予めjson形式のデータを整形・加工し，PandasのDataFrameの形で保存しておくと便利であるが，この過程は本講義で扱った知識を総動員するだけでなく，文字列の処理などの知識も必要となる．\n",
    "**本講義ではデータの整形・加工の過程は省略し，加工済みデータ（csvファイル）のデータを提供することにする**．\n",
    "以下では，加工済みデータの一部を使ってデータ解析の例を示すが，他のデータを解析したい場合は付録からダウンロードできる：{ref}`pappalardo`"
   ]
  },
  {
   "attachments": {},
   "cell_type": "markdown",
   "metadata": {},
   "source": [
    "## リーグ成績と順位表"
   ]
  },
  {
   "attachments": {},
   "cell_type": "markdown",
   "metadata": {},
   "source": [
    "以下のデータをダウンロードし，カレントディレクトリに保存せよ：\n",
    "- 全試合の得点データ：[game.csv](https://drive.google.com/uc?export=download&id=1gueZANYM2wOkQefKpoA_LplKkG0aXA4A)\n",
    "- チームプロフィール：[team.csv](https://drive.google.com/uc?export=download&id=1gzjVMRX3daVVFEsNlz-ipidyw-tM2zr1)\n",
    "  \n",
    "これらを用いれば，チームごとに得点，失点，得失点差，勝敗などを算出することができる．\n",
    "各リーグの最終的な順位は勝ち点によって決まる．\n",
    "１試合で獲得する勝ち点は勝利が3，引き分けが1，負けが0である．\n",
    "よって，得点データを用いれば勝ち点を計算し，順位表を作成することができる．\n",
    "\n",
    "以下では，イングランド・プレミアリーグの最終成績と順位表を作成してみよう．\n",
    "なお，公式に公開されている2017年度イングランド・プレミアリーグの最終成績と順位表は以下で確認できる：\n",
    "- [https://ja.wikipedia.org/wiki/プレミアリーグ2017-2018](https://ja.wikipedia.org/wiki/%E3%83%97%E3%83%AC%E3%83%9F%E3%82%A2%E3%83%AA%E3%83%BC%E3%82%B02017-2018)\n",
    "- [Premier League Table, Form Guide & Season Archives](https://www.premierleague.com/tables?co=1&se=79&mw=-1&ha=-1)"
   ]
  },
  {
   "attachments": {},
   "cell_type": "markdown",
   "metadata": {},
   "source": [
    "### データの読み込み"
   ]
  },
  {
   "attachments": {},
   "cell_type": "markdown",
   "metadata": {},
   "source": [
    "まずは [game.csv](https://drive.google.com/uc?export=download&id=1gueZANYM2wOkQefKpoA_LplKkG0aXA4A) をダウンロードしてカレントディレクトリに移動し，`GM`という名前のDataFrameに読み込む．"
   ]
  },
  {
   "cell_type": "code",
   "execution_count": 10,
   "metadata": {},
   "outputs": [
    {
     "data": {
      "text/html": [
       "<div>\n",
       "<style scoped>\n",
       "    .dataframe tbody tr th:only-of-type {\n",
       "        vertical-align: middle;\n",
       "    }\n",
       "\n",
       "    .dataframe tbody tr th {\n",
       "        vertical-align: top;\n",
       "    }\n",
       "\n",
       "    .dataframe thead th {\n",
       "        text-align: right;\n",
       "    }\n",
       "</style>\n",
       "<table border=\"1\" class=\"dataframe\">\n",
       "  <thead>\n",
       "    <tr style=\"text-align: right;\">\n",
       "      <th></th>\n",
       "      <th>game_id</th>\n",
       "      <th>league</th>\n",
       "      <th>...</th>\n",
       "      <th>away_score</th>\n",
       "      <th>home_score</th>\n",
       "    </tr>\n",
       "  </thead>\n",
       "  <tbody>\n",
       "    <tr>\n",
       "      <th>0</th>\n",
       "      <td>2499719</td>\n",
       "      <td>England</td>\n",
       "      <td>...</td>\n",
       "      <td>3</td>\n",
       "      <td>4</td>\n",
       "    </tr>\n",
       "    <tr>\n",
       "      <th>1</th>\n",
       "      <td>2499723</td>\n",
       "      <td>England</td>\n",
       "      <td>...</td>\n",
       "      <td>0</td>\n",
       "      <td>1</td>\n",
       "    </tr>\n",
       "    <tr>\n",
       "      <th>2</th>\n",
       "      <td>2499724</td>\n",
       "      <td>England</td>\n",
       "      <td>...</td>\n",
       "      <td>0</td>\n",
       "      <td>4</td>\n",
       "    </tr>\n",
       "    <tr>\n",
       "      <th>3</th>\n",
       "      <td>2499722</td>\n",
       "      <td>England</td>\n",
       "      <td>...</td>\n",
       "      <td>3</td>\n",
       "      <td>0</td>\n",
       "    </tr>\n",
       "    <tr>\n",
       "      <th>4</th>\n",
       "      <td>2499725</td>\n",
       "      <td>England</td>\n",
       "      <td>...</td>\n",
       "      <td>2</td>\n",
       "      <td>0</td>\n",
       "    </tr>\n",
       "  </tbody>\n",
       "</table>\n",
       "<p>5 rows × 11 columns</p>\n",
       "</div>"
      ],
      "text/plain": [
       "   game_id   league  ...  away_score home_score\n",
       "0  2499719  England  ...           3          4\n",
       "1  2499723  England  ...           0          1\n",
       "2  2499724  England  ...           0          4\n",
       "3  2499722  England  ...           3          0\n",
       "4  2499725  England  ...           2          0\n",
       "\n",
       "[5 rows x 11 columns]"
      ]
     },
     "execution_count": 10,
     "metadata": {},
     "output_type": "execute_result"
    }
   ],
   "source": [
    "GM = pd.read_csv('./game.csv', header=0)\n",
    "GM.head(5)"
   ]
  },
  {
   "attachments": {},
   "cell_type": "markdown",
   "metadata": {},
   "source": [
    "このデータの各行には2017年度ヨーロッパリーグで行われた試合の情報が収められている．\n",
    "各列の意味は下表の通りである．\n",
    "このうち，`away_score`列と`home_score`列がアウェイチームとホームチームの得点である．\n",
    "例えば，第0行はアーセナル（ホーム）対レイチェスターシティ（アウェイ）の試合情報を表し，得点は4-3であることが分かる．\n",
    "\n",
    "| 変数名 | 内容 |\n",
    "| ---- | ---- |\n",
    "| game_id | 試合の一意なID |\n",
    "| league | リーグ名 |\n",
    "| section | 節（全38節）|\n",
    "| date | 日付 |\n",
    "| venue | 試合地 |\n",
    "| away | アウェイチーム名 |\n",
    "| away_id | アウェイチームID |\n",
    "| home | ホームチーム名 |\n",
    "| home_id | ホームチームID |\n",
    "| away_score | アウェイチームのスコア |\n",
    "| homw_score |  ホームチームのスコア |"
   ]
  },
  {
   "attachments": {},
   "cell_type": "markdown",
   "metadata": {},
   "source": [
    "次に [team.csv](https://drive.google.com/uc?export=download&id=1gzjVMRX3daVVFEsNlz-ipidyw-tM2zr1) をダウンロードしてカレントディレクトリに移動し，`TM`という名前のDataFrameに読み込む．"
   ]
  },
  {
   "cell_type": "code",
   "execution_count": 12,
   "metadata": {},
   "outputs": [
    {
     "data": {
      "text/html": [
       "<div>\n",
       "<style scoped>\n",
       "    .dataframe tbody tr th:only-of-type {\n",
       "        vertical-align: middle;\n",
       "    }\n",
       "\n",
       "    .dataframe tbody tr th {\n",
       "        vertical-align: top;\n",
       "    }\n",
       "\n",
       "    .dataframe thead th {\n",
       "        text-align: right;\n",
       "    }\n",
       "</style>\n",
       "<table border=\"1\" class=\"dataframe\">\n",
       "  <thead>\n",
       "    <tr style=\"text-align: right;\">\n",
       "      <th></th>\n",
       "      <th>name</th>\n",
       "      <th>team_id</th>\n",
       "      <th>city</th>\n",
       "      <th>country</th>\n",
       "      <th>league</th>\n",
       "    </tr>\n",
       "  </thead>\n",
       "  <tbody>\n",
       "    <tr>\n",
       "      <th>0</th>\n",
       "      <td>Arsenal</td>\n",
       "      <td>1609</td>\n",
       "      <td>London</td>\n",
       "      <td>England</td>\n",
       "      <td>England</td>\n",
       "    </tr>\n",
       "    <tr>\n",
       "      <th>1</th>\n",
       "      <td>Chelsea</td>\n",
       "      <td>1610</td>\n",
       "      <td>London</td>\n",
       "      <td>England</td>\n",
       "      <td>England</td>\n",
       "    </tr>\n",
       "    <tr>\n",
       "      <th>2</th>\n",
       "      <td>Manchester_United</td>\n",
       "      <td>1611</td>\n",
       "      <td>Manchester</td>\n",
       "      <td>England</td>\n",
       "      <td>England</td>\n",
       "    </tr>\n",
       "    <tr>\n",
       "      <th>3</th>\n",
       "      <td>Liverpool</td>\n",
       "      <td>1612</td>\n",
       "      <td>Liverpool</td>\n",
       "      <td>England</td>\n",
       "      <td>England</td>\n",
       "    </tr>\n",
       "    <tr>\n",
       "      <th>4</th>\n",
       "      <td>Newcastle_United</td>\n",
       "      <td>1613</td>\n",
       "      <td>Newcastle_upon_Tyne</td>\n",
       "      <td>England</td>\n",
       "      <td>England</td>\n",
       "    </tr>\n",
       "  </tbody>\n",
       "</table>\n",
       "</div>"
      ],
      "text/plain": [
       "                name  team_id                 city  country   league\n",
       "0            Arsenal     1609               London  England  England\n",
       "1            Chelsea     1610               London  England  England\n",
       "2  Manchester_United     1611           Manchester  England  England\n",
       "3          Liverpool     1612            Liverpool  England  England\n",
       "4   Newcastle_United     1613  Newcastle_upon_Tyne  England  England"
      ]
     },
     "execution_count": 12,
     "metadata": {},
     "output_type": "execute_result"
    }
   ],
   "source": [
    "TM = pd.read_csv('./team.csv', header=0)\n",
    "TM.head()"
   ]
  },
  {
   "attachments": {},
   "cell_type": "markdown",
   "metadata": {},
   "source": [
    "このデータの各行には2017年度ヨーロッパリーグに出場したクラブチームの情報が収められている．\n",
    "各列の意味は下表の通りである．\n",
    "例えば，第0行はイングランド・プレミアリーグに所属するアーセナルのチーム情報を表している．\n",
    "\n",
    "| 変数名 | 内容 |\n",
    "| ---- | ---- |\n",
    "| name | チームの俗称 |\n",
    "| team_id | チームID|\n",
    "| city | チームの所在都市 |\n",
    "| country | チームの所在国 |\n",
    "| league | チームの所属リーグ | "
   ]
  },
  {
   "attachments": {},
   "cell_type": "markdown",
   "metadata": {},
   "source": [
    "以下では，イングランド・プレミアリーグのデータを解析対象とする．\n",
    "そこで，条件付き抽出を用いて，`TM`と`GM`からイングランド・プレミアリーグのデータだけ抽出する．"
   ]
  },
  {
   "cell_type": "code",
   "execution_count": 14,
   "metadata": {},
   "outputs": [],
   "source": [
    "GM_E = GM.loc[GM['league']=='England']\n",
    "TM_E = TM.loc[TM['league']=='England']"
   ]
  },
  {
   "attachments": {},
   "cell_type": "markdown",
   "metadata": {},
   "source": [
    "### １チームのリーグ成績"
   ]
  },
  {
   "attachments": {},
   "cell_type": "markdown",
   "metadata": {},
   "source": [
    "チームプロフィール`TM_E`の先頭行のチーム（アーセナル）に対し，リーグ成績を求めてみよう．\n",
    "このチームのチームIDとチーム名を取得するには以下のように`iloc`属性を用いて先頭行を抽出すれば良い．"
   ]
  },
  {
   "cell_type": "code",
   "execution_count": 15,
   "metadata": {},
   "outputs": [
    {
     "name": "stdout",
     "output_type": "stream",
     "text": [
      "1609\n",
      "Arsenal\n"
     ]
    }
   ],
   "source": [
    "tm_id = TM_E['team_id'].iloc[0]\n",
    "tm_name = TM_E['name'].iloc[0]\n",
    "print(tm_id)\n",
    "print(tm_name)"
   ]
  },
  {
   "attachments": {},
   "cell_type": "markdown",
   "metadata": {},
   "source": [
    "**得点・失点・得失点差**\n",
    "\n",
    "得点データ`GM`では，2チームをhome，awayによって区別している．\n",
    "よって，チームごとに得点と失点を集計するには，ホームゲームとアウェイゲームに分けて処理する必要がある．\n",
    "ホームゲームでは，`home_score`列が得点，`away_score`列が失点に対応し，アウェイゲームでは逆になる．\n",
    "このことに注意し，アーセナルのホームゲームの得点・失点を`S_h`，アウェイゲームの得点・失点を`S_a`に保存する．\n",
    "また，得失点差の列`diff`を追加する．"
   ]
  },
  {
   "cell_type": "code",
   "execution_count": 16,
   "metadata": {},
   "outputs": [
    {
     "data": {
      "text/html": [
       "<div>\n",
       "<style scoped>\n",
       "    .dataframe tbody tr th:only-of-type {\n",
       "        vertical-align: middle;\n",
       "    }\n",
       "\n",
       "    .dataframe tbody tr th {\n",
       "        vertical-align: top;\n",
       "    }\n",
       "\n",
       "    .dataframe thead th {\n",
       "        text-align: right;\n",
       "    }\n",
       "</style>\n",
       "<table border=\"1\" class=\"dataframe\">\n",
       "  <thead>\n",
       "    <tr style=\"text-align: right;\">\n",
       "      <th></th>\n",
       "      <th>goal</th>\n",
       "      <th>loss</th>\n",
       "    </tr>\n",
       "  </thead>\n",
       "  <tbody>\n",
       "    <tr>\n",
       "      <th>0</th>\n",
       "      <td>4</td>\n",
       "      <td>3</td>\n",
       "    </tr>\n",
       "    <tr>\n",
       "      <th>31</th>\n",
       "      <td>3</td>\n",
       "      <td>0</td>\n",
       "    </tr>\n",
       "    <tr>\n",
       "      <th>51</th>\n",
       "      <td>2</td>\n",
       "      <td>0</td>\n",
       "    </tr>\n",
       "    <tr>\n",
       "      <th>61</th>\n",
       "      <td>2</td>\n",
       "      <td>0</td>\n",
       "    </tr>\n",
       "    <tr>\n",
       "      <th>91</th>\n",
       "      <td>2</td>\n",
       "      <td>1</td>\n",
       "    </tr>\n",
       "  </tbody>\n",
       "</table>\n",
       "</div>"
      ],
      "text/plain": [
       "    goal  loss\n",
       "0      4     3\n",
       "31     3     0\n",
       "51     2     0\n",
       "61     2     0\n",
       "91     2     1"
      ]
     },
     "execution_count": 16,
     "metadata": {},
     "output_type": "execute_result"
    }
   ],
   "source": [
    "# 得点と失点（ホームゲーム）\n",
    "S_h = GM_E.loc[(GM_E['home_id']==tm_id), ['home_score', 'away_score']] # 対象とするチームのスコアを抽出\n",
    "S_h = S_h.rename(columns={'home_score': 'goal', 'away_score': 'loss'}) # 列ラベルのリネーム\n",
    "S_h.head()"
   ]
  },
  {
   "cell_type": "code",
   "execution_count": 17,
   "metadata": {},
   "outputs": [
    {
     "data": {
      "text/html": [
       "<div>\n",
       "<style scoped>\n",
       "    .dataframe tbody tr th:only-of-type {\n",
       "        vertical-align: middle;\n",
       "    }\n",
       "\n",
       "    .dataframe tbody tr th {\n",
       "        vertical-align: top;\n",
       "    }\n",
       "\n",
       "    .dataframe thead th {\n",
       "        text-align: right;\n",
       "    }\n",
       "</style>\n",
       "<table border=\"1\" class=\"dataframe\">\n",
       "  <thead>\n",
       "    <tr style=\"text-align: right;\">\n",
       "      <th></th>\n",
       "      <th>goal</th>\n",
       "      <th>loss</th>\n",
       "    </tr>\n",
       "  </thead>\n",
       "  <tbody>\n",
       "    <tr>\n",
       "      <th>11</th>\n",
       "      <td>0</td>\n",
       "      <td>1</td>\n",
       "    </tr>\n",
       "    <tr>\n",
       "      <th>20</th>\n",
       "      <td>0</td>\n",
       "      <td>4</td>\n",
       "    </tr>\n",
       "    <tr>\n",
       "      <th>44</th>\n",
       "      <td>0</td>\n",
       "      <td>0</td>\n",
       "    </tr>\n",
       "    <tr>\n",
       "      <th>78</th>\n",
       "      <td>1</td>\n",
       "      <td>2</td>\n",
       "    </tr>\n",
       "    <tr>\n",
       "      <th>82</th>\n",
       "      <td>5</td>\n",
       "      <td>2</td>\n",
       "    </tr>\n",
       "  </tbody>\n",
       "</table>\n",
       "</div>"
      ],
      "text/plain": [
       "    goal  loss\n",
       "11     0     1\n",
       "20     0     4\n",
       "44     0     0\n",
       "78     1     2\n",
       "82     5     2"
      ]
     },
     "execution_count": 17,
     "metadata": {},
     "output_type": "execute_result"
    }
   ],
   "source": [
    "# 得点と失点（アウェイゲーム）\n",
    "S_a = GM_E.loc[(GM_E['away_id']==tm_id), ['away_score', 'home_score']] # 対象とするチームのスコアを抽出\n",
    "S_a = S_a.rename(columns={'away_score': 'goal', 'home_score': 'loss'}) # 列ラベルのリネーム\n",
    "S_a.head()"
   ]
  },
  {
   "cell_type": "code",
   "execution_count": 20,
   "metadata": {},
   "outputs": [
    {
     "data": {
      "text/html": [
       "<div>\n",
       "<style scoped>\n",
       "    .dataframe tbody tr th:only-of-type {\n",
       "        vertical-align: middle;\n",
       "    }\n",
       "\n",
       "    .dataframe tbody tr th {\n",
       "        vertical-align: top;\n",
       "    }\n",
       "\n",
       "    .dataframe thead th {\n",
       "        text-align: right;\n",
       "    }\n",
       "</style>\n",
       "<table border=\"1\" class=\"dataframe\">\n",
       "  <thead>\n",
       "    <tr style=\"text-align: right;\">\n",
       "      <th></th>\n",
       "      <th>goal</th>\n",
       "      <th>loss</th>\n",
       "      <th>diff</th>\n",
       "    </tr>\n",
       "  </thead>\n",
       "  <tbody>\n",
       "    <tr>\n",
       "      <th>0</th>\n",
       "      <td>4</td>\n",
       "      <td>3</td>\n",
       "      <td>1</td>\n",
       "    </tr>\n",
       "    <tr>\n",
       "      <th>31</th>\n",
       "      <td>3</td>\n",
       "      <td>0</td>\n",
       "      <td>3</td>\n",
       "    </tr>\n",
       "    <tr>\n",
       "      <th>51</th>\n",
       "      <td>2</td>\n",
       "      <td>0</td>\n",
       "      <td>2</td>\n",
       "    </tr>\n",
       "    <tr>\n",
       "      <th>61</th>\n",
       "      <td>2</td>\n",
       "      <td>0</td>\n",
       "      <td>2</td>\n",
       "    </tr>\n",
       "    <tr>\n",
       "      <th>91</th>\n",
       "      <td>2</td>\n",
       "      <td>1</td>\n",
       "      <td>1</td>\n",
       "    </tr>\n",
       "  </tbody>\n",
       "</table>\n",
       "</div>"
      ],
      "text/plain": [
       "    goal  loss  diff\n",
       "0      4     3     1\n",
       "31     3     0     3\n",
       "51     2     0     2\n",
       "61     2     0     2\n",
       "91     2     1     1"
      ]
     },
     "execution_count": 20,
     "metadata": {},
     "output_type": "execute_result"
    }
   ],
   "source": [
    "# 得失点差列の追加\n",
    "S_h['diff'] = S_h['goal'] - S_h['loss']  # ホーム\n",
    "S_a['diff'] = S_a['goal'] - S_a['loss']  # アウェイ\n",
    "S_h.head()"
   ]
  },
  {
   "attachments": {},
   "cell_type": "markdown",
   "metadata": {},
   "source": [
    "**試合結果**\n",
    "\n",
    "次に，試合結果の列`result`を追加する．\n",
    "勝ちを1，引き分けを0，負けを-1で表すことにすると，各試合の結果は得失点差を変換することで求められる．\n",
    "求め方は色々と考えられるが，以下では`np.sign`関数を使って正の数を1，負の数を-1に変換している．"
   ]
  },
  {
   "cell_type": "code",
   "execution_count": 21,
   "metadata": {},
   "outputs": [
    {
     "data": {
      "text/html": [
       "<div>\n",
       "<style scoped>\n",
       "    .dataframe tbody tr th:only-of-type {\n",
       "        vertical-align: middle;\n",
       "    }\n",
       "\n",
       "    .dataframe tbody tr th {\n",
       "        vertical-align: top;\n",
       "    }\n",
       "\n",
       "    .dataframe thead th {\n",
       "        text-align: right;\n",
       "    }\n",
       "</style>\n",
       "<table border=\"1\" class=\"dataframe\">\n",
       "  <thead>\n",
       "    <tr style=\"text-align: right;\">\n",
       "      <th></th>\n",
       "      <th>goal</th>\n",
       "      <th>loss</th>\n",
       "      <th>diff</th>\n",
       "      <th>result</th>\n",
       "    </tr>\n",
       "  </thead>\n",
       "  <tbody>\n",
       "    <tr>\n",
       "      <th>0</th>\n",
       "      <td>4</td>\n",
       "      <td>3</td>\n",
       "      <td>1</td>\n",
       "      <td>1</td>\n",
       "    </tr>\n",
       "    <tr>\n",
       "      <th>31</th>\n",
       "      <td>3</td>\n",
       "      <td>0</td>\n",
       "      <td>3</td>\n",
       "      <td>1</td>\n",
       "    </tr>\n",
       "    <tr>\n",
       "      <th>51</th>\n",
       "      <td>2</td>\n",
       "      <td>0</td>\n",
       "      <td>2</td>\n",
       "      <td>1</td>\n",
       "    </tr>\n",
       "    <tr>\n",
       "      <th>61</th>\n",
       "      <td>2</td>\n",
       "      <td>0</td>\n",
       "      <td>2</td>\n",
       "      <td>1</td>\n",
       "    </tr>\n",
       "    <tr>\n",
       "      <th>91</th>\n",
       "      <td>2</td>\n",
       "      <td>1</td>\n",
       "      <td>1</td>\n",
       "      <td>1</td>\n",
       "    </tr>\n",
       "  </tbody>\n",
       "</table>\n",
       "</div>"
      ],
      "text/plain": [
       "    goal  loss  diff  result\n",
       "0      4     3     1       1\n",
       "31     3     0     3       1\n",
       "51     2     0     2       1\n",
       "61     2     0     2       1\n",
       "91     2     1     1       1"
      ]
     },
     "execution_count": 21,
     "metadata": {},
     "output_type": "execute_result"
    }
   ],
   "source": [
    "S_h['result'] = np.sign(S_h['diff']) # ホーム\n",
    "S_a['result'] = np.sign(S_a['diff']) # アウェイ\n",
    "S_h.head()"
   ]
  },
  {
   "attachments": {},
   "cell_type": "markdown",
   "metadata": {},
   "source": [
    "**ホームゲームとアウェイゲームのデータを結合**\n",
    "\n",
    "次に，`pd.concat`関数を使ってホームゲームとアウェイゲームのデータを統合する．"
   ]
  },
  {
   "cell_type": "code",
   "execution_count": 22,
   "metadata": {},
   "outputs": [
    {
     "data": {
      "text/html": [
       "<div>\n",
       "<style scoped>\n",
       "    .dataframe tbody tr th:only-of-type {\n",
       "        vertical-align: middle;\n",
       "    }\n",
       "\n",
       "    .dataframe tbody tr th {\n",
       "        vertical-align: top;\n",
       "    }\n",
       "\n",
       "    .dataframe thead th {\n",
       "        text-align: right;\n",
       "    }\n",
       "</style>\n",
       "<table border=\"1\" class=\"dataframe\">\n",
       "  <thead>\n",
       "    <tr style=\"text-align: right;\">\n",
       "      <th></th>\n",
       "      <th>goal</th>\n",
       "      <th>loss</th>\n",
       "      <th>diff</th>\n",
       "      <th>result</th>\n",
       "    </tr>\n",
       "  </thead>\n",
       "  <tbody>\n",
       "    <tr>\n",
       "      <th>0</th>\n",
       "      <td>4</td>\n",
       "      <td>3</td>\n",
       "      <td>1</td>\n",
       "      <td>1</td>\n",
       "    </tr>\n",
       "    <tr>\n",
       "      <th>31</th>\n",
       "      <td>3</td>\n",
       "      <td>0</td>\n",
       "      <td>3</td>\n",
       "      <td>1</td>\n",
       "    </tr>\n",
       "    <tr>\n",
       "      <th>51</th>\n",
       "      <td>2</td>\n",
       "      <td>0</td>\n",
       "      <td>2</td>\n",
       "      <td>1</td>\n",
       "    </tr>\n",
       "    <tr>\n",
       "      <th>61</th>\n",
       "      <td>2</td>\n",
       "      <td>0</td>\n",
       "      <td>2</td>\n",
       "      <td>1</td>\n",
       "    </tr>\n",
       "    <tr>\n",
       "      <th>91</th>\n",
       "      <td>2</td>\n",
       "      <td>1</td>\n",
       "      <td>1</td>\n",
       "      <td>1</td>\n",
       "    </tr>\n",
       "  </tbody>\n",
       "</table>\n",
       "</div>"
      ],
      "text/plain": [
       "    goal  loss  diff  result\n",
       "0      4     3     1       1\n",
       "31     3     0     3       1\n",
       "51     2     0     2       1\n",
       "61     2     0     2       1\n",
       "91     2     1     1       1"
      ]
     },
     "execution_count": 22,
     "metadata": {},
     "output_type": "execute_result"
    }
   ],
   "source": [
    "S = pd.concat([S_h, S_a])\n",
    "S.head()"
   ]
  },
  {
   "attachments": {},
   "cell_type": "markdown",
   "metadata": {},
   "source": [
    "**勝ち点**"
   ]
  },
  {
   "attachments": {},
   "cell_type": "markdown",
   "metadata": {},
   "source": [
    "勝ち点は勝ちの場合に3，引き分けの場合に1として計算する．"
   ]
  },
  {
   "cell_type": "code",
   "execution_count": 23,
   "metadata": {},
   "outputs": [],
   "source": [
    "S['point'] = 0\n",
    "S.loc[S['result']==1, 'point'] = 3\n",
    "S.loc[S['result']==0, 'point'] = 1"
   ]
  },
  {
   "attachments": {},
   "cell_type": "markdown",
   "metadata": {},
   "source": [
    "**最終成績**"
   ]
  },
  {
   "attachments": {},
   "cell_type": "markdown",
   "metadata": {},
   "source": [
    "最後に各試合のデータを集計し，総得点，総失点，総得失点差，勝ち点を計算すれば，アーセナルのリーグ成績が求められる．\n",
    "他のチームの成績を統合することを考えて，以下のようにDataFrameの形に整形しておく．"
   ]
  },
  {
   "cell_type": "code",
   "execution_count": 43,
   "metadata": {},
   "outputs": [
    {
     "data": {
      "text/html": [
       "<div>\n",
       "<style scoped>\n",
       "    .dataframe tbody tr th:only-of-type {\n",
       "        vertical-align: middle;\n",
       "    }\n",
       "\n",
       "    .dataframe tbody tr th {\n",
       "        vertical-align: top;\n",
       "    }\n",
       "\n",
       "    .dataframe thead th {\n",
       "        text-align: right;\n",
       "    }\n",
       "</style>\n",
       "<table border=\"1\" class=\"dataframe\">\n",
       "  <thead>\n",
       "    <tr style=\"text-align: right;\">\n",
       "      <th></th>\n",
       "      <th>チーム</th>\n",
       "      <th>ID</th>\n",
       "      <th>得点</th>\n",
       "      <th>失点</th>\n",
       "      <th>得失点</th>\n",
       "      <th>勝点</th>\n",
       "    </tr>\n",
       "  </thead>\n",
       "  <tbody>\n",
       "    <tr>\n",
       "      <th>0</th>\n",
       "      <td>Swansea_City</td>\n",
       "      <td>10531</td>\n",
       "      <td>28</td>\n",
       "      <td>56</td>\n",
       "      <td>-28</td>\n",
       "      <td>33</td>\n",
       "    </tr>\n",
       "  </tbody>\n",
       "</table>\n",
       "</div>"
      ],
      "text/plain": [
       "            チーム     ID  得点  失点  得失点  勝点\n",
       "0  Swansea_City  10531  28  56  -28  33"
      ]
     },
     "execution_count": 43,
     "metadata": {},
     "output_type": "execute_result"
    }
   ],
   "source": [
    "pd.DataFrame([[tm_name, tm_id, S['goal'].sum(), S['loss'].sum(), S['diff'].sum(), S['point'].sum()]],\n",
    "              columns=['チーム', 'ID', '得点', '失点', '得失点', '勝点'])"
   ]
  },
  {
   "attachments": {},
   "cell_type": "markdown",
   "metadata": {},
   "source": [
    "### 全チームのリーグ成績と順位表"
   ]
  },
  {
   "attachments": {},
   "cell_type": "markdown",
   "metadata": {},
   "source": [
    "全チームのリーグ成績を求めるには，`for`文を用いて上の手続きを繰り返せば良い．\n",
    "以下では，`Rank`という名前のDataFrameに全チームのリーグ成績を保存する．"
   ]
  },
  {
   "cell_type": "code",
   "execution_count": 40,
   "metadata": {},
   "outputs": [],
   "source": [
    "Rank = pd.DataFrame(columns=['チーム', 'ID', '得点', '失点', '得失点', '勝点'])\n",
    "for i in range(len(TM_E)):\n",
    "    tm_id = TM_E['team_id'].iloc[i]\n",
    "    tm_name = TM_E['name'].iloc[i]\n",
    "    \n",
    "    '''ホームゲーム'''\n",
    "    # 得点と失点\n",
    "    S_h = GM_E.loc[(GM_E['home_id']==tm_id), ['home_score', 'away_score']]\n",
    "    S_h = S_h.rename(columns={'home_score': 'goal', 'away_score': 'loss'})\n",
    "\n",
    "    # 得失点差\n",
    "    S_h['diff'] = S_h['goal'] - S_h['loss']\n",
    "\n",
    "    # 勝敗（勝：1，分：0，負：-1）\n",
    "    S_h['result'] = np.sign(S_h['diff']) # 符号に応じて1,0,-1を返す\n",
    "    \n",
    "    '''アウェイゲーム'''\n",
    "    # 得点と失点\n",
    "    S_a = GM_E.loc[(GM_E['away_id']==tm_id), ['home_score', 'away_score']]\n",
    "    S_a = S_a.rename(columns={'away_score': 'goal', 'home_score': 'loss'})\n",
    "\n",
    "    # 得失点差\n",
    "    S_a['diff'] = S_a['goal'] - S_a['loss']\n",
    "\n",
    "    # 勝敗（勝：1，分：0，負：-1）\n",
    "    S_a['result'] = np.sign(S_a['diff'])  # 符号に応じて1,0,-1を返す\n",
    "    \n",
    "    # 統合\n",
    "    S = pd.concat([S_h, S_a])\n",
    "    \n",
    "    # 勝ち点\n",
    "    S['point'] = 0\n",
    "    S.loc[S['result']==1, 'point'] = 3\n",
    "    S.loc[S['result']==0, 'point'] = 1\n",
    "    \n",
    "    # 順位表への統合\n",
    "    gf = S['goal'].sum()  # 総得点\n",
    "    ga = S['loss'].sum()  # 総失点\n",
    "    gd = S['diff'].sum()  # 総得失点差\n",
    "    pt = S['point'].sum()  # 勝ち点\n",
    "    \n",
    "    # チーム成績の結合\n",
    "    df = pd.DataFrame([[tm_name, tm_id, gf, ga, gd, pt]], columns=Rank.columns)\n",
    "    Rank = pd.concat([Rank, df])"
   ]
  },
  {
   "attachments": {},
   "cell_type": "markdown",
   "metadata": {},
   "source": [
    "最後に，勝ち点の順にソートし，インデックスを付け直す．"
   ]
  },
  {
   "cell_type": "code",
   "execution_count": 41,
   "metadata": {},
   "outputs": [],
   "source": [
    "# ソートと再インデックス\n",
    "Rank = Rank.sort_values(['勝点'], ascending=False)\n",
    "Rank = Rank.reset_index(drop=1)"
   ]
  },
  {
   "attachments": {},
   "cell_type": "markdown",
   "metadata": {},
   "source": [
    "以上により，イングランド・プレミアリーグの順位表が作成できた．\n",
    "\n",
    "※ [Wikipedia](https://ja.wikipedia.org/wiki/%E3%83%97%E3%83%AC%E3%83%9F%E3%82%A2%E3%83%AA%E3%83%BC%E3%82%B02017-2018)の情報とは一部合わないが，[Premier League Table, Form Guide & Season Archives](https://www.premierleague.com/tables?co=1&se=79&mw=-1&ha=-1)とは一致している．"
   ]
  },
  {
   "cell_type": "code",
   "execution_count": 42,
   "metadata": {},
   "outputs": [
    {
     "data": {
      "text/html": [
       "<div>\n",
       "<style scoped>\n",
       "    .dataframe tbody tr th:only-of-type {\n",
       "        vertical-align: middle;\n",
       "    }\n",
       "\n",
       "    .dataframe tbody tr th {\n",
       "        vertical-align: top;\n",
       "    }\n",
       "\n",
       "    .dataframe thead th {\n",
       "        text-align: right;\n",
       "    }\n",
       "</style>\n",
       "<table border=\"1\" class=\"dataframe\">\n",
       "  <thead>\n",
       "    <tr style=\"text-align: right;\">\n",
       "      <th></th>\n",
       "      <th>チーム</th>\n",
       "      <th>ID</th>\n",
       "      <th>得点</th>\n",
       "      <th>失点</th>\n",
       "      <th>得失点</th>\n",
       "      <th>勝点</th>\n",
       "    </tr>\n",
       "  </thead>\n",
       "  <tbody>\n",
       "    <tr>\n",
       "      <th>0</th>\n",
       "      <td>Manchester_City</td>\n",
       "      <td>1625</td>\n",
       "      <td>106</td>\n",
       "      <td>27</td>\n",
       "      <td>79</td>\n",
       "      <td>100</td>\n",
       "    </tr>\n",
       "    <tr>\n",
       "      <th>1</th>\n",
       "      <td>Manchester_United</td>\n",
       "      <td>1611</td>\n",
       "      <td>68</td>\n",
       "      <td>28</td>\n",
       "      <td>40</td>\n",
       "      <td>81</td>\n",
       "    </tr>\n",
       "    <tr>\n",
       "      <th>2</th>\n",
       "      <td>Tottenham_Hotspur</td>\n",
       "      <td>1624</td>\n",
       "      <td>74</td>\n",
       "      <td>36</td>\n",
       "      <td>38</td>\n",
       "      <td>77</td>\n",
       "    </tr>\n",
       "    <tr>\n",
       "      <th>3</th>\n",
       "      <td>Liverpool</td>\n",
       "      <td>1612</td>\n",
       "      <td>84</td>\n",
       "      <td>38</td>\n",
       "      <td>46</td>\n",
       "      <td>75</td>\n",
       "    </tr>\n",
       "    <tr>\n",
       "      <th>4</th>\n",
       "      <td>Chelsea</td>\n",
       "      <td>1610</td>\n",
       "      <td>62</td>\n",
       "      <td>38</td>\n",
       "      <td>24</td>\n",
       "      <td>70</td>\n",
       "    </tr>\n",
       "    <tr>\n",
       "      <th>5</th>\n",
       "      <td>Arsenal</td>\n",
       "      <td>1609</td>\n",
       "      <td>74</td>\n",
       "      <td>51</td>\n",
       "      <td>23</td>\n",
       "      <td>63</td>\n",
       "    </tr>\n",
       "    <tr>\n",
       "      <th>6</th>\n",
       "      <td>Burnley</td>\n",
       "      <td>1646</td>\n",
       "      <td>36</td>\n",
       "      <td>39</td>\n",
       "      <td>-3</td>\n",
       "      <td>54</td>\n",
       "    </tr>\n",
       "    <tr>\n",
       "      <th>7</th>\n",
       "      <td>Everton</td>\n",
       "      <td>1623</td>\n",
       "      <td>44</td>\n",
       "      <td>58</td>\n",
       "      <td>-14</td>\n",
       "      <td>49</td>\n",
       "    </tr>\n",
       "    <tr>\n",
       "      <th>8</th>\n",
       "      <td>Leicester_City</td>\n",
       "      <td>1631</td>\n",
       "      <td>56</td>\n",
       "      <td>60</td>\n",
       "      <td>-4</td>\n",
       "      <td>47</td>\n",
       "    </tr>\n",
       "    <tr>\n",
       "      <th>9</th>\n",
       "      <td>AFC_Bournemouth</td>\n",
       "      <td>1659</td>\n",
       "      <td>45</td>\n",
       "      <td>61</td>\n",
       "      <td>-16</td>\n",
       "      <td>44</td>\n",
       "    </tr>\n",
       "    <tr>\n",
       "      <th>10</th>\n",
       "      <td>Crystal_Palace</td>\n",
       "      <td>1628</td>\n",
       "      <td>45</td>\n",
       "      <td>55</td>\n",
       "      <td>-10</td>\n",
       "      <td>44</td>\n",
       "    </tr>\n",
       "    <tr>\n",
       "      <th>11</th>\n",
       "      <td>Newcastle_United</td>\n",
       "      <td>1613</td>\n",
       "      <td>39</td>\n",
       "      <td>47</td>\n",
       "      <td>-8</td>\n",
       "      <td>44</td>\n",
       "    </tr>\n",
       "    <tr>\n",
       "      <th>12</th>\n",
       "      <td>West_Ham_United</td>\n",
       "      <td>1633</td>\n",
       "      <td>48</td>\n",
       "      <td>68</td>\n",
       "      <td>-20</td>\n",
       "      <td>42</td>\n",
       "    </tr>\n",
       "    <tr>\n",
       "      <th>13</th>\n",
       "      <td>Watford</td>\n",
       "      <td>1644</td>\n",
       "      <td>44</td>\n",
       "      <td>64</td>\n",
       "      <td>-20</td>\n",
       "      <td>41</td>\n",
       "    </tr>\n",
       "    <tr>\n",
       "      <th>14</th>\n",
       "      <td>Brighton_&amp;_Hove_Albion</td>\n",
       "      <td>1651</td>\n",
       "      <td>34</td>\n",
       "      <td>54</td>\n",
       "      <td>-20</td>\n",
       "      <td>40</td>\n",
       "    </tr>\n",
       "    <tr>\n",
       "      <th>15</th>\n",
       "      <td>Huddersfield_Town</td>\n",
       "      <td>1673</td>\n",
       "      <td>28</td>\n",
       "      <td>58</td>\n",
       "      <td>-30</td>\n",
       "      <td>37</td>\n",
       "    </tr>\n",
       "    <tr>\n",
       "      <th>16</th>\n",
       "      <td>Southampton</td>\n",
       "      <td>1619</td>\n",
       "      <td>37</td>\n",
       "      <td>56</td>\n",
       "      <td>-19</td>\n",
       "      <td>36</td>\n",
       "    </tr>\n",
       "    <tr>\n",
       "      <th>17</th>\n",
       "      <td>Stoke_City</td>\n",
       "      <td>1639</td>\n",
       "      <td>35</td>\n",
       "      <td>68</td>\n",
       "      <td>-33</td>\n",
       "      <td>33</td>\n",
       "    </tr>\n",
       "    <tr>\n",
       "      <th>18</th>\n",
       "      <td>Swansea_City</td>\n",
       "      <td>10531</td>\n",
       "      <td>28</td>\n",
       "      <td>56</td>\n",
       "      <td>-28</td>\n",
       "      <td>33</td>\n",
       "    </tr>\n",
       "    <tr>\n",
       "      <th>19</th>\n",
       "      <td>West_Bromwich_Albion</td>\n",
       "      <td>1627</td>\n",
       "      <td>31</td>\n",
       "      <td>56</td>\n",
       "      <td>-25</td>\n",
       "      <td>31</td>\n",
       "    </tr>\n",
       "  </tbody>\n",
       "</table>\n",
       "</div>"
      ],
      "text/plain": [
       "                       チーム     ID   得点  失点  得失点   勝点\n",
       "0          Manchester_City   1625  106  27   79  100\n",
       "1        Manchester_United   1611   68  28   40   81\n",
       "2        Tottenham_Hotspur   1624   74  36   38   77\n",
       "3                Liverpool   1612   84  38   46   75\n",
       "4                  Chelsea   1610   62  38   24   70\n",
       "5                  Arsenal   1609   74  51   23   63\n",
       "6                  Burnley   1646   36  39   -3   54\n",
       "7                  Everton   1623   44  58  -14   49\n",
       "8           Leicester_City   1631   56  60   -4   47\n",
       "9          AFC_Bournemouth   1659   45  61  -16   44\n",
       "10          Crystal_Palace   1628   45  55  -10   44\n",
       "11        Newcastle_United   1613   39  47   -8   44\n",
       "12         West_Ham_United   1633   48  68  -20   42\n",
       "13                 Watford   1644   44  64  -20   41\n",
       "14  Brighton_&_Hove_Albion   1651   34  54  -20   40\n",
       "15       Huddersfield_Town   1673   28  58  -30   37\n",
       "16             Southampton   1619   37  56  -19   36\n",
       "17              Stoke_City   1639   35  68  -33   33\n",
       "18            Swansea_City  10531   28  56  -28   33\n",
       "19    West_Bromwich_Albion   1627   31  56  -25   31"
      ]
     },
     "execution_count": 42,
     "metadata": {},
     "output_type": "execute_result"
    }
   ],
   "source": [
    "Rank"
   ]
  },
  {
   "attachments": {},
   "cell_type": "markdown",
   "metadata": {},
   "source": [
    "### 演習問題"
   ]
  },
  {
   "attachments": {},
   "cell_type": "markdown",
   "metadata": {},
   "source": [
    "- イングランド以外のリーグについて，同様の順位表を作成せよ"
   ]
  },
  {
   "attachments": {},
   "cell_type": "markdown",
   "metadata": {},
   "source": [
    "## 得点分布\n",
    "\n",
    "サッカーは非常に得点頻度が低い競技であるが，得点がランダムに入るため常に試合から目が離せない．\n",
    "このようなランダム性はサッカーが人々を熱狂させる理由と考えられるが，一方でランダム性の裏にはきれいな法則が隠れている．"
   ]
  },
  {
   "attachments": {},
   "cell_type": "markdown",
   "metadata": {},
   "source": [
    "### ポアソン分布"
   ]
  },
  {
   "attachments": {},
   "cell_type": "markdown",
   "metadata": {},
   "source": [
    "**二項分布からポアソン分布へ**\n",
    "\n",
    "成功確率が $ p $ の試行を独立に $ n $ 回繰り返すことを考える．\n",
    "例えば，サイコロを振って特定の目が出ることを成功とすると，$ p=1/6 $ である．\n",
    "いま，$ n $ 回中 $ x $ 回成功する確率を $ f(x) $ とすると，$ f(x) $ は二項分布\n",
    "\n",
    "$$\n",
    "    f(x) = \\binom{n}{x}p^{x}(1-p)^{n-x}\n",
    "$$\n",
    "\n",
    "に従う．\n",
    "この式において，$ p^{x}(1-p)^{n-x} $ は成功が $ x $回，失敗が $ n-x $ 回生じる確率を意味する．\n",
    "また，$ \\binom{n}{x} $ は $ n $ 個から $ x $ 個を取り出す組み合わせの数 $ _{n}C_{x} $ を表し，$ n $ 回の中で何回目に成功するかの場合の数に対応する．"
   ]
  },
  {
   "attachments": {},
   "cell_type": "markdown",
   "metadata": {},
   "source": [
    "いま，成功確率 $ p $ が小さく，かつ試行回数 $ n $ が大きい極限を考える．\n",
    "ただし，極限を取る際に発散しないように平均値が一定値 $ np=m $ になるようにする．\n",
    "このような条件で $n$ 回中 $x$ 回成功する確率 $f(x)$ は，二項分布の式に $ np=m $ を代入し，極限 $ p\\to 0,\\ n\\to \\infty $ を取ることで\n",
    "\n",
    "$$\n",
    "    f(x) = \\frac{m^{x}}{x!} \\mathrm{e}^{-m}\n",
    "$$\n",
    "\n",
    "と求まる．\n",
    "これを**ポアソン分布**と呼ぶ．\n",
    "ポアソン分布は1つのパラメータ $ m $ だけで特徴づけられ，**期待値と分散はともに $ m $ となる**．\n",
    "ポアソン分布はその導出過程より，**一定の期間内に発生確率の小さい稀な現象を多数回試行した場合に，その発生回数が従う分布である**．\n",
    "実際，以下の現象は全てポアソン分布に従うことが知られている：\n",
    "- 1日の交通事故件数\n",
    "- 1分間の放射性元素の崩壊数\n",
    "- １ヶ月の有感地震の回数\n",
    "- プロシア陸軍で馬に蹴られて死亡した兵士の数"
   ]
  },
  {
   "attachments": {},
   "cell_type": "markdown",
   "metadata": {},
   "source": [
    "**サッカーの得点分布**\n",
    "\n",
    "チームの強さや試合展開など細かいことはひとまず無視し，サッカーにおける得点がランダムに発生すると仮定する．\n",
    "このとき，試合中のどの時点においても一定の得点確率があると見なせば，サッカーは得点確率 $ p $ の小さい試行を何度も繰り返す現象（$ n\\to \\infty $）と見なすことができ，1試合の得点数はポアソン分布に従うことが期待される．"
   ]
  },
  {
   "attachments": {},
   "cell_type": "markdown",
   "metadata": {},
   "source": [
    "### 得点データの要約"
   ]
  },
  {
   "attachments": {},
   "cell_type": "markdown",
   "metadata": {},
   "source": [
    "まずは[game.csv](https://drive.google.com/uc?export=download&id=1gueZANYM2wOkQefKpoA_LplKkG0aXA4A)をダウンロードしてカレントディレクトリに保存し，`GM`という名前のDataFrameに読み込む．"
   ]
  },
  {
   "cell_type": "code",
   "execution_count": 47,
   "metadata": {},
   "outputs": [
    {
     "data": {
      "text/html": [
       "<div>\n",
       "<style scoped>\n",
       "    .dataframe tbody tr th:only-of-type {\n",
       "        vertical-align: middle;\n",
       "    }\n",
       "\n",
       "    .dataframe tbody tr th {\n",
       "        vertical-align: top;\n",
       "    }\n",
       "\n",
       "    .dataframe thead th {\n",
       "        text-align: right;\n",
       "    }\n",
       "</style>\n",
       "<table border=\"1\" class=\"dataframe\">\n",
       "  <thead>\n",
       "    <tr style=\"text-align: right;\">\n",
       "      <th></th>\n",
       "      <th>game_id</th>\n",
       "      <th>league</th>\n",
       "      <th>section</th>\n",
       "      <th>...</th>\n",
       "      <th>home_id</th>\n",
       "      <th>away_score</th>\n",
       "      <th>home_score</th>\n",
       "    </tr>\n",
       "  </thead>\n",
       "  <tbody>\n",
       "    <tr>\n",
       "      <th>0</th>\n",
       "      <td>2499719</td>\n",
       "      <td>England</td>\n",
       "      <td>1</td>\n",
       "      <td>...</td>\n",
       "      <td>1609</td>\n",
       "      <td>3</td>\n",
       "      <td>4</td>\n",
       "    </tr>\n",
       "    <tr>\n",
       "      <th>1</th>\n",
       "      <td>2499723</td>\n",
       "      <td>England</td>\n",
       "      <td>1</td>\n",
       "      <td>...</td>\n",
       "      <td>1623</td>\n",
       "      <td>0</td>\n",
       "      <td>1</td>\n",
       "    </tr>\n",
       "  </tbody>\n",
       "</table>\n",
       "<p>2 rows × 11 columns</p>\n",
       "</div>"
      ],
      "text/plain": [
       "   game_id   league  section  ... home_id away_score home_score\n",
       "0  2499719  England        1  ...    1609          3          4\n",
       "1  2499723  England        1  ...    1623          0          1\n",
       "\n",
       "[2 rows x 11 columns]"
      ]
     },
     "execution_count": 47,
     "metadata": {},
     "output_type": "execute_result"
    }
   ],
   "source": [
    "GM = pd.read_csv('./game.csv', header=0)\n",
    "GM.head(2)"
   ]
  },
  {
   "attachments": {},
   "cell_type": "markdown",
   "metadata": {},
   "source": [
    "この得点データを用いて，リーグごとにアウェイチームとホームチームの得点傾向を調べてみよう．\n",
    "以下はアウェイチームとホームチームの得点の平均値および分散である．\n",
    "この結果からおおよそ以下のようなことが読み取れる\n",
    "- 1試合の得点の平均値はおおよそ1.2点くらいとなっており，サッカーが得点頻度の少ない競技であることが分かる．\n",
    "- ホームとアウェイで比べると，ホームの方がやや平均得点が高い傾向にある．\n",
    "- 得点の平均値と分散はほぼ同じ値となっており，ポアソン分布の性質をおおよそ満たしている．"
   ]
  },
  {
   "cell_type": "code",
   "execution_count": 53,
   "metadata": {},
   "outputs": [
    {
     "name": "stdout",
     "output_type": "stream",
     "text": [
      "away_score    1.147\n",
      "home_score    1.532\n",
      "dtype: float64\n",
      "away_score    1.387\n",
      "home_score    1.796\n",
      "dtype: float64\n"
     ]
    }
   ],
   "source": [
    "# England\n",
    "print(GM.loc[GM['league']=='England', ['away_score', 'home_score']].mean())\n",
    "print(GM.loc[GM['league']=='England', ['away_score', 'home_score']].var())"
   ]
  },
  {
   "cell_type": "code",
   "execution_count": 54,
   "metadata": {},
   "outputs": [
    {
     "name": "stdout",
     "output_type": "stream",
     "text": [
      "away_score    1.189\n",
      "home_score    1.529\n",
      "dtype: float64\n",
      "away_score    1.267\n",
      "home_score    1.817\n",
      "dtype: float64\n"
     ]
    }
   ],
   "source": [
    "# France\n",
    "print(GM.loc[GM['league']=='France', ['away_score', 'home_score']].mean())\n",
    "print(GM.loc[GM['league']=='France', ['away_score', 'home_score']].var())"
   ]
  },
  {
   "cell_type": "code",
   "execution_count": 55,
   "metadata": {},
   "outputs": [
    {
     "name": "stdout",
     "output_type": "stream",
     "text": [
      "away_score    1.193\n",
      "home_score    1.601\n",
      "dtype: float64\n",
      "away_score    1.291\n",
      "home_score    1.644\n",
      "dtype: float64\n"
     ]
    }
   ],
   "source": [
    "# Germany\n",
    "print(GM.loc[GM['league']=='Germany', ['away_score', 'home_score']].mean())\n",
    "print(GM.loc[GM['league']=='Germany', ['away_score', 'home_score']].var())"
   ]
  },
  {
   "cell_type": "code",
   "execution_count": 57,
   "metadata": {},
   "outputs": [
    {
     "name": "stdout",
     "output_type": "stream",
     "text": [
      "away_score    1.221\n",
      "home_score    1.455\n",
      "dtype: float64\n",
      "away_score    1.413\n",
      "home_score    1.721\n",
      "dtype: float64\n"
     ]
    }
   ],
   "source": [
    "# Italy\n",
    "print(GM.loc[GM['league']=='Italy', ['away_score', 'home_score']].mean())\n",
    "print(GM.loc[GM['league']=='Italy', ['away_score', 'home_score']].var())"
   ]
  },
  {
   "cell_type": "code",
   "execution_count": 58,
   "metadata": {},
   "outputs": [
    {
     "name": "stdout",
     "output_type": "stream",
     "text": [
      "away_score    1.147\n",
      "home_score    1.547\n",
      "dtype: float64\n",
      "away_score    1.408\n",
      "home_score    1.900\n",
      "dtype: float64\n"
     ]
    }
   ],
   "source": [
    "# Spain\n",
    "print(GM.loc[GM['league']=='Spain', ['away_score', 'home_score']].mean())\n",
    "print(GM.loc[GM['league']=='Spain', ['away_score', 'home_score']].var())"
   ]
  },
  {
   "attachments": {},
   "cell_type": "markdown",
   "metadata": {},
   "source": [
    "### 得点分布"
   ]
  },
  {
   "attachments": {},
   "cell_type": "markdown",
   "metadata": {},
   "source": [
    "平均値と分散の一致だけではポアソン分布に従う根拠として乏しい．\n",
    "そこで，リーグ別にホームチームの得点のヒストグラムを求めてみよう．\n",
    "以下はイングランド・プレミアリーグのホームチームの得点分布である．"
   ]
  },
  {
   "cell_type": "code",
   "execution_count": 70,
   "metadata": {},
   "outputs": [
    {
     "data": {
      "image/png": "[encoded data removed]",
      "text/plain": [
       "<Figure size 400x300 with 1 Axes>"
      ]
     },
     "metadata": {
      "filenames": {
       "image/png": "/Users/narizuka/work/document/lecture/rissho/sport_programming/book/_build/jupyter_execute/chap_6/6_event_57_0.png"
      }
     },
     "output_type": "display_data"
    }
   ],
   "source": [
    "data = GM.loc[GM['league']=='England', 'home_score']\n",
    "\n",
    "fig, ax = plt.subplots(figsize=(4,3))\n",
    "x = np.arange(data.max()+2)\n",
    "ax.hist(data, \n",
    "        bins=x, # 階級の左端の値を指定する\n",
    "        align='left',    # バーの中央を階級の左端に合わせる\n",
    "        histtype='bar',  # ヒストグラムのスタイル\n",
    "        color='gray',    # バーの色\n",
    "        edgecolor='k',   # バーの枠線の色\n",
    "        rwidth=0.2       # バーの幅\n",
    "        )\n",
    "\n",
    "ax.set_xlabel('1試合の得点', fontsize=12)\n",
    "ax.set_ylabel('試合数', fontsize=12)\n",
    "ax.set_xticks(x);"
   ]
  },
  {
   "attachments": {},
   "cell_type": "markdown",
   "metadata": {},
   "source": [
    "次に，上のヒストグラムがポアソン分布に従っているか調べるため，試合データから求めた平均値をパラメータとするポアソン分布を描いてみる．\n",
    "イングランド・プレミアリーグのホームチームの平均得点は1.53であったので，\n",
    "\n",
    "$$\n",
    "    f(x) = \\frac{1.53^{x}}{x!} \\mathrm{e}^{-1.53}\n",
    "$$\n",
    "\n",
    "のグラフを描けば良い．"
   ]
  },
  {
   "cell_type": "code",
   "execution_count": 71,
   "metadata": {},
   "outputs": [
    {
     "data": {
      "text/plain": [
       "[<matplotlib.lines.Line2D at 0x1cbf03c40>]"
      ]
     },
     "execution_count": 71,
     "metadata": {},
     "output_type": "execute_result"
    },
    {
     "data": {
      "image/png": "[encoded data removed]",
      "text/plain": [
       "<Figure size 400x300 with 1 Axes>"
      ]
     },
     "metadata": {
      "filenames": {
       "image/png": "/Users/narizuka/work/document/lecture/rissho/sport_programming/book/_build/jupyter_execute/chap_6/6_event_59_1.png"
      }
     },
     "output_type": "display_data"
    }
   ],
   "source": [
    "from scipy.stats import poisson\n",
    "\n",
    "fig, ax = plt.subplots(figsize=(4,3))\n",
    "x = np.arange(data.max()+2)\n",
    "fx = poisson.pmf(x, data.mean())\n",
    "ax.plot(x, fx, '-ok')"
   ]
  },
  {
   "attachments": {},
   "cell_type": "markdown",
   "metadata": {},
   "source": [
    "上のグラフを見比べると，確かに似た分布になっていることが分かる．\n",
    "そこで，最後に２つのグラフを合わせよう．"
   ]
  },
  {
   "cell_type": "code",
   "execution_count": 72,
   "metadata": {},
   "outputs": [
    {
     "data": {
      "image/png": "[encoded data removed]",
      "text/plain": [
       "<Figure size 400x300 with 1 Axes>"
      ]
     },
     "metadata": {
      "filenames": {
       "image/png": "/Users/narizuka/work/document/lecture/rissho/sport_programming/book/_build/jupyter_execute/chap_6/6_event_61_0.png"
      }
     },
     "output_type": "display_data"
    }
   ],
   "source": [
    "from scipy.stats import poisson\n",
    "data = GM.loc[GM['league']=='England', 'home_score']\n",
    "\n",
    "fig, ax = plt.subplots(figsize=(4,3))\n",
    "x = np.arange(data.max()+2)\n",
    "ax.hist(data, \n",
    "        bins=x, # 階級の左端の値を指定する\n",
    "        align='left',    # バーの中央を階級の左端に合わせる\n",
    "        histtype='bar',  # ヒストグラムのスタイル\n",
    "        color='gray',    # バーの色\n",
    "        edgecolor='k',   # バーの枠線の色\n",
    "        rwidth=0.2\n",
    "        )\n",
    "\n",
    "fx = data.size * poisson.pmf(x, data.mean())\n",
    "ax.plot(x, fx, '-ok')\n",
    "\n",
    "ax.set_xlabel('1試合の得点', fontsize=12)\n",
    "ax.set_ylabel('試合数', fontsize=12)\n",
    "ax.set_xticks(x);"
   ]
  },
  {
   "attachments": {},
   "cell_type": "markdown",
   "metadata": {},
   "source": [
    "実データ（棒グラフ）とポアソン分布（折れ線）の概形はおおよそ一致していることが分かる．\n",
    "これは，得点の平均値と分散が近い値になったことと共に，サッカーの得点分布がポアソン分布に従うことを裏付ける材料となる．\n",
    "もちろん，サッカーの得点分布が普遍的にポアソン分布に従うかどうかは，他のリーグのデータを調べなければわからない（確かめてみよ）．\n",
    "また，$\\chi^2$検定などを用いてより定量的な検証を行うことも必要である．"
   ]
  },
  {
   "attachments": {},
   "cell_type": "markdown",
   "metadata": {},
   "source": [
    "### 演習問題"
   ]
  },
  {
   "attachments": {},
   "cell_type": "markdown",
   "metadata": {},
   "source": [
    "- 他のリーグについて，ホームチーム（またはアウェイチーム）の得点分布を描画せよ．\n",
    "- 実データから求めた平均値をパラメータとするポアソン分布を同じグラフに描画せよ．"
   ]
  },
  {
   "attachments": {},
   "cell_type": "markdown",
   "metadata": {},
   "source": [
    "## イベントデータの解析"
   ]
  },
  {
   "attachments": {},
   "cell_type": "markdown",
   "metadata": {},
   "source": [
    "Pappalardoデータセットのイベントデータはイベントログとイベントタグの2種類から成る：\n",
    "- イベントログ\n",
    "    - パスやシュートなどのボールに関わるイベントに対して，起きた時刻，場所，関わった選手などの基本情報が紐付けられたデータ\n",
    "    - 1試合あたり1500~2000イベント\n",
    "- イベントタグ\n",
    "    - イベントログの各イベントに対して，より詳細な付加情報が紐付けられたデータ\n",
    "\n",
    "イベントデータにはボールに関わるほぼ全てのプレー情報が含まれているため，これを分析すれば詳細な試合展開を把握することができる．\n",
    "イベントデータは選手プロフィールや得点データに比べて格段に情報量が多いため，その扱いの難易度も高い．\n",
    "基本的にExcelで解析するのは困難であり，Pandasの本領が最も発揮されるデータといえる．"
   ]
  },
  {
   "attachments": {},
   "cell_type": "markdown",
   "metadata": {},
   "source": [
    "以下では，イングランド・プレミアリーグのデータを解析対象とする．\n",
    "他のリーグのデータを解析する場合は{ref}`pappalardo`からデータをダウンロードすること．\n",
    "\n",
    "準備として，次のファイルをダウンロードしてカレントディレクトリに移動する：\n",
    "- イベントログ：[event_England.csv](https://drive.google.com/uc?export=download&id=1783Zl4IRGmiYmo-uLA1-FsZwGesOsFhg)\n",
    "- イベントタグ：[event_tag_England.csv](https://drive.google.com/uc?export=download&id=17LhNNVGZ9nsm-d3lqfBWiKmEqGitJwVI)\n",
    "- 選手プロフィール：[player.csv](https://drive.google.com/uc?export=download&id=1rtCAL0DqW9SeslMuGFCusg8VRRWz6J_M)\n",
    "\n",
    "これらを以下のように読み込んでおく．"
   ]
  },
  {
   "cell_type": "code",
   "execution_count": 4,
   "metadata": {},
   "outputs": [],
   "source": [
    "# イベントデータと選手プロフィールの読み込み\n",
    "EV = pd.read_csv('./event_England.csv')\n",
    "EV_tag = pd.read_csv('./event_tag_England.csv')\n",
    "PL = pd.read_csv('./player.csv', header=0)"
   ]
  },
  {
   "attachments": {},
   "cell_type": "markdown",
   "metadata": {},
   "source": [
    "### イベントデータの詳細"
   ]
  },
  {
   "attachments": {},
   "cell_type": "markdown",
   "metadata": {},
   "source": [
    "**イベントログ**"
   ]
  },
  {
   "cell_type": "code",
   "execution_count": 5,
   "metadata": {},
   "outputs": [
    {
     "data": {
      "text/html": [
       "<div>\n",
       "<style scoped>\n",
       "    .dataframe tbody tr th:only-of-type {\n",
       "        vertical-align: middle;\n",
       "    }\n",
       "\n",
       "    .dataframe tbody tr th {\n",
       "        vertical-align: top;\n",
       "    }\n",
       "\n",
       "    .dataframe thead th {\n",
       "        text-align: right;\n",
       "    }\n",
       "</style>\n",
       "<table border=\"1\" class=\"dataframe\">\n",
       "  <thead>\n",
       "    <tr style=\"text-align: right;\">\n",
       "      <th></th>\n",
       "      <th>id</th>\n",
       "      <th>game_id</th>\n",
       "      <th>half</th>\n",
       "      <th>...</th>\n",
       "      <th>y1</th>\n",
       "      <th>x2</th>\n",
       "      <th>y2</th>\n",
       "    </tr>\n",
       "  </thead>\n",
       "  <tbody>\n",
       "    <tr>\n",
       "      <th>0</th>\n",
       "      <td>177959171</td>\n",
       "      <td>2499719</td>\n",
       "      <td>1</td>\n",
       "      <td>...</td>\n",
       "      <td>49.0</td>\n",
       "      <td>31.0</td>\n",
       "      <td>78.0</td>\n",
       "    </tr>\n",
       "    <tr>\n",
       "      <th>1</th>\n",
       "      <td>177959172</td>\n",
       "      <td>2499719</td>\n",
       "      <td>1</td>\n",
       "      <td>...</td>\n",
       "      <td>78.0</td>\n",
       "      <td>51.0</td>\n",
       "      <td>75.0</td>\n",
       "    </tr>\n",
       "    <tr>\n",
       "      <th>2</th>\n",
       "      <td>177959173</td>\n",
       "      <td>2499719</td>\n",
       "      <td>1</td>\n",
       "      <td>...</td>\n",
       "      <td>75.0</td>\n",
       "      <td>35.0</td>\n",
       "      <td>71.0</td>\n",
       "    </tr>\n",
       "    <tr>\n",
       "      <th>3</th>\n",
       "      <td>177959174</td>\n",
       "      <td>2499719</td>\n",
       "      <td>1</td>\n",
       "      <td>...</td>\n",
       "      <td>71.0</td>\n",
       "      <td>41.0</td>\n",
       "      <td>95.0</td>\n",
       "    </tr>\n",
       "    <tr>\n",
       "      <th>4</th>\n",
       "      <td>177959175</td>\n",
       "      <td>2499719</td>\n",
       "      <td>1</td>\n",
       "      <td>...</td>\n",
       "      <td>95.0</td>\n",
       "      <td>72.0</td>\n",
       "      <td>88.0</td>\n",
       "    </tr>\n",
       "  </tbody>\n",
       "</table>\n",
       "<p>5 rows × 14 columns</p>\n",
       "</div>"
      ],
      "text/plain": [
       "          id  game_id  half  ...    y1    x2    y2\n",
       "0  177959171  2499719     1  ...  49.0  31.0  78.0\n",
       "1  177959172  2499719     1  ...  78.0  51.0  75.0\n",
       "2  177959173  2499719     1  ...  75.0  35.0  71.0\n",
       "3  177959174  2499719     1  ...  71.0  41.0  95.0\n",
       "4  177959175  2499719     1  ...  95.0  72.0  88.0\n",
       "\n",
       "[5 rows x 14 columns]"
      ]
     },
     "execution_count": 5,
     "metadata": {},
     "output_type": "execute_result"
    }
   ],
   "source": [
    "EV.head()"
   ]
  },
  {
   "attachments": {},
   "cell_type": "markdown",
   "metadata": {},
   "source": [
    "`EV`には380試合分のイベントログが含まれており，その行数は64万行にのぼる．\n",
    "`EV`の各行は試合中の１イベントに対応し，各列にそのイベントに関する基本情報が収められている．\n",
    "各列の内容は下表の通りである．"
   ]
  },
  {
   "attachments": {},
   "cell_type": "markdown",
   "metadata": {},
   "source": [
    "| 変数名 | 内容 |\n",
    "| ---- | ---- |\n",
    "| id | １つのイベントに付与される識別ID（１行に対して１つのIDが付与される） | \n",
    "| game_id | 試合ID |\n",
    "| half | 1（前半），2（後半）|\n",
    "| t | イベントが起きた時間（ハーフ開始からの経過時間）．単位は秒 |\n",
    "| team_id | チームID |\n",
    "| player_id | 選手ID |\n",
    "| event | イベント名 |\n",
    "| event_id | イベントID |\n",
    "| subevent | サブイベント名 |\n",
    "| subevent_id | サブイベントID |\n",
    "| x1 | イベントの始まりの $x$ 座標（単位は\\%） |\n",
    "| y1 | イベントの始まりの $y$ 座標（単位は\\%） |\n",
    "| x2 | イベントの終わりの $x$ 座標（単位は\\%） |\n",
    "| y2 | イベントの終わりの $y$ 座標（単位は\\%） |"
   ]
  },
  {
   "attachments": {},
   "cell_type": "markdown",
   "metadata": {},
   "source": [
    "**座標系**\n",
    "\n",
    "イベントの始まりの座標 $(x_{1}, y_{1})$ と終わりの座標 $(x_{2}, y_{2})$ は以下の座標系に従う：\n",
    "- 原点は左下\n",
    "- $x,\\ y$ 座標の値はフィールドの横幅と縦幅の最大値に対する割合（単位は\\%）\n",
    "  - $0\\le x \\le 100$\n",
    "  - $0\\le y \\le 100$\n",
    "- 両チームの攻撃方向は右方向となるように統一されている\n",
    "  - チームや前後半に関係なく，$ x > 50 $ が相手陣，$ x < 50 $ が自陣\n",
    "  - **※ 解析内容に応じて，攻撃方向が逆になるように変換する必要がある**"
   ]
  },
  {
   "attachments": {},
   "cell_type": "markdown",
   "metadata": {},
   "source": [
    "サッカーコートの公式規格は $105\\mathrm{m}\\times 68\\mathrm{m}$ なので，コートを描く際にはアスペクト比を以下のように設定する：\n",
    "\n",
    "```python\n",
    "ax.set_aspect(68/105)\n",
    "```"
   ]
  },
  {
   "cell_type": "code",
   "execution_count": 6,
   "metadata": {},
   "outputs": [
    {
     "data": {
      "text/plain": [
       "Text(0, 0.5, '$Y$')"
      ]
     },
     "execution_count": 6,
     "metadata": {},
     "output_type": "execute_result"
    },
    {
     "data": {
      "image/png": "[encoded data removed]",
      "text/plain": [
       "<Figure size 400x400 with 1 Axes>"
      ]
     },
     "metadata": {
      "filenames": {
       "image/png": "/Users/narizuka/work/document/lecture/rissho/sport_programming/book/_build/jupyter_execute/chap_6/6_event_76_1.png"
      }
     },
     "output_type": "display_data"
    }
   ],
   "source": [
    "'''サッカーコートの描画'''\n",
    "fig, ax = plt.subplots(figsize=(4, 4))\n",
    "ax.set_aspect(68/105)\n",
    "\n",
    "# ハーフウェイライン\n",
    "ax.plot([50, 50], [0, 100], 'k--') \n",
    "\n",
    "# 描画範囲と軸ラベル\n",
    "ax.set_xlim(0, 100); ax.set_ylim(0, 100)\n",
    "ax.set_xlabel('$X$'); ax.set_ylabel('$Y$')"
   ]
  },
  {
   "attachments": {},
   "cell_type": "markdown",
   "metadata": {},
   "source": [
    "**イベントタグ**"
   ]
  },
  {
   "cell_type": "code",
   "execution_count": 7,
   "metadata": {},
   "outputs": [
    {
     "data": {
      "text/html": [
       "<div>\n",
       "<style scoped>\n",
       "    .dataframe tbody tr th:only-of-type {\n",
       "        vertical-align: middle;\n",
       "    }\n",
       "\n",
       "    .dataframe tbody tr th {\n",
       "        vertical-align: top;\n",
       "    }\n",
       "\n",
       "    .dataframe thead th {\n",
       "        text-align: right;\n",
       "    }\n",
       "</style>\n",
       "<table border=\"1\" class=\"dataframe\">\n",
       "  <thead>\n",
       "    <tr style=\"text-align: right;\">\n",
       "      <th></th>\n",
       "      <th>id</th>\n",
       "      <th>goal</th>\n",
       "      <th>own_goal</th>\n",
       "      <th>...</th>\n",
       "      <th>counter_attack</th>\n",
       "      <th>dangerous_ball_lost</th>\n",
       "      <th>blocked</th>\n",
       "    </tr>\n",
       "  </thead>\n",
       "  <tbody>\n",
       "    <tr>\n",
       "      <th>0</th>\n",
       "      <td>177959171</td>\n",
       "      <td>0.0</td>\n",
       "      <td>0.0</td>\n",
       "      <td>...</td>\n",
       "      <td>0.0</td>\n",
       "      <td>0.0</td>\n",
       "      <td>0.0</td>\n",
       "    </tr>\n",
       "    <tr>\n",
       "      <th>1</th>\n",
       "      <td>177959172</td>\n",
       "      <td>0.0</td>\n",
       "      <td>0.0</td>\n",
       "      <td>...</td>\n",
       "      <td>0.0</td>\n",
       "      <td>0.0</td>\n",
       "      <td>0.0</td>\n",
       "    </tr>\n",
       "    <tr>\n",
       "      <th>2</th>\n",
       "      <td>177959173</td>\n",
       "      <td>0.0</td>\n",
       "      <td>0.0</td>\n",
       "      <td>...</td>\n",
       "      <td>0.0</td>\n",
       "      <td>0.0</td>\n",
       "      <td>0.0</td>\n",
       "    </tr>\n",
       "    <tr>\n",
       "      <th>3</th>\n",
       "      <td>177959174</td>\n",
       "      <td>0.0</td>\n",
       "      <td>0.0</td>\n",
       "      <td>...</td>\n",
       "      <td>0.0</td>\n",
       "      <td>0.0</td>\n",
       "      <td>0.0</td>\n",
       "    </tr>\n",
       "    <tr>\n",
       "      <th>4</th>\n",
       "      <td>177959175</td>\n",
       "      <td>0.0</td>\n",
       "      <td>0.0</td>\n",
       "      <td>...</td>\n",
       "      <td>0.0</td>\n",
       "      <td>0.0</td>\n",
       "      <td>0.0</td>\n",
       "    </tr>\n",
       "  </tbody>\n",
       "</table>\n",
       "<p>5 rows × 58 columns</p>\n",
       "</div>"
      ],
      "text/plain": [
       "          id  goal  own_goal  ...  counter_attack  dangerous_ball_lost  \\\n",
       "0  177959171   0.0       0.0  ...             0.0                  0.0   \n",
       "1  177959172   0.0       0.0  ...             0.0                  0.0   \n",
       "2  177959173   0.0       0.0  ...             0.0                  0.0   \n",
       "3  177959174   0.0       0.0  ...             0.0                  0.0   \n",
       "4  177959175   0.0       0.0  ...             0.0                  0.0   \n",
       "\n",
       "   blocked  \n",
       "0      0.0  \n",
       "1      0.0  \n",
       "2      0.0  \n",
       "3      0.0  \n",
       "4      0.0  \n",
       "\n",
       "[5 rows x 58 columns]"
      ]
     },
     "execution_count": 7,
     "metadata": {},
     "output_type": "execute_result"
    }
   ],
   "source": [
    "EV_tag.head()"
   ]
  },
  {
   "attachments": {},
   "cell_type": "markdown",
   "metadata": {},
   "source": [
    "`EV_tag`はイベントログ`EV`と同じ行数のDataFrameであり，各行が試合中の１イベントを表している．\n",
    "各列にはイベントに付与されたタグ（'goal'，'assist'など）が並んでおり，真ならば1，偽ならば0となっている．\n",
    "（このようなデータをOne-Hotエンコーディングと呼ぶ．）\n",
    "例えば，'goal'列が1である行では，そのイベントにおいて得点が入ったことを意味する．\n",
    "\n",
    "タグの詳細情報は[tag_list.csv](https://drive.google.com/uc?export=download&id=1o_tZ-y0eAYlgN1audJThoVBMN0Ta2x5f)にまとめられている．\n",
    "主要なタグを下表にまとめる．\n",
    "\n",
    "| タグ名 | 内容 |\n",
    "| ---- | ---- |\n",
    "| goal | 得点 | \n",
    "| own_goal | オウンゴール | \n",
    "| assist | アシスト | \n",
    "| key_pass | パス |\n",
    "| accurate | イベントの成功 |\n",
    "| not accurate | イベントの失敗 |\n"
   ]
  },
  {
   "attachments": {},
   "cell_type": "markdown",
   "metadata": {},
   "source": [
    "### イベントデータ解析の基本"
   ]
  },
  {
   "attachments": {},
   "cell_type": "markdown",
   "metadata": {},
   "source": [
    "イベントログ`EV`とイベントタグ`EV_tag`には，ボールに関わるイベントに関するほぼ全ての情報が含まれている．\n",
    "イベントデータ解析の目的はこれらのデータから意味のある情報を抽出することである．\n",
    "イベントデータを解析する際の手順は以下のようにまとめられる：\n",
    "1. イベントログ`EV`，イベントタグ`EV_tag`から必要な行を条件付き抽出する\n",
    "2. 条件付き抽出したデータを集計する\n",
    "3. 集計したデータを可視化する"
   ]
  },
  {
   "attachments": {},
   "cell_type": "markdown",
   "metadata": {},
   "source": [
    "以下では，条件付き抽出の例をいくつか示す．"
   ]
  },
  {
   "attachments": {},
   "cell_type": "markdown",
   "metadata": {},
   "source": [
    "**特定の試合・時間帯の抽出**"
   ]
  },
  {
   "cell_type": "code",
   "execution_count": 104,
   "metadata": {},
   "outputs": [],
   "source": [
    "# 特定の試合を抽出\n",
    "ev = EV.loc[EV['game_id']==2499719].copy()\n",
    "ev_tag = EV_tag.loc[EV['game_id']==2499719].copy()"
   ]
  },
  {
   "cell_type": "code",
   "execution_count": 9,
   "metadata": {},
   "outputs": [
    {
     "data": {
      "text/html": [
       "<div>\n",
       "<style scoped>\n",
       "    .dataframe tbody tr th:only-of-type {\n",
       "        vertical-align: middle;\n",
       "    }\n",
       "\n",
       "    .dataframe tbody tr th {\n",
       "        vertical-align: top;\n",
       "    }\n",
       "\n",
       "    .dataframe thead th {\n",
       "        text-align: right;\n",
       "    }\n",
       "</style>\n",
       "<table border=\"1\" class=\"dataframe\">\n",
       "  <thead>\n",
       "    <tr style=\"text-align: right;\">\n",
       "      <th></th>\n",
       "      <th>id</th>\n",
       "      <th>game_id</th>\n",
       "      <th>half</th>\n",
       "      <th>...</th>\n",
       "      <th>y1</th>\n",
       "      <th>x2</th>\n",
       "      <th>y2</th>\n",
       "    </tr>\n",
       "  </thead>\n",
       "  <tbody>\n",
       "    <tr>\n",
       "      <th>0</th>\n",
       "      <td>177959171</td>\n",
       "      <td>2499719</td>\n",
       "      <td>1</td>\n",
       "      <td>...</td>\n",
       "      <td>49.0</td>\n",
       "      <td>31.0</td>\n",
       "      <td>78.0</td>\n",
       "    </tr>\n",
       "    <tr>\n",
       "      <th>1</th>\n",
       "      <td>177959172</td>\n",
       "      <td>2499719</td>\n",
       "      <td>1</td>\n",
       "      <td>...</td>\n",
       "      <td>78.0</td>\n",
       "      <td>51.0</td>\n",
       "      <td>75.0</td>\n",
       "    </tr>\n",
       "    <tr>\n",
       "      <th>2</th>\n",
       "      <td>177959173</td>\n",
       "      <td>2499719</td>\n",
       "      <td>1</td>\n",
       "      <td>...</td>\n",
       "      <td>75.0</td>\n",
       "      <td>35.0</td>\n",
       "      <td>71.0</td>\n",
       "    </tr>\n",
       "    <tr>\n",
       "      <th>3</th>\n",
       "      <td>177959174</td>\n",
       "      <td>2499719</td>\n",
       "      <td>1</td>\n",
       "      <td>...</td>\n",
       "      <td>71.0</td>\n",
       "      <td>41.0</td>\n",
       "      <td>95.0</td>\n",
       "    </tr>\n",
       "    <tr>\n",
       "      <th>4</th>\n",
       "      <td>177959175</td>\n",
       "      <td>2499719</td>\n",
       "      <td>1</td>\n",
       "      <td>...</td>\n",
       "      <td>95.0</td>\n",
       "      <td>72.0</td>\n",
       "      <td>88.0</td>\n",
       "    </tr>\n",
       "  </tbody>\n",
       "</table>\n",
       "<p>5 rows × 14 columns</p>\n",
       "</div>"
      ],
      "text/plain": [
       "          id  game_id  half  ...    y1    x2    y2\n",
       "0  177959171  2499719     1  ...  49.0  31.0  78.0\n",
       "1  177959172  2499719     1  ...  78.0  51.0  75.0\n",
       "2  177959173  2499719     1  ...  75.0  35.0  71.0\n",
       "3  177959174  2499719     1  ...  71.0  41.0  95.0\n",
       "4  177959175  2499719     1  ...  95.0  72.0  88.0\n",
       "\n",
       "[5 rows x 14 columns]"
      ]
     },
     "execution_count": 9,
     "metadata": {},
     "output_type": "execute_result"
    }
   ],
   "source": [
    "ev.head()"
   ]
  },
  {
   "cell_type": "code",
   "execution_count": 10,
   "metadata": {},
   "outputs": [
    {
     "data": {
      "text/html": [
       "<div>\n",
       "<style scoped>\n",
       "    .dataframe tbody tr th:only-of-type {\n",
       "        vertical-align: middle;\n",
       "    }\n",
       "\n",
       "    .dataframe tbody tr th {\n",
       "        vertical-align: top;\n",
       "    }\n",
       "\n",
       "    .dataframe thead th {\n",
       "        text-align: right;\n",
       "    }\n",
       "</style>\n",
       "<table border=\"1\" class=\"dataframe\">\n",
       "  <thead>\n",
       "    <tr style=\"text-align: right;\">\n",
       "      <th></th>\n",
       "      <th>id</th>\n",
       "      <th>goal</th>\n",
       "      <th>own_goal</th>\n",
       "      <th>...</th>\n",
       "      <th>counter_attack</th>\n",
       "      <th>dangerous_ball_lost</th>\n",
       "      <th>blocked</th>\n",
       "    </tr>\n",
       "  </thead>\n",
       "  <tbody>\n",
       "    <tr>\n",
       "      <th>0</th>\n",
       "      <td>177959171</td>\n",
       "      <td>0.0</td>\n",
       "      <td>0.0</td>\n",
       "      <td>...</td>\n",
       "      <td>0.0</td>\n",
       "      <td>0.0</td>\n",
       "      <td>0.0</td>\n",
       "    </tr>\n",
       "    <tr>\n",
       "      <th>1</th>\n",
       "      <td>177959172</td>\n",
       "      <td>0.0</td>\n",
       "      <td>0.0</td>\n",
       "      <td>...</td>\n",
       "      <td>0.0</td>\n",
       "      <td>0.0</td>\n",
       "      <td>0.0</td>\n",
       "    </tr>\n",
       "    <tr>\n",
       "      <th>2</th>\n",
       "      <td>177959173</td>\n",
       "      <td>0.0</td>\n",
       "      <td>0.0</td>\n",
       "      <td>...</td>\n",
       "      <td>0.0</td>\n",
       "      <td>0.0</td>\n",
       "      <td>0.0</td>\n",
       "    </tr>\n",
       "    <tr>\n",
       "      <th>3</th>\n",
       "      <td>177959174</td>\n",
       "      <td>0.0</td>\n",
       "      <td>0.0</td>\n",
       "      <td>...</td>\n",
       "      <td>0.0</td>\n",
       "      <td>0.0</td>\n",
       "      <td>0.0</td>\n",
       "    </tr>\n",
       "    <tr>\n",
       "      <th>4</th>\n",
       "      <td>177959175</td>\n",
       "      <td>0.0</td>\n",
       "      <td>0.0</td>\n",
       "      <td>...</td>\n",
       "      <td>0.0</td>\n",
       "      <td>0.0</td>\n",
       "      <td>0.0</td>\n",
       "    </tr>\n",
       "  </tbody>\n",
       "</table>\n",
       "<p>5 rows × 58 columns</p>\n",
       "</div>"
      ],
      "text/plain": [
       "          id  goal  own_goal  ...  counter_attack  dangerous_ball_lost  \\\n",
       "0  177959171   0.0       0.0  ...             0.0                  0.0   \n",
       "1  177959172   0.0       0.0  ...             0.0                  0.0   \n",
       "2  177959173   0.0       0.0  ...             0.0                  0.0   \n",
       "3  177959174   0.0       0.0  ...             0.0                  0.0   \n",
       "4  177959175   0.0       0.0  ...             0.0                  0.0   \n",
       "\n",
       "   blocked  \n",
       "0      0.0  \n",
       "1      0.0  \n",
       "2      0.0  \n",
       "3      0.0  \n",
       "4      0.0  \n",
       "\n",
       "[5 rows x 58 columns]"
      ]
     },
     "execution_count": 10,
     "metadata": {},
     "output_type": "execute_result"
    }
   ],
   "source": [
    "ev_tag.head()"
   ]
  },
  {
   "cell_type": "code",
   "execution_count": 14,
   "metadata": {},
   "outputs": [
    {
     "data": {
      "text/html": [
       "<div>\n",
       "<style scoped>\n",
       "    .dataframe tbody tr th:only-of-type {\n",
       "        vertical-align: middle;\n",
       "    }\n",
       "\n",
       "    .dataframe tbody tr th {\n",
       "        vertical-align: top;\n",
       "    }\n",
       "\n",
       "    .dataframe thead th {\n",
       "        text-align: right;\n",
       "    }\n",
       "</style>\n",
       "<table border=\"1\" class=\"dataframe\">\n",
       "  <thead>\n",
       "    <tr style=\"text-align: right;\">\n",
       "      <th></th>\n",
       "      <th>id</th>\n",
       "      <th>game_id</th>\n",
       "      <th>half</th>\n",
       "      <th>...</th>\n",
       "      <th>y1</th>\n",
       "      <th>x2</th>\n",
       "      <th>y2</th>\n",
       "    </tr>\n",
       "  </thead>\n",
       "  <tbody>\n",
       "    <tr>\n",
       "      <th>896</th>\n",
       "      <td>177960132</td>\n",
       "      <td>2499719</td>\n",
       "      <td>1</td>\n",
       "      <td>...</td>\n",
       "      <td>49.0</td>\n",
       "      <td>11.0</td>\n",
       "      <td>61.0</td>\n",
       "    </tr>\n",
       "    <tr>\n",
       "      <th>897</th>\n",
       "      <td>177960129</td>\n",
       "      <td>2499719</td>\n",
       "      <td>1</td>\n",
       "      <td>...</td>\n",
       "      <td>39.0</td>\n",
       "      <td>92.0</td>\n",
       "      <td>50.0</td>\n",
       "    </tr>\n",
       "    <tr>\n",
       "      <th>898</th>\n",
       "      <td>177960130</td>\n",
       "      <td>2499719</td>\n",
       "      <td>1</td>\n",
       "      <td>...</td>\n",
       "      <td>50.0</td>\n",
       "      <td>0.0</td>\n",
       "      <td>0.0</td>\n",
       "    </tr>\n",
       "    <tr>\n",
       "      <th>899</th>\n",
       "      <td>177960121</td>\n",
       "      <td>2499719</td>\n",
       "      <td>1</td>\n",
       "      <td>...</td>\n",
       "      <td>100.0</td>\n",
       "      <td>8.0</td>\n",
       "      <td>50.0</td>\n",
       "    </tr>\n",
       "    <tr>\n",
       "      <th>900</th>\n",
       "      <td>177960127</td>\n",
       "      <td>2499719</td>\n",
       "      <td>1</td>\n",
       "      <td>...</td>\n",
       "      <td>24.0</td>\n",
       "      <td>100.0</td>\n",
       "      <td>100.0</td>\n",
       "    </tr>\n",
       "  </tbody>\n",
       "</table>\n",
       "<p>5 rows × 14 columns</p>\n",
       "</div>"
      ],
      "text/plain": [
       "            id  game_id  half  ...     y1     x2     y2\n",
       "896  177960132  2499719     1  ...   49.0   11.0   61.0\n",
       "897  177960129  2499719     1  ...   39.0   92.0   50.0\n",
       "898  177960130  2499719     1  ...   50.0    0.0    0.0\n",
       "899  177960121  2499719     1  ...  100.0    8.0   50.0\n",
       "900  177960127  2499719     1  ...   24.0  100.0  100.0\n",
       "\n",
       "[5 rows x 14 columns]"
      ]
     },
     "execution_count": 14,
     "metadata": {},
     "output_type": "execute_result"
    }
   ],
   "source": [
    "# 前半のみ抽出\n",
    "ev.loc[ev['half']==1].tail()"
   ]
  },
  {
   "cell_type": "code",
   "execution_count": 15,
   "metadata": {},
   "outputs": [
    {
     "data": {
      "text/html": [
       "<div>\n",
       "<style scoped>\n",
       "    .dataframe tbody tr th:only-of-type {\n",
       "        vertical-align: middle;\n",
       "    }\n",
       "\n",
       "    .dataframe tbody tr th {\n",
       "        vertical-align: top;\n",
       "    }\n",
       "\n",
       "    .dataframe thead th {\n",
       "        text-align: right;\n",
       "    }\n",
       "</style>\n",
       "<table border=\"1\" class=\"dataframe\">\n",
       "  <thead>\n",
       "    <tr style=\"text-align: right;\">\n",
       "      <th></th>\n",
       "      <th>id</th>\n",
       "      <th>game_id</th>\n",
       "      <th>half</th>\n",
       "      <th>...</th>\n",
       "      <th>y1</th>\n",
       "      <th>x2</th>\n",
       "      <th>y2</th>\n",
       "    </tr>\n",
       "  </thead>\n",
       "  <tbody>\n",
       "    <tr>\n",
       "      <th>6</th>\n",
       "      <td>177959186</td>\n",
       "      <td>2499719</td>\n",
       "      <td>1</td>\n",
       "      <td>...</td>\n",
       "      <td>25.0</td>\n",
       "      <td>39.0</td>\n",
       "      <td>15.0</td>\n",
       "    </tr>\n",
       "    <tr>\n",
       "      <th>7</th>\n",
       "      <td>177959189</td>\n",
       "      <td>2499719</td>\n",
       "      <td>1</td>\n",
       "      <td>...</td>\n",
       "      <td>15.0</td>\n",
       "      <td>33.0</td>\n",
       "      <td>20.0</td>\n",
       "    </tr>\n",
       "    <tr>\n",
       "      <th>8</th>\n",
       "      <td>177961218</td>\n",
       "      <td>2499719</td>\n",
       "      <td>1</td>\n",
       "      <td>...</td>\n",
       "      <td>85.0</td>\n",
       "      <td>67.0</td>\n",
       "      <td>80.0</td>\n",
       "    </tr>\n",
       "    <tr>\n",
       "      <th>9</th>\n",
       "      <td>177959178</td>\n",
       "      <td>2499719</td>\n",
       "      <td>1</td>\n",
       "      <td>...</td>\n",
       "      <td>80.0</td>\n",
       "      <td>59.0</td>\n",
       "      <td>61.0</td>\n",
       "    </tr>\n",
       "    <tr>\n",
       "      <th>10</th>\n",
       "      <td>177959179</td>\n",
       "      <td>2499719</td>\n",
       "      <td>1</td>\n",
       "      <td>...</td>\n",
       "      <td>61.0</td>\n",
       "      <td>45.0</td>\n",
       "      <td>45.0</td>\n",
       "    </tr>\n",
       "  </tbody>\n",
       "</table>\n",
       "<p>5 rows × 14 columns</p>\n",
       "</div>"
      ],
      "text/plain": [
       "           id  game_id  half  ...    y1    x2    y2\n",
       "6   177959186  2499719     1  ...  25.0  39.0  15.0\n",
       "7   177959189  2499719     1  ...  15.0  33.0  20.0\n",
       "8   177961218  2499719     1  ...  85.0  67.0  80.0\n",
       "9   177959178  2499719     1  ...  80.0  59.0  61.0\n",
       "10  177959179  2499719     1  ...  61.0  45.0  45.0\n",
       "\n",
       "[5 rows x 14 columns]"
      ]
     },
     "execution_count": 15,
     "metadata": {},
     "output_type": "execute_result"
    }
   ],
   "source": [
    "# 前半開始20秒までを抽出\n",
    "ev.loc[(ev['half']==1) & (ev['t']<20)].tail()"
   ]
  },
  {
   "attachments": {},
   "cell_type": "markdown",
   "metadata": {},
   "source": [
    "**特定のイベントの抽出**"
   ]
  },
  {
   "attachments": {},
   "cell_type": "markdown",
   "metadata": {},
   "source": [
    "イベントログ`EV`には`'event'`列と`'subevent'`列が存在する．\n",
    "`'event'`列は`'pass'`，`'foul'`などの大分類，`'subevent'`列は`'simple_pass'`や`'high_pass'`などの小分類となっている．\n",
    "`'event'`および`'subevent'`のリストは[event_list.csv](https://drive.google.com/uc?export=download&id=1oSDUt73paDOsORVj732rGU0vwIwGHvHJ) にまとめられている．"
   ]
  },
  {
   "cell_type": "code",
   "execution_count": 16,
   "metadata": {},
   "outputs": [
    {
     "data": {
      "text/html": [
       "<div>\n",
       "<style scoped>\n",
       "    .dataframe tbody tr th:only-of-type {\n",
       "        vertical-align: middle;\n",
       "    }\n",
       "\n",
       "    .dataframe tbody tr th {\n",
       "        vertical-align: top;\n",
       "    }\n",
       "\n",
       "    .dataframe thead th {\n",
       "        text-align: right;\n",
       "    }\n",
       "</style>\n",
       "<table border=\"1\" class=\"dataframe\">\n",
       "  <thead>\n",
       "    <tr style=\"text-align: right;\">\n",
       "      <th></th>\n",
       "      <th>id</th>\n",
       "      <th>game_id</th>\n",
       "      <th>half</th>\n",
       "      <th>...</th>\n",
       "      <th>y1</th>\n",
       "      <th>x2</th>\n",
       "      <th>y2</th>\n",
       "    </tr>\n",
       "  </thead>\n",
       "  <tbody>\n",
       "    <tr>\n",
       "      <th>0</th>\n",
       "      <td>177959171</td>\n",
       "      <td>2499719</td>\n",
       "      <td>1</td>\n",
       "      <td>...</td>\n",
       "      <td>49.0</td>\n",
       "      <td>31.0</td>\n",
       "      <td>78.0</td>\n",
       "    </tr>\n",
       "    <tr>\n",
       "      <th>1</th>\n",
       "      <td>177959172</td>\n",
       "      <td>2499719</td>\n",
       "      <td>1</td>\n",
       "      <td>...</td>\n",
       "      <td>78.0</td>\n",
       "      <td>51.0</td>\n",
       "      <td>75.0</td>\n",
       "    </tr>\n",
       "    <tr>\n",
       "      <th>2</th>\n",
       "      <td>177959173</td>\n",
       "      <td>2499719</td>\n",
       "      <td>1</td>\n",
       "      <td>...</td>\n",
       "      <td>75.0</td>\n",
       "      <td>35.0</td>\n",
       "      <td>71.0</td>\n",
       "    </tr>\n",
       "    <tr>\n",
       "      <th>3</th>\n",
       "      <td>177959174</td>\n",
       "      <td>2499719</td>\n",
       "      <td>1</td>\n",
       "      <td>...</td>\n",
       "      <td>71.0</td>\n",
       "      <td>41.0</td>\n",
       "      <td>95.0</td>\n",
       "    </tr>\n",
       "    <tr>\n",
       "      <th>4</th>\n",
       "      <td>177959175</td>\n",
       "      <td>2499719</td>\n",
       "      <td>1</td>\n",
       "      <td>...</td>\n",
       "      <td>95.0</td>\n",
       "      <td>72.0</td>\n",
       "      <td>88.0</td>\n",
       "    </tr>\n",
       "  </tbody>\n",
       "</table>\n",
       "<p>5 rows × 14 columns</p>\n",
       "</div>"
      ],
      "text/plain": [
       "          id  game_id  half  ...    y1    x2    y2\n",
       "0  177959171  2499719     1  ...  49.0  31.0  78.0\n",
       "1  177959172  2499719     1  ...  78.0  51.0  75.0\n",
       "2  177959173  2499719     1  ...  75.0  35.0  71.0\n",
       "3  177959174  2499719     1  ...  71.0  41.0  95.0\n",
       "4  177959175  2499719     1  ...  95.0  72.0  88.0\n",
       "\n",
       "[5 rows x 14 columns]"
      ]
     },
     "execution_count": 16,
     "metadata": {},
     "output_type": "execute_result"
    }
   ],
   "source": [
    "# event列が'pass'の行を抽出\n",
    "ev.loc[ev['event']=='pass'].head()"
   ]
  },
  {
   "cell_type": "code",
   "execution_count": 17,
   "metadata": {},
   "outputs": [
    {
     "data": {
      "text/html": [
       "<div>\n",
       "<style scoped>\n",
       "    .dataframe tbody tr th:only-of-type {\n",
       "        vertical-align: middle;\n",
       "    }\n",
       "\n",
       "    .dataframe tbody tr th {\n",
       "        vertical-align: top;\n",
       "    }\n",
       "\n",
       "    .dataframe thead th {\n",
       "        text-align: right;\n",
       "    }\n",
       "</style>\n",
       "<table border=\"1\" class=\"dataframe\">\n",
       "  <thead>\n",
       "    <tr style=\"text-align: right;\">\n",
       "      <th></th>\n",
       "      <th>id</th>\n",
       "      <th>game_id</th>\n",
       "      <th>half</th>\n",
       "      <th>...</th>\n",
       "      <th>y1</th>\n",
       "      <th>x2</th>\n",
       "      <th>y2</th>\n",
       "    </tr>\n",
       "  </thead>\n",
       "  <tbody>\n",
       "    <tr>\n",
       "      <th>0</th>\n",
       "      <td>177959171</td>\n",
       "      <td>2499719</td>\n",
       "      <td>1</td>\n",
       "      <td>...</td>\n",
       "      <td>49.0</td>\n",
       "      <td>31.0</td>\n",
       "      <td>78.0</td>\n",
       "    </tr>\n",
       "    <tr>\n",
       "      <th>4</th>\n",
       "      <td>177959175</td>\n",
       "      <td>2499719</td>\n",
       "      <td>1</td>\n",
       "      <td>...</td>\n",
       "      <td>95.0</td>\n",
       "      <td>72.0</td>\n",
       "      <td>88.0</td>\n",
       "    </tr>\n",
       "    <tr>\n",
       "      <th>5</th>\n",
       "      <td>177959177</td>\n",
       "      <td>2499719</td>\n",
       "      <td>1</td>\n",
       "      <td>...</td>\n",
       "      <td>88.0</td>\n",
       "      <td>77.0</td>\n",
       "      <td>75.0</td>\n",
       "    </tr>\n",
       "    <tr>\n",
       "      <th>17</th>\n",
       "      <td>177959196</td>\n",
       "      <td>2499719</td>\n",
       "      <td>1</td>\n",
       "      <td>...</td>\n",
       "      <td>26.0</td>\n",
       "      <td>37.0</td>\n",
       "      <td>8.0</td>\n",
       "    </tr>\n",
       "    <tr>\n",
       "      <th>18</th>\n",
       "      <td>177959197</td>\n",
       "      <td>2499719</td>\n",
       "      <td>1</td>\n",
       "      <td>...</td>\n",
       "      <td>8.0</td>\n",
       "      <td>23.0</td>\n",
       "      <td>5.0</td>\n",
       "    </tr>\n",
       "  </tbody>\n",
       "</table>\n",
       "<p>5 rows × 14 columns</p>\n",
       "</div>"
      ],
      "text/plain": [
       "           id  game_id  half  ...    y1    x2    y2\n",
       "0   177959171  2499719     1  ...  49.0  31.0  78.0\n",
       "4   177959175  2499719     1  ...  95.0  72.0  88.0\n",
       "5   177959177  2499719     1  ...  88.0  77.0  75.0\n",
       "17  177959196  2499719     1  ...  26.0  37.0   8.0\n",
       "18  177959197  2499719     1  ...   8.0  23.0   5.0\n",
       "\n",
       "[5 rows x 14 columns]"
      ]
     },
     "execution_count": 17,
     "metadata": {},
     "output_type": "execute_result"
    }
   ],
   "source": [
    "# subevent列が'simple_pass'の行を抽出\n",
    "ev.loc[ev['subevent']=='simple_pass'].head()"
   ]
  },
  {
   "cell_type": "code",
   "execution_count": 18,
   "metadata": {},
   "outputs": [
    {
     "data": {
      "text/html": [
       "<div>\n",
       "<style scoped>\n",
       "    .dataframe tbody tr th:only-of-type {\n",
       "        vertical-align: middle;\n",
       "    }\n",
       "\n",
       "    .dataframe tbody tr th {\n",
       "        vertical-align: top;\n",
       "    }\n",
       "\n",
       "    .dataframe thead th {\n",
       "        text-align: right;\n",
       "    }\n",
       "</style>\n",
       "<table border=\"1\" class=\"dataframe\">\n",
       "  <thead>\n",
       "    <tr style=\"text-align: right;\">\n",
       "      <th></th>\n",
       "      <th>id</th>\n",
       "      <th>game_id</th>\n",
       "      <th>half</th>\n",
       "      <th>...</th>\n",
       "      <th>y1</th>\n",
       "      <th>x2</th>\n",
       "      <th>y2</th>\n",
       "    </tr>\n",
       "  </thead>\n",
       "  <tbody>\n",
       "    <tr>\n",
       "      <th>46</th>\n",
       "      <td>177959212</td>\n",
       "      <td>2499719</td>\n",
       "      <td>1</td>\n",
       "      <td>...</td>\n",
       "      <td>41.0</td>\n",
       "      <td>0.0</td>\n",
       "      <td>0.0</td>\n",
       "    </tr>\n",
       "    <tr>\n",
       "      <th>47</th>\n",
       "      <td>177959226</td>\n",
       "      <td>2499719</td>\n",
       "      <td>1</td>\n",
       "      <td>...</td>\n",
       "      <td>100.0</td>\n",
       "      <td>12.0</td>\n",
       "      <td>59.0</td>\n",
       "    </tr>\n",
       "    <tr>\n",
       "      <th>91</th>\n",
       "      <td>177959280</td>\n",
       "      <td>2499719</td>\n",
       "      <td>1</td>\n",
       "      <td>...</td>\n",
       "      <td>52.0</td>\n",
       "      <td>100.0</td>\n",
       "      <td>100.0</td>\n",
       "    </tr>\n",
       "    <tr>\n",
       "      <th>92</th>\n",
       "      <td>177959249</td>\n",
       "      <td>2499719</td>\n",
       "      <td>1</td>\n",
       "      <td>...</td>\n",
       "      <td>0.0</td>\n",
       "      <td>4.0</td>\n",
       "      <td>48.0</td>\n",
       "    </tr>\n",
       "    <tr>\n",
       "      <th>554</th>\n",
       "      <td>177959759</td>\n",
       "      <td>2499719</td>\n",
       "      <td>1</td>\n",
       "      <td>...</td>\n",
       "      <td>54.0</td>\n",
       "      <td>100.0</td>\n",
       "      <td>100.0</td>\n",
       "    </tr>\n",
       "  </tbody>\n",
       "</table>\n",
       "<p>5 rows × 14 columns</p>\n",
       "</div>"
      ],
      "text/plain": [
       "            id  game_id  half  ...     y1     x2     y2\n",
       "46   177959212  2499719     1  ...   41.0    0.0    0.0\n",
       "47   177959226  2499719     1  ...  100.0   12.0   59.0\n",
       "91   177959280  2499719     1  ...   52.0  100.0  100.0\n",
       "92   177959249  2499719     1  ...    0.0    4.0   48.0\n",
       "554  177959759  2499719     1  ...   54.0  100.0  100.0\n",
       "\n",
       "[5 rows x 14 columns]"
      ]
     },
     "execution_count": 18,
     "metadata": {},
     "output_type": "execute_result"
    }
   ],
   "source": [
    "# event列が'shot'の行を抽出\n",
    "ev.loc[(ev_tag['goal']==1)].head()"
   ]
  },
  {
   "attachments": {},
   "cell_type": "markdown",
   "metadata": {},
   "source": [
    "**イベントタグを用いた抽出**"
   ]
  },
  {
   "attachments": {},
   "cell_type": "markdown",
   "metadata": {},
   "source": [
    "イベントタグ`EV_tag`はイベントログ`EV`と同じ行数で共通の行ラベル（インデックス）を持つ．\n",
    "よって，`EV_tag`で取得したブールインデックスを用いて`EV`から条件付き抽出することができる．"
   ]
  },
  {
   "cell_type": "code",
   "execution_count": 19,
   "metadata": {},
   "outputs": [
    {
     "data": {
      "text/html": [
       "<div>\n",
       "<style scoped>\n",
       "    .dataframe tbody tr th:only-of-type {\n",
       "        vertical-align: middle;\n",
       "    }\n",
       "\n",
       "    .dataframe tbody tr th {\n",
       "        vertical-align: top;\n",
       "    }\n",
       "\n",
       "    .dataframe thead th {\n",
       "        text-align: right;\n",
       "    }\n",
       "</style>\n",
       "<table border=\"1\" class=\"dataframe\">\n",
       "  <thead>\n",
       "    <tr style=\"text-align: right;\">\n",
       "      <th></th>\n",
       "      <th>id</th>\n",
       "      <th>game_id</th>\n",
       "      <th>half</th>\n",
       "      <th>...</th>\n",
       "      <th>y1</th>\n",
       "      <th>x2</th>\n",
       "      <th>y2</th>\n",
       "    </tr>\n",
       "  </thead>\n",
       "  <tbody>\n",
       "    <tr>\n",
       "      <th>0</th>\n",
       "      <td>177959171</td>\n",
       "      <td>2499719</td>\n",
       "      <td>1</td>\n",
       "      <td>...</td>\n",
       "      <td>49.0</td>\n",
       "      <td>31.0</td>\n",
       "      <td>78.0</td>\n",
       "    </tr>\n",
       "    <tr>\n",
       "      <th>1</th>\n",
       "      <td>177959172</td>\n",
       "      <td>2499719</td>\n",
       "      <td>1</td>\n",
       "      <td>...</td>\n",
       "      <td>78.0</td>\n",
       "      <td>51.0</td>\n",
       "      <td>75.0</td>\n",
       "    </tr>\n",
       "    <tr>\n",
       "      <th>2</th>\n",
       "      <td>177959173</td>\n",
       "      <td>2499719</td>\n",
       "      <td>1</td>\n",
       "      <td>...</td>\n",
       "      <td>75.0</td>\n",
       "      <td>35.0</td>\n",
       "      <td>71.0</td>\n",
       "    </tr>\n",
       "    <tr>\n",
       "      <th>3</th>\n",
       "      <td>177959174</td>\n",
       "      <td>2499719</td>\n",
       "      <td>1</td>\n",
       "      <td>...</td>\n",
       "      <td>71.0</td>\n",
       "      <td>41.0</td>\n",
       "      <td>95.0</td>\n",
       "    </tr>\n",
       "    <tr>\n",
       "      <th>4</th>\n",
       "      <td>177959175</td>\n",
       "      <td>2499719</td>\n",
       "      <td>1</td>\n",
       "      <td>...</td>\n",
       "      <td>95.0</td>\n",
       "      <td>72.0</td>\n",
       "      <td>88.0</td>\n",
       "    </tr>\n",
       "    <tr>\n",
       "      <th>...</th>\n",
       "      <td>...</td>\n",
       "      <td>...</td>\n",
       "      <td>...</td>\n",
       "      <td>...</td>\n",
       "      <td>...</td>\n",
       "      <td>...</td>\n",
       "      <td>...</td>\n",
       "    </tr>\n",
       "    <tr>\n",
       "      <th>1739</th>\n",
       "      <td>177961023</td>\n",
       "      <td>2499719</td>\n",
       "      <td>2</td>\n",
       "      <td>...</td>\n",
       "      <td>94.0</td>\n",
       "      <td>72.0</td>\n",
       "      <td>83.0</td>\n",
       "    </tr>\n",
       "    <tr>\n",
       "      <th>1740</th>\n",
       "      <td>177961024</td>\n",
       "      <td>2499719</td>\n",
       "      <td>2</td>\n",
       "      <td>...</td>\n",
       "      <td>83.0</td>\n",
       "      <td>69.0</td>\n",
       "      <td>74.0</td>\n",
       "    </tr>\n",
       "    <tr>\n",
       "      <th>1759</th>\n",
       "      <td>177961037</td>\n",
       "      <td>2499719</td>\n",
       "      <td>2</td>\n",
       "      <td>...</td>\n",
       "      <td>77.0</td>\n",
       "      <td>25.0</td>\n",
       "      <td>72.0</td>\n",
       "    </tr>\n",
       "    <tr>\n",
       "      <th>1762</th>\n",
       "      <td>177961039</td>\n",
       "      <td>2499719</td>\n",
       "      <td>2</td>\n",
       "      <td>...</td>\n",
       "      <td>68.0</td>\n",
       "      <td>7.0</td>\n",
       "      <td>53.0</td>\n",
       "    </tr>\n",
       "    <tr>\n",
       "      <th>1764</th>\n",
       "      <td>177961035</td>\n",
       "      <td>2499719</td>\n",
       "      <td>2</td>\n",
       "      <td>...</td>\n",
       "      <td>51.0</td>\n",
       "      <td>73.0</td>\n",
       "      <td>58.0</td>\n",
       "    </tr>\n",
       "  </tbody>\n",
       "</table>\n",
       "<p>679 rows × 14 columns</p>\n",
       "</div>"
      ],
      "text/plain": [
       "             id  game_id  half  ...    y1    x2    y2\n",
       "0     177959171  2499719     1  ...  49.0  31.0  78.0\n",
       "1     177959172  2499719     1  ...  78.0  51.0  75.0\n",
       "2     177959173  2499719     1  ...  75.0  35.0  71.0\n",
       "3     177959174  2499719     1  ...  71.0  41.0  95.0\n",
       "4     177959175  2499719     1  ...  95.0  72.0  88.0\n",
       "...         ...      ...   ...  ...   ...   ...   ...\n",
       "1739  177961023  2499719     2  ...  94.0  72.0  83.0\n",
       "1740  177961024  2499719     2  ...  83.0  69.0  74.0\n",
       "1759  177961037  2499719     2  ...  77.0  25.0  72.0\n",
       "1762  177961039  2499719     2  ...  68.0   7.0  53.0\n",
       "1764  177961035  2499719     2  ...  51.0  73.0  58.0\n",
       "\n",
       "[679 rows x 14 columns]"
      ]
     },
     "execution_count": 19,
     "metadata": {},
     "output_type": "execute_result"
    }
   ],
   "source": [
    "# イベント名が'pass'で，'accurate'タグが1である行（成功パス）を抽出\n",
    "ev.loc[(ev['event']=='pass') & (ev_tag['accurate']==1)]"
   ]
  },
  {
   "cell_type": "code",
   "execution_count": 20,
   "metadata": {},
   "outputs": [
    {
     "data": {
      "text/html": [
       "<div>\n",
       "<style scoped>\n",
       "    .dataframe tbody tr th:only-of-type {\n",
       "        vertical-align: middle;\n",
       "    }\n",
       "\n",
       "    .dataframe tbody tr th {\n",
       "        vertical-align: top;\n",
       "    }\n",
       "\n",
       "    .dataframe thead th {\n",
       "        text-align: right;\n",
       "    }\n",
       "</style>\n",
       "<table border=\"1\" class=\"dataframe\">\n",
       "  <thead>\n",
       "    <tr style=\"text-align: right;\">\n",
       "      <th></th>\n",
       "      <th>id</th>\n",
       "      <th>game_id</th>\n",
       "      <th>half</th>\n",
       "      <th>...</th>\n",
       "      <th>y1</th>\n",
       "      <th>x2</th>\n",
       "      <th>y2</th>\n",
       "    </tr>\n",
       "  </thead>\n",
       "  <tbody>\n",
       "    <tr>\n",
       "      <th>46</th>\n",
       "      <td>177959212</td>\n",
       "      <td>2499719</td>\n",
       "      <td>1</td>\n",
       "      <td>...</td>\n",
       "      <td>41.0</td>\n",
       "      <td>0.0</td>\n",
       "      <td>0.0</td>\n",
       "    </tr>\n",
       "    <tr>\n",
       "      <th>91</th>\n",
       "      <td>177959280</td>\n",
       "      <td>2499719</td>\n",
       "      <td>1</td>\n",
       "      <td>...</td>\n",
       "      <td>52.0</td>\n",
       "      <td>100.0</td>\n",
       "      <td>100.0</td>\n",
       "    </tr>\n",
       "    <tr>\n",
       "      <th>554</th>\n",
       "      <td>177959759</td>\n",
       "      <td>2499719</td>\n",
       "      <td>1</td>\n",
       "      <td>...</td>\n",
       "      <td>54.0</td>\n",
       "      <td>100.0</td>\n",
       "      <td>100.0</td>\n",
       "    </tr>\n",
       "    <tr>\n",
       "      <th>898</th>\n",
       "      <td>177960130</td>\n",
       "      <td>2499719</td>\n",
       "      <td>1</td>\n",
       "      <td>...</td>\n",
       "      <td>50.0</td>\n",
       "      <td>0.0</td>\n",
       "      <td>0.0</td>\n",
       "    </tr>\n",
       "    <tr>\n",
       "      <th>1107</th>\n",
       "      <td>177960379</td>\n",
       "      <td>2499719</td>\n",
       "      <td>2</td>\n",
       "      <td>...</td>\n",
       "      <td>54.0</td>\n",
       "      <td>100.0</td>\n",
       "      <td>100.0</td>\n",
       "    </tr>\n",
       "    <tr>\n",
       "      <th>1570</th>\n",
       "      <td>177960849</td>\n",
       "      <td>2499719</td>\n",
       "      <td>2</td>\n",
       "      <td>...</td>\n",
       "      <td>63.0</td>\n",
       "      <td>0.0</td>\n",
       "      <td>0.0</td>\n",
       "    </tr>\n",
       "    <tr>\n",
       "      <th>1613</th>\n",
       "      <td>177960902</td>\n",
       "      <td>2499719</td>\n",
       "      <td>2</td>\n",
       "      <td>...</td>\n",
       "      <td>44.0</td>\n",
       "      <td>0.0</td>\n",
       "      <td>0.0</td>\n",
       "    </tr>\n",
       "  </tbody>\n",
       "</table>\n",
       "<p>7 rows × 14 columns</p>\n",
       "</div>"
      ],
      "text/plain": [
       "             id  game_id  half  ...    y1     x2     y2\n",
       "46    177959212  2499719     1  ...  41.0    0.0    0.0\n",
       "91    177959280  2499719     1  ...  52.0  100.0  100.0\n",
       "554   177959759  2499719     1  ...  54.0  100.0  100.0\n",
       "898   177960130  2499719     1  ...  50.0    0.0    0.0\n",
       "1107  177960379  2499719     2  ...  54.0  100.0  100.0\n",
       "1570  177960849  2499719     2  ...  63.0    0.0    0.0\n",
       "1613  177960902  2499719     2  ...  44.0    0.0    0.0\n",
       "\n",
       "[7 rows x 14 columns]"
      ]
     },
     "execution_count": 20,
     "metadata": {},
     "output_type": "execute_result"
    }
   ],
   "source": [
    "# イベント名が'shot'で，'goal'タグが1である行（成功シュート）\n",
    "ev.loc[(ev['event']=='shot') & (ev_tag['goal']==1)]"
   ]
  },
  {
   "attachments": {},
   "cell_type": "markdown",
   "metadata": {},
   "source": [
    "### イベント別のヒートマップ"
   ]
  },
  {
   "attachments": {},
   "cell_type": "markdown",
   "metadata": {},
   "source": [
    "条件付き抽出の応用として，イベント別にヒートマップを描いてみよう．\n",
    "まず，以下のようにヒートマップを描く`event_hmap`関数を作成する．\n",
    "この関数は，$x,\\ y$座標のデータを引数として受け取り，matplotlibの`hist2d`関数を用いてヒートマップを描く．"
   ]
  },
  {
   "cell_type": "code",
   "execution_count": 21,
   "metadata": {},
   "outputs": [],
   "source": [
    "def event_hmap(x, y, cm='Greens'):\n",
    "    \n",
    "    fig, ax = plt.subplots(figsize=(4, 4))\n",
    "    \n",
    "    # アスペクト比の変更\n",
    "    ax.set_aspect(68/105)\n",
    "    \n",
    "    # ヒートマップの描画\n",
    "    ret = ax.hist2d(x, y,\\\n",
    "                    bins=[50, 25], range=[[0, 100], [0, 100]], cmap=cm, cmin=0)\n",
    "\n",
    "    # カラーバーを追加\n",
    "    fig.colorbar(ret[3], orientation='vertical', \n",
    "                 shrink=0.4, aspect=10, pad=0.05)\n",
    "    \n",
    "    # ハーフウェイライン\n",
    "    ax.plot([50, 50], [0, 100], 'k--') \n",
    "\n",
    "    # 描画範囲とラベル\n",
    "    ax.set_xlim(0, 100); ax.set_ylim(0, 100)\n",
    "    ax.set_xlabel('$X$'); ax.set_ylabel('$Y$')"
   ]
  },
  {
   "attachments": {},
   "cell_type": "markdown",
   "metadata": {},
   "source": [
    "特定のイベントだけを条件付き抽出してその$x,\\ y$座標を`event_hmap`関数に渡せば，そのイベントが行われたフィールド上の位置をヒートマップで可視化することができる．\n",
    "以下にいくつかの例を示す．"
   ]
  },
  {
   "cell_type": "code",
   "execution_count": 22,
   "metadata": {},
   "outputs": [
    {
     "data": {
      "image/png": "[encoded data removed]",
      "text/plain": [
       "<Figure size 400x400 with 2 Axes>"
      ]
     },
     "metadata": {
      "filenames": {
       "image/png": "/Users/narizuka/work/document/lecture/rissho/sport_programming/book/_build/jupyter_execute/chap_6/6_event_102_0.png"
      }
     },
     "output_type": "display_data"
    }
   ],
   "source": [
    "# パス\n",
    "cond = (EV['event']=='pass')\n",
    "x, y = EV.loc[cond, 'x1'], EV.loc[cond, 'y1']\n",
    "event_hmap(x, y)"
   ]
  },
  {
   "cell_type": "code",
   "execution_count": 23,
   "metadata": {},
   "outputs": [
    {
     "data": {
      "image/png": "[encoded data removed]",
      "text/plain": [
       "<Figure size 400x400 with 2 Axes>"
      ]
     },
     "metadata": {
      "filenames": {
       "image/png": "/Users/narizuka/work/document/lecture/rissho/sport_programming/book/_build/jupyter_execute/chap_6/6_event_103_0.png"
      }
     },
     "output_type": "display_data"
    }
   ],
   "source": [
    "# 特定の選手のパス\n",
    "cond = (EV['event']=='pass') & (EV['player_id']==EV['player_id'].unique()[4])\n",
    "x, y = EV.loc[cond, 'x1'], EV.loc[cond, 'y1']\n",
    "event_hmap(x, y, 'Blues')"
   ]
  },
  {
   "cell_type": "code",
   "execution_count": 24,
   "metadata": {},
   "outputs": [
    {
     "data": {
      "image/png": "[encoded data removed]",
      "text/plain": [
       "<Figure size 400x400 with 2 Axes>"
      ]
     },
     "metadata": {
      "filenames": {
       "image/png": "/Users/narizuka/work/document/lecture/rissho/sport_programming/book/_build/jupyter_execute/chap_6/6_event_104_0.png"
      }
     },
     "output_type": "display_data"
    }
   ],
   "source": [
    "# クロス\n",
    "cond = (EV['subevent']=='cross')\n",
    "x, y = EV.loc[cond, 'x1'], EV.loc[cond, 'y1']\n",
    "event_hmap(x, y, 'Reds')"
   ]
  },
  {
   "cell_type": "code",
   "execution_count": 25,
   "metadata": {},
   "outputs": [
    {
     "data": {
      "image/png": "[encoded data removed]",
      "text/plain": [
       "<Figure size 400x400 with 2 Axes>"
      ]
     },
     "metadata": {
      "filenames": {
       "image/png": "/Users/narizuka/work/document/lecture/rissho/sport_programming/book/_build/jupyter_execute/chap_6/6_event_105_0.png"
      }
     },
     "output_type": "display_data"
    }
   ],
   "source": [
    "# デュエル\n",
    "cond = (EV['event']=='duel')\n",
    "x, y = EV.loc[cond, 'x1'], EV.loc[cond, 'y1']\n",
    "event_hmap(x, y, 'Greys')"
   ]
  },
  {
   "cell_type": "code",
   "execution_count": 27,
   "metadata": {},
   "outputs": [
    {
     "data": {
      "image/png": "[encoded data removed]",
      "text/plain": [
       "<Figure size 400x400 with 2 Axes>"
      ]
     },
     "metadata": {
      "filenames": {
       "image/png": "/Users/narizuka/work/document/lecture/rissho/sport_programming/book/_build/jupyter_execute/chap_6/6_event_106_0.png"
      }
     },
     "output_type": "display_data"
    }
   ],
   "source": [
    "# デュエル（攻撃時）\n",
    "cond = (EV['subevent']=='ground_attacking_duel')\n",
    "x, y = EV.loc[cond, 'x1'], EV.loc[cond, 'y1']\n",
    "event_hmap(x, y, 'jet')"
   ]
  },
  {
   "cell_type": "code",
   "execution_count": 28,
   "metadata": {},
   "outputs": [
    {
     "data": {
      "image/png": "[encoded data removed]",
      "text/plain": [
       "<Figure size 400x400 with 2 Axes>"
      ]
     },
     "metadata": {
      "filenames": {
       "image/png": "/Users/narizuka/work/document/lecture/rissho/sport_programming/book/_build/jupyter_execute/chap_6/6_event_107_0.png"
      }
     },
     "output_type": "display_data"
    }
   ],
   "source": [
    "# シュート\n",
    "cond = (EV['event']=='shot')\n",
    "x, y = EV.loc[cond, 'x1'], EV.loc[cond, 'y1']\n",
    "event_hmap(x, y)"
   ]
  },
  {
   "cell_type": "code",
   "execution_count": 29,
   "metadata": {},
   "outputs": [
    {
     "data": {
      "image/png": "[encoded data removed]",
      "text/plain": [
       "<Figure size 400x400 with 2 Axes>"
      ]
     },
     "metadata": {
      "filenames": {
       "image/png": "/Users/narizuka/work/document/lecture/rissho/sport_programming/book/_build/jupyter_execute/chap_6/6_event_108_0.png"
      }
     },
     "output_type": "display_data"
    }
   ],
   "source": [
    "# シュート（成功）\n",
    "cond = (EV['event']=='shot') & (EV_tag['goal']==1)\n",
    "x, y = EV.loc[cond, 'x1'], EV.loc[cond, 'y1']\n",
    "event_hmap(x, y)"
   ]
  },
  {
   "attachments": {},
   "cell_type": "markdown",
   "metadata": {},
   "source": [
    "### 選手のランキング"
   ]
  },
  {
   "attachments": {},
   "cell_type": "markdown",
   "metadata": {},
   "source": [
    "シーズンが終了すると，チームのリーグ成績と共に選手の個人成績が発表される．\n",
    "個人成績は，シュート数やゴール数などの部門別ランキングとなっている．\n",
    "ここでは，イベントデータを用いてこれらのランキングを求めてみよう．\n",
    "なお，どのようなプレーをシュートやパスと見なすかは用いるデータセットによって異なっており，\n",
    "以下で求めるランキングが公式発表されたものと完全に一致するわけではない．\n",
    "2017年度プレミアリーグの個人成績は例えば，\n",
    "- https://www.premierleague.com/stats\n",
    "\n",
    "にて確認できるが，細かい数値は本データセットから求めたものと一致しない．"
   ]
  },
  {
   "attachments": {},
   "cell_type": "markdown",
   "metadata": {},
   "source": [
    "ランキングの作成方法は以下の通りである．\n",
    "- ランキング項目に応じて条件付き抽出する．\n",
    "  - 例えば，パス数の場合は'event'列が'pass'である行を抽出する\n",
    "- 条件付き抽出後のDataFrameに対し，'player_id'ごとの出現回数を求める\n",
    "  - DataFrameの`value_counts`メソッドを用いる\n",
    "- 選手プロフィール`PL`を用いて'player_id'を選手名に変換する\n",
    "  - 'player_id'と'name'が対応した辞書を作成し，`rename`メソッドを用いる"
   ]
  },
  {
   "cell_type": "code",
   "execution_count": 97,
   "metadata": {},
   "outputs": [],
   "source": [
    "# 'player_id'と'name'が対応した辞書\n",
    "dict_id_name = dict(PL[['player_id', 'name']].values)"
   ]
  },
  {
   "attachments": {},
   "cell_type": "markdown",
   "metadata": {},
   "source": [
    "**シュート数**"
   ]
  },
  {
   "cell_type": "code",
   "execution_count": 99,
   "metadata": {},
   "outputs": [
    {
     "data": {
      "text/plain": [
       "H_Kane            175\n",
       "Mohame_Salah      142\n",
       "C_Eriksen          97\n",
       "Richarlison        92\n",
       "S_Agüero           91\n",
       "K_D_Bruyne         91\n",
       "A_Sánchez          85\n",
       "R_Sterling         80\n",
       "R_Lukaku           80\n",
       "Robert_Firmino     80\n",
       "Name: player_id, dtype: int64"
      ]
     },
     "execution_count": 99,
     "metadata": {},
     "output_type": "execute_result"
    }
   ],
   "source": [
    "cond = (EV['subevent']=='shot') | (EV['subevent']=='free_kick_shot') | (EV['subevent']=='penalty')\n",
    "Rank_shot = EV.loc[cond, 'player_id'].value_counts()\n",
    "Rank_shot = Rank_shot.rename(index=dict_id_name)  # 選手IDを選手名に変換する\n",
    "Rank_shot.iloc[:10]"
   ]
  },
  {
   "attachments": {},
   "cell_type": "markdown",
   "metadata": {},
   "source": [
    "**パス数**"
   ]
  },
  {
   "cell_type": "code",
   "execution_count": 100,
   "metadata": {},
   "outputs": [
    {
     "data": {
      "text/plain": [
       "G_Xhaka         2974\n",
       "N_Otamendi      2964\n",
       "Fernandinho     2842\n",
       "Azpilicueta     2713\n",
       "K_D_Bruyne      2672\n",
       "N_Matić         2456\n",
       "Davi_Silva      2382\n",
       "J_Vertonghen    2370\n",
       "K_Walker        2316\n",
       "C_Eriksen       2196\n",
       "Name: player_id, dtype: int64"
      ]
     },
     "execution_count": 100,
     "metadata": {},
     "output_type": "execute_result"
    }
   ],
   "source": [
    "Rank_pass = EV.loc[(EV['event']=='pass'), 'player_id'].value_counts()\n",
    "Rank_pass = Rank_pass.rename(index=dict_id_name)  # 選手IDを選手名に変換する\n",
    "Rank_pass.iloc[:10]"
   ]
  },
  {
   "attachments": {},
   "cell_type": "markdown",
   "metadata": {},
   "source": [
    "**アシスト数**"
   ]
  },
  {
   "cell_type": "code",
   "execution_count": 101,
   "metadata": {},
   "outputs": [
    {
     "data": {
      "text/plain": [
       "K_D_Bruyne      16\n",
       "L_Sané          13\n",
       "R_Mahrez        10\n",
       "R_Sterling      10\n",
       "Davi_Silva      10\n",
       "H_Mkhitaryan     9\n",
       "D_Alli           9\n",
       "C_Eriksen        9\n",
       "Mohame_Salah     8\n",
       "P_Groß           8\n",
       "Name: player_id, dtype: int64"
      ]
     },
     "execution_count": 101,
     "metadata": {},
     "output_type": "execute_result"
    }
   ],
   "source": [
    "Rank_assist = EV.loc[(EV_tag['assist']==1), 'player_id'].value_counts()\n",
    "Rank_assist = Rank_assist.rename(index=dict_id_name)  # 選手IDを選手名に変換する\n",
    "Rank_assist.iloc[:10]"
   ]
  },
  {
   "attachments": {},
   "cell_type": "markdown",
   "metadata": {},
   "source": [
    "**ゴール数**"
   ]
  },
  {
   "cell_type": "code",
   "execution_count": 102,
   "metadata": {},
   "outputs": [
    {
     "data": {
      "text/plain": [
       "Mohame_Salah      32\n",
       "H_Kane            29\n",
       "S_Agüero          21\n",
       "J_Vardy           20\n",
       "R_Sterling        18\n",
       "R_Lukaku          16\n",
       "Robert_Firmino    15\n",
       "A_Lacazette       14\n",
       "Gabrie_Jesus      13\n",
       "G_Murray          12\n",
       "Name: player_id, dtype: int64"
      ]
     },
     "execution_count": 102,
     "metadata": {},
     "output_type": "execute_result"
    }
   ],
   "source": [
    "cond = ((EV['event']=='shot') | (EV['event']=='free_kick')) & (EV_tag['goal']==1)\n",
    "Rank_goal = EV.loc[cond, 'player_id'].value_counts()\n",
    "Rank_goal = Rank_goal.rename(index=dict_id_name)  # 選手IDを選手名に変換する\n",
    "Rank_goal.iloc[:10]"
   ]
  },
  {
   "attachments": {},
   "cell_type": "markdown",
   "metadata": {},
   "source": [
    "### 選手間のパス数"
   ]
  },
  {
   "attachments": {},
   "cell_type": "markdown",
   "metadata": {},
   "source": [
    "最後に，特定の試合における選手間のパス数を可視化してみよう．\n",
    "本来，このような解析にはnetworkxという専用のライブラリを使うべきだが，以下ではpandasとseabornという可視化ライブラリを用いて実装する．"
   ]
  },
  {
   "attachments": {},
   "cell_type": "markdown",
   "metadata": {},
   "source": [
    "**試合の抽出**"
   ]
  },
  {
   "cell_type": "code",
   "execution_count": 128,
   "metadata": {},
   "outputs": [],
   "source": [
    "# 特定の試合を抽出\n",
    "ev = EV.loc[EV['game_id']==2499719].copy()\n",
    "ev_tag = EV_tag.loc[EV['game_id']==2499719].copy()"
   ]
  },
  {
   "attachments": {},
   "cell_type": "markdown",
   "metadata": {},
   "source": [
    "**パスリストの作成** "
   ]
  },
  {
   "attachments": {},
   "cell_type": "markdown",
   "metadata": {},
   "source": [
    "選手間のパス数を求めるには，パスの出し手と受け手の情報が必要である．\n",
    "しかし，イベントログ`EV`にはパスの出し手の情報しかないので，受け手の情報を加える必要がある．\n",
    "イベント名が'pass'の行については，次の行の選手IDがパスの受け手に対応するので，以下のようにパスリスト`ps`を作成できる．\n",
    "なお，イベントログには選手ID（'player_id'）の情報しかないので，選手プロフィール`PL`のデータを用いて選手名を追加する．\n",
    "以下のように，`replace`メソッドを用いて，選手ID（'player_id'）を選手名（'name'）に置換すれば良い．"
   ]
  },
  {
   "cell_type": "code",
   "execution_count": 196,
   "metadata": {},
   "outputs": [],
   "source": [
    "# イベント名が'pass'の行を抽出\n",
    "ev_pass = ev.loc[ev['event']=='pass', ['player_id', 'team_id']]\n",
    "\n",
    "# パスリストの作成\n",
    "ps = pd.DataFrame({'player_id': ev_pass['player_id'].values[:-1],\n",
    "                   'player_id2': ev_pass['player_id'].values[1:],\n",
    "                   'team_id': ev_pass['team_id'].values[:-1],\n",
    "                   'team_id2': ev_pass['team_id'].values[1:]})\n",
    "\n",
    "# パスリストに選手名を追加\n",
    "ps['name'] = ps['player_id'].replace(PL['player_id'].values, PL['name'].values)\n",
    "ps['name2'] = ps['player_id2'].replace(PL['player_id'].values, PL['name'].values)"
   ]
  },
  {
   "cell_type": "code",
   "execution_count": 197,
   "metadata": {},
   "outputs": [
    {
     "data": {
      "text/html": [
       "<div>\n",
       "<style scoped>\n",
       "    .dataframe tbody tr th:only-of-type {\n",
       "        vertical-align: middle;\n",
       "    }\n",
       "\n",
       "    .dataframe tbody tr th {\n",
       "        vertical-align: top;\n",
       "    }\n",
       "\n",
       "    .dataframe thead th {\n",
       "        text-align: right;\n",
       "    }\n",
       "</style>\n",
       "<table border=\"1\" class=\"dataframe\">\n",
       "  <thead>\n",
       "    <tr style=\"text-align: right;\">\n",
       "      <th></th>\n",
       "      <th>player_id</th>\n",
       "      <th>player_id2</th>\n",
       "      <th>team_id</th>\n",
       "      <th>team_id2</th>\n",
       "      <th>name</th>\n",
       "      <th>name2</th>\n",
       "    </tr>\n",
       "  </thead>\n",
       "  <tbody>\n",
       "    <tr>\n",
       "      <th>0</th>\n",
       "      <td>25413</td>\n",
       "      <td>370224</td>\n",
       "      <td>1609</td>\n",
       "      <td>1609</td>\n",
       "      <td>A_Lacazette</td>\n",
       "      <td>R_Holding</td>\n",
       "    </tr>\n",
       "    <tr>\n",
       "      <th>1</th>\n",
       "      <td>370224</td>\n",
       "      <td>3319</td>\n",
       "      <td>1609</td>\n",
       "      <td>1609</td>\n",
       "      <td>R_Holding</td>\n",
       "      <td>M_Özil</td>\n",
       "    </tr>\n",
       "    <tr>\n",
       "      <th>2</th>\n",
       "      <td>3319</td>\n",
       "      <td>120339</td>\n",
       "      <td>1609</td>\n",
       "      <td>1609</td>\n",
       "      <td>M_Özil</td>\n",
       "      <td>Mohame_Elneny</td>\n",
       "    </tr>\n",
       "    <tr>\n",
       "      <th>3</th>\n",
       "      <td>120339</td>\n",
       "      <td>167145</td>\n",
       "      <td>1609</td>\n",
       "      <td>1609</td>\n",
       "      <td>Mohame_Elneny</td>\n",
       "      <td>Bellerín</td>\n",
       "    </tr>\n",
       "    <tr>\n",
       "      <th>4</th>\n",
       "      <td>167145</td>\n",
       "      <td>3319</td>\n",
       "      <td>1609</td>\n",
       "      <td>1609</td>\n",
       "      <td>Bellerín</td>\n",
       "      <td>M_Özil</td>\n",
       "    </tr>\n",
       "    <tr>\n",
       "      <th>...</th>\n",
       "      <td>...</td>\n",
       "      <td>...</td>\n",
       "      <td>...</td>\n",
       "      <td>...</td>\n",
       "      <td>...</td>\n",
       "      <td>...</td>\n",
       "    </tr>\n",
       "    <tr>\n",
       "      <th>830</th>\n",
       "      <td>217078</td>\n",
       "      <td>8488</td>\n",
       "      <td>1631</td>\n",
       "      <td>1631</td>\n",
       "      <td>D_Amartey</td>\n",
       "      <td>W_Morgan</td>\n",
       "    </tr>\n",
       "    <tr>\n",
       "      <th>831</th>\n",
       "      <td>8488</td>\n",
       "      <td>265366</td>\n",
       "      <td>1631</td>\n",
       "      <td>1631</td>\n",
       "      <td>W_Morgan</td>\n",
       "      <td>W_Ndidi</td>\n",
       "    </tr>\n",
       "    <tr>\n",
       "      <th>832</th>\n",
       "      <td>265366</td>\n",
       "      <td>8653</td>\n",
       "      <td>1631</td>\n",
       "      <td>1631</td>\n",
       "      <td>W_Ndidi</td>\n",
       "      <td>H_Maguire</td>\n",
       "    </tr>\n",
       "    <tr>\n",
       "      <th>833</th>\n",
       "      <td>8653</td>\n",
       "      <td>8480</td>\n",
       "      <td>1631</td>\n",
       "      <td>1631</td>\n",
       "      <td>H_Maguire</td>\n",
       "      <td>K_Schmeichel</td>\n",
       "    </tr>\n",
       "    <tr>\n",
       "      <th>834</th>\n",
       "      <td>8480</td>\n",
       "      <td>49876</td>\n",
       "      <td>1631</td>\n",
       "      <td>1609</td>\n",
       "      <td>K_Schmeichel</td>\n",
       "      <td>G_Xhaka</td>\n",
       "    </tr>\n",
       "  </tbody>\n",
       "</table>\n",
       "<p>835 rows × 6 columns</p>\n",
       "</div>"
      ],
      "text/plain": [
       "     player_id  player_id2  team_id  team_id2           name          name2\n",
       "0        25413      370224     1609      1609    A_Lacazette      R_Holding\n",
       "1       370224        3319     1609      1609      R_Holding         M_Özil\n",
       "2         3319      120339     1609      1609         M_Özil  Mohame_Elneny\n",
       "3       120339      167145     1609      1609  Mohame_Elneny       Bellerín\n",
       "4       167145        3319     1609      1609       Bellerín         M_Özil\n",
       "..         ...         ...      ...       ...            ...            ...\n",
       "830     217078        8488     1631      1631      D_Amartey       W_Morgan\n",
       "831       8488      265366     1631      1631       W_Morgan        W_Ndidi\n",
       "832     265366        8653     1631      1631        W_Ndidi      H_Maguire\n",
       "833       8653        8480     1631      1631      H_Maguire   K_Schmeichel\n",
       "834       8480       49876     1631      1609   K_Schmeichel        G_Xhaka\n",
       "\n",
       "[835 rows x 6 columns]"
      ]
     },
     "execution_count": 197,
     "metadata": {},
     "output_type": "execute_result"
    }
   ],
   "source": [
    "ps"
   ]
  },
  {
   "attachments": {},
   "cell_type": "markdown",
   "metadata": {},
   "source": [
    "**パス数行列の作成**"
   ]
  },
  {
   "attachments": {},
   "cell_type": "markdown",
   "metadata": {},
   "source": [
    "チーム内の選手 $i$ と $j$ 間のパス数を要素とする行列をパス数行列と呼ぶことにする．\n",
    "パス数行列の $(i, j)$ 成分は選手 $i$ から $j$ へのパスを表す．\n",
    "以下は`for`文によってパス数行列を作成する例である．"
   ]
  },
  {
   "cell_type": "code",
   "execution_count": 190,
   "metadata": {},
   "outputs": [],
   "source": [
    "# チームIDの取得\n",
    "tm_id = ev['team_id'].unique() # 2チームのチームID\n",
    "pl_id0 = ps.loc[ps['team_id']==tm_id[0], 'name'].unique() # チーム0の選手ID\n",
    "pl_id1 = ps.loc[ps['team_id']==tm_id[1], 'name'].unique() # チーム1の選手ID\n",
    "\n",
    "# チーム0のパス数行列を作成\n",
    "A0 = pd.DataFrame(index=pl_id0, columns=pl_id0)\n",
    "for i in pl_id0:\n",
    "    for j in pl_id0:\n",
    "        A0.loc[i, j] = len(ps.loc[(ps['name']==i) & (ps['name2']==j)])\n",
    "\n",
    "# チーム1のパス数行列を作成\n",
    "A1 = pd.DataFrame(index=pl_id1, columns=pl_id1) \n",
    "for i in pl_id1:\n",
    "    for j in pl_id1:\n",
    "        A1.loc[i, j] = len(ps.loc[(ps['name']==i) & (ps['name2']==j)])"
   ]
  },
  {
   "cell_type": "code",
   "execution_count": 191,
   "metadata": {},
   "outputs": [
    {
     "data": {
      "text/html": [
       "<div>\n",
       "<style scoped>\n",
       "    .dataframe tbody tr th:only-of-type {\n",
       "        vertical-align: middle;\n",
       "    }\n",
       "\n",
       "    .dataframe tbody tr th {\n",
       "        vertical-align: top;\n",
       "    }\n",
       "\n",
       "    .dataframe thead th {\n",
       "        text-align: right;\n",
       "    }\n",
       "</style>\n",
       "<table border=\"1\" class=\"dataframe\">\n",
       "  <thead>\n",
       "    <tr style=\"text-align: right;\">\n",
       "      <th></th>\n",
       "      <th>A_Lacazette</th>\n",
       "      <th>R_Holding</th>\n",
       "      <th>M_Özil</th>\n",
       "      <th>...</th>\n",
       "      <th>O_Giroud</th>\n",
       "      <th>A_Ramsey</th>\n",
       "      <th>T_Walcott</th>\n",
       "    </tr>\n",
       "  </thead>\n",
       "  <tbody>\n",
       "    <tr>\n",
       "      <th>A_Lacazette</th>\n",
       "      <td>0</td>\n",
       "      <td>1</td>\n",
       "      <td>2</td>\n",
       "      <td>...</td>\n",
       "      <td>1</td>\n",
       "      <td>0</td>\n",
       "      <td>0</td>\n",
       "    </tr>\n",
       "    <tr>\n",
       "      <th>R_Holding</th>\n",
       "      <td>1</td>\n",
       "      <td>0</td>\n",
       "      <td>4</td>\n",
       "      <td>...</td>\n",
       "      <td>0</td>\n",
       "      <td>0</td>\n",
       "      <td>0</td>\n",
       "    </tr>\n",
       "    <tr>\n",
       "      <th>M_Özil</th>\n",
       "      <td>5</td>\n",
       "      <td>6</td>\n",
       "      <td>3</td>\n",
       "      <td>...</td>\n",
       "      <td>0</td>\n",
       "      <td>1</td>\n",
       "      <td>0</td>\n",
       "    </tr>\n",
       "    <tr>\n",
       "      <th>Mohame_Elneny</th>\n",
       "      <td>1</td>\n",
       "      <td>8</td>\n",
       "      <td>7</td>\n",
       "      <td>...</td>\n",
       "      <td>0</td>\n",
       "      <td>0</td>\n",
       "      <td>0</td>\n",
       "    </tr>\n",
       "    <tr>\n",
       "      <th>Bellerín</th>\n",
       "      <td>3</td>\n",
       "      <td>10</td>\n",
       "      <td>11</td>\n",
       "      <td>...</td>\n",
       "      <td>0</td>\n",
       "      <td>2</td>\n",
       "      <td>0</td>\n",
       "    </tr>\n",
       "    <tr>\n",
       "      <th>G_Xhaka</th>\n",
       "      <td>2</td>\n",
       "      <td>8</td>\n",
       "      <td>15</td>\n",
       "      <td>...</td>\n",
       "      <td>0</td>\n",
       "      <td>2</td>\n",
       "      <td>1</td>\n",
       "    </tr>\n",
       "    <tr>\n",
       "      <th>S_Kolašinac</th>\n",
       "      <td>0</td>\n",
       "      <td>1</td>\n",
       "      <td>19</td>\n",
       "      <td>...</td>\n",
       "      <td>1</td>\n",
       "      <td>0</td>\n",
       "      <td>0</td>\n",
       "    </tr>\n",
       "    <tr>\n",
       "      <th>Nach_Monreal</th>\n",
       "      <td>0</td>\n",
       "      <td>8</td>\n",
       "      <td>1</td>\n",
       "      <td>...</td>\n",
       "      <td>0</td>\n",
       "      <td>0</td>\n",
       "      <td>0</td>\n",
       "    </tr>\n",
       "    <tr>\n",
       "      <th>P_Čech</th>\n",
       "      <td>0</td>\n",
       "      <td>2</td>\n",
       "      <td>1</td>\n",
       "      <td>...</td>\n",
       "      <td>1</td>\n",
       "      <td>0</td>\n",
       "      <td>0</td>\n",
       "    </tr>\n",
       "    <tr>\n",
       "      <th>A_Oxlade-Chamberlain</th>\n",
       "      <td>3</td>\n",
       "      <td>1</td>\n",
       "      <td>6</td>\n",
       "      <td>...</td>\n",
       "      <td>2</td>\n",
       "      <td>1</td>\n",
       "      <td>1</td>\n",
       "    </tr>\n",
       "    <tr>\n",
       "      <th>D_Welbeck</th>\n",
       "      <td>1</td>\n",
       "      <td>1</td>\n",
       "      <td>3</td>\n",
       "      <td>...</td>\n",
       "      <td>0</td>\n",
       "      <td>1</td>\n",
       "      <td>0</td>\n",
       "    </tr>\n",
       "    <tr>\n",
       "      <th>O_Giroud</th>\n",
       "      <td>1</td>\n",
       "      <td>0</td>\n",
       "      <td>1</td>\n",
       "      <td>...</td>\n",
       "      <td>0</td>\n",
       "      <td>1</td>\n",
       "      <td>0</td>\n",
       "    </tr>\n",
       "    <tr>\n",
       "      <th>A_Ramsey</th>\n",
       "      <td>0</td>\n",
       "      <td>0</td>\n",
       "      <td>1</td>\n",
       "      <td>...</td>\n",
       "      <td>1</td>\n",
       "      <td>0</td>\n",
       "      <td>0</td>\n",
       "    </tr>\n",
       "    <tr>\n",
       "      <th>T_Walcott</th>\n",
       "      <td>0</td>\n",
       "      <td>0</td>\n",
       "      <td>0</td>\n",
       "      <td>...</td>\n",
       "      <td>0</td>\n",
       "      <td>0</td>\n",
       "      <td>0</td>\n",
       "    </tr>\n",
       "  </tbody>\n",
       "</table>\n",
       "<p>14 rows × 14 columns</p>\n",
       "</div>"
      ],
      "text/plain": [
       "                     A_Lacazette R_Holding M_Özil  ... O_Giroud A_Ramsey  \\\n",
       "A_Lacazette                    0         1      2  ...        1        0   \n",
       "R_Holding                      1         0      4  ...        0        0   \n",
       "M_Özil                         5         6      3  ...        0        1   \n",
       "Mohame_Elneny                  1         8      7  ...        0        0   \n",
       "Bellerín                       3        10     11  ...        0        2   \n",
       "G_Xhaka                        2         8     15  ...        0        2   \n",
       "S_Kolašinac                    0         1     19  ...        1        0   \n",
       "Nach_Monreal                   0         8      1  ...        0        0   \n",
       "P_Čech                         0         2      1  ...        1        0   \n",
       "A_Oxlade-Chamberlain           3         1      6  ...        2        1   \n",
       "D_Welbeck                      1         1      3  ...        0        1   \n",
       "O_Giroud                       1         0      1  ...        0        1   \n",
       "A_Ramsey                       0         0      1  ...        1        0   \n",
       "T_Walcott                      0         0      0  ...        0        0   \n",
       "\n",
       "                     T_Walcott  \n",
       "A_Lacazette                  0  \n",
       "R_Holding                    0  \n",
       "M_Özil                       0  \n",
       "Mohame_Elneny                0  \n",
       "Bellerín                     0  \n",
       "G_Xhaka                      1  \n",
       "S_Kolašinac                  0  \n",
       "Nach_Monreal                 0  \n",
       "P_Čech                       0  \n",
       "A_Oxlade-Chamberlain         1  \n",
       "D_Welbeck                    0  \n",
       "O_Giroud                     0  \n",
       "A_Ramsey                     0  \n",
       "T_Walcott                    0  \n",
       "\n",
       "[14 rows x 14 columns]"
      ]
     },
     "execution_count": 191,
     "metadata": {},
     "output_type": "execute_result"
    }
   ],
   "source": [
    "A0"
   ]
  },
  {
   "attachments": {},
   "cell_type": "markdown",
   "metadata": {},
   "source": [
    "**パス数行列の可視化**"
   ]
  },
  {
   "attachments": {},
   "cell_type": "markdown",
   "metadata": {},
   "source": [
    "パス数行列を可視化する方法はいくつか考えられる．\n",
    "例えば，選手を点，選手間のパス数を線の太さに対応させた図で表す方法がある．\n",
    "このような図はネットワーク呼ばれ，サッカーのデータ分析における標準的な手法となっている．\n",
    "しかし，ネットワークの分析と可視化にはnetworkxなどの専用ライブラリの知識が必要となるので，ここではより直接的にヒートマップを用いた可視化方法を採用する．\n",
    "以下の`plot_corr_mat`関数は，seabornという可視化ライブラリを用いてパス数行列をヒートマップで可視化する．"
   ]
  },
  {
   "cell_type": "code",
   "execution_count": 186,
   "metadata": {},
   "outputs": [],
   "source": [
    "import seaborn\n",
    "def plot_corr_mat(A):\n",
    "    fig, ax = plt.subplots(figsize=(5, 5))\n",
    "    ax.set_xticklabels(A.columns, fontsize=8) # x軸のラベル\n",
    "    ax.set_yticklabels(A.index, fontsize=8)   # y軸のラベル\n",
    "\n",
    "    # ヒートマップの作成\n",
    "    seaborn.heatmap(A, ax=ax, \n",
    "                    linewidths=0.1, # セル間の線の太さ\n",
    "                    linecolor='w',  # セル間の線の色\n",
    "                    cbar=True,      # カラーバーの表示\n",
    "                    annot=True,     # セルに値を表示\n",
    "                    square=True,    # セルを正方形にする\n",
    "                    cmap='jet',     # カラーマップの色（'Reds', 'Greens', 'Blues'など）\n",
    "                    cbar_kws={\"shrink\": .5} # カラーバーのサイズ\n",
    "                    )\n",
    "    "
   ]
  },
  {
   "cell_type": "code",
   "execution_count": 185,
   "metadata": {},
   "outputs": [
    {
     "data": {
      "image/png": "[encoded data removed]",
      "text/plain": [
       "<Figure size 500x500 with 2 Axes>"
      ]
     },
     "metadata": {
      "filenames": {
       "image/png": "/Users/narizuka/work/document/lecture/rissho/sport_programming/book/_build/jupyter_execute/chap_6/6_event_136_0.png"
      }
     },
     "output_type": "display_data"
    }
   ],
   "source": [
    "plot_corr_mat(A0)"
   ]
  },
  {
   "cell_type": "code",
   "execution_count": 175,
   "metadata": {},
   "outputs": [
    {
     "data": {
      "image/png": "[encoded data removed]",
      "text/plain": [
       "<Figure size 500x500 with 2 Axes>"
      ]
     },
     "metadata": {
      "filenames": {
       "image/png": "/Users/narizuka/work/document/lecture/rissho/sport_programming/book/_build/jupyter_execute/chap_6/6_event_137_0.png"
      }
     },
     "output_type": "display_data"
    }
   ],
   "source": [
    "plot_corr_mat(A1)"
   ]
  },
  {
   "attachments": {},
   "cell_type": "markdown",
   "metadata": {},
   "source": [
    "### 演習問題\n",
    "\n",
    "- イングランド以外のリーグについて，選手のランキングを求めよ．\n",
    "- 他のチームに対してもパス数行列を作成し，可視化せよ．\n",
    "- 失敗パスに対してパス数行列を作成し，可視化せよ．"
   ]
  }
 ],
 "metadata": {
  "kernelspec": {
   "display_name": "Python 3.9.13 ('myenv')",
   "language": "python",
   "name": "python3"
  },
  "language_info": {
   "codemirror_mode": {
    "name": "ipython",
    "version": 3
   },
   "file_extension": ".py",
   "mimetype": "text/x-python",
   "name": "python",
   "nbconvert_exporter": "python",
   "pygments_lexer": "ipython3",
   "version": "3.9.13"
  },
  "toc-autonumbering": true,
  "vscode": {
   "interpreter": {
    "hash": "911fd4aa1eca4252368dc27db61226a38a6cfe922f9bbc90c7d50e9c97ede316"
   }
  }
 },
 "nbformat": 4,
 "nbformat_minor": 4
}