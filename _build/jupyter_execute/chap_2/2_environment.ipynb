{
 "cells": [
  {
   "cell_type": "code",
   "execution_count": 1,
   "metadata": {},
   "outputs": [],
   "source": [
    "# （必須）モジュールのインポート\n",
    "import os\n",
    "import numpy as np\n",
    "import pandas as pd\n",
    "import matplotlib as mpl\n",
    "import matplotlib.pyplot as plt\n",
    "try:\n",
    "    import japanize_matplotlib\n",
    "except:\n",
    "    pass"
   ]
  },
  {
   "cell_type": "code",
   "execution_count": 1,
   "metadata": {},
   "outputs": [],
   "source": [
    "# （必須）カレントディレクトリの変更（自分の作業フォルダのパスをコピーして入力する）\n",
    "os.chdir(r'/Users/narizuka/work/document/lecture/rissho/sport_programming/sport_data')"
   ]
  },
  {
   "cell_type": "markdown",
   "metadata": {},
   "source": [
    "# プログラミング環境の構築"
   ]
  },
  {
   "cell_type": "markdown",
   "metadata": {},
   "source": [
    "## Anacondaのインストール\n",
    "\n",
    "既に「プログラミング基礎」の授業内でAnacondaをインストールしているはずなので，以下ではインストールの概要だけ述べる．詳細は[Python.jp](https://www.python.jp/install/anaconda/windows/install.html)や[Let'sプログラミング](https://www.javadrive.jp/python/install/index5.html)などが参考になる．\n",
    "\n",
    "- [Anacondaの公式サイト](https://www.anaconda.com/products/individual)にアクセスする\n",
    "- 下にスクロールし，\"Anaconda Installers\"から環境に応じたインストーラをダウンロードする\n",
    "- ダウンロードしたインストーラをクリックし，画面の指示に従う\n",
    "    - 途中で，`add Anaconda to the system Pass environment variable`にチェックを入れてPathの設定を行う\n",
    "- Anaconda Navigatorが使えるか確認する"
   ]
  },
  {
   "cell_type": "markdown",
   "metadata": {},
   "source": [
    "## Maplotlibの日本語対応\n",
    "\n",
    "Matplotlibはグラフ作成のためのライブラリである（詳しくは基礎編で解説する）．\n",
    "Matplotlibは標準で日本語に対応していないので，ここでは日本語対応する方法を解説する．\n",
    "日本語対応する方法には以下の2つが存在する（詳しくは[こちら](https://ai-inter1.com/matplotlib-japanize/)）：\n",
    "    \n",
    "    1. japanize_matplotlib を利用する\n",
    "    2. MatplotlibのFontPropertiesを利用する\n",
    "\n",
    "ここでは，1. japanize_matplotlibを利用する方法を説明する．\n",
    "japanize_matplotlibはPythonのモジュールなので，最初にインストールしておけば，あとは他のモジュールと同じように`import japanize_matplotlib`とするだけで日本語が使用可能になる．\n",
    "ただし，使用可能なフォントはIPAexゴシックだけなので，フォントにこだわりたい場合は2.の方法をおすすめする．"
   ]
  },
  {
   "cell_type": "markdown",
   "metadata": {},
   "source": [
    "**japanize_matplotlibのインストール（詳しくは[こちら](https://pypi.org/project/japanize-matplotlib/)）**\n",
    "\n",
    "- ターミナルを開いて以下のコマンドを実行し，AnacondaのインストールされているフォルダのPathを取得する\n",
    "    ```\n",
    "    conda info -e\n",
    "    ---\n",
    "    # conda environmentsL\n",
    "    #\n",
    "    base  * C:\\Users\\username\\anaconda3\n",
    "    ```\n",
    "- 取得したAnaconda環境をactivateする\n",
    "    - `base * `の右に表示された文字列（フォルダのパス）をコピーして以下を実行\n",
    "    - `activate \"フォルダのパス\"`\n",
    "    - これでanaconda環境にpipコマンドでインストール可能になる\n",
    "- 以下のコマンドを実行してインストールする\n",
    "    - `pip install japanize-matplotlib`"
   ]
  },
  {
   "cell_type": "markdown",
   "metadata": {},
   "source": [
    "## 作業フォルダの作成"
   ]
  },
  {
   "cell_type": "markdown",
   "metadata": {},
   "source": [
    "データ分析では，様々なファイルを扱わなければならない．\n",
    "例えば，本講義では，Pythonのソースコード（`.py`ファイル），Jupyter NoteBook（`.ipynb`ファイル），データ（`.csv`ファイル），図（`.pdf`ファイル）などのファイルを扱うことになる．\n",
    "これらのファイルが自分のPC内のどこに保存されているかを把握しておかないと，ファイルを探すだけで時間を取られてしまい，時間の無駄である．\n",
    "データ分析を始める際にまず行うべきことは，PC内のフォルダやファイルを整理することである．"
   ]
  },
  {
   "cell_type": "markdown",
   "metadata": {},
   "source": [
    "まず本講義専用の作業フォルダを作成する（名前は自分で分かれば何でも良い）．\n",
    "作業フォルダの作成場所はできればOneDriveやGoogle Driveの中に作ることを推奨する（こうすれば，自動的にクラウド上にバックアップされる）．\n",
    "\n",
    "ここでは，[ローカルディスク（C:）][ユーザー][username][OneDrive]の中に[sport_data]という作業フォルダを作ったとする：\n",
    "```\n",
    "[OneDrive]\n",
    "    - [デスクトップ]\n",
    "    - [ドキュメント]\n",
    "    ...\n",
    "    - [sport_data]\n",
    "\n",
    "```"
   ]
  },
  {
   "cell_type": "markdown",
   "metadata": {},
   "source": [
    "本講義で扱うファイルは全てこの[sport_data]の中に保存する．\n",
    "[sport_data]フォルダの中身は次のように章ごとのサブフォルダやレポート用のフォルダに分けておくと良い：\n",
    "```\n",
    "[sport_data]\n",
    "    - [1_introduction]\n",
    "    - [2_environment]\n",
    "        - 2_environment.ipynb\n",
    "    - [3_numpy]\n",
    "    - [4_pandas]\n",
    "    - [5_matplotlib]\n",
    "    - [6_event]\n",
    "    - [7_tracking]\n",
    "    - [report]\n",
    "    - [others]\n",
    "```\n",
    "例えば，[2_environment]というフォルダの中には，\".ipynb\"ファイル（このページの上部からダウンロード可）が保存されている．"
   ]
  },
  {
   "cell_type": "markdown",
   "metadata": {},
   "source": [
    "## パス（Path）について\n",
    "\n",
    "### パスとは何か？\n",
    "Pythonプログラムの実行，自分のPC上のファイルの読み込み，加工したデータの保存を行うには，対象となるファイルの在り処，つまりアドレスが分からないといけない．\n",
    "このアドレスを指定する文字列のことをパス（Path）と呼ぶ．\n",
    "\n",
    "パスはフォルダの階層構造を区切り文字によって区切った形式で表される．\n",
    "細かい表記方法はWindowsやMacなどのOSによって異なるが，Windowsの場合は以下のように表される：\n",
    "```\n",
    "C:¥Program Files\n",
    "C:¥Users¥username¥work¥test.txt\n",
    "G:¥マイドライブ\n",
    "```"
   ]
  },
  {
   "cell_type": "markdown",
   "metadata": {},
   "source": [
    "ここで，それぞれのパスの先頭には\"C\"や\"G\"などの文字が付いている．\n",
    "これは，最も上の階層であるドライブ名を表す文字で，エクスプローラーを開いてナビゲーションウィンドウからPCアイコンをクリックすると表示される［例えば，\"C\"はCドライブを意味し，ローカルディスク（C:）と表示されているものに対応する］．\n",
    "また，フォルダの階層の区切りは\"¥\"（またはバックスラッシュ\"\\\\\"）によって表されており，\"¥\"の隣にはフォルダの名前が記載されている．\n",
    "例えば，１番目のパスは，Cドライブの中にある\"Program Files\"というフォルダのパスを表す．\n",
    "また，2番目のパスは\"test.txt\"というファイルのパスを表す．\n",
    "3番目は先頭の文字が\"G\"となっているが，これはGoogle Driveのパスを表している．"
   ]
  },
  {
   "cell_type": "markdown",
   "metadata": {},
   "source": [
    "### パスの取得方法\n",
    "\n",
    "Windowsでは，パスをコピーしたいファイルやフォルダに対し，shiftキーを押しながら右クリックし「パスのコピー」を選択すればよい．"
   ]
  },
  {
   "cell_type": "markdown",
   "metadata": {},
   "source": [
    "### WindowsのPythonでパスを指定する際の注意\n",
    "\n",
    "Windows環境においてパスをコピーして貼り付けると\n",
    "``\n",
    "\"C:\\Users\\username\\OneDrive\\sport_data\"\n",
    "``\n",
    "のように区切り文字がバックスラッシュ\"\\\\\"または\"¥\"になるはずである．\n",
    "ところが，pythonではバックスラッシュ\"\\\\\"と文字を組み合わせたエスケープシーケンスいう特別な文字列が存在し，例えば，\"\\n\"は改行，\"\\t\"はタブを表すエスケープシーケンスである．\n",
    "これにより，上の例の中にある\"\\t\"の部分はパスの区切りではなくエスケープシーケンスとして認識され，エラーが出ることがある（特に，pythonでファイルの入出力を行うとき）．\n",
    "\n",
    "これを回避するには以下の方法がある：\n",
    "1. ［推奨］r\"C:\\Users\\username\\OneDrive\\sport_data\"とする（raw文字列）\n",
    "2. バックスラッシュ\"\\\\\"をスラッシュ\"/\"に書き換える\n",
    "3. バックスラッシュ\"\\\\\"を\"\\\\\\\\\"に書き換える"
   ]
  },
  {
   "cell_type": "code",
   "execution_count": 2,
   "metadata": {},
   "outputs": [
    {
     "ename": "SyntaxError",
     "evalue": "(unicode error) 'unicodeescape' codec can't decode bytes in position 2-3: truncated \\UXXXXXXXX escape (1572705885.py, line 2)",
     "output_type": "error",
     "traceback": [
      "\u001b[0;36m  Input \u001b[0;32mIn [2]\u001b[0;36m\u001b[0m\n\u001b[0;31m    print(\"C:\\Users\\username\\OneDrive\\sport_data\")\u001b[0m\n\u001b[0m                                                 ^\u001b[0m\n\u001b[0;31mSyntaxError\u001b[0m\u001b[0;31m:\u001b[0m (unicode error) 'unicodeescape' codec can't decode bytes in position 2-3: truncated \\UXXXXXXXX escape\n"
     ]
    }
   ],
   "source": [
    "# エラーが出る\n",
    "print(\"C:\\Users\\username\\OneDrive\\sport_data\")"
   ]
  },
  {
   "cell_type": "code",
   "execution_count": 3,
   "metadata": {},
   "outputs": [
    {
     "name": "stdout",
     "output_type": "stream",
     "text": [
      "C:\\Users\\username\\OneDrive\\sport_data\n"
     ]
    }
   ],
   "source": [
    "# raw文字列\n",
    "print(r\"C:\\Users\\username\\OneDrive\\sport_data\")"
   ]
  },
  {
   "cell_type": "code",
   "execution_count": 4,
   "metadata": {},
   "outputs": [
    {
     "name": "stdout",
     "output_type": "stream",
     "text": [
      "C:/Users/username/OneDrive/sport_data\n"
     ]
    }
   ],
   "source": [
    "# \\ -> /\n",
    "print(\"C:/Users/username/OneDrive/sport_data\")"
   ]
  },
  {
   "cell_type": "code",
   "execution_count": 5,
   "metadata": {},
   "outputs": [
    {
     "name": "stdout",
     "output_type": "stream",
     "text": [
      "C:\\Users\\username\\OneDrive\\sport_data\n"
     ]
    }
   ],
   "source": [
    "# \\ -> \\\\\n",
    "print(\"C:\\\\Users\\\\username\\\\OneDrive\\\\sport_data\")"
   ]
  },
  {
   "cell_type": "markdown",
   "metadata": {},
   "source": [
    "### 絶対パスと相対パス\n",
    "まず，以下のようなプログラムをPythonスクリプト（test.py）に保存する（[ダウンロードはこちら](https://drive.google.com/uc?export=download&id=1htV_JZw26qMvnefhc1YGZfhZCiYMojmk)）．\n",
    "\n",
    "```python\n",
    "for i in range(5):\n",
    "    print(\"test%s\" % i)\n",
    "```"
   ]
  },
  {
   "cell_type": "markdown",
   "metadata": {},
   "source": [
    "ここでは，Pythonスクリプトファイルのパス（保存先）が`\"C:\\Users\\username\\OneDrive\\sport_data\\2_environment\\test.py\"`であるとする．\n",
    "これを実行するには以下の方法がある：\n",
    "\n",
    "1. ipythonまたはJupyterで実行する\n",
    "    - `%run \"ファイルのパス\"`\n",
    "\n",
    "2. ターミナル（またはコマンドプロンプト）で実行する\n",
    "    - `python \"ファイルのパス\"`\n",
    "\n",
    "このとき，ファイルのパスを指定する方法には以下の2通りが存在する．"
   ]
  },
  {
   "cell_type": "markdown",
   "metadata": {},
   "source": [
    "**1. 絶対パス**"
   ]
  },
  {
   "cell_type": "markdown",
   "metadata": {},
   "source": [
    "```python\n",
    "%run \"C:\\Users\\parar\\OneDrive\\sport_data\\2_environment\\test.py\"\n",
    "```"
   ]
  },
  {
   "cell_type": "markdown",
   "metadata": {},
   "source": [
    "この方法では，最も上の階層であるドライブ名（ここではCドライブ）から始まるパスを指定しており，これを**絶対パス**と呼ぶ．\n",
    "「パスのコピー」によって取得されるのはこの絶対パスである．\n",
    "よって，絶対パスを使っておけばエラーは出にくいが，PCの奥深くにあるフォルダだとパスが長くなるという問題がある．"
   ]
  },
  {
   "cell_type": "markdown",
   "metadata": {},
   "source": [
    "**2.相対パス**"
   ]
  },
  {
   "cell_type": "markdown",
   "metadata": {},
   "source": [
    "```python\n",
    "os.chdir(r\"C:\\Users\\parar\\OneDrive\\sport_data\") # カレントディレクトリの移動\n",
    "%run \"./2_environment/test.py\"             # 実行\n",
    "```"
   ]
  },
  {
   "cell_type": "markdown",
   "metadata": {},
   "source": [
    "2つ目の方法では，まず`os.chdir`コマンドで`\"C:/Users/username/OneDrive/sport_data\"`という作業フォルダに移動してから，さらに\"./2_environment/test.py\"を実行している．\n",
    "このとき，現在の居場所（今の場合は[sport_data]フォルダ）のことをカレントディレクトリと呼ぶ．\n",
    "また，スクリプトファイルのパスは\"./2_environment/test.py\"のように指定されるが，これを**相対パス**と呼ぶ．\n",
    "相対パスは，カレントディレクトリからの相対的な位置関係を表しており，\".\"というのがカレントディレクトリのパスを表す省略記号である．\n",
    "相対パスを用いると，パスが短くなるので便利であるが，カレントディレクトリがどこなのかを認識しておく必要がある．"
   ]
  },
  {
   "cell_type": "markdown",
   "metadata": {},
   "source": [
    "## Jupyter Lab\n",
    "\n",
    "Anacondaをインストールすると，自動的にJupyter NotebookとJupyter Labが使えるようになる．\n",
    "本講義ではJupyter Labの方を用いる．"
   ]
  },
  {
   "cell_type": "markdown",
   "metadata": {},
   "source": [
    "### Jupyter Labの起動方法\n",
    "\n",
    "1. ターミナル（またはコマンドプロンプト）から起動\n",
    "    - 次のコマンドを実行：`jupyter lab \"起動ディレクトリのパス\"`\n",
    "    - 起動ディレクトリのパスは省略可（デフォルトでは\"C:/Users/username\"）\n",
    "    \n",
    "2. Anaconda Navigatorから起動\n",
    "    - ［スタートメニュー］→［Anaconda Navigator (anaconda3)］\n",
    "    - ［Jupyter Lab］をクリック\n",
    "- 初期状態ではLauncherが起動するので，NotebookからPython 3を選択する"
   ]
  },
  {
   "cell_type": "markdown",
   "metadata": {},
   "source": [
    "### .ipynbファイルの起動方法"
   ]
  },
  {
   "cell_type": "markdown",
   "metadata": {},
   "source": [
    "- .ipynbファイルをダウンロードし，作業フォルダに保存する．\n",
    "    - 講義ノート冒頭のDLリンクをクリックし，ダウンロードアイコンをクリック\n",
    "    - 自動保存された場合は[ダウンロード]フォルダ内に保存されているはず\n",
    "- Jupyter Labを起動し，左上のフォルダアイコンをクリックする．\n",
    "- .ipynbファイルを保存した作業フォルダに移動し，.ipynbファイルをダブルクリックする．"
   ]
  },
  {
   "cell_type": "markdown",
   "metadata": {},
   "source": [
    "### Jupyter Labの運用方法"
   ]
  },
  {
   "cell_type": "markdown",
   "metadata": {},
   "source": [
    "Jupyter Labで作業する際には，以下の手順でカレントディレクトリを作業フォルダに変更しておくと良い：\n",
    "1. エクスプローラー上で，作業フォルダをshiftを押しながら右クリックし，パスのコピーを選択\n",
    "2. コピーしたパスの先頭に`r`を付けて`os.chdir(r\"作業フォルダのパス\")`のように実行"
   ]
  },
  {
   "cell_type": "code",
   "execution_count": 7,
   "metadata": {},
   "outputs": [],
   "source": [
    "import os\n",
    "os.chdir(r'/Users/narizuka/work/document/lecture/rissho/sport_programming/sport_data')"
   ]
  },
  {
   "cell_type": "markdown",
   "metadata": {},
   "source": [
    "これにより，[sport_data]内部のフォルダには相対パスでアクセスすることができるようになる．\n",
    "例えば，Matplotlibで作成した図を[sport_data][2_environment]に保存したい場合は以下のようにする．\n",
    "japanize_matplotlibがうまくインストールされていれば，ラベルに日本語が表示されるはずである．"
   ]
  },
  {
   "cell_type": "code",
   "execution_count": 8,
   "metadata": {},
   "outputs": [
    {
     "data": {
      "image/png": "[encoded data removed]",
      "text/plain": [
       "<Figure size 350x300 with 1 Axes>"
      ]
     },
     "metadata": {
      "filenames": {
       "image/png": "/Users/narizuka/work/document/lecture/rissho/sport_programming/book/_build/jupyter_execute/chap_2/2_environment_34_0.png"
      }
     },
     "output_type": "display_data"
    }
   ],
   "source": [
    "import numpy as np\n",
    "import matplotlib.pyplot as plt\n",
    "try:\n",
    "    import japanize_matplotlib\n",
    "except:\n",
    "    pass\n",
    "\n",
    "fig, ax = plt.subplots(figsize=(3.5, 3))\n",
    "x = np.arange(-np.pi, np.pi, 0.01)\n",
    "ax.plot(x, np.sin(x))\n",
    "\n",
    "ax.set_xlabel('x軸', fontsize=14)\n",
    "ax.set_ylabel('y軸', fontsize=14)\n",
    "\n",
    "fig.savefig('./2_environment/graph.pdf', bbox_inches=\"tight\", pad_inches=0.2, transparent=True, dpi=300)"
   ]
  },
  {
   "cell_type": "markdown",
   "metadata": {},
   "source": [
    "**JupyterとPythonスクリプトの使い分け**\n",
    "\n",
    " Jupyterは短いコードを逐次実行しながら結果を確認するのには適しているが，コードが長くなると分かりにくくなる．そこで，コードが長くなってきたら関数やクラスに適宜まとめてスクリプト（`.py`ファイル）に保存すると良い．保存したスクリプトはNumPyやPandasと同じようにimportできるので，Jupyter上ではimportしたスクリプト内の関数を実行するだけにすると結果が整理しやすい．その際，以下に説明する自作モジュールの自動リロードの設定をしておくと便利である．\n",
    " \n",
    "※ ローカル環境で`.py`ファイルを編集するにはエディタを使用する．Windowsに標準搭載されているメモ帳を使うのが最も手軽だが，非常に使いづらいので推奨しない．まずは自分の好みに合うエディタを探すことを推奨する．よく使われるエディタは以下の通り：\n",
    "- Visual Studio Code\n",
    "- Atom\n",
    "- Sublime Text"
   ]
  },
  {
   "cell_type": "markdown",
   "metadata": {},
   "source": [
    "### （参考）便利な機能\n",
    "\n",
    "**Jupyterのconfigファイル**\n",
    "- ターミナルで以下を実行する\n",
    "    - `jupyter notebook --generate-config`\n",
    "    - \"C:\\Users\\username\\\\.jupyter\"の中に\"jupyter_notebook_config.py\"というファイルができる．\n",
    "- \"jupyter_notebook_config.py\"を開いて以下を追加\n",
    "    - `c=get_config()`\n",
    "    - `c.NotebookApp.notebook_dir=\"起動ディレクトリのパス\"`\n",
    "- これにより，Jupyter Labを起動したときに指定したフォルダが開かれる"
   ]
  },
  {
   "cell_type": "markdown",
   "metadata": {},
   "source": [
    "**Ipythonのプロファイル**\n",
    "\n",
    "Ipythonプロファイルを作成すると，jupyterの起動時に自動実行したいコマンドを設定できる．\n",
    "\n",
    "- ターミナルで以下を実行する\n",
    "    - `ipython profile create profile_name`\n",
    "    - \"C:\\Users\\username\\.ipython\\prifile_name\"に\"startup\"フォルダが作成される．\n",
    "- startupフォルダの中に\"00.ipy\"というファイル（スタートアップスクリプト）を作り，自動実行したいコマンドを記述する．\n",
    "- 例えば，以下はよく使うので自動importしておくと良い\n",
    "\n",
    "    ```python\n",
    "    import os\n",
    "    import sys\n",
    "    import matplotlib.pyplot as plt\n",
    "    import numpy as np\n",
    "    import pandas as pd\n",
    "    ```\n",
    "- 自作のモジュール（例えば`my_module.py`）をimportして使う場合，`my_module.py`を一度jupyterでimportした後に，ローカルで`my_module.py`を変更することがよくある．このとき，ローカルで行った変更内容はjupyter側には自動で反映されない．そこで，スタートアップスクリプトに以下を加えておくと自作モジュールの変更が自動で反映される．\n",
    "  \n",
    "    ```\n",
    "    %load_ext autoreload\n",
    "    %autoreload 2\n",
    "    %matplotlib inline\n",
    "    ```"
   ]
  },
  {
   "cell_type": "markdown",
   "metadata": {},
   "source": [
    "例として，[sport_data]フォルダの中に[module]フォルダを作り，以下のプログラムを`my_module.py`として保存する．\n",
    "\n",
    "```python\n",
    "def my_func():\n",
    "    for i in range(5):\n",
    "        print(\"test%s\" % i)\n",
    "\n",
    "if __name__ == '__main__':\n",
    "    my_func()\n",
    "```\n",
    "つまり，このPythonスクリプトのパスは\"C:\\Users\\username\\OneDrive\\sport_data\\module\\my_module.py\"となる．"
   ]
  },
  {
   "cell_type": "markdown",
   "metadata": {},
   "source": [
    "これを単にPythonスクリプトとして実行すると，`if __name__ == '__main__':`以下のコマンドが実行される："
   ]
  },
  {
   "cell_type": "markdown",
   "metadata": {},
   "source": [
    "```python\n",
    "%run \"./module/my_module.py\"\n",
    "```"
   ]
  },
  {
   "cell_type": "markdown",
   "metadata": {},
   "source": [
    "一方，これをモジュールとしてインポートするには以下のようにする："
   ]
  },
  {
   "cell_type": "markdown",
   "metadata": {},
   "source": [
    "```python\n",
    "import module.my_module as mm\n",
    "```"
   ]
  },
  {
   "cell_type": "markdown",
   "metadata": {},
   "source": [
    "この状態で`my_module`内の関数`my_func()`を以下のように`mm.my_func()`として実行できる："
   ]
  },
  {
   "cell_type": "markdown",
   "metadata": {},
   "source": [
    "```python\n",
    "mm.my_func()\n",
    "```"
   ]
  },
  {
   "cell_type": "markdown",
   "metadata": {},
   "source": [
    "スタートアップスクリプト内にautoreloadの設定を書いている場合は，ローカルで`my_module.py`を書き換えたら即座に変更内容が反映されるはずである．"
   ]
  },
  {
   "cell_type": "markdown",
   "metadata": {},
   "source": [
    "```python\n",
    "mm.my_func()\n",
    "```"
   ]
  },
  {
   "attachments": {},
   "cell_type": "markdown",
   "metadata": {},
   "source": [
    "## （参考）Windows Terminalのインストール\n",
    "\n",
    "プログラミングをする上でコマンドによる操作は避けて通れない．\n",
    "Windowsにはコマンドプロンプトというコマンドラインツールが搭載されているが，使いづらいのでWindows Terminalをインストールすることを推奨する．\n",
    "（コマンドプロンプトでも可）\n",
    "\n",
    "**インストール**\n",
    "- Windosw10の場合はMicrosoft Storeからインストールできる．\n",
    "- Windows11の場合は標準搭載されている．\n",
    "\n",
    "**設定**\n",
    "- 左下の検索をクリックし，\"ターミナル\"と検索\n",
    "- 検索結果の中から\"ターミナル\"を右クリックし\"管理者として実行\"\n",
    "- 以下のコマンドを実行\n",
    "  ```\n",
    "  Set-ExecutionPolicy RemoteSigned\n",
    "  ```\n",
    "\n",
    "**実行**\n",
    "- タスクバーにピン留めしておいて，そこから実行すると良い"
   ]
  },
  {
   "cell_type": "markdown",
   "metadata": {},
   "source": [
    "## （参考）Google Colab\n",
    "\n",
    "Google Colab（正式名称はGoogle Colaboratoty）はgoogleが提供するPython実行環境であり，Jupyter Notebookがベースになっている．\n",
    "実際，Google Colabで作成したノートブックは\".ipynb形式\"で保存されるので，相互互換性がある．\n",
    "Google Colabの特徴は以下の通りである：\n",
    "\n",
    "- ブラウザ上で動作する\n",
    "- 基本操作はJupyter Notebookと似ている（細かい操作方法は異なる）\n",
    "- 作成したノートブックはGoogle Drive上に保存される\n",
    "    - Google Driveが必要（なのでGoogle アカウントも必要）\n",
    "- pythonの環境構築が不要（新たにモジュールをインストールすることも可能）\n",
    "- 無料でGPUを使用可能\n",
    "\n",
    "特に，Jupyter Notebookの場合は自分のPC上にpython環境を構築する必要があるが，Google Colabはその必要がない点がメリットである．\n",
    "また，GPUが無料で使用可能なので，重い計算を行う際にも重宝する．\n",
    "本講義では，基本的にJupyter Labを用いるが，Google Colabを用いても問題ない．"
   ]
  },
  {
   "cell_type": "markdown",
   "metadata": {},
   "source": [
    "### Google colabでjupyter notebookを開く\n",
    "\n",
    "- Google Driveを開いて作業フォルダに移動\n",
    "- 既存の`.ipynbファイル`を選択するとGoogle Colabが開く\n",
    "- 新規作成作成の場合は以下\n",
    "    - ［右クリック］→［その他］→［Google Colaboratory］"
   ]
  },
  {
   "cell_type": "markdown",
   "metadata": {},
   "source": [
    "### 必要なモジュールをimportする\n",
    "\n",
    "- google colabにインストールされていないモジュール（japanize_matplotlibなど）\n",
    "\n",
    "    ```python\n",
    "    !pip install japanize-matplotlib\n",
    "    import japanize_matplotlib\n",
    "    ```\n",
    "- 既にインストールされているモジュール\n",
    "\n",
    "    ```python\n",
    "    import numpy as np\n",
    "    ```"
   ]
  },
  {
   "cell_type": "markdown",
   "metadata": {},
   "source": [
    "### Google Driveをマウントする\n",
    "\n",
    "Google Driveに保存した自作モジュールやファイルにアクセスしたい場合はGoogle Driveをマウントする必要がある．\n",
    "\n",
    "- 以下を実行する\n",
    "  \n",
    "    ```python\n",
    "    from google.colab import drive\n",
    "    drive.mount('/content/drive')\n",
    "    ```\n",
    "- 「このノートブックにGoogleドライブのファイルへのアクセスを許可しますか？」と聞かれるので「Google ドライブに接続」を選択\n",
    "- 自分のGoogleアカウントを選択し，「許可」を選択"
   ]
  },
  {
   "cell_type": "markdown",
   "metadata": {},
   "source": [
    "### （任意）自作モジュールをimportする\n",
    "\n",
    "```python\n",
    "import sys\n",
    "sys.path.append('/content/drive/My Drive/***')\n",
    "\n",
    "import ***.xxx\n",
    "```\n",
    "※ なお，自作モジュールの変更を反映したい場合は［ランタイムを出荷時設定にリセット］し，再度マウントする"
   ]
  },
  {
   "cell_type": "markdown",
   "metadata": {},
   "source": [
    "### （任意）matplotlibのスタイルファイルを読み込む\n",
    "\n",
    "```python\n",
    "import matplotlib.pyplot as plt\n",
    "plt.style.use('/content/drive/My Drive/***/matplotlibrc')\n",
    "```"
   ]
  }
 ],
 "metadata": {
  "kernelspec": {
   "display_name": "Python 3.9.13 ('myenv')",
   "language": "python",
   "name": "python3"
  },
  "language_info": {
   "codemirror_mode": {
    "name": "ipython",
    "version": 3
   },
   "file_extension": ".py",
   "mimetype": "text/x-python",
   "name": "python",
   "nbconvert_exporter": "python",
   "pygments_lexer": "ipython3",
   "version": "3.9.13"
  },
  "toc-autonumbering": true,
  "toc-showcode": false,
  "toc-showmarkdowntxt": false,
  "toc-showtags": false,
  "vscode": {
   "interpreter": {
    "hash": "911fd4aa1eca4252368dc27db61226a38a6cfe922f9bbc90c7d50e9c97ede316"
   }
  }
 },
 "nbformat": 4,
 "nbformat_minor": 4
}